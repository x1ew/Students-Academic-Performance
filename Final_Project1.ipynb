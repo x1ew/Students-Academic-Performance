{
  "cells": [
    {
      "cell_type": "code",
      "execution_count": null,
      "metadata": {
        "id": "kP4nfKitzZnJ"
      },
      "outputs": [],
      "source": [
        "import os\n",
        "import pandas as pd\n",
        "import seaborn as sns\n",
        "import numpy as np\n",
        "from sklearn.preprocessing import LabelEncoder\n",
        "from sklearn.model_selection import train_test_split\n",
        "import matplotlib.pyplot as plt\n",
        "from sklearn.preprocessing import StandardScaler"
      ]
    },
    {
      "cell_type": "code",
      "execution_count": null,
      "metadata": {
        "colab": {
          "base_uri": "https://localhost:8080/"
        },
        "id": "FYF9cEv7znSC",
        "outputId": "b8711cb6-d806-423f-caea-87715a64a732"
      },
      "outputs": [
        {
          "name": "stdout",
          "output_type": "stream",
          "text": [
            "Downloading...\n",
            "From: https://drive.google.com/uc?id=1-Zyp-JP3f9QhPKaErBkPPFNKaPS1v74u\n",
            "To: /content/Dataset.csv\n",
            "\r  0% 0.00/38.0k [00:00<?, ?B/s]\r100% 38.0k/38.0k [00:00<00:00, 22.3MB/s]\n"
          ]
        }
      ],
      "source": [
        "!gdown --id 1-Zyp-JP3f9QhPKaErBkPPFNKaPS1v74u"
      ]
    },
    {
      "cell_type": "code",
      "execution_count": null,
      "metadata": {
        "id": "pBEAtk9rzwcu"
      },
      "outputs": [],
      "source": [
        "categorical_attr = ['gender', 'NationalITy', 'PlaceofBirth', 'StageID', 'GradeID', 'SectionID', 'Topic', 'Semester', 'Relation', 'ParentAnsweringSurvey', 'ParentschoolSatisfaction', 'StudentAbsenceDays', 'Class']"
      ]
    },
    {
      "cell_type": "code",
      "execution_count": null,
      "metadata": {
        "colab": {
          "base_uri": "https://localhost:8080/",
          "height": 270
        },
        "id": "Xtcjr0Pnzx4i",
        "outputId": "47667e47-d1e1-4037-b605-f016660c1c53"
      },
      "outputs": [
        {
          "data": {
            "text/html": [
              "\n",
              "  <div id=\"df-de5d5b02-ac2d-4357-8f7b-20d2d2517247\">\n",
              "    <div class=\"colab-df-container\">\n",
              "      <div>\n",
              "<style scoped>\n",
              "    .dataframe tbody tr th:only-of-type {\n",
              "        vertical-align: middle;\n",
              "    }\n",
              "\n",
              "    .dataframe tbody tr th {\n",
              "        vertical-align: top;\n",
              "    }\n",
              "\n",
              "    .dataframe thead th {\n",
              "        text-align: right;\n",
              "    }\n",
              "</style>\n",
              "<table border=\"1\" class=\"dataframe\">\n",
              "  <thead>\n",
              "    <tr style=\"text-align: right;\">\n",
              "      <th></th>\n",
              "      <th>gender</th>\n",
              "      <th>NationalITy</th>\n",
              "      <th>PlaceofBirth</th>\n",
              "      <th>StageID</th>\n",
              "      <th>GradeID</th>\n",
              "      <th>SectionID</th>\n",
              "      <th>Topic</th>\n",
              "      <th>Semester</th>\n",
              "      <th>Relation</th>\n",
              "      <th>raisedhands</th>\n",
              "      <th>VisITedResources</th>\n",
              "      <th>AnnouncementsView</th>\n",
              "      <th>Discussion</th>\n",
              "      <th>ParentAnsweringSurvey</th>\n",
              "      <th>ParentschoolSatisfaction</th>\n",
              "      <th>StudentAbsenceDays</th>\n",
              "      <th>Class</th>\n",
              "    </tr>\n",
              "  </thead>\n",
              "  <tbody>\n",
              "    <tr>\n",
              "      <th>0</th>\n",
              "      <td>M</td>\n",
              "      <td>KW</td>\n",
              "      <td>KuwaIT</td>\n",
              "      <td>lowerlevel</td>\n",
              "      <td>G-04</td>\n",
              "      <td>A</td>\n",
              "      <td>IT</td>\n",
              "      <td>F</td>\n",
              "      <td>Father</td>\n",
              "      <td>15</td>\n",
              "      <td>16</td>\n",
              "      <td>2</td>\n",
              "      <td>20</td>\n",
              "      <td>Yes</td>\n",
              "      <td>Good</td>\n",
              "      <td>Under-7</td>\n",
              "      <td>M</td>\n",
              "    </tr>\n",
              "    <tr>\n",
              "      <th>1</th>\n",
              "      <td>M</td>\n",
              "      <td>KW</td>\n",
              "      <td>KuwaIT</td>\n",
              "      <td>lowerlevel</td>\n",
              "      <td>G-04</td>\n",
              "      <td>A</td>\n",
              "      <td>IT</td>\n",
              "      <td>F</td>\n",
              "      <td>Father</td>\n",
              "      <td>20</td>\n",
              "      <td>20</td>\n",
              "      <td>3</td>\n",
              "      <td>25</td>\n",
              "      <td>Yes</td>\n",
              "      <td>Good</td>\n",
              "      <td>Under-7</td>\n",
              "      <td>M</td>\n",
              "    </tr>\n",
              "    <tr>\n",
              "      <th>2</th>\n",
              "      <td>M</td>\n",
              "      <td>KW</td>\n",
              "      <td>KuwaIT</td>\n",
              "      <td>lowerlevel</td>\n",
              "      <td>G-04</td>\n",
              "      <td>A</td>\n",
              "      <td>IT</td>\n",
              "      <td>F</td>\n",
              "      <td>Father</td>\n",
              "      <td>10</td>\n",
              "      <td>7</td>\n",
              "      <td>0</td>\n",
              "      <td>30</td>\n",
              "      <td>No</td>\n",
              "      <td>Bad</td>\n",
              "      <td>Above-7</td>\n",
              "      <td>L</td>\n",
              "    </tr>\n",
              "    <tr>\n",
              "      <th>3</th>\n",
              "      <td>M</td>\n",
              "      <td>KW</td>\n",
              "      <td>KuwaIT</td>\n",
              "      <td>lowerlevel</td>\n",
              "      <td>G-04</td>\n",
              "      <td>A</td>\n",
              "      <td>IT</td>\n",
              "      <td>F</td>\n",
              "      <td>Father</td>\n",
              "      <td>30</td>\n",
              "      <td>25</td>\n",
              "      <td>5</td>\n",
              "      <td>35</td>\n",
              "      <td>No</td>\n",
              "      <td>Bad</td>\n",
              "      <td>Above-7</td>\n",
              "      <td>L</td>\n",
              "    </tr>\n",
              "    <tr>\n",
              "      <th>4</th>\n",
              "      <td>M</td>\n",
              "      <td>KW</td>\n",
              "      <td>KuwaIT</td>\n",
              "      <td>lowerlevel</td>\n",
              "      <td>G-04</td>\n",
              "      <td>A</td>\n",
              "      <td>IT</td>\n",
              "      <td>F</td>\n",
              "      <td>Father</td>\n",
              "      <td>40</td>\n",
              "      <td>50</td>\n",
              "      <td>12</td>\n",
              "      <td>50</td>\n",
              "      <td>No</td>\n",
              "      <td>Bad</td>\n",
              "      <td>Above-7</td>\n",
              "      <td>M</td>\n",
              "    </tr>\n",
              "  </tbody>\n",
              "</table>\n",
              "</div>\n",
              "      <button class=\"colab-df-convert\" onclick=\"convertToInteractive('df-de5d5b02-ac2d-4357-8f7b-20d2d2517247')\"\n",
              "              title=\"Convert this dataframe to an interactive table.\"\n",
              "              style=\"display:none;\">\n",
              "        \n",
              "  <svg xmlns=\"http://www.w3.org/2000/svg\" height=\"24px\"viewBox=\"0 0 24 24\"\n",
              "       width=\"24px\">\n",
              "    <path d=\"M0 0h24v24H0V0z\" fill=\"none\"/>\n",
              "    <path d=\"M18.56 5.44l.94 2.06.94-2.06 2.06-.94-2.06-.94-.94-2.06-.94 2.06-2.06.94zm-11 1L8.5 8.5l.94-2.06 2.06-.94-2.06-.94L8.5 2.5l-.94 2.06-2.06.94zm10 10l.94 2.06.94-2.06 2.06-.94-2.06-.94-.94-2.06-.94 2.06-2.06.94z\"/><path d=\"M17.41 7.96l-1.37-1.37c-.4-.4-.92-.59-1.43-.59-.52 0-1.04.2-1.43.59L10.3 9.45l-7.72 7.72c-.78.78-.78 2.05 0 2.83L4 21.41c.39.39.9.59 1.41.59.51 0 1.02-.2 1.41-.59l7.78-7.78 2.81-2.81c.8-.78.8-2.07 0-2.86zM5.41 20L4 18.59l7.72-7.72 1.47 1.35L5.41 20z\"/>\n",
              "  </svg>\n",
              "      </button>\n",
              "      \n",
              "  <style>\n",
              "    .colab-df-container {\n",
              "      display:flex;\n",
              "      flex-wrap:wrap;\n",
              "      gap: 12px;\n",
              "    }\n",
              "\n",
              "    .colab-df-convert {\n",
              "      background-color: #E8F0FE;\n",
              "      border: none;\n",
              "      border-radius: 50%;\n",
              "      cursor: pointer;\n",
              "      display: none;\n",
              "      fill: #1967D2;\n",
              "      height: 32px;\n",
              "      padding: 0 0 0 0;\n",
              "      width: 32px;\n",
              "    }\n",
              "\n",
              "    .colab-df-convert:hover {\n",
              "      background-color: #E2EBFA;\n",
              "      box-shadow: 0px 1px 2px rgba(60, 64, 67, 0.3), 0px 1px 3px 1px rgba(60, 64, 67, 0.15);\n",
              "      fill: #174EA6;\n",
              "    }\n",
              "\n",
              "    [theme=dark] .colab-df-convert {\n",
              "      background-color: #3B4455;\n",
              "      fill: #D2E3FC;\n",
              "    }\n",
              "\n",
              "    [theme=dark] .colab-df-convert:hover {\n",
              "      background-color: #434B5C;\n",
              "      box-shadow: 0px 1px 3px 1px rgba(0, 0, 0, 0.15);\n",
              "      filter: drop-shadow(0px 1px 2px rgba(0, 0, 0, 0.3));\n",
              "      fill: #FFFFFF;\n",
              "    }\n",
              "  </style>\n",
              "\n",
              "      <script>\n",
              "        const buttonEl =\n",
              "          document.querySelector('#df-de5d5b02-ac2d-4357-8f7b-20d2d2517247 button.colab-df-convert');\n",
              "        buttonEl.style.display =\n",
              "          google.colab.kernel.accessAllowed ? 'block' : 'none';\n",
              "\n",
              "        async function convertToInteractive(key) {\n",
              "          const element = document.querySelector('#df-de5d5b02-ac2d-4357-8f7b-20d2d2517247');\n",
              "          const dataTable =\n",
              "            await google.colab.kernel.invokeFunction('convertToInteractive',\n",
              "                                                     [key], {});\n",
              "          if (!dataTable) return;\n",
              "\n",
              "          const docLinkHtml = 'Like what you see? Visit the ' +\n",
              "            '<a target=\"_blank\" href=https://colab.research.google.com/notebooks/data_table.ipynb>data table notebook</a>'\n",
              "            + ' to learn more about interactive tables.';\n",
              "          element.innerHTML = '';\n",
              "          dataTable['output_type'] = 'display_data';\n",
              "          await google.colab.output.renderOutput(dataTable, element);\n",
              "          const docLink = document.createElement('div');\n",
              "          docLink.innerHTML = docLinkHtml;\n",
              "          element.appendChild(docLink);\n",
              "        }\n",
              "      </script>\n",
              "    </div>\n",
              "  </div>\n",
              "  "
            ],
            "text/plain": [
              "  gender NationalITy PlaceofBirth     StageID GradeID SectionID Topic  \\\n",
              "0      M          KW       KuwaIT  lowerlevel    G-04         A    IT   \n",
              "1      M          KW       KuwaIT  lowerlevel    G-04         A    IT   \n",
              "2      M          KW       KuwaIT  lowerlevel    G-04         A    IT   \n",
              "3      M          KW       KuwaIT  lowerlevel    G-04         A    IT   \n",
              "4      M          KW       KuwaIT  lowerlevel    G-04         A    IT   \n",
              "\n",
              "  Semester Relation  raisedhands  VisITedResources  AnnouncementsView  \\\n",
              "0        F   Father           15                16                  2   \n",
              "1        F   Father           20                20                  3   \n",
              "2        F   Father           10                 7                  0   \n",
              "3        F   Father           30                25                  5   \n",
              "4        F   Father           40                50                 12   \n",
              "\n",
              "   Discussion ParentAnsweringSurvey ParentschoolSatisfaction  \\\n",
              "0          20                   Yes                     Good   \n",
              "1          25                   Yes                     Good   \n",
              "2          30                    No                      Bad   \n",
              "3          35                    No                      Bad   \n",
              "4          50                    No                      Bad   \n",
              "\n",
              "  StudentAbsenceDays Class  \n",
              "0            Under-7     M  \n",
              "1            Under-7     M  \n",
              "2            Above-7     L  \n",
              "3            Above-7     L  \n",
              "4            Above-7     M  "
            ]
          },
          "execution_count": 231,
          "metadata": {},
          "output_type": "execute_result"
        }
      ],
      "source": [
        "df = pd.read_csv('/content/Dataset.csv')\n",
        "df.head()"
      ]
    },
    {
      "cell_type": "code",
      "execution_count": null,
      "metadata": {
        "colab": {
          "base_uri": "https://localhost:8080/"
        },
        "id": "nbh5JjGyz1vA",
        "outputId": "94c464df-a15b-4a70-e581-26ee764f125b"
      },
      "outputs": [
        {
          "data": {
            "text/plain": [
              "array(['M', 'L', 'H'], dtype=object)"
            ]
          },
          "execution_count": 232,
          "metadata": {},
          "output_type": "execute_result"
        }
      ],
      "source": [
        "df[\"Class\"].unique()"
      ]
    },
    {
      "cell_type": "code",
      "execution_count": null,
      "metadata": {
        "colab": {
          "base_uri": "https://localhost:8080/"
        },
        "id": "giCfZecOz2VF",
        "outputId": "893381fe-0d0f-4664-e7bc-b8746cf85a56"
      },
      "outputs": [
        {
          "name": "stdout",
          "output_type": "stream",
          "text": [
            "(480, 17)\n"
          ]
        }
      ],
      "source": [
        "print(df.shape)"
      ]
    },
    {
      "cell_type": "code",
      "execution_count": null,
      "metadata": {
        "id": "qVQ8jGZPz48N"
      },
      "outputs": [],
      "source": [
        "# Converting Categorical values to scaler values\n",
        "# le = LabelEncoder()\n",
        "# df[categorical_attr] = df[categorical_attr].apply(le.fit_transform, axis=0)\n",
        "X = np.array(pd.get_dummies(df.iloc[:, :-1])).astype(\"float\")\n",
        "y = np.array(df['Class'])\n",
        "y[y == 'M'] = 1\n",
        "y[y == 'H'] = 1\n",
        "y[y == 'L'] = 0"
      ]
    },
    {
      "cell_type": "code",
      "execution_count": null,
      "metadata": {
        "colab": {
          "base_uri": "https://localhost:8080/",
          "height": 270
        },
        "id": "WpzAqRWaz7pC",
        "outputId": "c028baad-9a75-4449-af01-09f44ae3e95a"
      },
      "outputs": [
        {
          "data": {
            "text/html": [
              "\n",
              "  <div id=\"df-b5f066ea-7c39-43be-aea6-0c71d5a5ed7c\">\n",
              "    <div class=\"colab-df-container\">\n",
              "      <div>\n",
              "<style scoped>\n",
              "    .dataframe tbody tr th:only-of-type {\n",
              "        vertical-align: middle;\n",
              "    }\n",
              "\n",
              "    .dataframe tbody tr th {\n",
              "        vertical-align: top;\n",
              "    }\n",
              "\n",
              "    .dataframe thead th {\n",
              "        text-align: right;\n",
              "    }\n",
              "</style>\n",
              "<table border=\"1\" class=\"dataframe\">\n",
              "  <thead>\n",
              "    <tr style=\"text-align: right;\">\n",
              "      <th></th>\n",
              "      <th>gender</th>\n",
              "      <th>NationalITy</th>\n",
              "      <th>PlaceofBirth</th>\n",
              "      <th>StageID</th>\n",
              "      <th>GradeID</th>\n",
              "      <th>SectionID</th>\n",
              "      <th>Topic</th>\n",
              "      <th>Semester</th>\n",
              "      <th>Relation</th>\n",
              "      <th>raisedhands</th>\n",
              "      <th>VisITedResources</th>\n",
              "      <th>AnnouncementsView</th>\n",
              "      <th>Discussion</th>\n",
              "      <th>ParentAnsweringSurvey</th>\n",
              "      <th>ParentschoolSatisfaction</th>\n",
              "      <th>StudentAbsenceDays</th>\n",
              "      <th>Class</th>\n",
              "    </tr>\n",
              "  </thead>\n",
              "  <tbody>\n",
              "    <tr>\n",
              "      <th>0</th>\n",
              "      <td>M</td>\n",
              "      <td>KW</td>\n",
              "      <td>KuwaIT</td>\n",
              "      <td>lowerlevel</td>\n",
              "      <td>G-04</td>\n",
              "      <td>A</td>\n",
              "      <td>IT</td>\n",
              "      <td>F</td>\n",
              "      <td>Father</td>\n",
              "      <td>15</td>\n",
              "      <td>16</td>\n",
              "      <td>2</td>\n",
              "      <td>20</td>\n",
              "      <td>Yes</td>\n",
              "      <td>Good</td>\n",
              "      <td>Under-7</td>\n",
              "      <td>M</td>\n",
              "    </tr>\n",
              "    <tr>\n",
              "      <th>1</th>\n",
              "      <td>M</td>\n",
              "      <td>KW</td>\n",
              "      <td>KuwaIT</td>\n",
              "      <td>lowerlevel</td>\n",
              "      <td>G-04</td>\n",
              "      <td>A</td>\n",
              "      <td>IT</td>\n",
              "      <td>F</td>\n",
              "      <td>Father</td>\n",
              "      <td>20</td>\n",
              "      <td>20</td>\n",
              "      <td>3</td>\n",
              "      <td>25</td>\n",
              "      <td>Yes</td>\n",
              "      <td>Good</td>\n",
              "      <td>Under-7</td>\n",
              "      <td>M</td>\n",
              "    </tr>\n",
              "    <tr>\n",
              "      <th>2</th>\n",
              "      <td>M</td>\n",
              "      <td>KW</td>\n",
              "      <td>KuwaIT</td>\n",
              "      <td>lowerlevel</td>\n",
              "      <td>G-04</td>\n",
              "      <td>A</td>\n",
              "      <td>IT</td>\n",
              "      <td>F</td>\n",
              "      <td>Father</td>\n",
              "      <td>10</td>\n",
              "      <td>7</td>\n",
              "      <td>0</td>\n",
              "      <td>30</td>\n",
              "      <td>No</td>\n",
              "      <td>Bad</td>\n",
              "      <td>Above-7</td>\n",
              "      <td>L</td>\n",
              "    </tr>\n",
              "    <tr>\n",
              "      <th>3</th>\n",
              "      <td>M</td>\n",
              "      <td>KW</td>\n",
              "      <td>KuwaIT</td>\n",
              "      <td>lowerlevel</td>\n",
              "      <td>G-04</td>\n",
              "      <td>A</td>\n",
              "      <td>IT</td>\n",
              "      <td>F</td>\n",
              "      <td>Father</td>\n",
              "      <td>30</td>\n",
              "      <td>25</td>\n",
              "      <td>5</td>\n",
              "      <td>35</td>\n",
              "      <td>No</td>\n",
              "      <td>Bad</td>\n",
              "      <td>Above-7</td>\n",
              "      <td>L</td>\n",
              "    </tr>\n",
              "    <tr>\n",
              "      <th>4</th>\n",
              "      <td>M</td>\n",
              "      <td>KW</td>\n",
              "      <td>KuwaIT</td>\n",
              "      <td>lowerlevel</td>\n",
              "      <td>G-04</td>\n",
              "      <td>A</td>\n",
              "      <td>IT</td>\n",
              "      <td>F</td>\n",
              "      <td>Father</td>\n",
              "      <td>40</td>\n",
              "      <td>50</td>\n",
              "      <td>12</td>\n",
              "      <td>50</td>\n",
              "      <td>No</td>\n",
              "      <td>Bad</td>\n",
              "      <td>Above-7</td>\n",
              "      <td>M</td>\n",
              "    </tr>\n",
              "  </tbody>\n",
              "</table>\n",
              "</div>\n",
              "      <button class=\"colab-df-convert\" onclick=\"convertToInteractive('df-b5f066ea-7c39-43be-aea6-0c71d5a5ed7c')\"\n",
              "              title=\"Convert this dataframe to an interactive table.\"\n",
              "              style=\"display:none;\">\n",
              "        \n",
              "  <svg xmlns=\"http://www.w3.org/2000/svg\" height=\"24px\"viewBox=\"0 0 24 24\"\n",
              "       width=\"24px\">\n",
              "    <path d=\"M0 0h24v24H0V0z\" fill=\"none\"/>\n",
              "    <path d=\"M18.56 5.44l.94 2.06.94-2.06 2.06-.94-2.06-.94-.94-2.06-.94 2.06-2.06.94zm-11 1L8.5 8.5l.94-2.06 2.06-.94-2.06-.94L8.5 2.5l-.94 2.06-2.06.94zm10 10l.94 2.06.94-2.06 2.06-.94-2.06-.94-.94-2.06-.94 2.06-2.06.94z\"/><path d=\"M17.41 7.96l-1.37-1.37c-.4-.4-.92-.59-1.43-.59-.52 0-1.04.2-1.43.59L10.3 9.45l-7.72 7.72c-.78.78-.78 2.05 0 2.83L4 21.41c.39.39.9.59 1.41.59.51 0 1.02-.2 1.41-.59l7.78-7.78 2.81-2.81c.8-.78.8-2.07 0-2.86zM5.41 20L4 18.59l7.72-7.72 1.47 1.35L5.41 20z\"/>\n",
              "  </svg>\n",
              "      </button>\n",
              "      \n",
              "  <style>\n",
              "    .colab-df-container {\n",
              "      display:flex;\n",
              "      flex-wrap:wrap;\n",
              "      gap: 12px;\n",
              "    }\n",
              "\n",
              "    .colab-df-convert {\n",
              "      background-color: #E8F0FE;\n",
              "      border: none;\n",
              "      border-radius: 50%;\n",
              "      cursor: pointer;\n",
              "      display: none;\n",
              "      fill: #1967D2;\n",
              "      height: 32px;\n",
              "      padding: 0 0 0 0;\n",
              "      width: 32px;\n",
              "    }\n",
              "\n",
              "    .colab-df-convert:hover {\n",
              "      background-color: #E2EBFA;\n",
              "      box-shadow: 0px 1px 2px rgba(60, 64, 67, 0.3), 0px 1px 3px 1px rgba(60, 64, 67, 0.15);\n",
              "      fill: #174EA6;\n",
              "    }\n",
              "\n",
              "    [theme=dark] .colab-df-convert {\n",
              "      background-color: #3B4455;\n",
              "      fill: #D2E3FC;\n",
              "    }\n",
              "\n",
              "    [theme=dark] .colab-df-convert:hover {\n",
              "      background-color: #434B5C;\n",
              "      box-shadow: 0px 1px 3px 1px rgba(0, 0, 0, 0.15);\n",
              "      filter: drop-shadow(0px 1px 2px rgba(0, 0, 0, 0.3));\n",
              "      fill: #FFFFFF;\n",
              "    }\n",
              "  </style>\n",
              "\n",
              "      <script>\n",
              "        const buttonEl =\n",
              "          document.querySelector('#df-b5f066ea-7c39-43be-aea6-0c71d5a5ed7c button.colab-df-convert');\n",
              "        buttonEl.style.display =\n",
              "          google.colab.kernel.accessAllowed ? 'block' : 'none';\n",
              "\n",
              "        async function convertToInteractive(key) {\n",
              "          const element = document.querySelector('#df-b5f066ea-7c39-43be-aea6-0c71d5a5ed7c');\n",
              "          const dataTable =\n",
              "            await google.colab.kernel.invokeFunction('convertToInteractive',\n",
              "                                                     [key], {});\n",
              "          if (!dataTable) return;\n",
              "\n",
              "          const docLinkHtml = 'Like what you see? Visit the ' +\n",
              "            '<a target=\"_blank\" href=https://colab.research.google.com/notebooks/data_table.ipynb>data table notebook</a>'\n",
              "            + ' to learn more about interactive tables.';\n",
              "          element.innerHTML = '';\n",
              "          dataTable['output_type'] = 'display_data';\n",
              "          await google.colab.output.renderOutput(dataTable, element);\n",
              "          const docLink = document.createElement('div');\n",
              "          docLink.innerHTML = docLinkHtml;\n",
              "          element.appendChild(docLink);\n",
              "        }\n",
              "      </script>\n",
              "    </div>\n",
              "  </div>\n",
              "  "
            ],
            "text/plain": [
              "  gender NationalITy PlaceofBirth     StageID GradeID SectionID Topic  \\\n",
              "0      M          KW       KuwaIT  lowerlevel    G-04         A    IT   \n",
              "1      M          KW       KuwaIT  lowerlevel    G-04         A    IT   \n",
              "2      M          KW       KuwaIT  lowerlevel    G-04         A    IT   \n",
              "3      M          KW       KuwaIT  lowerlevel    G-04         A    IT   \n",
              "4      M          KW       KuwaIT  lowerlevel    G-04         A    IT   \n",
              "\n",
              "  Semester Relation  raisedhands  VisITedResources  AnnouncementsView  \\\n",
              "0        F   Father           15                16                  2   \n",
              "1        F   Father           20                20                  3   \n",
              "2        F   Father           10                 7                  0   \n",
              "3        F   Father           30                25                  5   \n",
              "4        F   Father           40                50                 12   \n",
              "\n",
              "   Discussion ParentAnsweringSurvey ParentschoolSatisfaction  \\\n",
              "0          20                   Yes                     Good   \n",
              "1          25                   Yes                     Good   \n",
              "2          30                    No                      Bad   \n",
              "3          35                    No                      Bad   \n",
              "4          50                    No                      Bad   \n",
              "\n",
              "  StudentAbsenceDays Class  \n",
              "0            Under-7     M  \n",
              "1            Under-7     M  \n",
              "2            Above-7     L  \n",
              "3            Above-7     L  \n",
              "4            Above-7     M  "
            ]
          },
          "execution_count": 235,
          "metadata": {},
          "output_type": "execute_result"
        }
      ],
      "source": [
        "df.head()"
      ]
    },
    {
      "cell_type": "code",
      "execution_count": null,
      "metadata": {
        "id": "vKYCwqm-0RV6"
      },
      "outputs": [],
      "source": [
        "# df.head(30)"
      ]
    },
    {
      "cell_type": "code",
      "execution_count": null,
      "metadata": {
        "id": "e6gODvxO0RYp"
      },
      "outputs": [],
      "source": [
        "# X: Features, y: Classes\n",
        "# X = np.array(df.iloc[:, :-1])\n",
        "# y = np.array(df['Class'])"
      ]
    },
    {
      "cell_type": "code",
      "execution_count": null,
      "metadata": {
        "colab": {
          "base_uri": "https://localhost:8080/",
          "height": 270
        },
        "id": "xGmz2KKy0RbP",
        "outputId": "49842d62-9baa-4546-9079-a0abdddcd21c"
      },
      "outputs": [
        {
          "data": {
            "text/html": [
              "\n",
              "  <div id=\"df-15df7afc-26ae-4f20-b568-1fcd2125e10c\">\n",
              "    <div class=\"colab-df-container\">\n",
              "      <div>\n",
              "<style scoped>\n",
              "    .dataframe tbody tr th:only-of-type {\n",
              "        vertical-align: middle;\n",
              "    }\n",
              "\n",
              "    .dataframe tbody tr th {\n",
              "        vertical-align: top;\n",
              "    }\n",
              "\n",
              "    .dataframe thead th {\n",
              "        text-align: right;\n",
              "    }\n",
              "</style>\n",
              "<table border=\"1\" class=\"dataframe\">\n",
              "  <thead>\n",
              "    <tr style=\"text-align: right;\">\n",
              "      <th></th>\n",
              "      <th>gender</th>\n",
              "      <th>NationalITy</th>\n",
              "      <th>PlaceofBirth</th>\n",
              "      <th>StageID</th>\n",
              "      <th>GradeID</th>\n",
              "      <th>SectionID</th>\n",
              "      <th>Topic</th>\n",
              "      <th>Semester</th>\n",
              "      <th>Relation</th>\n",
              "      <th>raisedhands</th>\n",
              "      <th>VisITedResources</th>\n",
              "      <th>AnnouncementsView</th>\n",
              "      <th>Discussion</th>\n",
              "      <th>ParentAnsweringSurvey</th>\n",
              "      <th>ParentschoolSatisfaction</th>\n",
              "      <th>StudentAbsenceDays</th>\n",
              "      <th>Class</th>\n",
              "    </tr>\n",
              "  </thead>\n",
              "  <tbody>\n",
              "    <tr>\n",
              "      <th>0</th>\n",
              "      <td>M</td>\n",
              "      <td>KW</td>\n",
              "      <td>KuwaIT</td>\n",
              "      <td>lowerlevel</td>\n",
              "      <td>G-04</td>\n",
              "      <td>A</td>\n",
              "      <td>IT</td>\n",
              "      <td>F</td>\n",
              "      <td>Father</td>\n",
              "      <td>15</td>\n",
              "      <td>16</td>\n",
              "      <td>2</td>\n",
              "      <td>20</td>\n",
              "      <td>Yes</td>\n",
              "      <td>Good</td>\n",
              "      <td>Under-7</td>\n",
              "      <td>M</td>\n",
              "    </tr>\n",
              "    <tr>\n",
              "      <th>1</th>\n",
              "      <td>M</td>\n",
              "      <td>KW</td>\n",
              "      <td>KuwaIT</td>\n",
              "      <td>lowerlevel</td>\n",
              "      <td>G-04</td>\n",
              "      <td>A</td>\n",
              "      <td>IT</td>\n",
              "      <td>F</td>\n",
              "      <td>Father</td>\n",
              "      <td>20</td>\n",
              "      <td>20</td>\n",
              "      <td>3</td>\n",
              "      <td>25</td>\n",
              "      <td>Yes</td>\n",
              "      <td>Good</td>\n",
              "      <td>Under-7</td>\n",
              "      <td>M</td>\n",
              "    </tr>\n",
              "    <tr>\n",
              "      <th>2</th>\n",
              "      <td>M</td>\n",
              "      <td>KW</td>\n",
              "      <td>KuwaIT</td>\n",
              "      <td>lowerlevel</td>\n",
              "      <td>G-04</td>\n",
              "      <td>A</td>\n",
              "      <td>IT</td>\n",
              "      <td>F</td>\n",
              "      <td>Father</td>\n",
              "      <td>10</td>\n",
              "      <td>7</td>\n",
              "      <td>0</td>\n",
              "      <td>30</td>\n",
              "      <td>No</td>\n",
              "      <td>Bad</td>\n",
              "      <td>Above-7</td>\n",
              "      <td>L</td>\n",
              "    </tr>\n",
              "    <tr>\n",
              "      <th>3</th>\n",
              "      <td>M</td>\n",
              "      <td>KW</td>\n",
              "      <td>KuwaIT</td>\n",
              "      <td>lowerlevel</td>\n",
              "      <td>G-04</td>\n",
              "      <td>A</td>\n",
              "      <td>IT</td>\n",
              "      <td>F</td>\n",
              "      <td>Father</td>\n",
              "      <td>30</td>\n",
              "      <td>25</td>\n",
              "      <td>5</td>\n",
              "      <td>35</td>\n",
              "      <td>No</td>\n",
              "      <td>Bad</td>\n",
              "      <td>Above-7</td>\n",
              "      <td>L</td>\n",
              "    </tr>\n",
              "    <tr>\n",
              "      <th>4</th>\n",
              "      <td>M</td>\n",
              "      <td>KW</td>\n",
              "      <td>KuwaIT</td>\n",
              "      <td>lowerlevel</td>\n",
              "      <td>G-04</td>\n",
              "      <td>A</td>\n",
              "      <td>IT</td>\n",
              "      <td>F</td>\n",
              "      <td>Father</td>\n",
              "      <td>40</td>\n",
              "      <td>50</td>\n",
              "      <td>12</td>\n",
              "      <td>50</td>\n",
              "      <td>No</td>\n",
              "      <td>Bad</td>\n",
              "      <td>Above-7</td>\n",
              "      <td>M</td>\n",
              "    </tr>\n",
              "  </tbody>\n",
              "</table>\n",
              "</div>\n",
              "      <button class=\"colab-df-convert\" onclick=\"convertToInteractive('df-15df7afc-26ae-4f20-b568-1fcd2125e10c')\"\n",
              "              title=\"Convert this dataframe to an interactive table.\"\n",
              "              style=\"display:none;\">\n",
              "        \n",
              "  <svg xmlns=\"http://www.w3.org/2000/svg\" height=\"24px\"viewBox=\"0 0 24 24\"\n",
              "       width=\"24px\">\n",
              "    <path d=\"M0 0h24v24H0V0z\" fill=\"none\"/>\n",
              "    <path d=\"M18.56 5.44l.94 2.06.94-2.06 2.06-.94-2.06-.94-.94-2.06-.94 2.06-2.06.94zm-11 1L8.5 8.5l.94-2.06 2.06-.94-2.06-.94L8.5 2.5l-.94 2.06-2.06.94zm10 10l.94 2.06.94-2.06 2.06-.94-2.06-.94-.94-2.06-.94 2.06-2.06.94z\"/><path d=\"M17.41 7.96l-1.37-1.37c-.4-.4-.92-.59-1.43-.59-.52 0-1.04.2-1.43.59L10.3 9.45l-7.72 7.72c-.78.78-.78 2.05 0 2.83L4 21.41c.39.39.9.59 1.41.59.51 0 1.02-.2 1.41-.59l7.78-7.78 2.81-2.81c.8-.78.8-2.07 0-2.86zM5.41 20L4 18.59l7.72-7.72 1.47 1.35L5.41 20z\"/>\n",
              "  </svg>\n",
              "      </button>\n",
              "      \n",
              "  <style>\n",
              "    .colab-df-container {\n",
              "      display:flex;\n",
              "      flex-wrap:wrap;\n",
              "      gap: 12px;\n",
              "    }\n",
              "\n",
              "    .colab-df-convert {\n",
              "      background-color: #E8F0FE;\n",
              "      border: none;\n",
              "      border-radius: 50%;\n",
              "      cursor: pointer;\n",
              "      display: none;\n",
              "      fill: #1967D2;\n",
              "      height: 32px;\n",
              "      padding: 0 0 0 0;\n",
              "      width: 32px;\n",
              "    }\n",
              "\n",
              "    .colab-df-convert:hover {\n",
              "      background-color: #E2EBFA;\n",
              "      box-shadow: 0px 1px 2px rgba(60, 64, 67, 0.3), 0px 1px 3px 1px rgba(60, 64, 67, 0.15);\n",
              "      fill: #174EA6;\n",
              "    }\n",
              "\n",
              "    [theme=dark] .colab-df-convert {\n",
              "      background-color: #3B4455;\n",
              "      fill: #D2E3FC;\n",
              "    }\n",
              "\n",
              "    [theme=dark] .colab-df-convert:hover {\n",
              "      background-color: #434B5C;\n",
              "      box-shadow: 0px 1px 3px 1px rgba(0, 0, 0, 0.15);\n",
              "      filter: drop-shadow(0px 1px 2px rgba(0, 0, 0, 0.3));\n",
              "      fill: #FFFFFF;\n",
              "    }\n",
              "  </style>\n",
              "\n",
              "      <script>\n",
              "        const buttonEl =\n",
              "          document.querySelector('#df-15df7afc-26ae-4f20-b568-1fcd2125e10c button.colab-df-convert');\n",
              "        buttonEl.style.display =\n",
              "          google.colab.kernel.accessAllowed ? 'block' : 'none';\n",
              "\n",
              "        async function convertToInteractive(key) {\n",
              "          const element = document.querySelector('#df-15df7afc-26ae-4f20-b568-1fcd2125e10c');\n",
              "          const dataTable =\n",
              "            await google.colab.kernel.invokeFunction('convertToInteractive',\n",
              "                                                     [key], {});\n",
              "          if (!dataTable) return;\n",
              "\n",
              "          const docLinkHtml = 'Like what you see? Visit the ' +\n",
              "            '<a target=\"_blank\" href=https://colab.research.google.com/notebooks/data_table.ipynb>data table notebook</a>'\n",
              "            + ' to learn more about interactive tables.';\n",
              "          element.innerHTML = '';\n",
              "          dataTable['output_type'] = 'display_data';\n",
              "          await google.colab.output.renderOutput(dataTable, element);\n",
              "          const docLink = document.createElement('div');\n",
              "          docLink.innerHTML = docLinkHtml;\n",
              "          element.appendChild(docLink);\n",
              "        }\n",
              "      </script>\n",
              "    </div>\n",
              "  </div>\n",
              "  "
            ],
            "text/plain": [
              "  gender NationalITy PlaceofBirth     StageID GradeID SectionID Topic  \\\n",
              "0      M          KW       KuwaIT  lowerlevel    G-04         A    IT   \n",
              "1      M          KW       KuwaIT  lowerlevel    G-04         A    IT   \n",
              "2      M          KW       KuwaIT  lowerlevel    G-04         A    IT   \n",
              "3      M          KW       KuwaIT  lowerlevel    G-04         A    IT   \n",
              "4      M          KW       KuwaIT  lowerlevel    G-04         A    IT   \n",
              "\n",
              "  Semester Relation  raisedhands  VisITedResources  AnnouncementsView  \\\n",
              "0        F   Father           15                16                  2   \n",
              "1        F   Father           20                20                  3   \n",
              "2        F   Father           10                 7                  0   \n",
              "3        F   Father           30                25                  5   \n",
              "4        F   Father           40                50                 12   \n",
              "\n",
              "   Discussion ParentAnsweringSurvey ParentschoolSatisfaction  \\\n",
              "0          20                   Yes                     Good   \n",
              "1          25                   Yes                     Good   \n",
              "2          30                    No                      Bad   \n",
              "3          35                    No                      Bad   \n",
              "4          50                    No                      Bad   \n",
              "\n",
              "  StudentAbsenceDays Class  \n",
              "0            Under-7     M  \n",
              "1            Under-7     M  \n",
              "2            Above-7     L  \n",
              "3            Above-7     L  \n",
              "4            Above-7     M  "
            ]
          },
          "execution_count": 238,
          "metadata": {},
          "output_type": "execute_result"
        }
      ],
      "source": [
        "df.head()"
      ]
    },
    {
      "cell_type": "code",
      "execution_count": null,
      "metadata": {
        "id": "MiXj1roH0Rdr"
      },
      "outputs": [],
      "source": [
        "# Deviding Dataset to training and validation set\n",
        "X_train, X_val, y_train, y_val = train_test_split(X, y, test_size=0.2, random_state=12)"
      ]
    },
    {
      "cell_type": "code",
      "execution_count": null,
      "metadata": {
        "id": "HS_siA-w0RgE"
      },
      "outputs": [],
      "source": [
        "scale = StandardScaler()\n",
        "X_train = scale.fit_transform(X_train)\n",
        "X_val = scale.transform(X_val)"
      ]
    },
    {
      "cell_type": "code",
      "execution_count": null,
      "metadata": {
        "colab": {
          "base_uri": "https://localhost:8080/"
        },
        "id": "RHDTuTDy0Rim",
        "outputId": "0c14ca1f-0776-4b2a-d3fb-f3ce35e0e7da"
      },
      "outputs": [
        {
          "name": "stdout",
          "output_type": "stream",
          "text": [
            "Number of dataset:  480\n",
            "Number of train set:  384\n",
            "Number of validation set:  96\n"
          ]
        }
      ],
      "source": [
        "print('Number of dataset: ', len(X))\n",
        "print('Number of train set: ', len(X_train))\n",
        "print('Number of validation set: ', len(X_val))"
      ]
    },
    {
      "cell_type": "code",
      "execution_count": null,
      "metadata": {
        "id": "nszmw_tp0RlE"
      },
      "outputs": [],
      "source": [
        "y_train = y_train.reshape(y_train.shape[0], -1) #for making it (biz, 1)\n",
        "y_val =  y_val.reshape(y_val.shape[0], -1)"
      ]
    },
    {
      "cell_type": "code",
      "execution_count": null,
      "metadata": {
        "colab": {
          "base_uri": "https://localhost:8080/"
        },
        "id": "NPFXuMY72wno",
        "outputId": "f886b876-a118-43b0-d426-8d045cabc6d9"
      },
      "outputs": [
        {
          "name": "stdout",
          "output_type": "stream",
          "text": [
            "X_train:  (72, 384)\n",
            "y_train:  (1, 384)\n",
            "X_val:  (72, 96)\n",
            "y_val: (1, 96)\n"
          ]
        }
      ],
      "source": [
        "y_train = y_train.T\n",
        "y_val = y_val.T\n",
        "X_train = X_train.T\n",
        "X_val = X_val.T\n",
        "print(\"X_train: \",X_train.shape)\n",
        "print(\"y_train: \" ,y_train.shape)\n",
        "print(\"X_val: \" ,X_val.shape)\n",
        "print(\"y_val:\" ,y_val.shape)"
      ]
    },
    {
      "cell_type": "markdown",
      "source": [
        "#**Implementing Model For 2-layer Random**"
      ],
      "metadata": {
        "id": "l645ARmErbjL"
      }
    },
    {
      "cell_type": "markdown",
      "metadata": {
        "id": "NG2wb06X3F_A"
      },
      "source": [
        "##Forward Propagation 2-layer Random'one"
      ]
    },
    {
      "cell_type": "code",
      "execution_count": null,
      "metadata": {
        "id": "MOV0M9y53H1m"
      },
      "outputs": [],
      "source": [
        "# 1) Initializing parameters / using Xavier initialization\n",
        "def initialize_parameter_2layer_Random(nx, ny):\n",
        "  w = np.random.randn(nx, ny) * np.sqrt(2/(nx + ny)) #randoming with Xavier method w = (72, 1)\n",
        "  b = np.random.randn(ny, 1) * np.sqrt(2 /(ny + 1)) #(1, 1)\n",
        "  return w, b"
      ]
    },
    {
      "cell_type": "code",
      "execution_count": null,
      "metadata": {
        "id": "Cd22qMTM3wFf"
      },
      "outputs": [],
      "source": [
        "# 2) Implement sigmoid Function / The result of the activation function is basically the predicted output for the input features.\n",
        "def sigmoid_2layer(z):\n",
        "    z = z.astype(float)\n",
        "    ans = 1 / (1 + np.exp(-z))\n",
        "    return ans"
      ]
    },
    {
      "cell_type": "code",
      "execution_count": null,
      "metadata": {
        "id": "3vspie8M3xuZ"
      },
      "outputs": [],
      "source": [
        "#3) implement forward propagation / Z and A\n",
        "def calculate_forward_2layer(w, b, x):\n",
        "  Z = np.dot(w.T, x) + b # (1, 384) = (1, 72)(72, 384) + (1,1)\n",
        "  A = sigmoid_2layer(Z) \n",
        "  return A"
      ]
    },
    {
      "cell_type": "code",
      "execution_count": null,
      "metadata": {
        "id": "5WBK3CgW31RA"
      },
      "outputs": [],
      "source": [
        "# 4) Calculate loss and cost / J = loss / sum of J's are cost\n",
        "def calculate_cost_2layer(X_train, y_train, A):\n",
        "  m = X_train.shape[1]\n",
        "  A[A == 0.] = 1e-10 #problem with log(0), Add this little number to not get nan\n",
        "  A[A == 1.] = 1. - 1e-10 #for second one (1 - A) to not get zero -> log(0) \n",
        "  loss = y_train * np.log(A) + (1 - y_train) * (np.log(1 - A))\n",
        "  cost = (-1/m) * np.sum(loss)\n",
        "  cost = np.squeeze(np.array(cost)) # this turns [[15]] into 15\n",
        "  return cost"
      ]
    },
    {
      "cell_type": "markdown",
      "metadata": {
        "id": "9VApAeUO33gs"
      },
      "source": [
        "##backward Propagation 2-layer Random'one"
      ]
    },
    {
      "cell_type": "code",
      "execution_count": null,
      "metadata": {
        "id": "yaJtDKKf33_O"
      },
      "outputs": [],
      "source": [
        "# 5) calculate dw, db\n",
        "def gradient(X_train, y_train, A):\n",
        "  m = X_train.shape[1]\n",
        "  dw = (1/m) * np.dot(X_train, (A - y_train).T) # dJ/dw = dJ/da*da/dz*dz/dw - -y/a+1-y/1-a * a(1-a) * X\n",
        "  db = (1/m) * np.sum(A - y_train) # dJ/db = dJ/da*da/dz*dz/db -y/a+1-y/1-a * a(1-a) * 1\n",
        "  return dw, db "
      ]
    },
    {
      "cell_type": "code",
      "execution_count": null,
      "metadata": {
        "id": "ltvsEXlN35aS"
      },
      "outputs": [],
      "source": [
        "#6) updating data\n",
        "def updates(w, b, dw, db, learning_rate):\n",
        "  w = w - (learning_rate * dw)\n",
        "  b = b - (learning_rate * db) \n",
        "  return w, b "
      ]
    },
    {
      "cell_type": "code",
      "execution_count": null,
      "metadata": {
        "id": "kqutvTZ_3_3X"
      },
      "outputs": [],
      "source": [
        "#7 predict matrix\n",
        "def predict_2layer(w, b, X):\n",
        "    Y_prediction = np.zeros((1, X.shape[1])) #(1, m)\n",
        "    w = w.reshape(X.shape[0], 1)\n",
        "    A = calculate_forward_2layer(w, b, X) #calculate forward with new w and b\n",
        "    for i in range(A.shape[1]):\n",
        "        Y_prediction[0,i] = 1 if A[0, i] > 0.5 else 0 #if it more than 0.5 it gets 1 else 0 / shape of that like y_train or y_val\n",
        "    return Y_prediction, A"
      ]
    },
    {
      "cell_type": "code",
      "execution_count": null,
      "metadata": {
        "id": "F0rhRE3hjWgH"
      },
      "outputs": [],
      "source": [
        "def calculate_test_2layer(w, b, X_val, y_val):\n",
        "  Y_prediction_val, Av =  predict_2layer(w, b, X_val) #predict val\n",
        "  cost_v = calculate_cost_2layer(X_val, y_val, Av) # calculate cost val \n",
        "  accur_v = np.sum((Y_prediction_val == y_val)/X_val.shape[1]) * 100 #calculate accuracy val\n",
        "  return cost_v, accur_v "
      ]
    },
    {
      "cell_type": "code",
      "execution_count": null,
      "metadata": {
        "id": "xCiO7c2_ki5_"
      },
      "outputs": [],
      "source": [
        "def calculate_train_2layer(w, b, X_train, y_train):\n",
        "  Y_prediction_train, A =  predict_2layer(w, b, X_train) #predict train\n",
        "  accur_t = np.sum((Y_prediction_train == y_train)/X_train.shape[1]) * 100 #calculate accuracy train\n",
        "  return accur_t"
      ]
    },
    {
      "cell_type": "code",
      "execution_count": null,
      "metadata": {
        "id": "B_Ro5Tqt38gS"
      },
      "outputs": [],
      "source": [
        "def costomize(w, b, X_train, y_train, X_val, y_val, epoch, learning_rate,print_cost=False): \n",
        "    cost_train, accur_train, cost_val, accur_val = ([] for i in range(4)) #save this parts\n",
        "    for i in range(epoch + 1):\n",
        "        A = calculate_forward_2layer(w, b, X_train) # calculate A\n",
        "        cost_t = calculate_cost_2layer(X_train, y_train, A) # calculate cost train\n",
        "        dw, db = gradient(X_train, y_train, A) # output dw db\n",
        "        w, b = updates(w, b, dw, db, learning_rate) # output new w b\n",
        "        accur_t = calculate_train_2layer(w, b, X_train, y_train) # calculate accuracy of train\n",
        "        cost_v, accur_v = calculate_test_2layer(w, b, X_val, y_val) # calculate accuracy and cost of test\n",
        "        if i % 10 == 0:\n",
        "            cost_train.append(cost_t)\n",
        "            accur_train.append(accur_t / 100)\n",
        "            cost_val.append(cost_v)\n",
        "            accur_val.append(accur_v / 100)\n",
        "            if print_cost:\n",
        "                print(f\"Cost iteration {i}: {cost_t}        train accuracy: {accur_t}\")\n",
        "                print(\"------------------------------------------------------------------------------------\")\n",
        "    return w, b, cost_train, accur_train, cost_val, accur_val"
      ]
    },
    {
      "cell_type": "code",
      "execution_count": null,
      "metadata": {
        "id": "7rJ6aUEH4C4s"
      },
      "outputs": [],
      "source": [
        "def model_2layer_random(X_train, y_train, X_val, y_val, epoch, learning_rate, print_cost=False):\n",
        "    w, b = initialize_parameter_2layer_Random(X_train.shape[0], 1) #giving random value to b and w\n",
        "    w, b, cost_train, accur_train, cost_val, accur_val = costomize(w, b, X_train, y_train, X_val, y_val, epoch, learning_rate, print_cost)\n",
        "    out = {\"cost_train\": cost_train,\"accur_train\": accur_train,\"w\" : w, \"b\" : b,\"learning_rate\" : learning_rate,\"epoch\": epoch}\n",
        "    return out, cost_val, accur_val "
      ]
    },
    {
      "cell_type": "markdown",
      "metadata": {
        "id": "1ERpENqV4GGE"
      },
      "source": [
        "# ***Training the model 2-layer Random***"
      ]
    },
    {
      "cell_type": "code",
      "execution_count": null,
      "metadata": {
        "colab": {
          "base_uri": "https://localhost:8080/"
        },
        "id": "2rvsmioA4Gdm",
        "outputId": "6deb5285-96cc-48d9-edd8-e70f3cbc9e06"
      },
      "outputs": [
        {
          "name": "stdout",
          "output_type": "stream",
          "text": [
            "Cost iteration 0: 0.6400730722838579        train accuracy: 66.14583333333333\n",
            "------------------------------------------------------------------------------------\n",
            "Cost iteration 10: 0.5955833302852289        train accuracy: 71.35416666666666\n",
            "------------------------------------------------------------------------------------\n",
            "Cost iteration 20: 0.5588632394228656        train accuracy: 73.4375\n",
            "------------------------------------------------------------------------------------\n",
            "Cost iteration 30: 0.5282133591510814        train accuracy: 76.04166666666667\n",
            "------------------------------------------------------------------------------------\n",
            "Cost iteration 40: 0.5023249290203399        train accuracy: 77.60416666666666\n",
            "------------------------------------------------------------------------------------\n",
            "Cost iteration 50: 0.4801969185570736        train accuracy: 79.16666666666666\n",
            "------------------------------------------------------------------------------------\n",
            "Cost iteration 60: 0.46106447251673216        train accuracy: 80.46875\n",
            "------------------------------------------------------------------------------------\n",
            "Cost iteration 70: 0.44434165705398826        train accuracy: 81.51041666666667\n",
            "------------------------------------------------------------------------------------\n",
            "Cost iteration 80: 0.42957734826107963        train accuracy: 82.29166666666667\n",
            "------------------------------------------------------------------------------------\n",
            "Cost iteration 90: 0.4164219234425775        train accuracy: 83.07291666666667\n",
            "------------------------------------------------------------------------------------\n",
            "Cost iteration 100: 0.40460237112992853        train accuracy: 83.07291666666667\n",
            "------------------------------------------------------------------------------------\n",
            "Cost iteration 110: 0.39390377406828847        train accuracy: 83.59375\n",
            "------------------------------------------------------------------------------------\n",
            "Cost iteration 120: 0.384155537259415        train accuracy: 84.11458333333334\n",
            "------------------------------------------------------------------------------------\n",
            "Cost iteration 130: 0.3752211171407847        train accuracy: 84.375\n",
            "------------------------------------------------------------------------------------\n",
            "Cost iteration 140: 0.36699032360093764        train accuracy: 84.375\n",
            "------------------------------------------------------------------------------------\n",
            "Cost iteration 150: 0.3593735116123622        train accuracy: 84.63541666666667\n",
            "------------------------------------------------------------------------------------\n",
            "Cost iteration 160: 0.35229716354025586        train accuracy: 84.89583333333334\n",
            "------------------------------------------------------------------------------------\n",
            "Cost iteration 170: 0.3457004992284808        train accuracy: 84.89583333333334\n",
            "------------------------------------------------------------------------------------\n",
            "Cost iteration 180: 0.3395328504392211        train accuracy: 85.67708333333334\n",
            "------------------------------------------------------------------------------------\n",
            "Cost iteration 190: 0.33375160865590725        train accuracy: 86.19791666666667\n",
            "------------------------------------------------------------------------------------\n",
            "Cost iteration 200: 0.3283206079116366        train accuracy: 86.19791666666667\n",
            "------------------------------------------------------------------------------------\n",
            "Cost iteration 210: 0.32320884248593207        train accuracy: 86.71875\n",
            "------------------------------------------------------------------------------------\n",
            "Cost iteration 220: 0.31838944681037956        train accuracy: 86.71875\n",
            "------------------------------------------------------------------------------------\n",
            "Cost iteration 230: 0.31383888443565927        train accuracy: 87.5\n",
            "------------------------------------------------------------------------------------\n",
            "Cost iteration 240: 0.3095363064115415        train accuracy: 88.02083333333334\n",
            "------------------------------------------------------------------------------------\n",
            "Cost iteration 250: 0.3054630484489692        train accuracy: 88.02083333333334\n",
            "------------------------------------------------------------------------------------\n",
            "Cost iteration 260: 0.3016022420432424        train accuracy: 88.02083333333334\n",
            "------------------------------------------------------------------------------------\n",
            "Cost iteration 270: 0.29793851843819485        train accuracy: 88.02083333333334\n",
            "------------------------------------------------------------------------------------\n",
            "Cost iteration 280: 0.29445778682739143        train accuracy: 88.54166666666667\n",
            "------------------------------------------------------------------------------------\n",
            "Cost iteration 290: 0.2911470702266882        train accuracy: 88.54166666666667\n",
            "------------------------------------------------------------------------------------\n",
            "Cost iteration 300: 0.2879943844639003        train accuracy: 88.54166666666667\n",
            "------------------------------------------------------------------------------------\n",
            "Cost iteration 310: 0.28498864791051487        train accuracy: 89.0625\n",
            "------------------------------------------------------------------------------------\n",
            "Cost iteration 320: 0.28211961191502044        train accuracy: 89.32291666666667\n",
            "------------------------------------------------------------------------------------\n",
            "Cost iteration 330: 0.27937780424996844        train accuracy: 89.58333333333334\n",
            "------------------------------------------------------------------------------------\n",
            "Cost iteration 340: 0.2767544800797219        train accuracy: 89.58333333333334\n",
            "------------------------------------------------------------------------------------\n",
            "Cost iteration 350: 0.27424157684588124        train accuracy: 89.84375\n",
            "------------------------------------------------------------------------------------\n",
            "Cost iteration 360: 0.27183167096867383        train accuracy: 89.84375\n",
            "------------------------------------------------------------------------------------\n",
            "Cost iteration 370: 0.2695179353589846        train accuracy: 89.84375\n",
            "------------------------------------------------------------------------------------\n",
            "Cost iteration 380: 0.2672940974640043        train accuracy: 90.10416666666667\n",
            "------------------------------------------------------------------------------------\n",
            "Cost iteration 390: 0.26515439799721485        train accuracy: 90.10416666666667\n",
            "------------------------------------------------------------------------------------\n",
            "Cost iteration 400: 0.2630935507081694        train accuracy: 90.625\n",
            "------------------------------------------------------------------------------------\n",
            "Cost iteration 410: 0.26110670360196775        train accuracy: 90.88541666666667\n",
            "------------------------------------------------------------------------------------\n",
            "Cost iteration 420: 0.25918940198247004        train accuracy: 91.14583333333334\n",
            "------------------------------------------------------------------------------------\n",
            "Cost iteration 430: 0.25733755361167854        train accuracy: 91.66666666666667\n",
            "------------------------------------------------------------------------------------\n",
            "Cost iteration 440: 0.25554739618058236        train accuracy: 91.92708333333334\n",
            "------------------------------------------------------------------------------------\n",
            "Cost iteration 450: 0.2538154671924947        train accuracy: 92.1875\n",
            "------------------------------------------------------------------------------------\n",
            "Cost iteration 460: 0.2521385762782938        train accuracy: 92.1875\n",
            "------------------------------------------------------------------------------------\n",
            "Cost iteration 470: 0.2505137798979171        train accuracy: 92.1875\n",
            "------------------------------------------------------------------------------------\n",
            "Cost iteration 480: 0.2489383583342938        train accuracy: 92.44791666666667\n",
            "------------------------------------------------------------------------------------\n",
            "Cost iteration 490: 0.24740979485301173        train accuracy: 92.44791666666667\n",
            "------------------------------------------------------------------------------------\n",
            "Cost iteration 500: 0.24592575688092416        train accuracy: 92.44791666666667\n",
            "------------------------------------------------------------------------------------\n",
            "Cost iteration 510: 0.24448407904692665        train accuracy: 92.44791666666667\n",
            "------------------------------------------------------------------------------------\n",
            "Cost iteration 520: 0.2430827479257912        train accuracy: 92.44791666666667\n",
            "------------------------------------------------------------------------------------\n",
            "Cost iteration 530: 0.24171988832902006        train accuracy: 92.44791666666667\n",
            "------------------------------------------------------------------------------------\n",
            "Cost iteration 540: 0.24039375099349003        train accuracy: 92.44791666666667\n",
            "------------------------------------------------------------------------------------\n",
            "Cost iteration 550: 0.23910270152775154        train accuracy: 92.70833333333334\n",
            "------------------------------------------------------------------------------------\n",
            "Cost iteration 560: 0.23784521048623303        train accuracy: 92.96875\n",
            "------------------------------------------------------------------------------------\n",
            "Cost iteration 570: 0.2366198444525134        train accuracy: 92.96875\n",
            "------------------------------------------------------------------------------------\n",
            "Cost iteration 580: 0.23542525802372327        train accuracy: 92.96875\n",
            "------------------------------------------------------------------------------------\n",
            "Cost iteration 590: 0.23426018659869863        train accuracy: 92.96875\n",
            "------------------------------------------------------------------------------------\n",
            "Cost iteration 600: 0.23312343988246598        train accuracy: 93.22916666666667\n",
            "------------------------------------------------------------------------------------\n",
            "Cost iteration 610: 0.2320138960289203        train accuracy: 93.22916666666667\n",
            "------------------------------------------------------------------------------------\n",
            "Cost iteration 620: 0.23093049635203236        train accuracy: 93.48958333333334\n",
            "------------------------------------------------------------------------------------\n",
            "Cost iteration 630: 0.2298722405436663        train accuracy: 93.48958333333334\n",
            "------------------------------------------------------------------------------------\n",
            "Cost iteration 640: 0.22883818234301737        train accuracy: 93.75\n",
            "------------------------------------------------------------------------------------\n",
            "Cost iteration 650: 0.22782742560894087        train accuracy: 93.75\n",
            "------------------------------------------------------------------------------------\n",
            "Cost iteration 660: 0.22683912075198323        train accuracy: 93.75\n",
            "------------------------------------------------------------------------------------\n",
            "Cost iteration 670: 0.22587246148788537        train accuracy: 93.75\n",
            "------------------------------------------------------------------------------------\n",
            "Cost iteration 680: 0.22492668187869574        train accuracy: 94.01041666666667\n",
            "------------------------------------------------------------------------------------\n",
            "Cost iteration 690: 0.22400105363152015        train accuracy: 94.01041666666667\n",
            "------------------------------------------------------------------------------------\n",
            "Cost iteration 700: 0.22309488362834273        train accuracy: 94.01041666666667\n",
            "------------------------------------------------------------------------------------\n",
            "Cost iteration 710: 0.2222075116633898        train accuracy: 94.01041666666667\n",
            "------------------------------------------------------------------------------------\n",
            "Cost iteration 720: 0.22133830836715584        train accuracy: 94.01041666666667\n",
            "------------------------------------------------------------------------------------\n",
            "Cost iteration 730: 0.2204866732985637        train accuracy: 94.01041666666667\n",
            "------------------------------------------------------------------------------------\n",
            "Cost iteration 740: 0.21965203318879784        train accuracy: 94.01041666666667\n",
            "------------------------------------------------------------------------------------\n",
            "Cost iteration 750: 0.21883384032217673        train accuracy: 94.01041666666667\n",
            "------------------------------------------------------------------------------------\n",
            "Cost iteration 760: 0.21803157104102047        train accuracy: 94.01041666666667\n",
            "------------------------------------------------------------------------------------\n",
            "Cost iteration 770: 0.2172447243629109        train accuracy: 94.01041666666667\n",
            "------------------------------------------------------------------------------------\n",
            "Cost iteration 780: 0.21647282069996127        train accuracy: 94.01041666666667\n",
            "------------------------------------------------------------------------------------\n",
            "Cost iteration 790: 0.21571540067085018        train accuracy: 94.01041666666667\n",
            "------------------------------------------------------------------------------------\n",
            "Cost iteration 800: 0.21497202399731155        train accuracy: 94.01041666666667\n",
            "------------------------------------------------------------------------------------\n",
            "Cost iteration 810: 0.2142422684776724        train accuracy: 94.01041666666667\n",
            "------------------------------------------------------------------------------------\n",
            "Cost iteration 820: 0.2135257290307622        train accuracy: 94.01041666666667\n",
            "------------------------------------------------------------------------------------\n",
            "Cost iteration 830: 0.212822016804216        train accuracy: 94.01041666666667\n",
            "------------------------------------------------------------------------------------\n",
            "Cost iteration 840: 0.21213075834178163        train accuracy: 94.01041666666667\n",
            "------------------------------------------------------------------------------------\n",
            "Cost iteration 850: 0.21145159480477593        train accuracy: 94.01041666666667\n",
            "------------------------------------------------------------------------------------\n",
            "Cost iteration 860: 0.210784181243317        train accuracy: 94.27083333333334\n",
            "------------------------------------------------------------------------------------\n",
            "Cost iteration 870: 0.21012818591336271        train accuracy: 94.27083333333334\n",
            "------------------------------------------------------------------------------------\n",
            "Cost iteration 880: 0.20948328963599075        train accuracy: 94.27083333333334\n",
            "------------------------------------------------------------------------------------\n",
            "Cost iteration 890: 0.20884918519565426        train accuracy: 94.01041666666667\n",
            "------------------------------------------------------------------------------------\n",
            "Cost iteration 900: 0.20822557677448145        train accuracy: 94.01041666666667\n",
            "------------------------------------------------------------------------------------\n",
            "Cost iteration 910: 0.2076121794199303        train accuracy: 94.01041666666667\n",
            "------------------------------------------------------------------------------------\n",
            "Cost iteration 920: 0.2070087185433661        train accuracy: 94.01041666666667\n",
            "------------------------------------------------------------------------------------\n",
            "Cost iteration 930: 0.20641492944733164        train accuracy: 94.01041666666667\n",
            "------------------------------------------------------------------------------------\n",
            "Cost iteration 940: 0.2058305568794846        train accuracy: 94.01041666666667\n",
            "------------------------------------------------------------------------------------\n",
            "Cost iteration 950: 0.20525535461134375        train accuracy: 94.01041666666667\n",
            "------------------------------------------------------------------------------------\n",
            "Cost iteration 960: 0.20468908504014666        train accuracy: 94.01041666666667\n",
            "------------------------------------------------------------------------------------\n",
            "Cost iteration 970: 0.20413151881225272        train accuracy: 94.01041666666667\n",
            "------------------------------------------------------------------------------------\n",
            "Cost iteration 980: 0.20358243446666985        train accuracy: 94.01041666666667\n",
            "------------------------------------------------------------------------------------\n",
            "Cost iteration 990: 0.2030416180973864        train accuracy: 94.27083333333334\n",
            "------------------------------------------------------------------------------------\n",
            "Cost iteration 1000: 0.20250886303328897        train accuracy: 94.53125\n",
            "------------------------------------------------------------------------------------\n"
          ]
        }
      ],
      "source": [
        "model_output_2layer_random, cost_val_r2, accur_val_r2 = model_2layer_random(X_train, y_train, X_val, y_val, epoch=1000, learning_rate= 0.01, print_cost=True)"
      ]
    },
    {
      "cell_type": "code",
      "execution_count": null,
      "metadata": {
        "colab": {
          "base_uri": "https://localhost:8080/"
        },
        "id": "JQZ9OVYS4VWE",
        "outputId": "e029ca8d-052d-4593-fb37-783058b3eca3"
      },
      "outputs": [
        {
          "data": {
            "image/png": "[encoded data removed]",
            "text/plain": [
              "<Figure size 432x288 with 1 Axes>"
            ]
          },
          "metadata": {},
          "output_type": "display_data"
        }
      ],
      "source": [
        "plt.plot(model_output_2layer_random['cost_train'])\n",
        "plt.ylabel('cost_train')\n",
        "plt.xlabel('Iterations')\n",
        "plt.show()"
      ]
    },
    {
      "cell_type": "code",
      "execution_count": null,
      "metadata": {
        "colab": {
          "base_uri": "https://localhost:8080/"
        },
        "id": "zgWKNtCH4W06",
        "outputId": "708f2565-d0ad-47da-9a20-5e20377aba5d"
      },
      "outputs": [
        {
          "data": {
            "image/png": "[encoded data removed]",
            "text/plain": [
              "<Figure size 432x288 with 1 Axes>"
            ]
          },
          "metadata": {},
          "output_type": "display_data"
        }
      ],
      "source": [
        "plt.plot(np.squeeze(model_output_2layer_random['accur_train']))\n",
        "plt.ylabel('Accuracy_train')\n",
        "plt.xlabel('Iterations')\n",
        "plt.show()"
      ]
    },
    {
      "cell_type": "markdown",
      "metadata": {
        "id": "djdV1d4p4aT5"
      },
      "source": [
        "# ***Evaluating the model 2-layer Random***"
      ]
    },
    {
      "cell_type": "code",
      "execution_count": null,
      "metadata": {
        "colab": {
          "base_uri": "https://localhost:8080/"
        },
        "id": "3WR_Z_1f4au1",
        "outputId": "2566ffe8-a3bf-4424-f3a7-0d94481cba44"
      },
      "outputs": [
        {
          "name": "stdout",
          "output_type": "stream",
          "text": [
            "Cost iteration 0: 0.6038770496314403        test accuracy: 72.91666666666666\n",
            "------------------------------------------------------------------------------------\n",
            "Cost iteration 10: 0.5621358984627265        test accuracy: 73.95833333333334\n",
            "------------------------------------------------------------------------------------\n",
            "Cost iteration 20: 0.5275167993254398        test accuracy: 76.04166666666667\n",
            "------------------------------------------------------------------------------------\n",
            "Cost iteration 30: 0.49850708519298403        test accuracy: 78.125\n",
            "------------------------------------------------------------------------------------\n",
            "Cost iteration 40: 0.47393720882536394        test accuracy: 81.25\n",
            "------------------------------------------------------------------------------------\n",
            "Cost iteration 50: 0.45290696042079737        test accuracy: 83.33333333333334\n",
            "------------------------------------------------------------------------------------\n",
            "Cost iteration 60: 0.4347228784636182        test accuracy: 83.33333333333334\n",
            "------------------------------------------------------------------------------------\n",
            "Cost iteration 70: 0.41884866663482834        test accuracy: 83.33333333333334\n",
            "------------------------------------------------------------------------------------\n",
            "Cost iteration 80: 0.40486715788261407        test accuracy: 82.29166666666667\n",
            "------------------------------------------------------------------------------------\n",
            "Cost iteration 90: 0.39245157691877447        test accuracy: 82.29166666666667\n",
            "------------------------------------------------------------------------------------\n",
            "Cost iteration 100: 0.3813439703638939        test accuracy: 81.25\n",
            "------------------------------------------------------------------------------------\n",
            "Cost iteration 110: 0.3713390455614654        test accuracy: 81.25\n",
            "------------------------------------------------------------------------------------\n",
            "Cost iteration 120: 0.3622720477234229        test accuracy: 82.29166666666667\n",
            "------------------------------------------------------------------------------------\n",
            "Cost iteration 130: 0.3540096378881068        test accuracy: 82.29166666666667\n",
            "------------------------------------------------------------------------------------\n",
            "Cost iteration 140: 0.34644299800674677        test accuracy: 82.29166666666667\n",
            "------------------------------------------------------------------------------------\n",
            "Cost iteration 150: 0.3394825908474356        test accuracy: 82.29166666666667\n",
            "------------------------------------------------------------------------------------\n",
            "Cost iteration 160: 0.33305415292759916        test accuracy: 82.29166666666667\n",
            "------------------------------------------------------------------------------------\n",
            "Cost iteration 170: 0.3270956098734536        test accuracy: 82.29166666666667\n",
            "------------------------------------------------------------------------------------\n",
            "Cost iteration 180: 0.3215546852274277        test accuracy: 82.29166666666667\n",
            "------------------------------------------------------------------------------------\n",
            "Cost iteration 190: 0.31638703350085123        test accuracy: 83.33333333333334\n",
            "------------------------------------------------------------------------------------\n",
            "Cost iteration 200: 0.31155477205732884        test accuracy: 85.41666666666667\n",
            "------------------------------------------------------------------------------------\n",
            "Cost iteration 210: 0.30702531854607834        test accuracy: 85.41666666666667\n",
            "------------------------------------------------------------------------------------\n",
            "Cost iteration 220: 0.30277046423716075        test accuracy: 86.45833333333334\n",
            "------------------------------------------------------------------------------------\n",
            "Cost iteration 230: 0.2987656310144444        test accuracy: 87.5\n",
            "------------------------------------------------------------------------------------\n",
            "Cost iteration 240: 0.29498927259365        test accuracy: 87.5\n",
            "------------------------------------------------------------------------------------\n",
            "Cost iteration 250: 0.29142238994239844        test accuracy: 87.5\n",
            "------------------------------------------------------------------------------------\n",
            "Cost iteration 260: 0.28804813777165794        test accuracy: 87.5\n",
            "------------------------------------------------------------------------------------\n",
            "Cost iteration 270: 0.2848515040178069        test accuracy: 88.54166666666667\n",
            "------------------------------------------------------------------------------------\n",
            "Cost iteration 280: 0.28181904796370705        test accuracy: 88.54166666666667\n",
            "------------------------------------------------------------------------------------\n",
            "Cost iteration 290: 0.2789386854559682        test accuracy: 88.54166666666667\n",
            "------------------------------------------------------------------------------------\n",
            "Cost iteration 300: 0.2761995118588632        test accuracy: 88.54166666666667\n",
            "------------------------------------------------------------------------------------\n",
            "Cost iteration 310: 0.27359165514528955        test accuracy: 89.58333333333334\n",
            "------------------------------------------------------------------------------------\n",
            "Cost iteration 320: 0.2711061529873454        test accuracy: 89.58333333333334\n",
            "------------------------------------------------------------------------------------\n",
            "Cost iteration 330: 0.26873484894257654        test accuracy: 90.625\n",
            "------------------------------------------------------------------------------------\n",
            "Cost iteration 340: 0.26647030387072923        test accuracy: 90.625\n",
            "------------------------------------------------------------------------------------\n",
            "Cost iteration 350: 0.26430571957718496        test accuracy: 90.625\n",
            "------------------------------------------------------------------------------------\n",
            "Cost iteration 360: 0.2622348723763455        test accuracy: 90.625\n",
            "------------------------------------------------------------------------------------\n",
            "Cost iteration 370: 0.2602520548166811        test accuracy: 92.70833333333334\n",
            "------------------------------------------------------------------------------------\n",
            "Cost iteration 380: 0.25835202422845094        test accuracy: 92.70833333333334\n",
            "------------------------------------------------------------------------------------\n",
            "Cost iteration 390: 0.2565299570673303        test accuracy: 93.75\n",
            "------------------------------------------------------------------------------------\n",
            "Cost iteration 400: 0.25478140825473305        test accuracy: 93.75\n",
            "------------------------------------------------------------------------------------\n",
            "Cost iteration 410: 0.253102274879046        test accuracy: 93.75\n",
            "------------------------------------------------------------------------------------\n",
            "Cost iteration 420: 0.25148876373882356        test accuracy: 94.79166666666667\n",
            "------------------------------------------------------------------------------------\n",
            "Cost iteration 430: 0.2499373622931117        test accuracy: 94.79166666666667\n",
            "------------------------------------------------------------------------------------\n",
            "Cost iteration 440: 0.24844481264592344        test accuracy: 94.79166666666667\n",
            "------------------------------------------------------------------------------------\n",
            "Cost iteration 450: 0.24700808823892953        test accuracy: 94.79166666666667\n",
            "------------------------------------------------------------------------------------\n",
            "Cost iteration 460: 0.2456243729637433        test accuracy: 94.79166666666667\n",
            "------------------------------------------------------------------------------------\n",
            "Cost iteration 470: 0.24429104243608818        test accuracy: 94.79166666666667\n",
            "------------------------------------------------------------------------------------\n",
            "Cost iteration 480: 0.2430056472007055        test accuracy: 94.79166666666667\n",
            "------------------------------------------------------------------------------------\n",
            "Cost iteration 490: 0.24176589765938283        test accuracy: 95.83333333333334\n",
            "------------------------------------------------------------------------------------\n",
            "Cost iteration 500: 0.2405696505356365        test accuracy: 95.83333333333334\n",
            "------------------------------------------------------------------------------------\n",
            "Cost iteration 510: 0.23941489670883048        test accuracy: 95.83333333333334\n",
            "------------------------------------------------------------------------------------\n",
            "Cost iteration 520: 0.23829975026804695        test accuracy: 95.83333333333334\n",
            "------------------------------------------------------------------------------------\n",
            "Cost iteration 530: 0.2372224386520188        test accuracy: 95.83333333333334\n",
            "------------------------------------------------------------------------------------\n",
            "Cost iteration 540: 0.23618129375595437        test accuracy: 95.83333333333334\n",
            "------------------------------------------------------------------------------------\n",
            "Cost iteration 550: 0.235174743899247        test accuracy: 95.83333333333334\n",
            "------------------------------------------------------------------------------------\n",
            "Cost iteration 560: 0.23420130655991223        test accuracy: 94.79166666666667\n",
            "------------------------------------------------------------------------------------\n",
            "Cost iteration 570: 0.23325958179224507        test accuracy: 94.79166666666667\n",
            "------------------------------------------------------------------------------------\n",
            "Cost iteration 580: 0.23234824625370615        test accuracy: 94.79166666666667\n",
            "------------------------------------------------------------------------------------\n",
            "Cost iteration 590: 0.2314660477755336        test accuracy: 94.79166666666667\n",
            "------------------------------------------------------------------------------------\n",
            "Cost iteration 600: 0.23061180041910936        test accuracy: 94.79166666666667\n",
            "------------------------------------------------------------------------------------\n",
            "Cost iteration 610: 0.229784379966801        test accuracy: 94.79166666666667\n",
            "------------------------------------------------------------------------------------\n",
            "Cost iteration 620: 0.2289827198018936        test accuracy: 93.75\n",
            "------------------------------------------------------------------------------------\n",
            "Cost iteration 630: 0.22820580713746266        test accuracy: 93.75\n",
            "------------------------------------------------------------------------------------\n",
            "Cost iteration 640: 0.22745267955862342        test accuracy: 93.75\n",
            "------------------------------------------------------------------------------------\n",
            "Cost iteration 650: 0.22672242184666253        test accuracy: 93.75\n",
            "------------------------------------------------------------------------------------\n",
            "Cost iteration 660: 0.22601416305711503        test accuracy: 93.75\n",
            "------------------------------------------------------------------------------------\n",
            "Cost iteration 670: 0.2253270738270003        test accuracy: 93.75\n",
            "------------------------------------------------------------------------------------\n",
            "Cost iteration 680: 0.22466036388919514        test accuracy: 93.75\n",
            "------------------------------------------------------------------------------------\n",
            "Cost iteration 690: 0.22401327977435476        test accuracy: 93.75\n",
            "------------------------------------------------------------------------------------\n",
            "Cost iteration 700: 0.2233851026829379        test accuracy: 93.75\n",
            "------------------------------------------------------------------------------------\n",
            "Cost iteration 710: 0.22277514651178054        test accuracy: 93.75\n",
            "------------------------------------------------------------------------------------\n",
            "Cost iteration 720: 0.22218275602133136        test accuracy: 93.75\n",
            "------------------------------------------------------------------------------------\n",
            "Cost iteration 730: 0.22160730513111873        test accuracy: 93.75\n",
            "------------------------------------------------------------------------------------\n",
            "Cost iteration 740: 0.2210481953323321        test accuracy: 93.75\n",
            "------------------------------------------------------------------------------------\n",
            "Cost iteration 750: 0.22050485420753477        test accuracy: 93.75\n",
            "------------------------------------------------------------------------------------\n",
            "Cost iteration 760: 0.21997673404853896        test accuracy: 93.75\n",
            "------------------------------------------------------------------------------------\n",
            "Cost iteration 770: 0.2194633105643815        test accuracy: 93.75\n",
            "------------------------------------------------------------------------------------\n",
            "Cost iteration 780: 0.21896408167212023        test accuracy: 92.70833333333334\n",
            "------------------------------------------------------------------------------------\n",
            "Cost iteration 790: 0.21847856636389196        test accuracy: 92.70833333333334\n",
            "------------------------------------------------------------------------------------\n",
            "Cost iteration 800: 0.2180063036442899        test accuracy: 92.70833333333334\n",
            "------------------------------------------------------------------------------------\n",
            "Cost iteration 810: 0.21754685153268585        test accuracy: 92.70833333333334\n",
            "------------------------------------------------------------------------------------\n",
            "Cost iteration 820: 0.21709978612561456        test accuracy: 92.70833333333334\n",
            "------------------------------------------------------------------------------------\n",
            "Cost iteration 830: 0.2166647007147875        test accuracy: 92.70833333333334\n",
            "------------------------------------------------------------------------------------\n",
            "Cost iteration 840: 0.21624120495670163        test accuracy: 92.70833333333334\n",
            "------------------------------------------------------------------------------------\n",
            "Cost iteration 850: 0.2158289240901562        test accuracy: 92.70833333333334\n",
            "------------------------------------------------------------------------------------\n",
            "Cost iteration 860: 0.2154274981983229        test accuracy: 92.70833333333334\n",
            "------------------------------------------------------------------------------------\n",
            "Cost iteration 870: 0.21503658151229343        test accuracy: 92.70833333333334\n",
            "------------------------------------------------------------------------------------\n",
            "Cost iteration 880: 0.21465584175328614        test accuracy: 92.70833333333334\n",
            "------------------------------------------------------------------------------------\n",
            "Cost iteration 890: 0.21428495951093096        test accuracy: 92.70833333333334\n",
            "------------------------------------------------------------------------------------\n",
            "Cost iteration 900: 0.21392362765525644        test accuracy: 92.70833333333334\n",
            "------------------------------------------------------------------------------------\n",
            "Cost iteration 910: 0.21357155078019646        test accuracy: 92.70833333333334\n",
            "------------------------------------------------------------------------------------\n",
            "Cost iteration 920: 0.2132284446765998        test accuracy: 92.70833333333334\n",
            "------------------------------------------------------------------------------------\n",
            "Cost iteration 930: 0.21289403583288974        test accuracy: 92.70833333333334\n",
            "------------------------------------------------------------------------------------\n",
            "Cost iteration 940: 0.2125680609616535        test accuracy: 92.70833333333334\n",
            "------------------------------------------------------------------------------------\n",
            "Cost iteration 950: 0.21225026655057413        test accuracy: 92.70833333333334\n",
            "------------------------------------------------------------------------------------\n",
            "Cost iteration 960: 0.21194040843623363        test accuracy: 92.70833333333334\n",
            "------------------------------------------------------------------------------------\n",
            "Cost iteration 970: 0.21163825139942274        test accuracy: 92.70833333333334\n",
            "------------------------------------------------------------------------------------\n",
            "Cost iteration 980: 0.21134356878068966        test accuracy: 92.70833333333334\n",
            "------------------------------------------------------------------------------------\n",
            "Cost iteration 990: 0.21105614211494586        test accuracy: 92.70833333333334\n",
            "------------------------------------------------------------------------------------\n",
            "Cost iteration 1000: 0.2107757607840387        test accuracy: 92.70833333333334\n",
            "------------------------------------------------------------------------------------\n"
          ]
        }
      ],
      "source": [
        "for i in range(len(cost_val_r2)):\n",
        "    print(f\"Cost iteration {i * 10}: {cost_val_r2[i]}        test accuracy: {accur_val_r2[i] * 100}\")\n",
        "    print(\"------------------------------------------------------------------------------------\")"
      ]
    },
    {
      "cell_type": "code",
      "execution_count": null,
      "metadata": {
        "colab": {
          "base_uri": "https://localhost:8080/"
        },
        "id": "0nZno6yz4cao",
        "outputId": "7460029c-7027-4d33-a26b-e025e68132ec"
      },
      "outputs": [
        {
          "data": {
            "image/png": "[encoded data removed]",
            "text/plain": [
              "<Figure size 432x288 with 1 Axes>"
            ]
          },
          "metadata": {},
          "output_type": "display_data"
        }
      ],
      "source": [
        "plt.plot(cost_val_r2)\n",
        "plt.ylabel('cost_val')\n",
        "plt.xlabel('Iterations')\n",
        "plt.show()"
      ]
    },
    {
      "cell_type": "code",
      "execution_count": null,
      "metadata": {
        "colab": {
          "base_uri": "https://localhost:8080/"
        },
        "id": "I8OW3Jig4gpq",
        "outputId": "1b380123-1af1-42d3-8bfb-763e5773bf61"
      },
      "outputs": [
        {
          "data": {
            "image/png": "[encoded data removed]",
            "text/plain": [
              "<Figure size 432x288 with 1 Axes>"
            ]
          },
          "metadata": {},
          "output_type": "display_data"
        }
      ],
      "source": [
        "plt.plot(accur_val_r2)\n",
        "plt.ylabel('Accuracy_val')\n",
        "plt.xlabel('Iterations')\n",
        "plt.show()"
      ]
    },
    {
      "cell_type": "markdown",
      "metadata": {
        "id": "he89gFXWnhWe"
      },
      "source": [
        "#**Implementing Model 2-layer zero**"
      ]
    },
    {
      "cell_type": "code",
      "execution_count": null,
      "metadata": {
        "id": "lJSc9mnknoOc"
      },
      "outputs": [],
      "source": [
        "#initialize 0 for params\n",
        "def initialize_parameter_2layer_zero(nx, ny):\n",
        "  w = np.zeros((nx, ny))\n",
        "  b = np.zeros((ny, 1))\n",
        "  return w, b"
      ]
    },
    {
      "cell_type": "code",
      "execution_count": null,
      "metadata": {
        "id": "-SWniLMLnpwj"
      },
      "outputs": [],
      "source": [
        "def model_2layer_zero(X_train, y_train, X_val, y_val, epoch, learning_rate, print_cost=False):\n",
        "    w, b = initialize_parameter_2layer_zero(X_train.shape[0], 1)\n",
        "    w, b, cost_train, accur_train, cost_val, accur_val = costomize(w, b, X_train, y_train, X_val, y_val, epoch, learning_rate, print_cost)\n",
        "    out = {\"cost_train\": cost_train,\"accur_train\": accur_train,\"w\" : w, \"b\" : b,\"learning_rate\" : learning_rate,\"epoch\": epoch}\n",
        "    return out, cost_val, accur_val"
      ]
    },
    {
      "cell_type": "markdown",
      "metadata": {
        "id": "_OKmJFpFnzOE"
      },
      "source": [
        "# ***Training the model 2-layer zero***"
      ]
    },
    {
      "cell_type": "code",
      "execution_count": null,
      "metadata": {
        "colab": {
          "base_uri": "https://localhost:8080/"
        },
        "id": "tRz7AywjnwxD",
        "outputId": "147842e4-a6d8-4adc-d1ea-c83af9d15318"
      },
      "outputs": [
        {
          "name": "stdout",
          "output_type": "stream",
          "text": [
            "Cost iteration 0: 0.6931471805599467        train accuracy: 83.85416666666667\n",
            "------------------------------------------------------------------------------------\n",
            "Cost iteration 10: 0.6322708001922316        train accuracy: 84.11458333333334\n",
            "------------------------------------------------------------------------------------\n",
            "Cost iteration 20: 0.585692401638279        train accuracy: 84.11458333333334\n",
            "------------------------------------------------------------------------------------\n",
            "Cost iteration 30: 0.5493373316037489        train accuracy: 84.375\n",
            "------------------------------------------------------------------------------------\n",
            "Cost iteration 40: 0.5203279313552738        train accuracy: 84.89583333333333\n",
            "------------------------------------------------------------------------------------\n",
            "Cost iteration 50: 0.49667008118366357        train accuracy: 85.15625\n",
            "------------------------------------------------------------------------------------\n",
            "Cost iteration 60: 0.4769815782763295        train accuracy: 85.41666666666667\n",
            "------------------------------------------------------------------------------------\n",
            "Cost iteration 70: 0.4602944625012044        train accuracy: 85.67708333333334\n",
            "------------------------------------------------------------------------------------\n",
            "Cost iteration 80: 0.4459205691292654        train accuracy: 85.9375\n",
            "------------------------------------------------------------------------------------\n",
            "Cost iteration 90: 0.4333622657320594        train accuracy: 86.45833333333334\n",
            "------------------------------------------------------------------------------------\n",
            "Cost iteration 100: 0.4222533947381449        train accuracy: 86.97916666666667\n",
            "------------------------------------------------------------------------------------\n",
            "Cost iteration 110: 0.41231993374647075        train accuracy: 86.97916666666667\n",
            "------------------------------------------------------------------------------------\n",
            "Cost iteration 120: 0.40335347651785847        train accuracy: 87.23958333333334\n",
            "------------------------------------------------------------------------------------\n",
            "Cost iteration 130: 0.39519309962429094        train accuracy: 87.23958333333334\n",
            "------------------------------------------------------------------------------------\n",
            "Cost iteration 140: 0.3877127740563056        train accuracy: 87.23958333333334\n",
            "------------------------------------------------------------------------------------\n",
            "Cost iteration 150: 0.3808124924900949        train accuracy: 87.23958333333334\n",
            "------------------------------------------------------------------------------------\n",
            "Cost iteration 160: 0.3744119222286193        train accuracy: 87.5\n",
            "------------------------------------------------------------------------------------\n",
            "Cost iteration 170: 0.3684457999772362        train accuracy: 87.76041666666667\n",
            "------------------------------------------------------------------------------------\n",
            "Cost iteration 180: 0.36286054509997023        train accuracy: 87.76041666666667\n",
            "------------------------------------------------------------------------------------\n",
            "Cost iteration 190: 0.35761173705389504        train accuracy: 87.76041666666667\n",
            "------------------------------------------------------------------------------------\n",
            "Cost iteration 200: 0.3526622138347591        train accuracy: 88.02083333333334\n",
            "------------------------------------------------------------------------------------\n",
            "Cost iteration 210: 0.3479806223034757        train accuracy: 88.28125\n",
            "------------------------------------------------------------------------------------\n",
            "Cost iteration 220: 0.3435403012404956        train accuracy: 88.28125\n",
            "------------------------------------------------------------------------------------\n",
            "Cost iteration 230: 0.33931841215000574        train accuracy: 88.54166666666667\n",
            "------------------------------------------------------------------------------------\n",
            "Cost iteration 240: 0.33529525649858655        train accuracy: 88.80208333333334\n",
            "------------------------------------------------------------------------------------\n",
            "Cost iteration 250: 0.33145373465439326        train accuracy: 88.80208333333334\n",
            "------------------------------------------------------------------------------------\n",
            "Cost iteration 260: 0.32777891354607586        train accuracy: 88.80208333333334\n",
            "------------------------------------------------------------------------------------\n",
            "Cost iteration 270: 0.32425767848284426        train accuracy: 89.32291666666667\n",
            "------------------------------------------------------------------------------------\n",
            "Cost iteration 280: 0.32087845067536114        train accuracy: 89.32291666666667\n",
            "------------------------------------------------------------------------------------\n",
            "Cost iteration 290: 0.31763095645654155        train accuracy: 89.58333333333334\n",
            "------------------------------------------------------------------------------------\n",
            "Cost iteration 300: 0.3145060374930736        train accuracy: 89.84375\n",
            "------------------------------------------------------------------------------------\n",
            "Cost iteration 310: 0.31149549373009516        train accuracy: 89.84375\n",
            "------------------------------------------------------------------------------------\n",
            "Cost iteration 320: 0.308591952652905        train accuracy: 89.84375\n",
            "------------------------------------------------------------------------------------\n",
            "Cost iteration 330: 0.30578875984403364        train accuracy: 89.84375\n",
            "------------------------------------------------------------------------------------\n",
            "Cost iteration 340: 0.30307988687801846        train accuracy: 90.10416666666667\n",
            "------------------------------------------------------------------------------------\n",
            "Cost iteration 350: 0.30045985341420567        train accuracy: 90.10416666666667\n",
            "------------------------------------------------------------------------------------\n",
            "Cost iteration 360: 0.29792366098106027        train accuracy: 90.36458333333334\n",
            "------------------------------------------------------------------------------------\n",
            "Cost iteration 370: 0.2954667364389266        train accuracy: 90.88541666666667\n",
            "------------------------------------------------------------------------------------\n",
            "Cost iteration 380: 0.293084883495203        train accuracy: 90.88541666666667\n",
            "------------------------------------------------------------------------------------\n",
            "Cost iteration 390: 0.29077424095128956        train accuracy: 91.14583333333334\n",
            "------------------------------------------------------------------------------------\n",
            "Cost iteration 400: 0.2885312466030957        train accuracy: 91.14583333333334\n",
            "------------------------------------------------------------------------------------\n",
            "Cost iteration 410: 0.2863526059104077        train accuracy: 91.14583333333334\n",
            "------------------------------------------------------------------------------------\n",
            "Cost iteration 420: 0.28423526470570126        train accuracy: 91.40625\n",
            "------------------------------------------------------------------------------------\n",
            "Cost iteration 430: 0.2821763853382611        train accuracy: 91.40625\n",
            "------------------------------------------------------------------------------------\n",
            "Cost iteration 440: 0.28017332575104315        train accuracy: 91.40625\n",
            "------------------------------------------------------------------------------------\n",
            "Cost iteration 450: 0.27822362107042065        train accuracy: 91.40625\n",
            "------------------------------------------------------------------------------------\n",
            "Cost iteration 460: 0.2763249673566566        train accuracy: 91.66666666666667\n",
            "------------------------------------------------------------------------------------\n",
            "Cost iteration 470: 0.2744752072185793        train accuracy: 91.92708333333334\n",
            "------------------------------------------------------------------------------------\n",
            "Cost iteration 480: 0.2726723170418569        train accuracy: 91.92708333333334\n",
            "------------------------------------------------------------------------------------\n",
            "Cost iteration 490: 0.2709143956183083        train accuracy: 91.92708333333334\n",
            "------------------------------------------------------------------------------------\n",
            "Cost iteration 500: 0.26919965399535933        train accuracy: 91.92708333333334\n",
            "------------------------------------------------------------------------------------\n",
            "Cost iteration 510: 0.267526406391173        train accuracy: 91.92708333333334\n",
            "------------------------------------------------------------------------------------\n",
            "Cost iteration 520: 0.26589306204315283        train accuracy: 91.92708333333334\n",
            "------------------------------------------------------------------------------------\n",
            "Cost iteration 530: 0.264298117876133        train accuracy: 91.66666666666667\n",
            "------------------------------------------------------------------------------------\n",
            "Cost iteration 540: 0.26274015189231037        train accuracy: 91.92708333333334\n",
            "------------------------------------------------------------------------------------\n",
            "Cost iteration 550: 0.261217817198262        train accuracy: 91.92708333333334\n",
            "------------------------------------------------------------------------------------\n",
            "Cost iteration 560: 0.2597298365957163        train accuracy: 91.92708333333334\n",
            "------------------------------------------------------------------------------------\n",
            "Cost iteration 570: 0.2582749976723496        train accuracy: 92.1875\n",
            "------------------------------------------------------------------------------------\n",
            "Cost iteration 580: 0.25685214833711933        train accuracy: 92.1875\n",
            "------------------------------------------------------------------------------------\n",
            "Cost iteration 590: 0.255460192751679        train accuracy: 92.1875\n",
            "------------------------------------------------------------------------------------\n",
            "Cost iteration 600: 0.2540980876154668        train accuracy: 92.1875\n",
            "------------------------------------------------------------------------------------\n",
            "Cost iteration 610: 0.252764838767283        train accuracy: 92.1875\n",
            "------------------------------------------------------------------------------------\n",
            "Cost iteration 620: 0.2514594980706384        train accuracy: 92.70833333333334\n",
            "------------------------------------------------------------------------------------\n",
            "Cost iteration 630: 0.25018116055408246        train accuracy: 92.96875\n",
            "------------------------------------------------------------------------------------\n",
            "Cost iteration 640: 0.24892896178106108        train accuracy: 92.96875\n",
            "------------------------------------------------------------------------------------\n",
            "Cost iteration 650: 0.24770207542680778        train accuracy: 92.96875\n",
            "------------------------------------------------------------------------------------\n",
            "Cost iteration 660: 0.24649971104232304        train accuracy: 92.96875\n",
            "------------------------------------------------------------------------------------\n",
            "Cost iteration 670: 0.2453211119877166        train accuracy: 92.96875\n",
            "------------------------------------------------------------------------------------\n",
            "Cost iteration 680: 0.24416555351915714        train accuracy: 92.96875\n",
            "------------------------------------------------------------------------------------\n",
            "Cost iteration 690: 0.24303234101536678        train accuracy: 93.22916666666667\n",
            "------------------------------------------------------------------------------------\n",
            "Cost iteration 700: 0.24192080833111546        train accuracy: 93.48958333333334\n",
            "------------------------------------------------------------------------------------\n",
            "Cost iteration 710: 0.24083031626648027        train accuracy: 93.48958333333334\n",
            "------------------------------------------------------------------------------------\n",
            "Cost iteration 720: 0.23976025114180635        train accuracy: 93.48958333333334\n",
            "------------------------------------------------------------------------------------\n",
            "Cost iteration 730: 0.2387100234693307        train accuracy: 93.48958333333334\n",
            "------------------------------------------------------------------------------------\n",
            "Cost iteration 740: 0.23767906671335404        train accuracy: 93.48958333333334\n",
            "------------------------------------------------------------------------------------\n",
            "Cost iteration 750: 0.23666683613162853        train accuracy: 93.48958333333334\n",
            "------------------------------------------------------------------------------------\n",
            "Cost iteration 760: 0.235672807691365        train accuracy: 93.48958333333334\n",
            "------------------------------------------------------------------------------------\n",
            "Cost iteration 770: 0.23469647705390007        train accuracy: 93.48958333333334\n",
            "------------------------------------------------------------------------------------\n",
            "Cost iteration 780: 0.23373735862261086        train accuracy: 93.48958333333334\n",
            "------------------------------------------------------------------------------------\n",
            "Cost iteration 790: 0.2327949846491966        train accuracy: 93.48958333333334\n",
            "------------------------------------------------------------------------------------\n",
            "Cost iteration 800: 0.2318689043938757        train accuracy: 93.75\n",
            "------------------------------------------------------------------------------------\n",
            "Cost iteration 810: 0.23095868333546724        train accuracy: 93.75\n",
            "------------------------------------------------------------------------------------\n",
            "Cost iteration 820: 0.2300639024276761        train accuracy: 93.75\n",
            "------------------------------------------------------------------------------------\n",
            "Cost iteration 830: 0.22918415739823422        train accuracy: 93.75\n",
            "------------------------------------------------------------------------------------\n",
            "Cost iteration 840: 0.22831905808783592        train accuracy: 93.75\n",
            "------------------------------------------------------------------------------------\n",
            "Cost iteration 850: 0.2274682278260693        train accuracy: 93.75\n",
            "------------------------------------------------------------------------------------\n",
            "Cost iteration 860: 0.226631302841787        train accuracy: 93.75\n",
            "------------------------------------------------------------------------------------\n",
            "Cost iteration 870: 0.22580793170556618        train accuracy: 93.75\n",
            "------------------------------------------------------------------------------------\n",
            "Cost iteration 880: 0.2249977748021028        train accuracy: 94.01041666666667\n",
            "------------------------------------------------------------------------------------\n",
            "Cost iteration 890: 0.22420050383056347        train accuracy: 94.01041666666667\n",
            "------------------------------------------------------------------------------------\n",
            "Cost iteration 900: 0.22341580133106867        train accuracy: 94.27083333333334\n",
            "------------------------------------------------------------------------------------\n",
            "Cost iteration 910: 0.22264336023563203        train accuracy: 94.53125\n",
            "------------------------------------------------------------------------------------\n",
            "Cost iteration 920: 0.2218828834420057        train accuracy: 94.53125\n",
            "------------------------------------------------------------------------------------\n",
            "Cost iteration 930: 0.2211340834090012        train accuracy: 94.53125\n",
            "------------------------------------------------------------------------------------\n",
            "Cost iteration 940: 0.22039668177196348        train accuracy: 94.53125\n",
            "------------------------------------------------------------------------------------\n",
            "Cost iteration 950: 0.21967040897717674        train accuracy: 94.53125\n",
            "------------------------------------------------------------------------------------\n",
            "Cost iteration 960: 0.21895500393406178        train accuracy: 94.53125\n",
            "------------------------------------------------------------------------------------\n",
            "Cost iteration 970: 0.2182502136841178        train accuracy: 94.53125\n",
            "------------------------------------------------------------------------------------\n",
            "Cost iteration 980: 0.21755579308562872        train accuracy: 94.27083333333334\n",
            "------------------------------------------------------------------------------------\n",
            "Cost iteration 990: 0.2168715045132278        train accuracy: 94.27083333333334\n",
            "------------------------------------------------------------------------------------\n",
            "Cost iteration 1000: 0.2161971175714662        train accuracy: 94.27083333333334\n",
            "------------------------------------------------------------------------------------\n"
          ]
        }
      ],
      "source": [
        "model_output_2layer_zero, cost_val_z2, accur_val_z2  = model_2layer_zero(X_train, y_train, X_val, y_val, epoch=1000, learning_rate= 0.01, print_cost=True)"
      ]
    },
    {
      "cell_type": "code",
      "execution_count": null,
      "metadata": {
        "colab": {
          "base_uri": "https://localhost:8080/"
        },
        "id": "9YtjRnPRn5hN",
        "outputId": "286b19ee-3dab-4483-a68f-4f536c2de582"
      },
      "outputs": [
        {
          "data": {
            "image/png": "[encoded data removed]",
            "text/plain": [
              "<Figure size 432x288 with 1 Axes>"
            ]
          },
          "metadata": {},
          "output_type": "display_data"
        }
      ],
      "source": [
        "plt.plot(model_output_2layer_zero['cost_train'])\n",
        "plt.ylabel('cost_train')\n",
        "plt.xlabel('Iterations')\n",
        "plt.show()"
      ]
    },
    {
      "cell_type": "code",
      "execution_count": null,
      "metadata": {
        "colab": {
          "base_uri": "https://localhost:8080/"
        },
        "id": "ySkwBzrSn9zq",
        "outputId": "f1b59c06-4606-4de0-e572-5cfa0fd5301b"
      },
      "outputs": [
        {
          "data": {
            "image/png": "[encoded data removed]",
            "text/plain": [
              "<Figure size 432x288 with 1 Axes>"
            ]
          },
          "metadata": {},
          "output_type": "display_data"
        }
      ],
      "source": [
        "plt.plot(np.squeeze(model_output_2layer_zero['accur_train']))\n",
        "plt.ylabel('Accuracy_train')\n",
        "plt.xlabel('Iterations')\n",
        "plt.show()"
      ]
    },
    {
      "cell_type": "markdown",
      "metadata": {
        "id": "inulLdEAoAwn"
      },
      "source": [
        "# ***Evaluating the model 2-layer zero***"
      ]
    },
    {
      "cell_type": "code",
      "execution_count": null,
      "metadata": {
        "colab": {
          "base_uri": "https://localhost:8080/"
        },
        "id": "GEiIhktToBfO",
        "outputId": "64b764cc-d9b6-42fc-e878-7016a560392b"
      },
      "outputs": [
        {
          "name": "stdout",
          "output_type": "stream",
          "text": [
            "Cost iteration 0: 0.6865354024782855        test accuracy: 79.16666666666667\n",
            "------------------------------------------------------------------------------------\n",
            "Cost iteration 10: 0.6291546786105271        test accuracy: 80.20833333333334\n",
            "------------------------------------------------------------------------------------\n",
            "Cost iteration 20: 0.5845395749860296        test accuracy: 80.20833333333334\n",
            "------------------------------------------------------------------------------------\n",
            "Cost iteration 30: 0.5491699686752869        test accuracy: 81.25\n",
            "------------------------------------------------------------------------------------\n",
            "Cost iteration 40: 0.5205444587162176        test accuracy: 82.29166666666667\n",
            "------------------------------------------------------------------------------------\n",
            "Cost iteration 50: 0.49691134442917556        test accuracy: 83.33333333333334\n",
            "------------------------------------------------------------------------------------\n",
            "Cost iteration 60: 0.47704089225276114        test accuracy: 83.33333333333334\n",
            "------------------------------------------------------------------------------------\n",
            "Cost iteration 70: 0.4600600393265024        test accuracy: 83.33333333333334\n",
            "------------------------------------------------------------------------------------\n",
            "Cost iteration 80: 0.4453393799053006        test accuracy: 83.33333333333334\n",
            "------------------------------------------------------------------------------------\n",
            "Cost iteration 90: 0.43241746848125634        test accuracy: 83.33333333333334\n",
            "------------------------------------------------------------------------------------\n",
            "Cost iteration 100: 0.42095020880617084        test accuracy: 83.33333333333334\n",
            "------------------------------------------------------------------------------------\n",
            "Cost iteration 110: 0.4106767596311381        test accuracy: 83.33333333333334\n",
            "------------------------------------------------------------------------------------\n",
            "Cost iteration 120: 0.4013962872629666        test accuracy: 83.33333333333334\n",
            "------------------------------------------------------------------------------------\n",
            "Cost iteration 130: 0.39295188793607966        test accuracy: 83.33333333333334\n",
            "------------------------------------------------------------------------------------\n",
            "Cost iteration 140: 0.3852193021880155        test accuracy: 83.33333333333334\n",
            "------------------------------------------------------------------------------------\n",
            "Cost iteration 150: 0.3780988746221413        test accuracy: 85.41666666666667\n",
            "------------------------------------------------------------------------------------\n",
            "Cost iteration 160: 0.37150974273623105        test accuracy: 86.45833333333334\n",
            "------------------------------------------------------------------------------------\n",
            "Cost iteration 170: 0.36538557862407256        test accuracy: 86.45833333333334\n",
            "------------------------------------------------------------------------------------\n",
            "Cost iteration 180: 0.359671427609791        test accuracy: 86.45833333333334\n",
            "------------------------------------------------------------------------------------\n",
            "Cost iteration 190: 0.3543213321821862        test accuracy: 87.5\n",
            "------------------------------------------------------------------------------------\n",
            "Cost iteration 200: 0.3492965253550953        test accuracy: 87.5\n",
            "------------------------------------------------------------------------------------\n",
            "Cost iteration 210: 0.34456404195592194        test accuracy: 87.5\n",
            "------------------------------------------------------------------------------------\n",
            "Cost iteration 220: 0.34009564018680083        test accuracy: 88.54166666666667\n",
            "------------------------------------------------------------------------------------\n",
            "Cost iteration 230: 0.33586695604070194        test accuracy: 88.54166666666667\n",
            "------------------------------------------------------------------------------------\n",
            "Cost iteration 240: 0.3318568342656112        test accuracy: 88.54166666666667\n",
            "------------------------------------------------------------------------------------\n",
            "Cost iteration 250: 0.3280467944820693        test accuracy: 88.54166666666667\n",
            "------------------------------------------------------------------------------------\n",
            "Cost iteration 260: 0.32442060171113374        test accuracy: 88.54166666666667\n",
            "------------------------------------------------------------------------------------\n",
            "Cost iteration 270: 0.3209639182597399        test accuracy: 88.54166666666667\n",
            "------------------------------------------------------------------------------------\n",
            "Cost iteration 280: 0.3176640195184232        test accuracy: 89.58333333333334\n",
            "------------------------------------------------------------------------------------\n",
            "Cost iteration 290: 0.31450956035554223        test accuracy: 89.58333333333334\n",
            "------------------------------------------------------------------------------------\n",
            "Cost iteration 300: 0.3114903818602634        test accuracy: 89.58333333333334\n",
            "------------------------------------------------------------------------------------\n",
            "Cost iteration 310: 0.30859735048617226        test accuracy: 91.66666666666667\n",
            "------------------------------------------------------------------------------------\n",
            "Cost iteration 320: 0.3058222233851624        test accuracy: 91.66666666666667\n",
            "------------------------------------------------------------------------------------\n",
            "Cost iteration 330: 0.30315753504483367        test accuracy: 91.66666666666667\n",
            "------------------------------------------------------------------------------------\n",
            "Cost iteration 340: 0.3005965013582667        test accuracy: 91.66666666666667\n",
            "------------------------------------------------------------------------------------\n",
            "Cost iteration 350: 0.29813293803993257        test accuracy: 91.66666666666667\n",
            "------------------------------------------------------------------------------------\n",
            "Cost iteration 360: 0.2957611909121943        test accuracy: 91.66666666666667\n",
            "------------------------------------------------------------------------------------\n",
            "Cost iteration 370: 0.2934760760651165        test accuracy: 91.66666666666667\n",
            "------------------------------------------------------------------------------------\n",
            "Cost iteration 380: 0.2912728282691384        test accuracy: 91.66666666666667\n",
            "------------------------------------------------------------------------------------\n",
            "Cost iteration 390: 0.2891470563188993        test accuracy: 91.66666666666667\n",
            "------------------------------------------------------------------------------------\n",
            "Cost iteration 400: 0.28709470422461636        test accuracy: 92.70833333333334\n",
            "------------------------------------------------------------------------------------\n",
            "Cost iteration 410: 0.28511201735829317        test accuracy: 92.70833333333334\n",
            "------------------------------------------------------------------------------------\n",
            "Cost iteration 420: 0.2831955128158086        test accuracy: 92.70833333333334\n",
            "------------------------------------------------------------------------------------\n",
            "Cost iteration 430: 0.2813419533804667        test accuracy: 92.70833333333334\n",
            "------------------------------------------------------------------------------------\n",
            "Cost iteration 440: 0.27954832457491297        test accuracy: 92.70833333333334\n",
            "------------------------------------------------------------------------------------\n",
            "Cost iteration 450: 0.2778118143711468        test accuracy: 92.70833333333334\n",
            "------------------------------------------------------------------------------------\n",
            "Cost iteration 460: 0.2761297951963764        test accuracy: 92.70833333333334\n",
            "------------------------------------------------------------------------------------\n",
            "Cost iteration 470: 0.27449980792854156        test accuracy: 92.70833333333334\n",
            "------------------------------------------------------------------------------------\n",
            "Cost iteration 480: 0.2729195476217786        test accuracy: 92.70833333333334\n",
            "------------------------------------------------------------------------------------\n",
            "Cost iteration 490: 0.2713868507407113        test accuracy: 92.70833333333334\n",
            "------------------------------------------------------------------------------------\n",
            "Cost iteration 500: 0.2698996837146721        test accuracy: 92.70833333333334\n",
            "------------------------------------------------------------------------------------\n",
            "Cost iteration 510: 0.2684561326499628        test accuracy: 92.70833333333334\n",
            "------------------------------------------------------------------------------------\n",
            "Cost iteration 520: 0.26705439406094966        test accuracy: 92.70833333333334\n",
            "------------------------------------------------------------------------------------\n",
            "Cost iteration 530: 0.26569276649993756        test accuracy: 91.66666666666667\n",
            "------------------------------------------------------------------------------------\n",
            "Cost iteration 540: 0.2643696429819741        test accuracy: 91.66666666666667\n",
            "------------------------------------------------------------------------------------\n",
            "Cost iteration 550: 0.26308350411449455        test accuracy: 91.66666666666667\n",
            "------------------------------------------------------------------------------------\n",
            "Cost iteration 560: 0.26183291185344165        test accuracy: 91.66666666666667\n",
            "------------------------------------------------------------------------------------\n",
            "Cost iteration 570: 0.260616503817511        test accuracy: 91.66666666666667\n",
            "------------------------------------------------------------------------------------\n",
            "Cost iteration 580: 0.25943298810075        test accuracy: 91.66666666666667\n",
            "------------------------------------------------------------------------------------\n",
            "Cost iteration 590: 0.2582811385311233        test accuracy: 91.66666666666667\n",
            "------------------------------------------------------------------------------------\n",
            "Cost iteration 600: 0.25715979032899844        test accuracy: 91.66666666666667\n",
            "------------------------------------------------------------------------------------\n",
            "Cost iteration 610: 0.25606783612500583        test accuracy: 91.66666666666667\n",
            "------------------------------------------------------------------------------------\n",
            "Cost iteration 620: 0.2550042223014752        test accuracy: 90.625\n",
            "------------------------------------------------------------------------------------\n",
            "Cost iteration 630: 0.2539679456257816        test accuracy: 90.625\n",
            "------------------------------------------------------------------------------------\n",
            "Cost iteration 640: 0.25295805014752293        test accuracy: 90.625\n",
            "------------------------------------------------------------------------------------\n",
            "Cost iteration 650: 0.2519736243345911        test accuracy: 90.625\n",
            "------------------------------------------------------------------------------------\n",
            "Cost iteration 660: 0.25101379842592936        test accuracy: 90.625\n",
            "------------------------------------------------------------------------------------\n",
            "Cost iteration 670: 0.250077741981177        test accuracy: 90.625\n",
            "------------------------------------------------------------------------------------\n",
            "Cost iteration 680: 0.24916466160950604        test accuracy: 90.625\n",
            "------------------------------------------------------------------------------------\n",
            "Cost iteration 690: 0.24827379886180845        test accuracy: 90.625\n",
            "------------------------------------------------------------------------------------\n",
            "Cost iteration 700: 0.24740442827202908        test accuracy: 90.625\n",
            "------------------------------------------------------------------------------------\n",
            "Cost iteration 710: 0.24655585553488135        test accuracy: 90.625\n",
            "------------------------------------------------------------------------------------\n",
            "Cost iteration 720: 0.24572741580845892        test accuracy: 90.625\n",
            "------------------------------------------------------------------------------------\n",
            "Cost iteration 730: 0.24491847213139456        test accuracy: 90.625\n",
            "------------------------------------------------------------------------------------\n",
            "Cost iteration 740: 0.24412841394521548        test accuracy: 90.625\n",
            "------------------------------------------------------------------------------------\n",
            "Cost iteration 750: 0.2433566557134446        test accuracy: 90.625\n",
            "------------------------------------------------------------------------------------\n",
            "Cost iteration 760: 0.2426026356297944        test accuracy: 90.625\n",
            "------------------------------------------------------------------------------------\n",
            "Cost iteration 770: 0.24186581440850535        test accuracy: 90.625\n",
            "------------------------------------------------------------------------------------\n",
            "Cost iteration 780: 0.241145674150528        test accuracy: 90.625\n",
            "------------------------------------------------------------------------------------\n",
            "Cost iteration 790: 0.24044171727980534        test accuracy: 90.625\n",
            "------------------------------------------------------------------------------------\n",
            "Cost iteration 800: 0.2397534655444336        test accuracy: 90.625\n",
            "------------------------------------------------------------------------------------\n",
            "Cost iteration 810: 0.23908045907793057        test accuracy: 90.625\n",
            "------------------------------------------------------------------------------------\n",
            "Cost iteration 820: 0.23842225551625834        test accuracy: 90.625\n",
            "------------------------------------------------------------------------------------\n",
            "Cost iteration 830: 0.23777842916661796        test accuracy: 90.625\n",
            "------------------------------------------------------------------------------------\n",
            "Cost iteration 840: 0.2371485702243639        test accuracy: 90.625\n",
            "------------------------------------------------------------------------------------\n",
            "Cost iteration 850: 0.23653228403470172        test accuracy: 90.625\n",
            "------------------------------------------------------------------------------------\n",
            "Cost iteration 860: 0.23592919039608812        test accuracy: 89.58333333333334\n",
            "------------------------------------------------------------------------------------\n",
            "Cost iteration 870: 0.23533892290252037        test accuracy: 89.58333333333334\n",
            "------------------------------------------------------------------------------------\n",
            "Cost iteration 880: 0.23476112832211044        test accuracy: 89.58333333333334\n",
            "------------------------------------------------------------------------------------\n",
            "Cost iteration 890: 0.23419546600955626        test accuracy: 89.58333333333334\n",
            "------------------------------------------------------------------------------------\n",
            "Cost iteration 900: 0.2336416073502983        test accuracy: 89.58333333333334\n",
            "------------------------------------------------------------------------------------\n",
            "Cost iteration 910: 0.23309923523432777        test accuracy: 89.58333333333334\n",
            "------------------------------------------------------------------------------------\n",
            "Cost iteration 920: 0.23256804355775995        test accuracy: 89.58333333333334\n",
            "------------------------------------------------------------------------------------\n",
            "Cost iteration 930: 0.23204773675043092        test accuracy: 89.58333333333334\n",
            "------------------------------------------------------------------------------------\n",
            "Cost iteration 940: 0.2315380293279049        test accuracy: 89.58333333333334\n",
            "------------------------------------------------------------------------------------\n",
            "Cost iteration 950: 0.2310386454663912        test accuracy: 89.58333333333334\n",
            "------------------------------------------------------------------------------------\n",
            "Cost iteration 960: 0.23054931859918737        test accuracy: 89.58333333333334\n",
            "------------------------------------------------------------------------------------\n",
            "Cost iteration 970: 0.230069791033355        test accuracy: 89.58333333333334\n",
            "------------------------------------------------------------------------------------\n",
            "Cost iteration 980: 0.22959981358542847        test accuracy: 89.58333333333334\n",
            "------------------------------------------------------------------------------------\n",
            "Cost iteration 990: 0.22913914523504386        test accuracy: 89.58333333333334\n",
            "------------------------------------------------------------------------------------\n",
            "Cost iteration 1000: 0.22868755279544387        test accuracy: 89.58333333333334\n",
            "------------------------------------------------------------------------------------\n"
          ]
        }
      ],
      "source": [
        "for i in range(len(cost_val_z2)):\n",
        "    print(f\"Cost iteration {i * 10}: {cost_val_z2[i]}        test accuracy: {accur_val_z2[i] * 100}\")\n",
        "    print(\"------------------------------------------------------------------------------------\")"
      ]
    },
    {
      "cell_type": "code",
      "execution_count": null,
      "metadata": {
        "colab": {
          "base_uri": "https://localhost:8080/"
        },
        "id": "kzNqYwJUoEVM",
        "outputId": "4e644b2f-e8a3-4446-eabf-b2c9d7121331"
      },
      "outputs": [
        {
          "data": {
            "image/png": "[encoded data removed]",
            "text/plain": [
              "<Figure size 432x288 with 1 Axes>"
            ]
          },
          "metadata": {},
          "output_type": "display_data"
        }
      ],
      "source": [
        "plt.plot(cost_val_z2)\n",
        "plt.ylabel('cost_val')\n",
        "plt.xlabel('Iterations')\n",
        "plt.show()"
      ]
    },
    {
      "cell_type": "code",
      "execution_count": null,
      "metadata": {
        "colab": {
          "base_uri": "https://localhost:8080/"
        },
        "id": "6P1CzmhqoGEf",
        "outputId": "676a353a-29b6-487f-af9a-8aab55c918e6"
      },
      "outputs": [
        {
          "data": {
            "image/png": "[encoded data removed]",
            "text/plain": [
              "<Figure size 432x288 with 1 Axes>"
            ]
          },
          "metadata": {},
          "output_type": "display_data"
        }
      ],
      "source": [
        "plt.plot(accur_val_z2)\n",
        "plt.ylabel('Accuracy_val')\n",
        "plt.xlabel('Iterations')\n",
        "plt.show()"
      ]
    },
    {
      "cell_type": "markdown",
      "metadata": {
        "id": "y6uweTE1oGs2"
      },
      "source": [
        "#**Implementing Model For n-layer Random**"
      ]
    },
    {
      "cell_type": "markdown",
      "metadata": {
        "id": "XowvkG4-oJcs"
      },
      "source": [
        "##Forward Propagation n-layer Random'one"
      ]
    },
    {
      "cell_type": "code",
      "execution_count": null,
      "metadata": {
        "id": "mSq3wPW-oM1R"
      },
      "outputs": [],
      "source": [
        "# 1) Initializing parameters\n",
        "def initialize_parameter_layer_Random(layerlist):\n",
        "  param = {} # for saving w and b\n",
        "  for i in range(1, len(layerlist)):\n",
        "    param[\"w\" + str(i)] = np.random.randn(layerlist[i], layerlist[i - 1]) * np.sqrt(2/layerlist[i - 1])# # n(l), n(l-1)\n",
        "    param[\"b\" + str(i)] = np.random.randn(layerlist[i], 1) * np.sqrt(2/layerlist[i - 1])# # n(l), 1\n",
        "  return param"
      ]
    },
    {
      "cell_type": "code",
      "execution_count": null,
      "metadata": {
        "id": "k9_obmpgoOUK"
      },
      "outputs": [],
      "source": [
        "#2 implement Z\n",
        "def calculate_Z_layer_Random(w, a, b):\n",
        "  Z = np.dot(w, a) + b\n",
        "  cache_forward = (w, a, b) #save w a b for each layer \n",
        "  return Z, cache_forward"
      ]
    },
    {
      "cell_type": "code",
      "execution_count": null,
      "metadata": {
        "id": "MGFF1460oQO6"
      },
      "outputs": [],
      "source": [
        "#3 relu function\n",
        "def relu(Z):\n",
        "    A = np.maximum(0,Z)\n",
        "    cache_activation = Z #save z for each layer  \n",
        "    return A, cache_activation"
      ]
    },
    {
      "cell_type": "code",
      "execution_count": null,
      "metadata": {
        "id": "cp8nGEQJoRn4"
      },
      "outputs": [],
      "source": [
        "#4 sigmoid function\n",
        "def sigmoid(Z):\n",
        "    Z = Z.astype(float)\n",
        "    A = 1/(1+np.exp(-Z))\n",
        "    cache_activation = Z #save z for each layer   \n",
        "    return A, cache_activation"
      ]
    },
    {
      "cell_type": "code",
      "execution_count": null,
      "metadata": {
        "id": "nqeit5U-oTOA"
      },
      "outputs": [],
      "source": [
        "#5 activation => 1 relu / 2 sigmoid / base\n",
        "def base_activation_forward(w, a_minus, b, activation):\n",
        "  if activation == 1:\n",
        "    Z, cache_froward = calculate_Z_layer_Random(w, a_minus, b)\n",
        "    A, cache_activation = relu(Z)\n",
        "  elif activation == 2:\n",
        "    Z, cache_froward = calculate_Z_layer_Random(w, a_minus, b)\n",
        "    A, cache_activation = sigmoid(Z) \n",
        "  cache_saver = (cache_froward, cache_activation) #saving activation cache(Z) + forward cache(w, b, A)\n",
        "  return A, cache_saver"
      ]
    },
    {
      "cell_type": "code",
      "execution_count": null,
      "metadata": {
        "id": "6lfWNAH7oUz0"
      },
      "outputs": [],
      "source": [
        "#6 repeat  previous function for n-1 layer\n",
        "def forward_n(param, a_minus):\n",
        "    caches = []\n",
        "    A = a_minus\n",
        "    Rangee = len(param) // 2 #in param you save w and b, be tedade w ya b ha laye darim dige! \n",
        "    for i in range(1, Rangee):  # number of layers in the neural network / l-1 Relu function\n",
        "        A_prev = A\n",
        "        wi, bi = param[\"w\" + str(i)], param[\"b\" + str(i)] #for making it ez to understand!\n",
        "        A, cache_saver = base_activation_forward(wi, A_prev, bi, 1)\n",
        "        caches.append(cache_saver)\n",
        "    ws, bs = param[\"w\" + str(Rangee)], param[\"b\" + str(Rangee)] \n",
        "    AL, cach_last_layer = base_activation_forward(ws, A, bs, 2) #for last one sigmoid function\n",
        "    caches.append(cach_last_layer)\n",
        "    return AL, caches"
      ]
    },
    {
      "cell_type": "code",
      "execution_count": null,
      "metadata": {
        "id": "IfqRYmJAoYzM"
      },
      "outputs": [],
      "source": [
        "#7 Calculate loss and cost / J = loss / sum of J's are cost\n",
        "def calculate_cost_nlayer(AL, y_train): # because of 0*log(0) gives nan \n",
        "  m = y_train.shape[1]\n",
        "  AL[AL == 0.] = 1e-10\n",
        "  AL[AL == 1.] = 1. - 1e-10 \n",
        "  loss = y_train * np.log(AL) + (1 - y_train) * (np.log(1 - AL))\n",
        "  cost = (-1/m) * np.sum(loss)\n",
        "  cost = np.squeeze(np.array(cost))\n",
        "  return cost"
      ]
    },
    {
      "cell_type": "code",
      "execution_count": null,
      "metadata": {
        "id": "v4NMXjJkoasK"
      },
      "outputs": [],
      "source": [
        "# t1 = 0 * np.log(1e-10) + (1 - 0) * (np.log(1 - 1e-10)) #-1.000000082790371e-10\n",
        "# #0 0 / 1 1\n",
        "# t2 = 0 * np.log(1.- 1e-10) +  (1-0) * (np.log(1 - (1. - 1e-10))) #-23.02585084720009\n",
        "# #0 1 / 1 0"
      ]
    },
    {
      "cell_type": "markdown",
      "metadata": {
        "id": "UCBEqB5JocER"
      },
      "source": [
        "##backward Propagation n-layer Random'one"
      ]
    },
    {
      "cell_type": "code",
      "execution_count": null,
      "metadata": {
        "id": "FvqyJtmNoeDK"
      },
      "outputs": [],
      "source": [
        "# dz = dA(L) * g'(z(L))\n",
        "def sigmoid_backward(dA, cache_activation):\n",
        "  Z = cache_activation\n",
        "  Z = Z.astype(float)\n",
        "  s = 1/(1+np.exp(-Z))\n",
        "  dZ = dA * s * (1-s) #a(1 - a) / dZ = dA(l) * g'(z(l))\n",
        "  return dZ"
      ]
    },
    {
      "cell_type": "code",
      "execution_count": null,
      "metadata": {
        "id": "4EK_X1DSofpf"
      },
      "outputs": [],
      "source": [
        "def relu_backward(dA, cache_activation):\n",
        "    Z = cache_activation\n",
        "    dZ = np.array(dA, copy=True) # #if Z >= 0 answer is 1 and when it's multiplying with dA => dA\n",
        "    dZ[Z <= 0] = 0 # When z <= 0 answer => 0 / dZ = dA(l) * g'(z(l))\n",
        "    return dZ"
      ]
    },
    {
      "cell_type": "code",
      "execution_count": null,
      "metadata": {
        "id": "NzjFU5PBohFs"
      },
      "outputs": [],
      "source": [
        "def base_activation_backward(dA, cache_saver, activation):\n",
        "    cache_froward, cache_activation = cache_saver\n",
        "    # A_minus.shape[1] -> m \n",
        "    if activation == 1:\n",
        "        dZ = relu_backward(dA, cache_activation)\n",
        "        w, A_minus, b = cache_froward \n",
        "        dw = (1/A_minus.shape[1]) * np.dot(dZ, A_minus.T) #dw(l) = 1/m * dz(l) * A(l-1).T \n",
        "        db = (1/A_minus.shape[1]) * np.sum(dZ, axis=1, keepdims=True)  \n",
        "        dA_minus = np.dot(w.T, dZ)  # dA(l-1) = w(l).T * dz(l)\n",
        "    elif activation == 2:\n",
        "        dZ = sigmoid_backward(dA, cache_activation)\n",
        "        w, A_minus, b = cache_froward \n",
        "        dw = (1/A_minus.shape[1]) * np.dot(dZ, A_minus.T)\n",
        "        db = (1/A_minus.shape[1]) * np.sum(dZ, axis=1, keepdims=True)  \n",
        "        dA_minus = np.dot(w.T, dZ)\n",
        "    return dA_minus, dw, db"
      ]
    },
    {
      "cell_type": "code",
      "execution_count": null,
      "metadata": {
        "id": "FVvHXP0Ioind"
      },
      "outputs": [],
      "source": [
        "def backward_n(AL, y_train, caches):\n",
        "    grads = {}\n",
        "    dAL = -(np.divide(y_train, AL) - np.divide(1 - y_train, 1 - AL)) #first layer dj/da\n",
        "    grads[\"dA\" + str(len(caches)-1)], grads[\"dw\" + str(len(caches))], grads[\"db\" + str(len(caches))] = base_activation_backward(dAL, caches[len(caches) - 1], 2)   #len(caches) - 1 / index = 0, 1 / for sigmoid function\n",
        "    for i in reversed(range((len(caches)-1))): #for l-1 layer relu \n",
        "        grads[\"dA\" + str(i)], grads[\"dw\" + str(i + 1)], grads[\"db\" + str(i + 1)]  = base_activation_backward(grads[\"dA\" + str(i + 1)], caches[i], 1)\n",
        "    return grads"
      ]
    },
    {
      "cell_type": "code",
      "execution_count": null,
      "metadata": {
        "id": "s3OL8LdVokDa"
      },
      "outputs": [],
      "source": [
        "def update_parameters(param, grads, learning_rate):\n",
        "    parameters = param \n",
        "    Rangee = len(param) // 2\n",
        "    for i in range(Rangee): # number of layers in the neural network\n",
        "        parameters[\"w\" + str(i+1)] = param[\"w\" + str(i+1)] - (learning_rate * grads[\"dw\" + str(i+1)])\n",
        "        parameters[\"b\" + str(i+1)] = param[\"b\" + str(i+1)] - (learning_rate * grads[\"db\" + str(i+1)])\n",
        "    return parameters #updating in new dictionary"
      ]
    },
    {
      "cell_type": "code",
      "execution_count": null,
      "metadata": {
        "id": "L4rceUQHolg-"
      },
      "outputs": [],
      "source": [
        "def predict_nlayer(X_train, param):\n",
        "    Y_prediction = np.zeros((1, X_train.shape[1])) #(1, m)\n",
        "    AL,cache_forward = forward_n(param, X_train) #calculating forward propagation with new parameters of w and b \n",
        "    for i in range(AL.shape[1]):\n",
        "      Y_prediction[0,i] = 1 if AL[0, i] > 0.5 else 0\n",
        "    return Y_prediction, AL"
      ]
    },
    {
      "cell_type": "code",
      "execution_count": null,
      "metadata": {
        "id": "K0lZYD57o68O"
      },
      "outputs": [],
      "source": [
        "def calculate_test_nlayer(param, X_val, y_val):\n",
        "  Y_prediction_val, Av = predict_nlayer(X_val, param) # calculate predication \n",
        "  cost_v = calculate_cost_nlayer(Av, y_val) # calculate cost of validation\n",
        "  accur_v = np.sum((Y_prediction_val == y_val)/X_val.shape[1]) * 100 # calculate accuracy of validation\n",
        "  return cost_v, accur_v"
      ]
    },
    {
      "cell_type": "code",
      "execution_count": null,
      "metadata": {
        "id": "5KRSVopAo7C-"
      },
      "outputs": [],
      "source": [
        "def calculate_train_nlayer(param, X_train, y_train):\n",
        "  Y_prediction_train, AL = predict_nlayer(X_train, param) # calculate predication\n",
        "  accur_t = np.sum((Y_prediction_train == y_train)/X_train.shape[1]) * 100 # calculate accuracy of train\n",
        "  return accur_t"
      ]
    },
    {
      "cell_type": "code",
      "execution_count": null,
      "metadata": {
        "id": "H1PJsyTSoucy"
      },
      "outputs": [],
      "source": [
        "def costomize_nlayer(param, X_train, y_train, epoch, learning_rate, print_cost):\n",
        "    cost_train, accur_train, cost_val, accur_val = ([] for i in range(4))\n",
        "    for i in range(epoch + 1):\n",
        "        AL, caches = forward_n(param, X_train) # calculate forward\n",
        "        cost_t = calculate_cost_nlayer(AL, y_train) # calculate cost train \n",
        "        grads = backward_n(AL, y_train, caches) # grads -> dA / dw / db\n",
        "        param = update_parameters(param, grads, learning_rate) #update w and b\n",
        "        accur_t = calculate_train_nlayer(param, X_train, y_train) # calculate accuracy of train\n",
        "        cost_v, accur_v = calculate_test_nlayer(param, X_val, y_val) # calculate accuracy and cost of test\n",
        "        if print_cost and i % 10 == 0:\n",
        "            cost_train.append(cost_t)\n",
        "            accur_train.append(accur_t / 100)\n",
        "            cost_val.append(cost_v)\n",
        "            accur_val.append(accur_v / 100)\n",
        "            print(f\"Cost iteration {i}: {cost_t}        train accuracy: {accur_t}\")\n",
        "            print(\"------------------------------------------------------------------------------------\")\n",
        "    return param, cost_train, accur_train, cost_val, accur_val "
      ]
    },
    {
      "cell_type": "markdown",
      "metadata": {
        "id": "y71KHRZrq7Ah"
      },
      "source": [
        "#**Implementing Model For 3-layer Random**"
      ]
    },
    {
      "cell_type": "code",
      "execution_count": null,
      "metadata": {
        "id": "VFjKJsxcq7aK"
      },
      "outputs": [],
      "source": [
        "def model_3layer_Random(X_train, y_train, X_val, y_val, epoch, learning_rate, print_cost=False):\n",
        "    param = initialize_parameter_layer_Random([X_train.shape[0], 100,  1])\n",
        "    param, cost_train, accur_train, cost_val, accur_val = costomize_nlayer(param , X_train, y_train, epoch, learning_rate, print_cost)\n",
        "    out = {\"cost_train\": cost_train,\"accur_train\": accur_train,  \"param\": param,\"learning_rate\" : learning_rate,\"epoch\": epoch}\n",
        "    return out, cost_val, accur_val"
      ]
    },
    {
      "cell_type": "markdown",
      "metadata": {
        "id": "iljwdzXTrBjb"
      },
      "source": [
        "#***Training the model 3-layer Random***"
      ]
    },
    {
      "cell_type": "code",
      "execution_count": null,
      "metadata": {
        "colab": {
          "base_uri": "https://localhost:8080/"
        },
        "id": "v3GRVbDArB2K",
        "outputId": "f29bdc53-407f-4dd0-fbef-2f374efb63a0"
      },
      "outputs": [
        {
          "name": "stdout",
          "output_type": "stream",
          "text": [
            "Cost iteration 0: 0.9311508712518135        train accuracy: 46.09375\n",
            "------------------------------------------------------------------------------------\n",
            "Cost iteration 10: 0.7023128284910746        train accuracy: 58.59375\n",
            "------------------------------------------------------------------------------------\n",
            "Cost iteration 20: 0.5942432794536665        train accuracy: 68.48958333333333\n",
            "------------------------------------------------------------------------------------\n",
            "Cost iteration 30: 0.5282154536785489        train accuracy: 72.65625\n",
            "------------------------------------------------------------------------------------\n",
            "Cost iteration 40: 0.4813372440601179        train accuracy: 77.08333333333334\n",
            "------------------------------------------------------------------------------------\n",
            "Cost iteration 50: 0.4454789260999814        train accuracy: 78.90625\n",
            "------------------------------------------------------------------------------------\n",
            "Cost iteration 60: 0.4169792428275937        train accuracy: 80.46875\n",
            "------------------------------------------------------------------------------------\n",
            "Cost iteration 70: 0.39366826699444557        train accuracy: 83.07291666666667\n",
            "------------------------------------------------------------------------------------\n",
            "Cost iteration 80: 0.3742551874448126        train accuracy: 84.375\n",
            "------------------------------------------------------------------------------------\n",
            "Cost iteration 90: 0.3578081345792621        train accuracy: 84.63541666666667\n",
            "------------------------------------------------------------------------------------\n",
            "Cost iteration 100: 0.34371101903099766        train accuracy: 85.67708333333334\n",
            "------------------------------------------------------------------------------------\n",
            "Cost iteration 110: 0.331447414474595        train accuracy: 86.19791666666667\n",
            "------------------------------------------------------------------------------------\n",
            "Cost iteration 120: 0.32069606218922586        train accuracy: 86.71875\n",
            "------------------------------------------------------------------------------------\n",
            "Cost iteration 130: 0.31117168747621315        train accuracy: 86.71875\n",
            "------------------------------------------------------------------------------------\n",
            "Cost iteration 140: 0.3026388867327176        train accuracy: 87.23958333333334\n",
            "------------------------------------------------------------------------------------\n",
            "Cost iteration 150: 0.2949406532244758        train accuracy: 88.02083333333334\n",
            "------------------------------------------------------------------------------------\n",
            "Cost iteration 160: 0.2879330123432483        train accuracy: 88.28125\n",
            "------------------------------------------------------------------------------------\n",
            "Cost iteration 170: 0.2815287266450113        train accuracy: 88.02083333333334\n",
            "------------------------------------------------------------------------------------\n",
            "Cost iteration 180: 0.2756289120095634        train accuracy: 89.0625\n",
            "------------------------------------------------------------------------------------\n",
            "Cost iteration 190: 0.2701612805742952        train accuracy: 89.32291666666667\n",
            "------------------------------------------------------------------------------------\n",
            "Cost iteration 200: 0.26508006953862806        train accuracy: 89.32291666666667\n",
            "------------------------------------------------------------------------------------\n",
            "Cost iteration 210: 0.2603495098077204        train accuracy: 89.32291666666667\n",
            "------------------------------------------------------------------------------------\n",
            "Cost iteration 220: 0.25592474075553917        train accuracy: 89.32291666666667\n",
            "------------------------------------------------------------------------------------\n",
            "Cost iteration 230: 0.2517638588914757        train accuracy: 89.58333333333334\n",
            "------------------------------------------------------------------------------------\n",
            "Cost iteration 240: 0.2478476312798425        train accuracy: 89.84375\n",
            "------------------------------------------------------------------------------------\n",
            "Cost iteration 250: 0.24414909877966795        train accuracy: 90.10416666666667\n",
            "------------------------------------------------------------------------------------\n",
            "Cost iteration 260: 0.2406416275735211        train accuracy: 90.36458333333334\n",
            "------------------------------------------------------------------------------------\n",
            "Cost iteration 270: 0.23731792149352338        train accuracy: 90.88541666666667\n",
            "------------------------------------------------------------------------------------\n",
            "Cost iteration 280: 0.23415738087178653        train accuracy: 91.14583333333334\n",
            "------------------------------------------------------------------------------------\n",
            "Cost iteration 290: 0.23114313783974508        train accuracy: 91.14583333333334\n",
            "------------------------------------------------------------------------------------\n",
            "Cost iteration 300: 0.22826746184916713        train accuracy: 91.14583333333334\n",
            "------------------------------------------------------------------------------------\n",
            "Cost iteration 310: 0.2255235938542102        train accuracy: 91.14583333333334\n",
            "------------------------------------------------------------------------------------\n",
            "Cost iteration 320: 0.22289481452860432        train accuracy: 91.40625\n",
            "------------------------------------------------------------------------------------\n",
            "Cost iteration 330: 0.22037553881816696        train accuracy: 91.40625\n",
            "------------------------------------------------------------------------------------\n",
            "Cost iteration 340: 0.21795746744343958        train accuracy: 91.66666666666667\n",
            "------------------------------------------------------------------------------------\n",
            "Cost iteration 350: 0.21563276861241304        train accuracy: 92.1875\n",
            "------------------------------------------------------------------------------------\n",
            "Cost iteration 360: 0.21339370906769073        train accuracy: 92.70833333333334\n",
            "------------------------------------------------------------------------------------\n",
            "Cost iteration 370: 0.21123912043240484        train accuracy: 92.96875\n",
            "------------------------------------------------------------------------------------\n",
            "Cost iteration 380: 0.2091619977769942        train accuracy: 92.96875\n",
            "------------------------------------------------------------------------------------\n",
            "Cost iteration 390: 0.20715288465238552        train accuracy: 92.96875\n",
            "------------------------------------------------------------------------------------\n",
            "Cost iteration 400: 0.20520713447944397        train accuracy: 93.22916666666667\n",
            "------------------------------------------------------------------------------------\n",
            "Cost iteration 410: 0.20331794203109887        train accuracy: 93.48958333333334\n",
            "------------------------------------------------------------------------------------\n",
            "Cost iteration 420: 0.20148721993780555        train accuracy: 93.75\n",
            "------------------------------------------------------------------------------------\n",
            "Cost iteration 430: 0.19971811089948113        train accuracy: 93.75\n",
            "------------------------------------------------------------------------------------\n",
            "Cost iteration 440: 0.1980054243195476        train accuracy: 93.75\n",
            "------------------------------------------------------------------------------------\n",
            "Cost iteration 450: 0.1963398839093803        train accuracy: 93.75\n",
            "------------------------------------------------------------------------------------\n",
            "Cost iteration 460: 0.19471507345776712        train accuracy: 94.01041666666667\n",
            "------------------------------------------------------------------------------------\n",
            "Cost iteration 470: 0.1931343041041813        train accuracy: 94.01041666666667\n",
            "------------------------------------------------------------------------------------\n",
            "Cost iteration 480: 0.191593835170846        train accuracy: 94.01041666666667\n",
            "------------------------------------------------------------------------------------\n",
            "Cost iteration 490: 0.1900935727292497        train accuracy: 94.01041666666667\n",
            "------------------------------------------------------------------------------------\n",
            "Cost iteration 500: 0.18863117401049426        train accuracy: 94.01041666666667\n",
            "------------------------------------------------------------------------------------\n",
            "Cost iteration 510: 0.18720243453683566        train accuracy: 94.01041666666667\n",
            "------------------------------------------------------------------------------------\n",
            "Cost iteration 520: 0.1858095323704274        train accuracy: 94.01041666666667\n",
            "------------------------------------------------------------------------------------\n",
            "Cost iteration 530: 0.1844492943855049        train accuracy: 94.01041666666667\n",
            "------------------------------------------------------------------------------------\n",
            "Cost iteration 540: 0.18311877090940368        train accuracy: 94.01041666666667\n",
            "------------------------------------------------------------------------------------\n",
            "Cost iteration 550: 0.1818239979465738        train accuracy: 94.01041666666667\n",
            "------------------------------------------------------------------------------------\n",
            "Cost iteration 560: 0.18055935162484765        train accuracy: 94.01041666666667\n",
            "------------------------------------------------------------------------------------\n",
            "Cost iteration 570: 0.1793216366517381        train accuracy: 94.01041666666667\n",
            "------------------------------------------------------------------------------------\n",
            "Cost iteration 580: 0.1781108609671878        train accuracy: 94.01041666666667\n",
            "------------------------------------------------------------------------------------\n",
            "Cost iteration 590: 0.17693056186535072        train accuracy: 94.01041666666667\n",
            "------------------------------------------------------------------------------------\n",
            "Cost iteration 600: 0.17578031646809972        train accuracy: 94.01041666666667\n",
            "------------------------------------------------------------------------------------\n",
            "Cost iteration 610: 0.17465392316209777        train accuracy: 94.53125\n",
            "------------------------------------------------------------------------------------\n",
            "Cost iteration 620: 0.17354990656094763        train accuracy: 94.53125\n",
            "------------------------------------------------------------------------------------\n",
            "Cost iteration 630: 0.1724666594125397        train accuracy: 94.79166666666667\n",
            "------------------------------------------------------------------------------------\n",
            "Cost iteration 640: 0.1714043214396117        train accuracy: 94.79166666666667\n",
            "------------------------------------------------------------------------------------\n",
            "Cost iteration 650: 0.17036249544253262        train accuracy: 94.79166666666667\n",
            "------------------------------------------------------------------------------------\n",
            "Cost iteration 660: 0.16934407567597978        train accuracy: 94.79166666666667\n",
            "------------------------------------------------------------------------------------\n",
            "Cost iteration 670: 0.16834522495523907        train accuracy: 95.05208333333334\n",
            "------------------------------------------------------------------------------------\n",
            "Cost iteration 680: 0.16736332786364275        train accuracy: 95.05208333333334\n",
            "------------------------------------------------------------------------------------\n",
            "Cost iteration 690: 0.16639932801450927        train accuracy: 95.05208333333334\n",
            "------------------------------------------------------------------------------------\n",
            "Cost iteration 700: 0.16545212264637332        train accuracy: 95.05208333333334\n",
            "------------------------------------------------------------------------------------\n",
            "Cost iteration 710: 0.1645215111027466        train accuracy: 95.05208333333334\n",
            "------------------------------------------------------------------------------------\n",
            "Cost iteration 720: 0.16360831927296154        train accuracy: 95.05208333333334\n",
            "------------------------------------------------------------------------------------\n",
            "Cost iteration 730: 0.162712425684212        train accuracy: 95.05208333333334\n",
            "------------------------------------------------------------------------------------\n",
            "Cost iteration 740: 0.16183011980590448        train accuracy: 95.05208333333334\n",
            "------------------------------------------------------------------------------------\n",
            "Cost iteration 750: 0.16096190053218157        train accuracy: 95.05208333333334\n",
            "------------------------------------------------------------------------------------\n",
            "Cost iteration 760: 0.16010741251219085        train accuracy: 95.05208333333334\n",
            "------------------------------------------------------------------------------------\n",
            "Cost iteration 770: 0.15926833247921252        train accuracy: 95.05208333333334\n",
            "------------------------------------------------------------------------------------\n",
            "Cost iteration 780: 0.15844233675960173        train accuracy: 95.05208333333334\n",
            "------------------------------------------------------------------------------------\n",
            "Cost iteration 790: 0.1576304921882602        train accuracy: 95.05208333333334\n",
            "------------------------------------------------------------------------------------\n",
            "Cost iteration 800: 0.1568301318376974        train accuracy: 95.05208333333334\n",
            "------------------------------------------------------------------------------------\n",
            "Cost iteration 810: 0.15604010229977666        train accuracy: 95.3125\n",
            "------------------------------------------------------------------------------------\n",
            "Cost iteration 820: 0.15526157889549974        train accuracy: 95.3125\n",
            "------------------------------------------------------------------------------------\n",
            "Cost iteration 830: 0.154494961614632        train accuracy: 95.3125\n",
            "------------------------------------------------------------------------------------\n",
            "Cost iteration 840: 0.1537400352310848        train accuracy: 95.3125\n",
            "------------------------------------------------------------------------------------\n",
            "Cost iteration 850: 0.1529956761023658        train accuracy: 95.3125\n",
            "------------------------------------------------------------------------------------\n",
            "Cost iteration 860: 0.15226021460882655        train accuracy: 95.3125\n",
            "------------------------------------------------------------------------------------\n",
            "Cost iteration 870: 0.15153126186639757        train accuracy: 95.3125\n",
            "------------------------------------------------------------------------------------\n",
            "Cost iteration 880: 0.15081286805347804        train accuracy: 95.3125\n",
            "------------------------------------------------------------------------------------\n",
            "Cost iteration 890: 0.15010348752326136        train accuracy: 95.3125\n",
            "------------------------------------------------------------------------------------\n",
            "Cost iteration 900: 0.1494027569051527        train accuracy: 95.3125\n",
            "------------------------------------------------------------------------------------\n",
            "Cost iteration 910: 0.14871290700524797        train accuracy: 95.3125\n",
            "------------------------------------------------------------------------------------\n",
            "Cost iteration 920: 0.14803217104461583        train accuracy: 95.3125\n",
            "------------------------------------------------------------------------------------\n",
            "Cost iteration 930: 0.14735964969328838        train accuracy: 95.57291666666667\n",
            "------------------------------------------------------------------------------------\n",
            "Cost iteration 940: 0.14669457136438574        train accuracy: 95.57291666666667\n",
            "------------------------------------------------------------------------------------\n",
            "Cost iteration 950: 0.1460359461219197        train accuracy: 95.57291666666667\n",
            "------------------------------------------------------------------------------------\n",
            "Cost iteration 960: 0.14538310396045934        train accuracy: 95.57291666666667\n",
            "------------------------------------------------------------------------------------\n",
            "Cost iteration 970: 0.14473838269423764        train accuracy: 95.57291666666667\n",
            "------------------------------------------------------------------------------------\n",
            "Cost iteration 980: 0.14410179027334147        train accuracy: 95.57291666666667\n",
            "------------------------------------------------------------------------------------\n",
            "Cost iteration 990: 0.1434724709475042        train accuracy: 95.57291666666667\n",
            "------------------------------------------------------------------------------------\n",
            "Cost iteration 1000: 0.14285120838791382        train accuracy: 95.57291666666667\n",
            "------------------------------------------------------------------------------------\n"
          ]
        }
      ],
      "source": [
        "model_output_3layer_Random, cost_val_r3, accur_val_r3  = model_3layer_Random(X_train, y_train, X_val, y_val, epoch=1000, learning_rate= 0.01, print_cost=True)"
      ]
    },
    {
      "cell_type": "code",
      "execution_count": null,
      "metadata": {
        "colab": {
          "base_uri": "https://localhost:8080/"
        },
        "id": "gCxQfbqzrFlx",
        "outputId": "2b421587-7b22-4f7e-af19-fe80aecac41f"
      },
      "outputs": [
        {
          "data": {
            "image/png": "[encoded data removed]",
            "text/plain": [
              "<Figure size 432x288 with 1 Axes>"
            ]
          },
          "metadata": {},
          "output_type": "display_data"
        }
      ],
      "source": [
        "plt.plot(model_output_3layer_Random['cost_train'])\n",
        "plt.ylabel('cost_train')\n",
        "plt.xlabel('Iterations')\n",
        "plt.show()"
      ]
    },
    {
      "cell_type": "code",
      "execution_count": null,
      "metadata": {
        "colab": {
          "base_uri": "https://localhost:8080/"
        },
        "id": "GR8eSPqKrHP1",
        "outputId": "de85ddc3-5a68-4992-8f76-aa521dbb1e66"
      },
      "outputs": [
        {
          "data": {
            "image/png": "[encoded data removed]",
            "text/plain": [
              "<Figure size 432x288 with 1 Axes>"
            ]
          },
          "metadata": {},
          "output_type": "display_data"
        }
      ],
      "source": [
        "plt.plot(np.squeeze(model_output_3layer_Random['accur_train']))\n",
        "plt.ylabel('Accuracy_train')\n",
        "plt.xlabel('Iterations')\n",
        "plt.show()"
      ]
    },
    {
      "cell_type": "markdown",
      "metadata": {
        "id": "-TawHeynrKlP"
      },
      "source": [
        "#***Evaluating the model 3-layer Random***"
      ]
    },
    {
      "cell_type": "code",
      "execution_count": null,
      "metadata": {
        "colab": {
          "base_uri": "https://localhost:8080/"
        },
        "id": "H90ygD66rMJW",
        "outputId": "a67a8ae6-2ae4-43bc-d576-125029e2ddf8"
      },
      "outputs": [
        {
          "name": "stdout",
          "output_type": "stream",
          "text": [
            "Cost iteration 0: 0.8760482932080298        test accuracy: 43.74999999999999\n",
            "------------------------------------------------------------------------------------\n",
            "Cost iteration 10: 0.6484174364209683        test accuracy: 65.625\n",
            "------------------------------------------------------------------------------------\n",
            "Cost iteration 20: 0.5460460192411426        test accuracy: 70.83333333333333\n",
            "------------------------------------------------------------------------------------\n",
            "Cost iteration 30: 0.48669876076756924        test accuracy: 73.95833333333333\n",
            "------------------------------------------------------------------------------------\n",
            "Cost iteration 40: 0.44599173536485204        test accuracy: 79.16666666666666\n",
            "------------------------------------------------------------------------------------\n",
            "Cost iteration 50: 0.4154273887809628        test accuracy: 79.16666666666667\n",
            "------------------------------------------------------------------------------------\n",
            "Cost iteration 60: 0.3913434658686295        test accuracy: 80.20833333333334\n",
            "------------------------------------------------------------------------------------\n",
            "Cost iteration 70: 0.3718007665015908        test accuracy: 81.25\n",
            "------------------------------------------------------------------------------------\n",
            "Cost iteration 80: 0.3556175638726913        test accuracy: 81.25\n",
            "------------------------------------------------------------------------------------\n",
            "Cost iteration 90: 0.3420125847031392        test accuracy: 83.33333333333334\n",
            "------------------------------------------------------------------------------------\n",
            "Cost iteration 100: 0.33046019278941374        test accuracy: 84.375\n",
            "------------------------------------------------------------------------------------\n",
            "Cost iteration 110: 0.3205124420619062        test accuracy: 85.41666666666667\n",
            "------------------------------------------------------------------------------------\n",
            "Cost iteration 120: 0.31189139363262003        test accuracy: 85.41666666666667\n",
            "------------------------------------------------------------------------------------\n",
            "Cost iteration 130: 0.3043329941761651        test accuracy: 85.41666666666667\n",
            "------------------------------------------------------------------------------------\n",
            "Cost iteration 140: 0.2976405544846145        test accuracy: 85.41666666666667\n",
            "------------------------------------------------------------------------------------\n",
            "Cost iteration 150: 0.2916819535251324        test accuracy: 86.45833333333334\n",
            "------------------------------------------------------------------------------------\n",
            "Cost iteration 160: 0.2863432386176189        test accuracy: 86.45833333333334\n",
            "------------------------------------------------------------------------------------\n",
            "Cost iteration 170: 0.2815434367044607        test accuracy: 86.45833333333334\n",
            "------------------------------------------------------------------------------------\n",
            "Cost iteration 180: 0.27719374965476107        test accuracy: 86.45833333333334\n",
            "------------------------------------------------------------------------------------\n",
            "Cost iteration 190: 0.27323380911282075        test accuracy: 87.5\n",
            "------------------------------------------------------------------------------------\n",
            "Cost iteration 200: 0.2696262419950174        test accuracy: 87.5\n",
            "------------------------------------------------------------------------------------\n",
            "Cost iteration 210: 0.26633772483762486        test accuracy: 87.5\n",
            "------------------------------------------------------------------------------------\n",
            "Cost iteration 220: 0.26331279275861674        test accuracy: 87.5\n",
            "------------------------------------------------------------------------------------\n",
            "Cost iteration 230: 0.26051966029633766        test accuracy: 87.5\n",
            "------------------------------------------------------------------------------------\n",
            "Cost iteration 240: 0.2579231798133952        test accuracy: 87.5\n",
            "------------------------------------------------------------------------------------\n",
            "Cost iteration 250: 0.2555130227263269        test accuracy: 87.5\n",
            "------------------------------------------------------------------------------------\n",
            "Cost iteration 260: 0.25327024325253333        test accuracy: 88.54166666666667\n",
            "------------------------------------------------------------------------------------\n",
            "Cost iteration 270: 0.25119050029063744        test accuracy: 88.54166666666667\n",
            "------------------------------------------------------------------------------------\n",
            "Cost iteration 280: 0.24925192498533855        test accuracy: 88.54166666666667\n",
            "------------------------------------------------------------------------------------\n",
            "Cost iteration 290: 0.24743810510225106        test accuracy: 88.54166666666667\n",
            "------------------------------------------------------------------------------------\n",
            "Cost iteration 300: 0.2457362609531612        test accuracy: 88.54166666666667\n",
            "------------------------------------------------------------------------------------\n",
            "Cost iteration 310: 0.24414723777588432        test accuracy: 88.54166666666667\n",
            "------------------------------------------------------------------------------------\n",
            "Cost iteration 320: 0.24265027556705482        test accuracy: 88.54166666666667\n",
            "------------------------------------------------------------------------------------\n",
            "Cost iteration 330: 0.2412371353456842        test accuracy: 88.54166666666667\n",
            "------------------------------------------------------------------------------------\n",
            "Cost iteration 340: 0.23990233154225976        test accuracy: 88.54166666666667\n",
            "------------------------------------------------------------------------------------\n",
            "Cost iteration 350: 0.23864220655909288        test accuracy: 88.54166666666667\n",
            "------------------------------------------------------------------------------------\n",
            "Cost iteration 360: 0.23745614878294932        test accuracy: 88.54166666666667\n",
            "------------------------------------------------------------------------------------\n",
            "Cost iteration 370: 0.23632978697617862        test accuracy: 88.54166666666667\n",
            "------------------------------------------------------------------------------------\n",
            "Cost iteration 380: 0.23526071444757837        test accuracy: 88.54166666666667\n",
            "------------------------------------------------------------------------------------\n",
            "Cost iteration 390: 0.23424445287083134        test accuracy: 88.54166666666667\n",
            "------------------------------------------------------------------------------------\n",
            "Cost iteration 400: 0.2332802137815333        test accuracy: 88.54166666666667\n",
            "------------------------------------------------------------------------------------\n",
            "Cost iteration 410: 0.23236295433076504        test accuracy: 88.54166666666667\n",
            "------------------------------------------------------------------------------------\n",
            "Cost iteration 420: 0.2314895424320133        test accuracy: 88.54166666666667\n",
            "------------------------------------------------------------------------------------\n",
            "Cost iteration 430: 0.23065472139518994        test accuracy: 88.54166666666667\n",
            "------------------------------------------------------------------------------------\n",
            "Cost iteration 440: 0.22984471666194053        test accuracy: 88.54166666666667\n",
            "------------------------------------------------------------------------------------\n",
            "Cost iteration 450: 0.22905721852559768        test accuracy: 88.54166666666667\n",
            "------------------------------------------------------------------------------------\n",
            "Cost iteration 460: 0.22830035245940955        test accuracy: 88.54166666666667\n",
            "------------------------------------------------------------------------------------\n",
            "Cost iteration 470: 0.22757857105778262        test accuracy: 88.54166666666667\n",
            "------------------------------------------------------------------------------------\n",
            "Cost iteration 480: 0.2268879976131532        test accuracy: 88.54166666666667\n",
            "------------------------------------------------------------------------------------\n",
            "Cost iteration 490: 0.2262292325437371        test accuracy: 88.54166666666667\n",
            "------------------------------------------------------------------------------------\n",
            "Cost iteration 500: 0.22559822287014522        test accuracy: 88.54166666666667\n",
            "------------------------------------------------------------------------------------\n",
            "Cost iteration 510: 0.22498885110571737        test accuracy: 88.54166666666667\n",
            "------------------------------------------------------------------------------------\n",
            "Cost iteration 520: 0.22440098726862748        test accuracy: 88.54166666666667\n",
            "------------------------------------------------------------------------------------\n",
            "Cost iteration 530: 0.22383712175266163        test accuracy: 88.54166666666667\n",
            "------------------------------------------------------------------------------------\n",
            "Cost iteration 540: 0.22329792138512516        test accuracy: 88.54166666666667\n",
            "------------------------------------------------------------------------------------\n",
            "Cost iteration 550: 0.22279422660924555        test accuracy: 88.54166666666667\n",
            "------------------------------------------------------------------------------------\n",
            "Cost iteration 560: 0.2223108104867804        test accuracy: 88.54166666666667\n",
            "------------------------------------------------------------------------------------\n",
            "Cost iteration 570: 0.22184788116917847        test accuracy: 88.54166666666667\n",
            "------------------------------------------------------------------------------------\n",
            "Cost iteration 580: 0.22140149352214866        test accuracy: 88.54166666666667\n",
            "------------------------------------------------------------------------------------\n",
            "Cost iteration 590: 0.22098221594596346        test accuracy: 88.54166666666667\n",
            "------------------------------------------------------------------------------------\n",
            "Cost iteration 600: 0.2205809037053968        test accuracy: 88.54166666666667\n",
            "------------------------------------------------------------------------------------\n",
            "Cost iteration 610: 0.22019294016654767        test accuracy: 88.54166666666667\n",
            "------------------------------------------------------------------------------------\n",
            "Cost iteration 620: 0.21982096809482532        test accuracy: 89.58333333333334\n",
            "------------------------------------------------------------------------------------\n",
            "Cost iteration 630: 0.21946070452568112        test accuracy: 89.58333333333334\n",
            "------------------------------------------------------------------------------------\n",
            "Cost iteration 640: 0.21910900123677457        test accuracy: 88.54166666666667\n",
            "------------------------------------------------------------------------------------\n",
            "Cost iteration 650: 0.21876760072040383        test accuracy: 88.54166666666667\n",
            "------------------------------------------------------------------------------------\n",
            "Cost iteration 660: 0.21842931087931855        test accuracy: 88.54166666666667\n",
            "------------------------------------------------------------------------------------\n",
            "Cost iteration 670: 0.21810206383071046        test accuracy: 88.54166666666667\n",
            "------------------------------------------------------------------------------------\n",
            "Cost iteration 680: 0.2177886577095247        test accuracy: 88.54166666666667\n",
            "------------------------------------------------------------------------------------\n",
            "Cost iteration 690: 0.2174882203411338        test accuracy: 88.54166666666667\n",
            "------------------------------------------------------------------------------------\n",
            "Cost iteration 700: 0.21720068463651965        test accuracy: 88.54166666666667\n",
            "------------------------------------------------------------------------------------\n",
            "Cost iteration 710: 0.2169269486328509        test accuracy: 88.54166666666667\n",
            "------------------------------------------------------------------------------------\n",
            "Cost iteration 720: 0.216667024000179        test accuracy: 88.54166666666667\n",
            "------------------------------------------------------------------------------------\n",
            "Cost iteration 730: 0.21642089959426747        test accuracy: 88.54166666666667\n",
            "------------------------------------------------------------------------------------\n",
            "Cost iteration 740: 0.21618070056894134        test accuracy: 88.54166666666667\n",
            "------------------------------------------------------------------------------------\n",
            "Cost iteration 750: 0.21594630134987658        test accuracy: 88.54166666666667\n",
            "------------------------------------------------------------------------------------\n",
            "Cost iteration 760: 0.21571915083267168        test accuracy: 88.54166666666667\n",
            "------------------------------------------------------------------------------------\n",
            "Cost iteration 770: 0.21549666421097702        test accuracy: 88.54166666666667\n",
            "------------------------------------------------------------------------------------\n",
            "Cost iteration 780: 0.2152787776657405        test accuracy: 88.54166666666667\n",
            "------------------------------------------------------------------------------------\n",
            "Cost iteration 790: 0.21506708447053213        test accuracy: 88.54166666666667\n",
            "------------------------------------------------------------------------------------\n",
            "Cost iteration 800: 0.21487025235925197        test accuracy: 88.54166666666667\n",
            "------------------------------------------------------------------------------------\n",
            "Cost iteration 810: 0.21468237460676048        test accuracy: 88.54166666666667\n",
            "------------------------------------------------------------------------------------\n",
            "Cost iteration 820: 0.21450299958380148        test accuracy: 88.54166666666667\n",
            "------------------------------------------------------------------------------------\n",
            "Cost iteration 830: 0.2143292272222625        test accuracy: 88.54166666666667\n",
            "------------------------------------------------------------------------------------\n",
            "Cost iteration 840: 0.21416324572119133        test accuracy: 88.54166666666667\n",
            "------------------------------------------------------------------------------------\n",
            "Cost iteration 850: 0.2140010975249799        test accuracy: 88.54166666666667\n",
            "------------------------------------------------------------------------------------\n",
            "Cost iteration 860: 0.2138416051871463        test accuracy: 88.54166666666667\n",
            "------------------------------------------------------------------------------------\n",
            "Cost iteration 870: 0.21368199144159894        test accuracy: 88.54166666666667\n",
            "------------------------------------------------------------------------------------\n",
            "Cost iteration 880: 0.21352906227188828        test accuracy: 88.54166666666667\n",
            "------------------------------------------------------------------------------------\n",
            "Cost iteration 890: 0.21338114238333553        test accuracy: 88.54166666666667\n",
            "------------------------------------------------------------------------------------\n",
            "Cost iteration 900: 0.21323723345285356        test accuracy: 88.54166666666667\n",
            "------------------------------------------------------------------------------------\n",
            "Cost iteration 910: 0.21309997440005915        test accuracy: 88.54166666666667\n",
            "------------------------------------------------------------------------------------\n",
            "Cost iteration 920: 0.21296912568770102        test accuracy: 88.54166666666667\n",
            "------------------------------------------------------------------------------------\n",
            "Cost iteration 930: 0.21284489601364012        test accuracy: 88.54166666666667\n",
            "------------------------------------------------------------------------------------\n",
            "Cost iteration 940: 0.21272213195062178        test accuracy: 88.54166666666667\n",
            "------------------------------------------------------------------------------------\n",
            "Cost iteration 950: 0.21259889050498765        test accuracy: 88.54166666666667\n",
            "------------------------------------------------------------------------------------\n",
            "Cost iteration 960: 0.21248129839675703        test accuracy: 88.54166666666667\n",
            "------------------------------------------------------------------------------------\n",
            "Cost iteration 970: 0.21237018605258823        test accuracy: 88.54166666666667\n",
            "------------------------------------------------------------------------------------\n",
            "Cost iteration 980: 0.21226516525022487        test accuracy: 88.54166666666667\n",
            "------------------------------------------------------------------------------------\n",
            "Cost iteration 990: 0.2121633224907431        test accuracy: 88.54166666666667\n",
            "------------------------------------------------------------------------------------\n",
            "Cost iteration 1000: 0.21206731125905176        test accuracy: 88.54166666666667\n",
            "------------------------------------------------------------------------------------\n"
          ]
        }
      ],
      "source": [
        "for i in range(len(cost_val_r3)):\n",
        "    print(f\"Cost iteration {i * 10}: {cost_val_r3[i]}        test accuracy: {accur_val_r3[i] * 100}\")\n",
        "    print(\"------------------------------------------------------------------------------------\")"
      ]
    },
    {
      "cell_type": "code",
      "execution_count": null,
      "metadata": {
        "colab": {
          "base_uri": "https://localhost:8080/"
        },
        "id": "0tln31W1rPqD",
        "outputId": "3984231e-2cfe-4e03-892b-455210eedabd"
      },
      "outputs": [
        {
          "data": {
            "image/png": "[encoded data removed]",
            "text/plain": [
              "<Figure size 432x288 with 1 Axes>"
            ]
          },
          "metadata": {},
          "output_type": "display_data"
        }
      ],
      "source": [
        "plt.plot(cost_val_r3)\n",
        "plt.ylabel('cost_val')\n",
        "plt.xlabel('Iterations')\n",
        "plt.show()"
      ]
    },
    {
      "cell_type": "code",
      "execution_count": null,
      "metadata": {
        "colab": {
          "base_uri": "https://localhost:8080/"
        },
        "id": "DvroRBBXrPue",
        "outputId": "634b4ddf-8726-4951-8050-48cb92a2fa78"
      },
      "outputs": [
        {
          "data": {
            "image/png": "[encoded data removed]",
            "text/plain": [
              "<Figure size 432x288 with 1 Axes>"
            ]
          },
          "metadata": {},
          "output_type": "display_data"
        }
      ],
      "source": [
        "plt.plot(accur_val_r3)\n",
        "plt.ylabel('Accuracy_val')\n",
        "plt.xlabel('Iterations')\n",
        "plt.show()"
      ]
    },
    {
      "cell_type": "markdown",
      "metadata": {
        "id": "a2FQqlmZrTBl"
      },
      "source": [
        "#**Implementing Model 3-layer zero**"
      ]
    },
    {
      "cell_type": "code",
      "execution_count": null,
      "metadata": {
        "id": "UcNSbNGCrVBH"
      },
      "outputs": [],
      "source": [
        "# 1) Initializing parameters \n",
        "def initialize_parameter_layer_zero(layerlist): #use for 5layer zero too\n",
        "  param = {} # for saving w and b\n",
        "  for i in range(1, len(layerlist)): # 1 because of we do not count inputlayer\n",
        "    param[\"w\" + str(i)] = np.zeros((layerlist[i], layerlist[i - 1])) # n(l), n(l-1)\n",
        "    param[\"b\" + str(i)] = np.zeros((layerlist[i], 1)) # n(l), 1\n",
        "  return param"
      ]
    },
    {
      "cell_type": "code",
      "execution_count": null,
      "metadata": {
        "id": "7eNAOAfYrWQs"
      },
      "outputs": [],
      "source": [
        "def model_3layer_zero(X_train, y_train, X_val, y_val, epoch, learning_rate, print_cost=False):\n",
        "    param = initialize_parameter_layer_zero([X_train.shape[0], 100,  1])\n",
        "    param, cost_train, accur_train, cost_val, accur_val = costomize_nlayer(param , X_train, y_train, epoch, learning_rate, print_cost)\n",
        "    out = {\"cost_train\": cost_train,\"accur_train\": accur_train,  \"param\": param,\"learning_rate\" : learning_rate,\"epoch\": epoch}\n",
        "    return out, cost_val, accur_val"
      ]
    },
    {
      "cell_type": "markdown",
      "metadata": {
        "id": "3e1CnGZRrayY"
      },
      "source": [
        "# ***Training the model 3-layer zero***"
      ]
    },
    {
      "cell_type": "code",
      "execution_count": null,
      "metadata": {
        "colab": {
          "base_uri": "https://localhost:8080/"
        },
        "id": "mIQkPpUFrcVP",
        "outputId": "7e31c590-f049-4593-eaf1-7f96a95fe76b"
      },
      "outputs": [
        {
          "name": "stdout",
          "output_type": "stream",
          "text": [
            "Cost iteration 0: 0.6931471805599467        train accuracy: 72.39583333333333\n",
            "------------------------------------------------------------------------------------\n",
            "Cost iteration 10: 0.6882488004441849        train accuracy: 72.39583333333333\n",
            "------------------------------------------------------------------------------------\n",
            "Cost iteration 20: 0.6835895772859752        train accuracy: 72.39583333333333\n",
            "------------------------------------------------------------------------------------\n",
            "Cost iteration 30: 0.6791577573415594        train accuracy: 72.39583333333333\n",
            "------------------------------------------------------------------------------------\n",
            "Cost iteration 40: 0.6749421226199523        train accuracy: 72.39583333333333\n",
            "------------------------------------------------------------------------------------\n",
            "Cost iteration 50: 0.6709319742140873        train accuracy: 72.39583333333333\n",
            "------------------------------------------------------------------------------------\n",
            "Cost iteration 60: 0.6671171149994592        train accuracy: 72.39583333333333\n",
            "------------------------------------------------------------------------------------\n",
            "Cost iteration 70: 0.6634878319049347        train accuracy: 72.39583333333333\n",
            "------------------------------------------------------------------------------------\n",
            "Cost iteration 80: 0.6600348779340649        train accuracy: 72.39583333333333\n",
            "------------------------------------------------------------------------------------\n",
            "Cost iteration 90: 0.6567494540908319        train accuracy: 72.39583333333333\n",
            "------------------------------------------------------------------------------------\n",
            "Cost iteration 100: 0.653623191342058        train accuracy: 72.39583333333333\n",
            "------------------------------------------------------------------------------------\n",
            "Cost iteration 110: 0.650648132728284        train accuracy: 72.39583333333333\n",
            "------------------------------------------------------------------------------------\n",
            "Cost iteration 120: 0.6478167157173367        train accuracy: 72.39583333333333\n",
            "------------------------------------------------------------------------------------\n",
            "Cost iteration 130: 0.645121754878447        train accuracy: 72.39583333333333\n",
            "------------------------------------------------------------------------------------\n",
            "Cost iteration 140: 0.6425564249406588        train accuracy: 72.39583333333333\n",
            "------------------------------------------------------------------------------------\n",
            "Cost iteration 150: 0.640114244286608        train accuracy: 72.39583333333333\n",
            "------------------------------------------------------------------------------------\n",
            "Cost iteration 160: 0.6377890589216392        train accuracy: 72.39583333333333\n",
            "------------------------------------------------------------------------------------\n",
            "Cost iteration 170: 0.6355750269486312        train accuracy: 72.39583333333333\n",
            "------------------------------------------------------------------------------------\n",
            "Cost iteration 180: 0.6334666035704857        train accuracy: 72.39583333333333\n",
            "------------------------------------------------------------------------------------\n",
            "Cost iteration 190: 0.6314585266348347        train accuracy: 72.39583333333333\n",
            "------------------------------------------------------------------------------------\n",
            "Cost iteration 200: 0.6295458027297206        train accuracy: 72.39583333333333\n",
            "------------------------------------------------------------------------------------\n",
            "Cost iteration 210: 0.6277236938332211        train accuracy: 72.39583333333333\n",
            "------------------------------------------------------------------------------------\n",
            "Cost iteration 220: 0.6259877045160145        train accuracy: 72.39583333333333\n",
            "------------------------------------------------------------------------------------\n",
            "Cost iteration 230: 0.6243335696918717        train accuracy: 72.39583333333333\n",
            "------------------------------------------------------------------------------------\n",
            "Cost iteration 240: 0.6227572429081153        train accuracy: 72.39583333333333\n",
            "------------------------------------------------------------------------------------\n",
            "Cost iteration 250: 0.6212548851654764        train accuracy: 72.39583333333333\n",
            "------------------------------------------------------------------------------------\n",
            "Cost iteration 260: 0.61982285425508        train accuracy: 72.39583333333333\n",
            "------------------------------------------------------------------------------------\n",
            "Cost iteration 270: 0.6184576945981544        train accuracy: 72.39583333333333\n",
            "------------------------------------------------------------------------------------\n",
            "Cost iteration 280: 0.6171561275734558        train accuracy: 72.39583333333333\n",
            "------------------------------------------------------------------------------------\n",
            "Cost iteration 290: 0.6159150423160289        train accuracy: 72.39583333333333\n",
            "------------------------------------------------------------------------------------\n",
            "Cost iteration 300: 0.6147314869705771        train accuracy: 72.39583333333333\n",
            "------------------------------------------------------------------------------------\n",
            "Cost iteration 310: 0.6136026603822684        train accuracy: 72.39583333333333\n",
            "------------------------------------------------------------------------------------\n",
            "Cost iteration 320: 0.6125259042074161        train accuracy: 72.39583333333333\n",
            "------------------------------------------------------------------------------------\n",
            "Cost iteration 330: 0.6114986954267604        train accuracy: 72.39583333333333\n",
            "------------------------------------------------------------------------------------\n",
            "Cost iteration 340: 0.6105186392439806        train accuracy: 72.39583333333333\n",
            "------------------------------------------------------------------------------------\n",
            "Cost iteration 350: 0.6095834623522116        train accuracy: 72.39583333333333\n",
            "------------------------------------------------------------------------------------\n",
            "Cost iteration 360: 0.60869100655187        train accuracy: 72.39583333333333\n",
            "------------------------------------------------------------------------------------\n",
            "Cost iteration 370: 0.6078392227032976        train accuracy: 72.39583333333333\n",
            "------------------------------------------------------------------------------------\n",
            "Cost iteration 380: 0.6070261649981767        train accuracy: 72.39583333333333\n",
            "------------------------------------------------------------------------------------\n",
            "Cost iteration 390: 0.606249985534303        train accuracy: 72.39583333333333\n",
            "------------------------------------------------------------------------------------\n",
            "Cost iteration 400: 0.6055089291785726        train accuracy: 72.39583333333333\n",
            "------------------------------------------------------------------------------------\n",
            "Cost iteration 410: 0.6048013287038052        train accuracy: 72.39583333333333\n",
            "------------------------------------------------------------------------------------\n",
            "Cost iteration 420: 0.6041256001854334        train accuracy: 72.39583333333333\n",
            "------------------------------------------------------------------------------------\n",
            "Cost iteration 430: 0.6034802386446703        train accuracy: 72.39583333333333\n",
            "------------------------------------------------------------------------------------\n",
            "Cost iteration 440: 0.6028638139253875        train accuracy: 72.39583333333333\n",
            "------------------------------------------------------------------------------------\n",
            "Cost iteration 450: 0.6022749667924581        train accuracy: 72.39583333333333\n",
            "------------------------------------------------------------------------------------\n",
            "Cost iteration 460: 0.6017124052398011        train accuracy: 72.39583333333333\n",
            "------------------------------------------------------------------------------------\n",
            "Cost iteration 470: 0.60117490099703        train accuracy: 72.39583333333333\n",
            "------------------------------------------------------------------------------------\n",
            "Cost iteration 480: 0.600661286224044        train accuracy: 72.39583333333333\n",
            "------------------------------------------------------------------------------------\n",
            "Cost iteration 490: 0.600170450383535        train accuracy: 72.39583333333333\n",
            "------------------------------------------------------------------------------------\n",
            "Cost iteration 500: 0.5997013372815927        train accuracy: 72.39583333333333\n",
            "------------------------------------------------------------------------------------\n",
            "Cost iteration 510: 0.5992529422675618        train accuracy: 72.39583333333333\n",
            "------------------------------------------------------------------------------------\n",
            "Cost iteration 520: 0.5988243095842352        train accuracy: 72.39583333333333\n",
            "------------------------------------------------------------------------------------\n",
            "Cost iteration 530: 0.598414529860366        train accuracy: 72.39583333333333\n",
            "------------------------------------------------------------------------------------\n",
            "Cost iteration 540: 0.5980227377375499        train accuracy: 72.39583333333333\n",
            "------------------------------------------------------------------------------------\n",
            "Cost iteration 550: 0.5976481096242467        train accuracy: 72.39583333333333\n",
            "------------------------------------------------------------------------------------\n",
            "Cost iteration 560: 0.597289861569881        train accuracy: 72.39583333333333\n",
            "------------------------------------------------------------------------------------\n",
            "Cost iteration 570: 0.5969472472524158        train accuracy: 72.39583333333333\n",
            "------------------------------------------------------------------------------------\n",
            "Cost iteration 580: 0.5966195560732271        train accuracy: 72.39583333333333\n",
            "------------------------------------------------------------------------------------\n",
            "Cost iteration 590: 0.5963061113533131        train accuracy: 72.39583333333333\n",
            "------------------------------------------------------------------------------------\n",
            "Cost iteration 600: 0.5960062686252469        train accuracy: 72.39583333333333\n",
            "------------------------------------------------------------------------------------\n",
            "Cost iteration 610: 0.5957194140156788        train accuracy: 72.39583333333333\n",
            "------------------------------------------------------------------------------------\n",
            "Cost iteration 620: 0.5954449627133145        train accuracy: 72.39583333333333\n",
            "------------------------------------------------------------------------------------\n",
            "Cost iteration 630: 0.5951823575177023        train accuracy: 72.39583333333333\n",
            "------------------------------------------------------------------------------------\n",
            "Cost iteration 640: 0.594931067464465        train accuracy: 72.39583333333333\n",
            "------------------------------------------------------------------------------------\n",
            "Cost iteration 650: 0.5946905865226413        train accuracy: 72.39583333333333\n",
            "------------------------------------------------------------------------------------\n",
            "Cost iteration 660: 0.5944604323602367        train accuracy: 72.39583333333333\n",
            "------------------------------------------------------------------------------------\n",
            "Cost iteration 670: 0.5942401451743415        train accuracy: 72.39583333333333\n",
            "------------------------------------------------------------------------------------\n",
            "Cost iteration 680: 0.5940292865821026        train accuracy: 72.39583333333333\n",
            "------------------------------------------------------------------------------------\n",
            "Cost iteration 690: 0.5938274385694173        train accuracy: 72.39583333333333\n",
            "------------------------------------------------------------------------------------\n",
            "Cost iteration 700: 0.5936342024940469        train accuracy: 72.39583333333333\n",
            "------------------------------------------------------------------------------------\n",
            "Cost iteration 710: 0.5934491981402452        train accuracy: 72.39583333333333\n",
            "------------------------------------------------------------------------------------\n",
            "Cost iteration 720: 0.5932720628221806        train accuracy: 72.39583333333333\n",
            "------------------------------------------------------------------------------------\n",
            "Cost iteration 730: 0.5931024505333716        train accuracy: 72.39583333333333\n",
            "------------------------------------------------------------------------------------\n",
            "Cost iteration 740: 0.5929400311397177        train accuracy: 72.39583333333333\n",
            "------------------------------------------------------------------------------------\n",
            "Cost iteration 750: 0.5927844896137903        train accuracy: 72.39583333333333\n",
            "------------------------------------------------------------------------------------\n",
            "Cost iteration 760: 0.5926355253081532        train accuracy: 72.39583333333333\n",
            "------------------------------------------------------------------------------------\n",
            "Cost iteration 770: 0.5924928512655302        train accuracy: 72.39583333333333\n",
            "------------------------------------------------------------------------------------\n",
            "Cost iteration 780: 0.5923561935639988        train accuracy: 72.39583333333333\n",
            "------------------------------------------------------------------------------------\n",
            "Cost iteration 790: 0.5922252906952253        train accuracy: 72.39583333333333\n",
            "------------------------------------------------------------------------------------\n",
            "Cost iteration 800: 0.5920998929739929        train accuracy: 72.39583333333333\n",
            "------------------------------------------------------------------------------------\n",
            "Cost iteration 810: 0.5919797619773887        train accuracy: 72.39583333333333\n",
            "------------------------------------------------------------------------------------\n",
            "Cost iteration 820: 0.5918646700120922        train accuracy: 72.39583333333333\n",
            "------------------------------------------------------------------------------------\n",
            "Cost iteration 830: 0.591754399608192        train accuracy: 72.39583333333333\n",
            "------------------------------------------------------------------------------------\n",
            "Cost iteration 840: 0.591648743038295        train accuracy: 72.39583333333333\n",
            "------------------------------------------------------------------------------------\n",
            "Cost iteration 850: 0.5915475018603704        train accuracy: 72.39583333333333\n",
            "------------------------------------------------------------------------------------\n",
            "Cost iteration 860: 0.5914504864832961        train accuracy: 72.39583333333333\n",
            "------------------------------------------------------------------------------------\n",
            "Cost iteration 870: 0.5913575157538074        train accuracy: 72.39583333333333\n",
            "------------------------------------------------------------------------------------\n",
            "Cost iteration 880: 0.591268416563768        train accuracy: 72.39583333333333\n",
            "------------------------------------------------------------------------------------\n",
            "Cost iteration 890: 0.5911830234766758        train accuracy: 72.39583333333333\n",
            "------------------------------------------------------------------------------------\n",
            "Cost iteration 900: 0.5911011783724465        train accuracy: 72.39583333333333\n",
            "------------------------------------------------------------------------------------\n",
            "Cost iteration 910: 0.5910227301095098        train accuracy: 72.39583333333333\n",
            "------------------------------------------------------------------------------------\n",
            "Cost iteration 920: 0.5909475342033405        train accuracy: 72.39583333333333\n",
            "------------------------------------------------------------------------------------\n",
            "Cost iteration 930: 0.5908754525205319        train accuracy: 72.39583333333333\n",
            "------------------------------------------------------------------------------------\n",
            "Cost iteration 940: 0.590806352987694        train accuracy: 72.39583333333333\n",
            "------------------------------------------------------------------------------------\n",
            "Cost iteration 950: 0.5907401093143658        train accuracy: 72.39583333333333\n",
            "------------------------------------------------------------------------------------\n",
            "Cost iteration 960: 0.590676600729233        train accuracy: 72.39583333333333\n",
            "------------------------------------------------------------------------------------\n",
            "Cost iteration 970: 0.5906157117289461        train accuracy: 72.39583333333333\n",
            "------------------------------------------------------------------------------------\n",
            "Cost iteration 980: 0.5905573318390668        train accuracy: 72.39583333333333\n",
            "------------------------------------------------------------------------------------\n",
            "Cost iteration 990: 0.5905013553862252        train accuracy: 72.39583333333333\n",
            "------------------------------------------------------------------------------------\n",
            "Cost iteration 1000: 0.5904476812812518        train accuracy: 72.39583333333333\n",
            "------------------------------------------------------------------------------------\n"
          ]
        }
      ],
      "source": [
        "model_output_3layer_zero, cost_val_z3, accur_val_z3  = model_3layer_zero(X_train, y_train, X_val, y_val, epoch=1000, learning_rate= 0.01, print_cost=True)"
      ]
    },
    {
      "cell_type": "code",
      "execution_count": null,
      "metadata": {
        "colab": {
          "base_uri": "https://localhost:8080/"
        },
        "id": "CbT2fnbErfYV",
        "outputId": "86958197-1447-4295-c15f-b933d58886c6"
      },
      "outputs": [
        {
          "name": "stdout",
          "output_type": "stream",
          "text": [
            "(100, 72)\n",
            "(1, 100)\n",
            "(100, 1)\n",
            "(1, 1)\n"
          ]
        }
      ],
      "source": [
        "print(model_output_3layer_zero[\"param\"][\"w1\"].shape)\n",
        "print(model_output_3layer_zero[\"param\"][\"w2\"].shape)\n",
        "print(model_output_3layer_zero[\"param\"][\"b1\"].shape)\n",
        "print(model_output_3layer_zero[\"param\"][\"b2\"].shape)"
      ]
    },
    {
      "cell_type": "code",
      "execution_count": null,
      "metadata": {
        "colab": {
          "base_uri": "https://localhost:8080/"
        },
        "id": "6VKrzqZFrfeF",
        "outputId": "ab25c055-6214-411d-9c45-70b44dd78470"
      },
      "outputs": [
        {
          "data": {
            "image/png": "[encoded data removed]",
            "text/plain": [
              "<Figure size 432x288 with 1 Axes>"
            ]
          },
          "metadata": {},
          "output_type": "display_data"
        }
      ],
      "source": [
        "plt.plot(model_output_3layer_zero['cost_train'])\n",
        "plt.ylabel('cost_train')\n",
        "plt.xlabel('Iterations')\n",
        "plt.show()"
      ]
    },
    {
      "cell_type": "code",
      "execution_count": null,
      "metadata": {
        "colab": {
          "base_uri": "https://localhost:8080/"
        },
        "id": "FJxs6K8_rfiz",
        "outputId": "13917277-b000-436e-eae2-109da914fddd"
      },
      "outputs": [
        {
          "data": {
            "image/png": "[encoded data removed]",
            "text/plain": [
              "<Figure size 432x288 with 1 Axes>"
            ]
          },
          "metadata": {},
          "output_type": "display_data"
        }
      ],
      "source": [
        "plt.plot(np.squeeze(model_output_3layer_zero['accur_train']))\n",
        "plt.ylabel('Accuracy_train')\n",
        "plt.xlabel('Iterations')\n",
        "plt.show()"
      ]
    },
    {
      "cell_type": "markdown",
      "metadata": {
        "id": "hcQJgS3nrlW4"
      },
      "source": [
        "#***Evaluating the model 3-layer zero***"
      ]
    },
    {
      "cell_type": "code",
      "execution_count": null,
      "metadata": {
        "colab": {
          "base_uri": "https://localhost:8080/"
        },
        "id": "7KnP3fCcrlqZ",
        "outputId": "f01c4dd4-3f37-4a40-f688-81d2effb4e09"
      },
      "outputs": [
        {
          "name": "stdout",
          "output_type": "stream",
          "text": [
            "Cost after iteration 0: 0.6925179247140014        test accuracy: 78.125\n",
            "------------------------------------------------------------------------------------\n",
            "Cost after iteration 10: 0.6863784206928282        test accuracy: 78.125\n",
            "------------------------------------------------------------------------------------\n",
            "Cost after iteration 20: 0.6805081549526878        test accuracy: 78.125\n",
            "------------------------------------------------------------------------------------\n",
            "Cost after iteration 30: 0.6748946438689425        test accuracy: 78.125\n",
            "------------------------------------------------------------------------------------\n",
            "Cost after iteration 40: 0.6695259515469411        test accuracy: 78.125\n",
            "------------------------------------------------------------------------------------\n",
            "Cost after iteration 50: 0.6643906736699502        test accuracy: 78.125\n",
            "------------------------------------------------------------------------------------\n",
            "Cost after iteration 60: 0.6594779206272907        test accuracy: 78.125\n",
            "------------------------------------------------------------------------------------\n",
            "Cost after iteration 70: 0.6547773001344461        test accuracy: 78.125\n",
            "------------------------------------------------------------------------------------\n",
            "Cost after iteration 80: 0.650278899530155        test accuracy: 78.125\n",
            "------------------------------------------------------------------------------------\n",
            "Cost after iteration 90: 0.6459732679111039        test accuracy: 78.125\n",
            "------------------------------------------------------------------------------------\n",
            "Cost after iteration 100: 0.6418513982422744        test accuracy: 78.125\n",
            "------------------------------------------------------------------------------------\n",
            "Cost after iteration 110: 0.6379047095608659        test accuracy: 78.125\n",
            "------------------------------------------------------------------------------------\n",
            "Cost after iteration 120: 0.6341250293732034        test accuracy: 78.125\n",
            "------------------------------------------------------------------------------------\n",
            "Cost after iteration 130: 0.6305045763277478        test accuracy: 78.125\n",
            "------------------------------------------------------------------------------------\n",
            "Cost after iteration 140: 0.6270359432326473        test accuracy: 78.125\n",
            "------------------------------------------------------------------------------------\n",
            "Cost after iteration 150: 0.6237120804733469        test accuracy: 78.125\n",
            "------------------------------------------------------------------------------------\n",
            "Cost after iteration 160: 0.6205262798742976        test accuracy: 78.125\n",
            "------------------------------------------------------------------------------------\n",
            "Cost after iteration 170: 0.6174721590389631        test accuracy: 78.125\n",
            "------------------------------------------------------------------------------------\n",
            "Cost after iteration 180: 0.614543646193436        test accuracy: 78.125\n",
            "------------------------------------------------------------------------------------\n",
            "Cost after iteration 190: 0.6117349655516292        test accuracy: 78.125\n",
            "------------------------------------------------------------------------------------\n",
            "Cost after iteration 200: 0.6090406232134251        test accuracy: 78.125\n",
            "------------------------------------------------------------------------------------\n",
            "Cost after iteration 210: 0.6064553936016981        test accuracy: 78.125\n",
            "------------------------------------------------------------------------------------\n",
            "Cost after iteration 220: 0.603974306439395        test accuracy: 78.125\n",
            "------------------------------------------------------------------------------------\n",
            "Cost after iteration 230: 0.6015926342639839        test accuracy: 78.125\n",
            "------------------------------------------------------------------------------------\n",
            "Cost after iteration 240: 0.5993058804732185        test accuracy: 78.125\n",
            "------------------------------------------------------------------------------------\n",
            "Cost after iteration 250: 0.5971097678935724        test accuracy: 78.125\n",
            "------------------------------------------------------------------------------------\n",
            "Cost after iteration 260: 0.5950002278603943        test accuracy: 78.125\n",
            "------------------------------------------------------------------------------------\n",
            "Cost after iteration 270: 0.5929733897971693        test accuracy: 78.125\n",
            "------------------------------------------------------------------------------------\n",
            "Cost after iteration 280: 0.5910255712798695        test accuracy: 78.125\n",
            "------------------------------------------------------------------------------------\n",
            "Cost after iteration 290: 0.5891532685713147        test accuracy: 78.125\n",
            "------------------------------------------------------------------------------------\n",
            "Cost after iteration 300: 0.5873531476098002        test accuracy: 78.125\n",
            "------------------------------------------------------------------------------------\n",
            "Cost after iteration 310: 0.58562203543559        test accuracy: 78.125\n",
            "------------------------------------------------------------------------------------\n",
            "Cost after iteration 320: 0.5839569120387392        test accuracy: 78.125\n",
            "------------------------------------------------------------------------------------\n",
            "Cost after iteration 330: 0.582354902611437        test accuracy: 78.125\n",
            "------------------------------------------------------------------------------------\n",
            "Cost after iteration 340: 0.5808132701881337        test accuracy: 78.125\n",
            "------------------------------------------------------------------------------------\n",
            "Cost after iteration 350: 0.5793294086568757        test accuracy: 78.125\n",
            "------------------------------------------------------------------------------------\n",
            "Cost after iteration 360: 0.5779008361254272        test accuracy: 78.125\n",
            "------------------------------------------------------------------------------------\n",
            "Cost after iteration 370: 0.5765251886261551        test accuracy: 78.125\n",
            "------------------------------------------------------------------------------------\n",
            "Cost after iteration 380: 0.5752002141439463        test accuracy: 78.125\n",
            "------------------------------------------------------------------------------------\n",
            "Cost after iteration 390: 0.5739237669519375        test accuracy: 78.125\n",
            "------------------------------------------------------------------------------------\n",
            "Cost after iteration 400: 0.5726938022402233        test accuracy: 78.125\n",
            "------------------------------------------------------------------------------------\n",
            "Cost after iteration 410: 0.5715083710232476        test accuracy: 78.125\n",
            "------------------------------------------------------------------------------------\n",
            "Cost after iteration 420: 0.5703656153121037        test accuracy: 78.125\n",
            "------------------------------------------------------------------------------------\n",
            "Cost after iteration 430: 0.569263763538442        test accuracy: 78.125\n",
            "------------------------------------------------------------------------------------\n",
            "Cost after iteration 440: 0.5682011262172622        test accuracy: 78.125\n",
            "------------------------------------------------------------------------------------\n",
            "Cost after iteration 450: 0.5671760918363773        test accuracy: 78.125\n",
            "------------------------------------------------------------------------------------\n",
            "Cost after iteration 460: 0.5661871229608819        test accuracy: 78.125\n",
            "------------------------------------------------------------------------------------\n",
            "Cost after iteration 470: 0.5652327525414519        test accuracy: 78.125\n",
            "------------------------------------------------------------------------------------\n",
            "Cost after iteration 480: 0.5643115804158089        test accuracy: 78.125\n",
            "------------------------------------------------------------------------------------\n",
            "Cost after iteration 490: 0.5634222699932664        test accuracy: 78.125\n",
            "------------------------------------------------------------------------------------\n",
            "Cost after iteration 500: 0.5625635451126222        test accuracy: 78.125\n",
            "------------------------------------------------------------------------------------\n",
            "Cost after iteration 510: 0.5617341870642676        test accuracy: 78.125\n",
            "------------------------------------------------------------------------------------\n",
            "Cost after iteration 520: 0.5609330317677328        test accuracy: 78.125\n",
            "------------------------------------------------------------------------------------\n",
            "Cost after iteration 530: 0.5601589670964301        test accuracy: 78.125\n",
            "------------------------------------------------------------------------------------\n",
            "Cost after iteration 540: 0.5594109303416841        test accuracy: 78.125\n",
            "------------------------------------------------------------------------------------\n",
            "Cost after iteration 550: 0.5586879058085923        test accuracy: 78.125\n",
            "------------------------------------------------------------------------------------\n",
            "Cost after iteration 560: 0.5579889225366673        test accuracy: 78.125\n",
            "------------------------------------------------------------------------------------\n",
            "Cost after iteration 570: 0.557313052138527        test accuracy: 78.125\n",
            "------------------------------------------------------------------------------------\n",
            "Cost after iteration 580: 0.556659406750314        test accuracy: 78.125\n",
            "------------------------------------------------------------------------------------\n",
            "Cost after iteration 590: 0.5560271370877977        test accuracy: 78.125\n",
            "------------------------------------------------------------------------------------\n",
            "Cost after iteration 600: 0.5554154306025197        test accuracy: 78.125\n",
            "------------------------------------------------------------------------------------\n",
            "Cost after iteration 610: 0.5548235097325627        test accuracy: 78.125\n",
            "------------------------------------------------------------------------------------\n",
            "Cost after iteration 620: 0.5542506302428778        test accuracy: 78.125\n",
            "------------------------------------------------------------------------------------\n",
            "Cost after iteration 630: 0.5536960796503387        test accuracy: 78.125\n",
            "------------------------------------------------------------------------------------\n",
            "Cost after iteration 640: 0.5531591757290019        test accuracy: 78.125\n",
            "------------------------------------------------------------------------------------\n",
            "Cost after iteration 650: 0.5526392650912342        test accuracy: 78.125\n",
            "------------------------------------------------------------------------------------\n",
            "Cost after iteration 660: 0.5521357218406757        test accuracy: 78.125\n",
            "------------------------------------------------------------------------------------\n",
            "Cost after iteration 670: 0.5516479462931723        test accuracy: 78.125\n",
            "------------------------------------------------------------------------------------\n",
            "Cost after iteration 680: 0.551175363762073        test accuracy: 78.125\n",
            "------------------------------------------------------------------------------------\n",
            "Cost after iteration 690: 0.5507174234044252        test accuracy: 78.125\n",
            "------------------------------------------------------------------------------------\n",
            "Cost after iteration 700: 0.5502735971248645        test accuracy: 78.125\n",
            "------------------------------------------------------------------------------------\n",
            "Cost after iteration 710: 0.5498433785341134        test accuracy: 78.125\n",
            "------------------------------------------------------------------------------------\n",
            "Cost after iteration 720: 0.5494262819591865        test accuracy: 78.125\n",
            "------------------------------------------------------------------------------------\n",
            "Cost after iteration 730: 0.549021841502604        test accuracy: 78.125\n",
            "------------------------------------------------------------------------------------\n",
            "Cost after iteration 740: 0.5486296101479875        test accuracy: 78.125\n",
            "------------------------------------------------------------------------------------\n",
            "Cost after iteration 750: 0.5482491589096244        test accuracy: 78.125\n",
            "------------------------------------------------------------------------------------\n",
            "Cost after iteration 760: 0.5478800760236882        test accuracy: 78.125\n",
            "------------------------------------------------------------------------------------\n",
            "Cost after iteration 770: 0.5475219661789127        test accuracy: 78.125\n",
            "------------------------------------------------------------------------------------\n",
            "Cost after iteration 780: 0.5471744497847072        test accuracy: 78.125\n",
            "------------------------------------------------------------------------------------\n",
            "Cost after iteration 790: 0.5468371622747157        test accuracy: 78.125\n",
            "------------------------------------------------------------------------------------\n",
            "Cost after iteration 800: 0.5465097534439997        test accuracy: 78.125\n",
            "------------------------------------------------------------------------------------\n",
            "Cost after iteration 810: 0.5461918868181157        test accuracy: 78.125\n",
            "------------------------------------------------------------------------------------\n",
            "Cost after iteration 820: 0.5458832390524213        test accuracy: 78.125\n",
            "------------------------------------------------------------------------------------\n",
            "Cost after iteration 830: 0.5455834993600727        test accuracy: 78.125\n",
            "------------------------------------------------------------------------------------\n",
            "Cost after iteration 840: 0.5452923689672283        test accuracy: 78.125\n",
            "------------------------------------------------------------------------------------\n",
            "Cost after iteration 850: 0.5450095605940741        test accuracy: 78.125\n",
            "------------------------------------------------------------------------------------\n",
            "Cost after iteration 860: 0.5447347979603505        test accuracy: 78.125\n",
            "------------------------------------------------------------------------------------\n",
            "Cost after iteration 870: 0.5444678153141568        test accuracy: 78.125\n",
            "------------------------------------------------------------------------------------\n",
            "Cost after iteration 880: 0.5442083569828164        test accuracy: 78.125\n",
            "------------------------------------------------------------------------------------\n",
            "Cost after iteration 890: 0.5439561769447179        test accuracy: 78.125\n",
            "------------------------------------------------------------------------------------\n",
            "Cost after iteration 900: 0.5437110384210859        test accuracy: 78.125\n",
            "------------------------------------------------------------------------------------\n",
            "Cost after iteration 910: 0.5434727134866404        test accuracy: 78.125\n",
            "------------------------------------------------------------------------------------\n",
            "Cost after iteration 920: 0.5432409826982499        test accuracy: 78.125\n",
            "------------------------------------------------------------------------------------\n",
            "Cost after iteration 930: 0.5430156347406518        test accuracy: 78.125\n",
            "------------------------------------------------------------------------------------\n",
            "Cost after iteration 940: 0.5427964660883964        test accuracy: 78.125\n",
            "------------------------------------------------------------------------------------\n",
            "Cost after iteration 950: 0.5425832806832359        test accuracy: 78.125\n",
            "------------------------------------------------------------------------------------\n",
            "Cost after iteration 960: 0.542375889626154        test accuracy: 78.125\n",
            "------------------------------------------------------------------------------------\n",
            "Cost after iteration 970: 0.5421741108833672        test accuracy: 78.125\n",
            "------------------------------------------------------------------------------------\n",
            "Cost after iteration 980: 0.541977769005568        test accuracy: 78.125\n",
            "------------------------------------------------------------------------------------\n",
            "Cost after iteration 990: 0.5417866948598093        test accuracy: 78.125\n",
            "------------------------------------------------------------------------------------\n",
            "Cost after iteration 1000: 0.5416007253733734        test accuracy: 78.125\n",
            "------------------------------------------------------------------------------------\n"
          ]
        }
      ],
      "source": [
        "for i in range(len(cost_val_z3)):\n",
        "    print(f\"Cost after iteration {i * 10}: {cost_val_z3[i]}        test accuracy: {accur_val_z3[i] * 100}\")\n",
        "    print(\"------------------------------------------------------------------------------------\")"
      ]
    },
    {
      "cell_type": "code",
      "execution_count": null,
      "metadata": {
        "colab": {
          "base_uri": "https://localhost:8080/"
        },
        "id": "TPDQjIJHrnQI",
        "outputId": "6cf2c4ba-f0ae-4360-b179-b588ea88bcb3"
      },
      "outputs": [
        {
          "data": {
            "image/png": "[encoded data removed]",
            "text/plain": [
              "<Figure size 432x288 with 1 Axes>"
            ]
          },
          "metadata": {},
          "output_type": "display_data"
        }
      ],
      "source": [
        "plt.plot(cost_val_z3)\n",
        "plt.ylabel('cost_val')\n",
        "plt.xlabel('Iterations')\n",
        "plt.show()"
      ]
    },
    {
      "cell_type": "code",
      "execution_count": null,
      "metadata": {
        "colab": {
          "base_uri": "https://localhost:8080/"
        },
        "id": "UtFopCiWroaW",
        "outputId": "2462f553-e531-4a19-d7f1-8f4d669df3e3"
      },
      "outputs": [
        {
          "data": {
            "image/png": "[encoded data removed]",
            "text/plain": [
              "<Figure size 432x288 with 1 Axes>"
            ]
          },
          "metadata": {},
          "output_type": "display_data"
        }
      ],
      "source": [
        "plt.plot(accur_val_z3)\n",
        "plt.ylabel('Accuracy_val')\n",
        "plt.xlabel('Iterations')\n",
        "plt.show()"
      ]
    },
    {
      "cell_type": "markdown",
      "metadata": {
        "id": "NpcpdZcIrpq6"
      },
      "source": [
        "#**Implementing Model For 5-layer Random**"
      ]
    },
    {
      "cell_type": "code",
      "execution_count": null,
      "metadata": {
        "id": "pMNxhlxLrrUG"
      },
      "outputs": [],
      "source": [
        "def model_5layer_Random(X_train, y_train, X_val, y_val, epoch, learning_rate, print_cost=False):\n",
        "    param = initialize_parameter_layer_Random([X_train.shape[0], 50, 32, 16,  1])\n",
        "    param, cost_train, accur_train, cost_val, accur_val = costomize_nlayer(param , X_train, y_train, epoch, learning_rate, print_cost)\n",
        "    out = {\"cost_train\": cost_train,\"accur_train\": accur_train,  \"param\": param,\"learning_rate\" : learning_rate,\"epoch\": epoch}\n",
        "    return out, cost_val, accur_val"
      ]
    },
    {
      "cell_type": "markdown",
      "metadata": {
        "id": "1yQ5FUg3rxMo"
      },
      "source": [
        "#***Training the model 5-layer Random***"
      ]
    },
    {
      "cell_type": "code",
      "execution_count": null,
      "metadata": {
        "colab": {
          "base_uri": "https://localhost:8080/"
        },
        "id": "QX3H3T_XrxmI",
        "outputId": "e77d2cf4-263a-47b9-c279-07d519af5617"
      },
      "outputs": [
        {
          "name": "stdout",
          "output_type": "stream",
          "text": [
            "Cost iteration 0: 0.8013899218065826        train accuracy: 41.40624999999999\n",
            "------------------------------------------------------------------------------------\n",
            "Cost iteration 10: 0.7310648753839428        train accuracy: 49.479166666666664\n",
            "------------------------------------------------------------------------------------\n",
            "Cost iteration 20: 0.68291707099462        train accuracy: 57.03125\n",
            "------------------------------------------------------------------------------------\n",
            "Cost iteration 30: 0.64782991282858        train accuracy: 63.541666666666664\n",
            "------------------------------------------------------------------------------------\n",
            "Cost iteration 40: 0.6190401732447456        train accuracy: 69.53125\n",
            "------------------------------------------------------------------------------------\n",
            "Cost iteration 50: 0.5938229913698094        train accuracy: 71.875\n",
            "------------------------------------------------------------------------------------\n",
            "Cost iteration 60: 0.5700861187561291        train accuracy: 75.0\n",
            "------------------------------------------------------------------------------------\n",
            "Cost iteration 70: 0.5476015433693197        train accuracy: 76.5625\n",
            "------------------------------------------------------------------------------------\n",
            "Cost iteration 80: 0.5256513469595598        train accuracy: 77.34375\n",
            "------------------------------------------------------------------------------------\n",
            "Cost iteration 90: 0.5036025043134615        train accuracy: 78.38541666666667\n",
            "------------------------------------------------------------------------------------\n",
            "Cost iteration 100: 0.4817596713759867        train accuracy: 78.90625\n",
            "------------------------------------------------------------------------------------\n",
            "Cost iteration 110: 0.4607761630157984        train accuracy: 79.42708333333334\n",
            "------------------------------------------------------------------------------------\n",
            "Cost iteration 120: 0.4408796120786802        train accuracy: 79.6875\n",
            "------------------------------------------------------------------------------------\n",
            "Cost iteration 130: 0.42228051175799564        train accuracy: 80.98958333333334\n",
            "------------------------------------------------------------------------------------\n",
            "Cost iteration 140: 0.4041409807468441        train accuracy: 81.77083333333334\n",
            "------------------------------------------------------------------------------------\n",
            "Cost iteration 150: 0.3869060213658325        train accuracy: 82.55208333333334\n",
            "------------------------------------------------------------------------------------\n",
            "Cost iteration 160: 0.3712800427506755        train accuracy: 83.33333333333334\n",
            "------------------------------------------------------------------------------------\n",
            "Cost iteration 170: 0.357379775019357        train accuracy: 84.375\n",
            "------------------------------------------------------------------------------------\n",
            "Cost iteration 180: 0.34432231448741196        train accuracy: 85.67708333333334\n",
            "------------------------------------------------------------------------------------\n",
            "Cost iteration 190: 0.3323888435215735        train accuracy: 86.45833333333334\n",
            "------------------------------------------------------------------------------------\n",
            "Cost iteration 200: 0.3212572939471583        train accuracy: 87.23958333333334\n",
            "------------------------------------------------------------------------------------\n",
            "Cost iteration 210: 0.3109546278134979        train accuracy: 88.02083333333334\n",
            "------------------------------------------------------------------------------------\n",
            "Cost iteration 220: 0.30070546174671886        train accuracy: 88.28125\n",
            "------------------------------------------------------------------------------------\n",
            "Cost iteration 230: 0.29111460870015626        train accuracy: 88.28125\n",
            "------------------------------------------------------------------------------------\n",
            "Cost iteration 240: 0.2822041244056381        train accuracy: 88.80208333333334\n",
            "------------------------------------------------------------------------------------\n",
            "Cost iteration 250: 0.2737166061023748        train accuracy: 89.32291666666667\n",
            "------------------------------------------------------------------------------------\n",
            "Cost iteration 260: 0.2655126186886552        train accuracy: 89.32291666666667\n",
            "------------------------------------------------------------------------------------\n",
            "Cost iteration 270: 0.25775968900124413        train accuracy: 90.10416666666667\n",
            "------------------------------------------------------------------------------------\n",
            "Cost iteration 280: 0.2503423475907829        train accuracy: 90.36458333333334\n",
            "------------------------------------------------------------------------------------\n",
            "Cost iteration 290: 0.2435247340100019        train accuracy: 90.625\n",
            "------------------------------------------------------------------------------------\n",
            "Cost iteration 300: 0.23721017926476612        train accuracy: 90.625\n",
            "------------------------------------------------------------------------------------\n",
            "Cost iteration 310: 0.2309703813120312        train accuracy: 90.625\n",
            "------------------------------------------------------------------------------------\n",
            "Cost iteration 320: 0.2251057135215241        train accuracy: 90.88541666666667\n",
            "------------------------------------------------------------------------------------\n",
            "Cost iteration 330: 0.21962739376807533        train accuracy: 91.40625\n",
            "------------------------------------------------------------------------------------\n",
            "Cost iteration 340: 0.21454274450810795        train accuracy: 91.66666666666667\n",
            "------------------------------------------------------------------------------------\n",
            "Cost iteration 350: 0.2096888567179909        train accuracy: 91.66666666666667\n",
            "------------------------------------------------------------------------------------\n",
            "Cost iteration 360: 0.20502630969679592        train accuracy: 91.66666666666667\n",
            "------------------------------------------------------------------------------------\n",
            "Cost iteration 370: 0.20047306793907327        train accuracy: 92.1875\n",
            "------------------------------------------------------------------------------------\n",
            "Cost iteration 380: 0.19611809629341953        train accuracy: 92.44791666666667\n",
            "------------------------------------------------------------------------------------\n",
            "Cost iteration 390: 0.19203674285940955        train accuracy: 92.44791666666667\n",
            "------------------------------------------------------------------------------------\n",
            "Cost iteration 400: 0.18819651438470333        train accuracy: 92.70833333333334\n",
            "------------------------------------------------------------------------------------\n",
            "Cost iteration 410: 0.18452639079320937        train accuracy: 92.70833333333334\n",
            "------------------------------------------------------------------------------------\n",
            "Cost iteration 420: 0.1809564608101515        train accuracy: 92.96875\n",
            "------------------------------------------------------------------------------------\n",
            "Cost iteration 430: 0.17755919891676875        train accuracy: 93.22916666666667\n",
            "------------------------------------------------------------------------------------\n",
            "Cost iteration 440: 0.17435573864977397        train accuracy: 93.48958333333334\n",
            "------------------------------------------------------------------------------------\n",
            "Cost iteration 450: 0.17129138894504384        train accuracy: 93.48958333333334\n",
            "------------------------------------------------------------------------------------\n",
            "Cost iteration 460: 0.16828776518883193        train accuracy: 93.48958333333334\n",
            "------------------------------------------------------------------------------------\n",
            "Cost iteration 470: 0.16523443816996358        train accuracy: 93.48958333333334\n",
            "------------------------------------------------------------------------------------\n",
            "Cost iteration 480: 0.1623733012668045        train accuracy: 93.48958333333334\n",
            "------------------------------------------------------------------------------------\n",
            "Cost iteration 490: 0.15966408805266652        train accuracy: 94.27083333333334\n",
            "------------------------------------------------------------------------------------\n",
            "Cost iteration 500: 0.1570873029360211        train accuracy: 95.05208333333334\n",
            "------------------------------------------------------------------------------------\n",
            "Cost iteration 510: 0.15458375277488878        train accuracy: 95.05208333333334\n",
            "------------------------------------------------------------------------------------\n",
            "Cost iteration 520: 0.1522112333805867        train accuracy: 95.57291666666667\n",
            "------------------------------------------------------------------------------------\n",
            "Cost iteration 530: 0.14982018928305355        train accuracy: 95.57291666666667\n",
            "------------------------------------------------------------------------------------\n",
            "Cost iteration 540: 0.14749838019124695        train accuracy: 95.57291666666667\n",
            "------------------------------------------------------------------------------------\n",
            "Cost iteration 550: 0.1452687688142918        train accuracy: 95.83333333333334\n",
            "------------------------------------------------------------------------------------\n",
            "Cost iteration 560: 0.14307952477947966        train accuracy: 95.83333333333334\n",
            "------------------------------------------------------------------------------------\n",
            "Cost iteration 570: 0.1407696292476708        train accuracy: 96.09375\n",
            "------------------------------------------------------------------------------------\n",
            "Cost iteration 580: 0.13858777574921383        train accuracy: 96.35416666666667\n",
            "------------------------------------------------------------------------------------\n",
            "Cost iteration 590: 0.1365088378532464        train accuracy: 96.35416666666667\n",
            "------------------------------------------------------------------------------------\n",
            "Cost iteration 600: 0.13452698457873097        train accuracy: 96.09375\n",
            "------------------------------------------------------------------------------------\n",
            "Cost iteration 610: 0.13260937028729813        train accuracy: 96.09375\n",
            "------------------------------------------------------------------------------------\n",
            "Cost iteration 620: 0.13078337818304503        train accuracy: 96.09375\n",
            "------------------------------------------------------------------------------------\n",
            "Cost iteration 630: 0.1290019560131626        train accuracy: 96.09375\n",
            "------------------------------------------------------------------------------------\n",
            "Cost iteration 640: 0.12725730465845014        train accuracy: 96.09375\n",
            "------------------------------------------------------------------------------------\n",
            "Cost iteration 650: 0.1255851852291388        train accuracy: 96.35416666666667\n",
            "------------------------------------------------------------------------------------\n",
            "Cost iteration 660: 0.12398014849454221        train accuracy: 96.35416666666667\n",
            "------------------------------------------------------------------------------------\n",
            "Cost iteration 670: 0.1223318845629579        train accuracy: 96.61458333333334\n",
            "------------------------------------------------------------------------------------\n",
            "Cost iteration 680: 0.12072388942481702        train accuracy: 96.61458333333334\n",
            "------------------------------------------------------------------------------------\n",
            "Cost iteration 690: 0.11916348421147818        train accuracy: 96.875\n",
            "------------------------------------------------------------------------------------\n",
            "Cost iteration 700: 0.11764494853711341        train accuracy: 97.13541666666667\n",
            "------------------------------------------------------------------------------------\n",
            "Cost iteration 710: 0.11617035655883468        train accuracy: 97.13541666666667\n",
            "------------------------------------------------------------------------------------\n",
            "Cost iteration 720: 0.1147288023043005        train accuracy: 97.13541666666667\n",
            "------------------------------------------------------------------------------------\n",
            "Cost iteration 730: 0.1133163301924567        train accuracy: 97.13541666666667\n",
            "------------------------------------------------------------------------------------\n",
            "Cost iteration 740: 0.11192031113655106        train accuracy: 97.13541666666667\n",
            "------------------------------------------------------------------------------------\n",
            "Cost iteration 750: 0.11048406065438766        train accuracy: 97.13541666666667\n",
            "------------------------------------------------------------------------------------\n",
            "Cost iteration 760: 0.10910202313488668        train accuracy: 97.13541666666667\n",
            "------------------------------------------------------------------------------------\n",
            "Cost iteration 770: 0.10775665231195675        train accuracy: 97.13541666666667\n",
            "------------------------------------------------------------------------------------\n",
            "Cost iteration 780: 0.10645177531543622        train accuracy: 97.13541666666667\n",
            "------------------------------------------------------------------------------------\n",
            "Cost iteration 790: 0.10519695374091899        train accuracy: 97.13541666666667\n",
            "------------------------------------------------------------------------------------\n",
            "Cost iteration 800: 0.10396584100853459        train accuracy: 97.13541666666667\n",
            "------------------------------------------------------------------------------------\n",
            "Cost iteration 810: 0.1027417876200277        train accuracy: 97.13541666666667\n",
            "------------------------------------------------------------------------------------\n",
            "Cost iteration 820: 0.1015518882480464        train accuracy: 97.13541666666667\n",
            "------------------------------------------------------------------------------------\n",
            "Cost iteration 830: 0.1003992633550225        train accuracy: 97.13541666666667\n",
            "------------------------------------------------------------------------------------\n",
            "Cost iteration 840: 0.09926899779501103        train accuracy: 97.13541666666667\n",
            "------------------------------------------------------------------------------------\n",
            "Cost iteration 850: 0.09812882328416674        train accuracy: 97.39583333333334\n",
            "------------------------------------------------------------------------------------\n",
            "Cost iteration 860: 0.09703348760385389        train accuracy: 97.39583333333334\n",
            "------------------------------------------------------------------------------------\n",
            "Cost iteration 870: 0.09597965243205545        train accuracy: 97.39583333333334\n",
            "------------------------------------------------------------------------------------\n",
            "Cost iteration 880: 0.09496896471712893        train accuracy: 97.65625\n",
            "------------------------------------------------------------------------------------\n",
            "Cost iteration 890: 0.09396554346651537        train accuracy: 97.65625\n",
            "------------------------------------------------------------------------------------\n",
            "Cost iteration 900: 0.09297662107273974        train accuracy: 97.65625\n",
            "------------------------------------------------------------------------------------\n",
            "Cost iteration 910: 0.09202323255119968        train accuracy: 97.91666666666667\n",
            "------------------------------------------------------------------------------------\n",
            "Cost iteration 920: 0.09110049093714395        train accuracy: 97.91666666666667\n",
            "------------------------------------------------------------------------------------\n",
            "Cost iteration 930: 0.09020373723214388        train accuracy: 97.91666666666667\n",
            "------------------------------------------------------------------------------------\n",
            "Cost iteration 940: 0.08932640832533358        train accuracy: 97.91666666666667\n",
            "------------------------------------------------------------------------------------\n",
            "Cost iteration 950: 0.08846786661580654        train accuracy: 97.91666666666667\n",
            "------------------------------------------------------------------------------------\n",
            "Cost iteration 960: 0.087630027358543        train accuracy: 97.91666666666667\n",
            "------------------------------------------------------------------------------------\n",
            "Cost iteration 970: 0.08680294329435802        train accuracy: 97.91666666666667\n",
            "------------------------------------------------------------------------------------\n",
            "Cost iteration 980: 0.08598945454002672        train accuracy: 97.91666666666667\n",
            "------------------------------------------------------------------------------------\n",
            "Cost iteration 990: 0.08519070014739255        train accuracy: 97.91666666666667\n",
            "------------------------------------------------------------------------------------\n",
            "Cost iteration 1000: 0.08441201530025201        train accuracy: 97.91666666666667\n",
            "------------------------------------------------------------------------------------\n"
          ]
        }
      ],
      "source": [
        "model_output_5layer_Random, cost_val_r5, accur_val_r5 = model_5layer_Random(X_train, y_train, X_val, y_val, epoch=1000, learning_rate= 0.01, print_cost=True)"
      ]
    },
    {
      "cell_type": "code",
      "execution_count": null,
      "metadata": {
        "colab": {
          "base_uri": "https://localhost:8080/"
        },
        "id": "HhPbAiJrrzXF",
        "outputId": "b692a248-2b6c-49d2-c6f9-73ef00c8f317"
      },
      "outputs": [
        {
          "data": {
            "image/png": "[encoded data removed]",
            "text/plain": [
              "<Figure size 432x288 with 1 Axes>"
            ]
          },
          "metadata": {},
          "output_type": "display_data"
        }
      ],
      "source": [
        "plt.plot(model_output_5layer_Random['cost_train'])\n",
        "plt.ylabel('cost_train')\n",
        "plt.xlabel('Iterations')\n",
        "plt.show()"
      ]
    },
    {
      "cell_type": "code",
      "execution_count": null,
      "metadata": {
        "colab": {
          "base_uri": "https://localhost:8080/"
        },
        "id": "uWuOL7ONrzfN",
        "outputId": "45fd0f6c-5454-4e41-ba61-9afaf9630790"
      },
      "outputs": [
        {
          "data": {
            "image/png": "[encoded data removed]",
            "text/plain": [
              "<Figure size 432x288 with 1 Axes>"
            ]
          },
          "metadata": {},
          "output_type": "display_data"
        }
      ],
      "source": [
        "plt.plot(np.squeeze(model_output_5layer_Random['accur_train']))\n",
        "plt.ylabel('Accuracy_train')\n",
        "plt.xlabel('Iterations')\n",
        "plt.show()"
      ]
    },
    {
      "cell_type": "markdown",
      "metadata": {
        "id": "YZTdqh48r2Ub"
      },
      "source": [
        "#***Evaluating the model 5-layer Random***"
      ]
    },
    {
      "cell_type": "code",
      "execution_count": null,
      "metadata": {
        "colab": {
          "base_uri": "https://localhost:8080/"
        },
        "id": "-iZ5flHQr4I7",
        "outputId": "67d90732-7701-411c-967c-110eda0ab07d"
      },
      "outputs": [
        {
          "name": "stdout",
          "output_type": "stream",
          "text": [
            "Cost after iteration 0: 0.8001758553657564        test accuracy: 41.666666666666664\n",
            "------------------------------------------------------------------------------------\n",
            "Cost after iteration 10: 0.7259301033805705        test accuracy: 44.791666666666664\n",
            "------------------------------------------------------------------------------------\n",
            "Cost after iteration 20: 0.675010162954244        test accuracy: 51.041666666666664\n",
            "------------------------------------------------------------------------------------\n",
            "Cost after iteration 30: 0.6372789202325063        test accuracy: 61.45833333333333\n",
            "------------------------------------------------------------------------------------\n",
            "Cost after iteration 40: 0.6062206999628454        test accuracy: 62.5\n",
            "------------------------------------------------------------------------------------\n",
            "Cost after iteration 50: 0.5791751953507394        test accuracy: 68.75\n",
            "------------------------------------------------------------------------------------\n",
            "Cost after iteration 60: 0.5546164558426648        test accuracy: 70.83333333333333\n",
            "------------------------------------------------------------------------------------\n",
            "Cost after iteration 70: 0.531825022516814        test accuracy: 72.91666666666666\n",
            "------------------------------------------------------------------------------------\n",
            "Cost after iteration 80: 0.509356255633491        test accuracy: 76.04166666666667\n",
            "------------------------------------------------------------------------------------\n",
            "Cost after iteration 90: 0.4883520497881076        test accuracy: 77.08333333333334\n",
            "------------------------------------------------------------------------------------\n",
            "Cost after iteration 100: 0.4678399842293559        test accuracy: 77.08333333333334\n",
            "------------------------------------------------------------------------------------\n",
            "Cost after iteration 110: 0.4482157332695798        test accuracy: 77.08333333333334\n",
            "------------------------------------------------------------------------------------\n",
            "Cost after iteration 120: 0.4299118090805572        test accuracy: 79.16666666666666\n",
            "------------------------------------------------------------------------------------\n",
            "Cost after iteration 130: 0.4122726534067437        test accuracy: 80.20833333333333\n",
            "------------------------------------------------------------------------------------\n",
            "Cost after iteration 140: 0.39508890682438447        test accuracy: 81.25\n",
            "------------------------------------------------------------------------------------\n",
            "Cost after iteration 150: 0.37872082849722843        test accuracy: 82.29166666666667\n",
            "------------------------------------------------------------------------------------\n",
            "Cost after iteration 160: 0.3640630088053849        test accuracy: 83.33333333333334\n",
            "------------------------------------------------------------------------------------\n",
            "Cost after iteration 170: 0.35130708038096375        test accuracy: 82.29166666666667\n",
            "------------------------------------------------------------------------------------\n",
            "Cost after iteration 180: 0.33980983249139574        test accuracy: 82.29166666666667\n",
            "------------------------------------------------------------------------------------\n",
            "Cost after iteration 190: 0.3292687811193765        test accuracy: 83.33333333333334\n",
            "------------------------------------------------------------------------------------\n",
            "Cost after iteration 200: 0.3195410744908118        test accuracy: 83.33333333333334\n",
            "------------------------------------------------------------------------------------\n",
            "Cost after iteration 210: 0.3104134653610562        test accuracy: 83.33333333333334\n",
            "------------------------------------------------------------------------------------\n",
            "Cost after iteration 220: 0.30132651420327794        test accuracy: 83.33333333333334\n",
            "------------------------------------------------------------------------------------\n",
            "Cost after iteration 230: 0.29303441541767683        test accuracy: 84.375\n",
            "------------------------------------------------------------------------------------\n",
            "Cost after iteration 240: 0.28548441482553644        test accuracy: 85.41666666666667\n",
            "------------------------------------------------------------------------------------\n",
            "Cost after iteration 250: 0.2786190002754563        test accuracy: 85.41666666666667\n",
            "------------------------------------------------------------------------------------\n",
            "Cost after iteration 260: 0.27221568178897226        test accuracy: 84.375\n",
            "------------------------------------------------------------------------------------\n",
            "Cost after iteration 270: 0.266505603149603        test accuracy: 85.41666666666667\n",
            "------------------------------------------------------------------------------------\n",
            "Cost after iteration 280: 0.26143106257195925        test accuracy: 85.41666666666667\n",
            "------------------------------------------------------------------------------------\n",
            "Cost after iteration 290: 0.25710958381199855        test accuracy: 85.41666666666667\n",
            "------------------------------------------------------------------------------------\n",
            "Cost after iteration 300: 0.2534206274720916        test accuracy: 85.41666666666667\n",
            "------------------------------------------------------------------------------------\n",
            "Cost after iteration 310: 0.2499150110829766        test accuracy: 85.41666666666667\n",
            "------------------------------------------------------------------------------------\n",
            "Cost after iteration 320: 0.24658063124265595        test accuracy: 85.41666666666667\n",
            "------------------------------------------------------------------------------------\n",
            "Cost after iteration 330: 0.24348059893399157        test accuracy: 85.41666666666667\n",
            "------------------------------------------------------------------------------------\n",
            "Cost after iteration 340: 0.24081386285182704        test accuracy: 85.41666666666667\n",
            "------------------------------------------------------------------------------------\n",
            "Cost after iteration 350: 0.23832320568066134        test accuracy: 85.41666666666667\n",
            "------------------------------------------------------------------------------------\n",
            "Cost after iteration 360: 0.23586892414573596        test accuracy: 85.41666666666667\n",
            "------------------------------------------------------------------------------------\n",
            "Cost after iteration 370: 0.23346441981371907        test accuracy: 85.41666666666667\n",
            "------------------------------------------------------------------------------------\n",
            "Cost after iteration 380: 0.2313235484646866        test accuracy: 84.375\n",
            "------------------------------------------------------------------------------------\n",
            "Cost after iteration 390: 0.2294088803342438        test accuracy: 85.41666666666667\n",
            "------------------------------------------------------------------------------------\n",
            "Cost after iteration 400: 0.2276961307428037        test accuracy: 86.45833333333334\n",
            "------------------------------------------------------------------------------------\n",
            "Cost after iteration 410: 0.22610664749747994        test accuracy: 86.45833333333334\n",
            "------------------------------------------------------------------------------------\n",
            "Cost after iteration 420: 0.2247836139319171        test accuracy: 86.45833333333334\n",
            "------------------------------------------------------------------------------------\n",
            "Cost after iteration 430: 0.22351929794957837        test accuracy: 86.45833333333334\n",
            "------------------------------------------------------------------------------------\n",
            "Cost after iteration 440: 0.22233739389369456        test accuracy: 86.45833333333334\n",
            "------------------------------------------------------------------------------------\n",
            "Cost after iteration 450: 0.2212627100945144        test accuracy: 86.45833333333334\n",
            "------------------------------------------------------------------------------------\n",
            "Cost after iteration 460: 0.22027920636406031        test accuracy: 87.5\n",
            "------------------------------------------------------------------------------------\n",
            "Cost after iteration 470: 0.21927364243187097        test accuracy: 87.5\n",
            "------------------------------------------------------------------------------------\n",
            "Cost after iteration 480: 0.2184126712695214        test accuracy: 88.54166666666667\n",
            "------------------------------------------------------------------------------------\n",
            "Cost after iteration 490: 0.2175995724180706        test accuracy: 88.54166666666667\n",
            "------------------------------------------------------------------------------------\n",
            "Cost after iteration 500: 0.21690813019826655        test accuracy: 88.54166666666667\n",
            "------------------------------------------------------------------------------------\n",
            "Cost after iteration 510: 0.21631018646893832        test accuracy: 89.58333333333334\n",
            "------------------------------------------------------------------------------------\n",
            "Cost after iteration 520: 0.2156703694610158        test accuracy: 89.58333333333334\n",
            "------------------------------------------------------------------------------------\n",
            "Cost after iteration 530: 0.21523388375963842        test accuracy: 89.58333333333334\n",
            "------------------------------------------------------------------------------------\n",
            "Cost after iteration 540: 0.21479856105940254        test accuracy: 89.58333333333334\n",
            "------------------------------------------------------------------------------------\n",
            "Cost after iteration 550: 0.2143445877178241        test accuracy: 89.58333333333334\n",
            "------------------------------------------------------------------------------------\n",
            "Cost after iteration 560: 0.21395480981527754        test accuracy: 89.58333333333334\n",
            "------------------------------------------------------------------------------------\n",
            "Cost after iteration 570: 0.21371170937664002        test accuracy: 89.58333333333334\n",
            "------------------------------------------------------------------------------------\n",
            "Cost after iteration 580: 0.2135518382954487        test accuracy: 89.58333333333334\n",
            "------------------------------------------------------------------------------------\n",
            "Cost after iteration 590: 0.21345497436721145        test accuracy: 89.58333333333334\n",
            "------------------------------------------------------------------------------------\n",
            "Cost after iteration 600: 0.21337808875609468        test accuracy: 89.58333333333334\n",
            "------------------------------------------------------------------------------------\n",
            "Cost after iteration 610: 0.21332224636976627        test accuracy: 89.58333333333334\n",
            "------------------------------------------------------------------------------------\n",
            "Cost after iteration 620: 0.21329360121141627        test accuracy: 89.58333333333334\n",
            "------------------------------------------------------------------------------------\n",
            "Cost after iteration 630: 0.21332281917691368        test accuracy: 89.58333333333334\n",
            "------------------------------------------------------------------------------------\n",
            "Cost after iteration 640: 0.21342735989640255        test accuracy: 89.58333333333334\n",
            "------------------------------------------------------------------------------------\n",
            "Cost after iteration 650: 0.21351895423929956        test accuracy: 89.58333333333334\n",
            "------------------------------------------------------------------------------------\n",
            "Cost after iteration 660: 0.21358155361774062        test accuracy: 89.58333333333334\n",
            "------------------------------------------------------------------------------------\n",
            "Cost after iteration 670: 0.21379862273257938        test accuracy: 89.58333333333334\n",
            "------------------------------------------------------------------------------------\n",
            "Cost after iteration 680: 0.21401278178668873        test accuracy: 89.58333333333334\n",
            "------------------------------------------------------------------------------------\n",
            "Cost after iteration 690: 0.2142464405394523        test accuracy: 89.58333333333334\n",
            "------------------------------------------------------------------------------------\n",
            "Cost after iteration 700: 0.21447477581216148        test accuracy: 89.58333333333334\n",
            "------------------------------------------------------------------------------------\n",
            "Cost after iteration 710: 0.21469440274047163        test accuracy: 89.58333333333334\n",
            "------------------------------------------------------------------------------------\n",
            "Cost after iteration 720: 0.21491300672357033        test accuracy: 89.58333333333334\n",
            "------------------------------------------------------------------------------------\n",
            "Cost after iteration 730: 0.21519398301531362        test accuracy: 89.58333333333334\n",
            "------------------------------------------------------------------------------------\n",
            "Cost after iteration 740: 0.21549275300155404        test accuracy: 89.58333333333334\n",
            "------------------------------------------------------------------------------------\n",
            "Cost after iteration 750: 0.2158376401329464        test accuracy: 89.58333333333334\n",
            "------------------------------------------------------------------------------------\n",
            "Cost after iteration 760: 0.21613315520311288        test accuracy: 89.58333333333334\n",
            "------------------------------------------------------------------------------------\n",
            "Cost after iteration 770: 0.21634000764222838        test accuracy: 89.58333333333334\n",
            "------------------------------------------------------------------------------------\n",
            "Cost after iteration 780: 0.21653151403679044        test accuracy: 89.58333333333334\n",
            "------------------------------------------------------------------------------------\n",
            "Cost after iteration 790: 0.21667151203015958        test accuracy: 88.54166666666667\n",
            "------------------------------------------------------------------------------------\n",
            "Cost after iteration 800: 0.2168763922666645        test accuracy: 88.54166666666667\n",
            "------------------------------------------------------------------------------------\n",
            "Cost after iteration 810: 0.21711112859327475        test accuracy: 88.54166666666667\n",
            "------------------------------------------------------------------------------------\n",
            "Cost after iteration 820: 0.21737819652406487        test accuracy: 88.54166666666667\n",
            "------------------------------------------------------------------------------------\n",
            "Cost after iteration 830: 0.21761219684395655        test accuracy: 88.54166666666667\n",
            "------------------------------------------------------------------------------------\n",
            "Cost after iteration 840: 0.21790591183421418        test accuracy: 89.58333333333334\n",
            "------------------------------------------------------------------------------------\n",
            "Cost after iteration 850: 0.21818752320220797        test accuracy: 89.58333333333334\n",
            "------------------------------------------------------------------------------------\n",
            "Cost after iteration 860: 0.2184539119480688        test accuracy: 89.58333333333334\n",
            "------------------------------------------------------------------------------------\n",
            "Cost after iteration 870: 0.21869602930009413        test accuracy: 89.58333333333334\n",
            "------------------------------------------------------------------------------------\n",
            "Cost after iteration 880: 0.21890045505846356        test accuracy: 89.58333333333334\n",
            "------------------------------------------------------------------------------------\n",
            "Cost after iteration 890: 0.21916906867273148        test accuracy: 89.58333333333334\n",
            "------------------------------------------------------------------------------------\n",
            "Cost after iteration 900: 0.2194508291423787        test accuracy: 89.58333333333334\n",
            "------------------------------------------------------------------------------------\n",
            "Cost after iteration 910: 0.21973968729056442        test accuracy: 89.58333333333334\n",
            "------------------------------------------------------------------------------------\n",
            "Cost after iteration 920: 0.21999061461036495        test accuracy: 89.58333333333334\n",
            "------------------------------------------------------------------------------------\n",
            "Cost after iteration 930: 0.22027376354589956        test accuracy: 89.58333333333334\n",
            "------------------------------------------------------------------------------------\n",
            "Cost after iteration 940: 0.22055118874460372        test accuracy: 89.58333333333334\n",
            "------------------------------------------------------------------------------------\n",
            "Cost after iteration 950: 0.22080728654394238        test accuracy: 89.58333333333334\n",
            "------------------------------------------------------------------------------------\n",
            "Cost after iteration 960: 0.22100799786342853        test accuracy: 89.58333333333334\n",
            "------------------------------------------------------------------------------------\n",
            "Cost after iteration 970: 0.22117429375601871        test accuracy: 89.58333333333334\n",
            "------------------------------------------------------------------------------------\n",
            "Cost after iteration 980: 0.2213103146850868        test accuracy: 89.58333333333334\n",
            "------------------------------------------------------------------------------------\n",
            "Cost after iteration 990: 0.2214605980166658        test accuracy: 89.58333333333334\n",
            "------------------------------------------------------------------------------------\n",
            "Cost after iteration 1000: 0.2216086750887132        test accuracy: 89.58333333333334\n",
            "------------------------------------------------------------------------------------\n"
          ]
        }
      ],
      "source": [
        "for i in range(len(cost_val_r5)):\n",
        "    print(f\"Cost after iteration {i * 10}: {cost_val_r5[i]}        test accuracy: {accur_val_r5[i] * 100}\")\n",
        "    print(\"------------------------------------------------------------------------------------\")"
      ]
    },
    {
      "cell_type": "code",
      "execution_count": null,
      "metadata": {
        "colab": {
          "base_uri": "https://localhost:8080/"
        },
        "id": "z1VL1WJOr5hv",
        "outputId": "9b2b9f35-7405-483d-b96f-fd0df184ffa3"
      },
      "outputs": [
        {
          "data": {
            "image/png": "[encoded data removed]",
            "text/plain": [
              "<Figure size 432x288 with 1 Axes>"
            ]
          },
          "metadata": {},
          "output_type": "display_data"
        }
      ],
      "source": [
        "plt.plot(cost_val_r5)\n",
        "plt.ylabel('cost_val')\n",
        "plt.xlabel('Iterations')\n",
        "plt.show()"
      ]
    },
    {
      "cell_type": "code",
      "execution_count": null,
      "metadata": {
        "colab": {
          "base_uri": "https://localhost:8080/"
        },
        "id": "GZ4YzPyar63I",
        "outputId": "a12ea0a6-2725-46c5-83c6-af647322978b"
      },
      "outputs": [
        {
          "data": {
            "image/png": "[encoded data removed]",
            "text/plain": [
              "<Figure size 432x288 with 1 Axes>"
            ]
          },
          "metadata": {},
          "output_type": "display_data"
        }
      ],
      "source": [
        "plt.plot(accur_val_r5)\n",
        "plt.ylabel('Accuracy_val')\n",
        "plt.xlabel('Iterations')\n",
        "plt.show()"
      ]
    },
    {
      "cell_type": "markdown",
      "metadata": {
        "id": "QTh11u0Hr9hQ"
      },
      "source": [
        "#**Implementing Model For 5-layer zero**"
      ]
    },
    {
      "cell_type": "code",
      "execution_count": null,
      "metadata": {
        "id": "iWEqRTJMr92I"
      },
      "outputs": [],
      "source": [
        "def model_5layer_zero(X_train, y_train, X_val, y_val, epoch, learning_rate, print_cost=False):\n",
        "    param = initialize_parameter_layer_zero([X_train.shape[0], 50, 32, 16,  1])\n",
        "    param, cost_train, accur_train, cost_val, accur_val = costomize_nlayer(param , X_train, y_train, epoch, learning_rate, print_cost)\n",
        "    out = {\"cost_train\": cost_train,\"accur_train\": accur_train,  \"param\": param,\"learning_rate\" : learning_rate,\"epoch\": epoch}\n",
        "    return out, cost_val, accur_val"
      ]
    },
    {
      "cell_type": "markdown",
      "metadata": {
        "id": "xLUBW0DssDTh"
      },
      "source": [
        "#***Training the model 5-layer zero***"
      ]
    },
    {
      "cell_type": "code",
      "execution_count": null,
      "metadata": {
        "colab": {
          "base_uri": "https://localhost:8080/"
        },
        "id": "V2DL9b2qsDr3",
        "outputId": "e7112221-4aef-424d-d015-366878a56445"
      },
      "outputs": [
        {
          "name": "stdout",
          "output_type": "stream",
          "text": [
            "Cost iteration 0: 0.6931471805599467        train accuracy: 72.39583333333333\n",
            "------------------------------------------------------------------------------------\n",
            "Cost iteration 10: 0.6882488004441849        train accuracy: 72.39583333333333\n",
            "------------------------------------------------------------------------------------\n",
            "Cost iteration 20: 0.6835895772859752        train accuracy: 72.39583333333333\n",
            "------------------------------------------------------------------------------------\n",
            "Cost iteration 30: 0.6791577573415594        train accuracy: 72.39583333333333\n",
            "------------------------------------------------------------------------------------\n",
            "Cost iteration 40: 0.6749421226199523        train accuracy: 72.39583333333333\n",
            "------------------------------------------------------------------------------------\n",
            "Cost iteration 50: 0.6709319742140873        train accuracy: 72.39583333333333\n",
            "------------------------------------------------------------------------------------\n",
            "Cost iteration 60: 0.6671171149994592        train accuracy: 72.39583333333333\n",
            "------------------------------------------------------------------------------------\n",
            "Cost iteration 70: 0.6634878319049347        train accuracy: 72.39583333333333\n",
            "------------------------------------------------------------------------------------\n",
            "Cost iteration 80: 0.6600348779340649        train accuracy: 72.39583333333333\n",
            "------------------------------------------------------------------------------------\n",
            "Cost iteration 90: 0.6567494540908319        train accuracy: 72.39583333333333\n",
            "------------------------------------------------------------------------------------\n",
            "Cost iteration 100: 0.653623191342058        train accuracy: 72.39583333333333\n",
            "------------------------------------------------------------------------------------\n",
            "Cost iteration 110: 0.650648132728284        train accuracy: 72.39583333333333\n",
            "------------------------------------------------------------------------------------\n",
            "Cost iteration 120: 0.6478167157173367        train accuracy: 72.39583333333333\n",
            "------------------------------------------------------------------------------------\n",
            "Cost iteration 130: 0.645121754878447        train accuracy: 72.39583333333333\n",
            "------------------------------------------------------------------------------------\n",
            "Cost iteration 140: 0.6425564249406588        train accuracy: 72.39583333333333\n",
            "------------------------------------------------------------------------------------\n",
            "Cost iteration 150: 0.640114244286608        train accuracy: 72.39583333333333\n",
            "------------------------------------------------------------------------------------\n",
            "Cost iteration 160: 0.6377890589216392        train accuracy: 72.39583333333333\n",
            "------------------------------------------------------------------------------------\n",
            "Cost iteration 170: 0.6355750269486312        train accuracy: 72.39583333333333\n",
            "------------------------------------------------------------------------------------\n",
            "Cost iteration 180: 0.6334666035704857        train accuracy: 72.39583333333333\n",
            "------------------------------------------------------------------------------------\n",
            "Cost iteration 190: 0.6314585266348347        train accuracy: 72.39583333333333\n",
            "------------------------------------------------------------------------------------\n",
            "Cost iteration 200: 0.6295458027297206        train accuracy: 72.39583333333333\n",
            "------------------------------------------------------------------------------------\n",
            "Cost iteration 210: 0.6277236938332211        train accuracy: 72.39583333333333\n",
            "------------------------------------------------------------------------------------\n",
            "Cost iteration 220: 0.6259877045160145        train accuracy: 72.39583333333333\n",
            "------------------------------------------------------------------------------------\n",
            "Cost iteration 230: 0.6243335696918717        train accuracy: 72.39583333333333\n",
            "------------------------------------------------------------------------------------\n",
            "Cost iteration 240: 0.6227572429081153        train accuracy: 72.39583333333333\n",
            "------------------------------------------------------------------------------------\n",
            "Cost iteration 250: 0.6212548851654764        train accuracy: 72.39583333333333\n",
            "------------------------------------------------------------------------------------\n",
            "Cost iteration 260: 0.61982285425508        train accuracy: 72.39583333333333\n",
            "------------------------------------------------------------------------------------\n",
            "Cost iteration 270: 0.6184576945981544        train accuracy: 72.39583333333333\n",
            "------------------------------------------------------------------------------------\n",
            "Cost iteration 280: 0.6171561275734558        train accuracy: 72.39583333333333\n",
            "------------------------------------------------------------------------------------\n",
            "Cost iteration 290: 0.6159150423160289        train accuracy: 72.39583333333333\n",
            "------------------------------------------------------------------------------------\n",
            "Cost iteration 300: 0.6147314869705771        train accuracy: 72.39583333333333\n",
            "------------------------------------------------------------------------------------\n",
            "Cost iteration 310: 0.6136026603822684        train accuracy: 72.39583333333333\n",
            "------------------------------------------------------------------------------------\n",
            "Cost iteration 320: 0.6125259042074161        train accuracy: 72.39583333333333\n",
            "------------------------------------------------------------------------------------\n",
            "Cost iteration 330: 0.6114986954267604        train accuracy: 72.39583333333333\n",
            "------------------------------------------------------------------------------------\n",
            "Cost iteration 340: 0.6105186392439806        train accuracy: 72.39583333333333\n",
            "------------------------------------------------------------------------------------\n",
            "Cost iteration 350: 0.6095834623522116        train accuracy: 72.39583333333333\n",
            "------------------------------------------------------------------------------------\n",
            "Cost iteration 360: 0.60869100655187        train accuracy: 72.39583333333333\n",
            "------------------------------------------------------------------------------------\n",
            "Cost iteration 370: 0.6078392227032976        train accuracy: 72.39583333333333\n",
            "------------------------------------------------------------------------------------\n",
            "Cost iteration 380: 0.6070261649981767        train accuracy: 72.39583333333333\n",
            "------------------------------------------------------------------------------------\n",
            "Cost iteration 390: 0.606249985534303        train accuracy: 72.39583333333333\n",
            "------------------------------------------------------------------------------------\n",
            "Cost iteration 400: 0.6055089291785726        train accuracy: 72.39583333333333\n",
            "------------------------------------------------------------------------------------\n",
            "Cost iteration 410: 0.6048013287038052        train accuracy: 72.39583333333333\n",
            "------------------------------------------------------------------------------------\n",
            "Cost iteration 420: 0.6041256001854334        train accuracy: 72.39583333333333\n",
            "------------------------------------------------------------------------------------\n",
            "Cost iteration 430: 0.6034802386446703        train accuracy: 72.39583333333333\n",
            "------------------------------------------------------------------------------------\n",
            "Cost iteration 440: 0.6028638139253875        train accuracy: 72.39583333333333\n",
            "------------------------------------------------------------------------------------\n",
            "Cost iteration 450: 0.6022749667924581        train accuracy: 72.39583333333333\n",
            "------------------------------------------------------------------------------------\n",
            "Cost iteration 460: 0.6017124052398011        train accuracy: 72.39583333333333\n",
            "------------------------------------------------------------------------------------\n",
            "Cost iteration 470: 0.60117490099703        train accuracy: 72.39583333333333\n",
            "------------------------------------------------------------------------------------\n",
            "Cost iteration 480: 0.600661286224044        train accuracy: 72.39583333333333\n",
            "------------------------------------------------------------------------------------\n",
            "Cost iteration 490: 0.600170450383535        train accuracy: 72.39583333333333\n",
            "------------------------------------------------------------------------------------\n",
            "Cost iteration 500: 0.5997013372815927        train accuracy: 72.39583333333333\n",
            "------------------------------------------------------------------------------------\n",
            "Cost iteration 510: 0.5992529422675618        train accuracy: 72.39583333333333\n",
            "------------------------------------------------------------------------------------\n",
            "Cost iteration 520: 0.5988243095842352        train accuracy: 72.39583333333333\n",
            "------------------------------------------------------------------------------------\n",
            "Cost iteration 530: 0.598414529860366        train accuracy: 72.39583333333333\n",
            "------------------------------------------------------------------------------------\n",
            "Cost iteration 540: 0.5980227377375499        train accuracy: 72.39583333333333\n",
            "------------------------------------------------------------------------------------\n",
            "Cost iteration 550: 0.5976481096242467        train accuracy: 72.39583333333333\n",
            "------------------------------------------------------------------------------------\n",
            "Cost iteration 560: 0.597289861569881        train accuracy: 72.39583333333333\n",
            "------------------------------------------------------------------------------------\n",
            "Cost iteration 570: 0.5969472472524158        train accuracy: 72.39583333333333\n",
            "------------------------------------------------------------------------------------\n",
            "Cost iteration 580: 0.5966195560732271        train accuracy: 72.39583333333333\n",
            "------------------------------------------------------------------------------------\n",
            "Cost iteration 590: 0.5963061113533131        train accuracy: 72.39583333333333\n",
            "------------------------------------------------------------------------------------\n",
            "Cost iteration 600: 0.5960062686252469        train accuracy: 72.39583333333333\n",
            "------------------------------------------------------------------------------------\n",
            "Cost iteration 610: 0.5957194140156788        train accuracy: 72.39583333333333\n",
            "------------------------------------------------------------------------------------\n",
            "Cost iteration 620: 0.5954449627133145        train accuracy: 72.39583333333333\n",
            "------------------------------------------------------------------------------------\n",
            "Cost iteration 630: 0.5951823575177023        train accuracy: 72.39583333333333\n",
            "------------------------------------------------------------------------------------\n",
            "Cost iteration 640: 0.594931067464465        train accuracy: 72.39583333333333\n",
            "------------------------------------------------------------------------------------\n",
            "Cost iteration 650: 0.5946905865226413        train accuracy: 72.39583333333333\n",
            "------------------------------------------------------------------------------------\n",
            "Cost iteration 660: 0.5944604323602367        train accuracy: 72.39583333333333\n",
            "------------------------------------------------------------------------------------\n",
            "Cost iteration 670: 0.5942401451743415        train accuracy: 72.39583333333333\n",
            "------------------------------------------------------------------------------------\n",
            "Cost iteration 680: 0.5940292865821026        train accuracy: 72.39583333333333\n",
            "------------------------------------------------------------------------------------\n",
            "Cost iteration 690: 0.5938274385694173        train accuracy: 72.39583333333333\n",
            "------------------------------------------------------------------------------------\n",
            "Cost iteration 700: 0.5936342024940469        train accuracy: 72.39583333333333\n",
            "------------------------------------------------------------------------------------\n",
            "Cost iteration 710: 0.5934491981402452        train accuracy: 72.39583333333333\n",
            "------------------------------------------------------------------------------------\n",
            "Cost iteration 720: 0.5932720628221806        train accuracy: 72.39583333333333\n",
            "------------------------------------------------------------------------------------\n",
            "Cost iteration 730: 0.5931024505333716        train accuracy: 72.39583333333333\n",
            "------------------------------------------------------------------------------------\n",
            "Cost iteration 740: 0.5929400311397177        train accuracy: 72.39583333333333\n",
            "------------------------------------------------------------------------------------\n",
            "Cost iteration 750: 0.5927844896137903        train accuracy: 72.39583333333333\n",
            "------------------------------------------------------------------------------------\n",
            "Cost iteration 760: 0.5926355253081532        train accuracy: 72.39583333333333\n",
            "------------------------------------------------------------------------------------\n",
            "Cost iteration 770: 0.5924928512655302        train accuracy: 72.39583333333333\n",
            "------------------------------------------------------------------------------------\n",
            "Cost iteration 780: 0.5923561935639988        train accuracy: 72.39583333333333\n",
            "------------------------------------------------------------------------------------\n",
            "Cost iteration 790: 0.5922252906952253        train accuracy: 72.39583333333333\n",
            "------------------------------------------------------------------------------------\n",
            "Cost iteration 800: 0.5920998929739929        train accuracy: 72.39583333333333\n",
            "------------------------------------------------------------------------------------\n",
            "Cost iteration 810: 0.5919797619773887        train accuracy: 72.39583333333333\n",
            "------------------------------------------------------------------------------------\n",
            "Cost iteration 820: 0.5918646700120922        train accuracy: 72.39583333333333\n",
            "------------------------------------------------------------------------------------\n",
            "Cost iteration 830: 0.591754399608192        train accuracy: 72.39583333333333\n",
            "------------------------------------------------------------------------------------\n",
            "Cost iteration 840: 0.591648743038295        train accuracy: 72.39583333333333\n",
            "------------------------------------------------------------------------------------\n",
            "Cost iteration 850: 0.5915475018603704        train accuracy: 72.39583333333333\n",
            "------------------------------------------------------------------------------------\n",
            "Cost iteration 860: 0.5914504864832961        train accuracy: 72.39583333333333\n",
            "------------------------------------------------------------------------------------\n",
            "Cost iteration 870: 0.5913575157538074        train accuracy: 72.39583333333333\n",
            "------------------------------------------------------------------------------------\n",
            "Cost iteration 880: 0.591268416563768        train accuracy: 72.39583333333333\n",
            "------------------------------------------------------------------------------------\n",
            "Cost iteration 890: 0.5911830234766758        train accuracy: 72.39583333333333\n",
            "------------------------------------------------------------------------------------\n",
            "Cost iteration 900: 0.5911011783724465        train accuracy: 72.39583333333333\n",
            "------------------------------------------------------------------------------------\n",
            "Cost iteration 910: 0.5910227301095098        train accuracy: 72.39583333333333\n",
            "------------------------------------------------------------------------------------\n",
            "Cost iteration 920: 0.5909475342033405        train accuracy: 72.39583333333333\n",
            "------------------------------------------------------------------------------------\n",
            "Cost iteration 930: 0.5908754525205319        train accuracy: 72.39583333333333\n",
            "------------------------------------------------------------------------------------\n",
            "Cost iteration 940: 0.590806352987694        train accuracy: 72.39583333333333\n",
            "------------------------------------------------------------------------------------\n",
            "Cost iteration 950: 0.5907401093143658        train accuracy: 72.39583333333333\n",
            "------------------------------------------------------------------------------------\n",
            "Cost iteration 960: 0.590676600729233        train accuracy: 72.39583333333333\n",
            "------------------------------------------------------------------------------------\n",
            "Cost iteration 970: 0.5906157117289461        train accuracy: 72.39583333333333\n",
            "------------------------------------------------------------------------------------\n",
            "Cost iteration 980: 0.5905573318390668        train accuracy: 72.39583333333333\n",
            "------------------------------------------------------------------------------------\n",
            "Cost iteration 990: 0.5905013553862252        train accuracy: 72.39583333333333\n",
            "------------------------------------------------------------------------------------\n",
            "Cost iteration 1000: 0.5904476812812518        train accuracy: 72.39583333333333\n",
            "------------------------------------------------------------------------------------\n"
          ]
        }
      ],
      "source": [
        "model_output_5layer_zero, cost_val_z5, accur_val_z5 = model_5layer_zero(X_train, y_train, X_val, y_val, epoch=1000, learning_rate= 0.01, print_cost=True)"
      ]
    },
    {
      "cell_type": "code",
      "execution_count": 422,
      "metadata": {
        "id": "FDBznfofsFXU",
        "colab": {
          "base_uri": "https://localhost:8080/",
          "height": 279
        },
        "outputId": "e9ac6ce1-bb89-4d20-dd2f-1fe707ef3645"
      },
      "outputs": [
        {
          "output_type": "display_data",
          "data": {
            "text/plain": [
              "<Figure size 432x288 with 1 Axes>"
            ],
            "image/png": "[encoded data removed]"
          },
          "metadata": {
            "needs_background": "light"
          }
        }
      ],
      "source": [
        "plt.plot(model_output_5layer_zero['cost_train'])\n",
        "plt.ylabel('cost_train')\n",
        "plt.xlabel('Iterations')\n",
        "plt.show()"
      ]
    },
    {
      "cell_type": "code",
      "execution_count": 423,
      "metadata": {
        "id": "3wWCVPaWsGh0",
        "colab": {
          "base_uri": "https://localhost:8080/",
          "height": 279
        },
        "outputId": "9b32c0e0-5d03-48bf-a0a6-d62fe7b53fa7"
      },
      "outputs": [
        {
          "output_type": "display_data",
          "data": {
            "text/plain": [
              "<Figure size 432x288 with 1 Axes>"
            ],
            "image/png": "[encoded data removed]"
          },
          "metadata": {
            "needs_background": "light"
          }
        }
      ],
      "source": [
        "plt.plot(np.squeeze(model_output_5layer_zero['accur_train']))\n",
        "plt.ylabel('Accuracy_train')\n",
        "plt.xlabel('Iterations')\n",
        "plt.show()"
      ]
    },
    {
      "cell_type": "markdown",
      "metadata": {
        "id": "MGg0ZtassJXb"
      },
      "source": [
        "#***Evaluating the model 5-layer zero***"
      ]
    },
    {
      "cell_type": "code",
      "execution_count": 424,
      "metadata": {
        "id": "WDZUhpSqsJoZ",
        "colab": {
          "base_uri": "https://localhost:8080/"
        },
        "outputId": "a227e93c-f456-4fd2-f487-3f3944aae655"
      },
      "outputs": [
        {
          "output_type": "stream",
          "name": "stdout",
          "text": [
            "Cost after iteration 0: 0.6925179247140014        test accuracy: 78.125\n",
            "------------------------------------------------------------------------------------\n",
            "Cost after iteration 10: 0.6863784206928282        test accuracy: 78.125\n",
            "------------------------------------------------------------------------------------\n",
            "Cost after iteration 20: 0.6805081549526878        test accuracy: 78.125\n",
            "------------------------------------------------------------------------------------\n",
            "Cost after iteration 30: 0.6748946438689425        test accuracy: 78.125\n",
            "------------------------------------------------------------------------------------\n",
            "Cost after iteration 40: 0.6695259515469411        test accuracy: 78.125\n",
            "------------------------------------------------------------------------------------\n",
            "Cost after iteration 50: 0.6643906736699502        test accuracy: 78.125\n",
            "------------------------------------------------------------------------------------\n",
            "Cost after iteration 60: 0.6594779206272907        test accuracy: 78.125\n",
            "------------------------------------------------------------------------------------\n",
            "Cost after iteration 70: 0.6547773001344461        test accuracy: 78.125\n",
            "------------------------------------------------------------------------------------\n",
            "Cost after iteration 80: 0.650278899530155        test accuracy: 78.125\n",
            "------------------------------------------------------------------------------------\n",
            "Cost after iteration 90: 0.6459732679111039        test accuracy: 78.125\n",
            "------------------------------------------------------------------------------------\n",
            "Cost after iteration 100: 0.6418513982422744        test accuracy: 78.125\n",
            "------------------------------------------------------------------------------------\n",
            "Cost after iteration 110: 0.6379047095608659        test accuracy: 78.125\n",
            "------------------------------------------------------------------------------------\n",
            "Cost after iteration 120: 0.6341250293732034        test accuracy: 78.125\n",
            "------------------------------------------------------------------------------------\n",
            "Cost after iteration 130: 0.6305045763277478        test accuracy: 78.125\n",
            "------------------------------------------------------------------------------------\n",
            "Cost after iteration 140: 0.6270359432326473        test accuracy: 78.125\n",
            "------------------------------------------------------------------------------------\n",
            "Cost after iteration 150: 0.6237120804733469        test accuracy: 78.125\n",
            "------------------------------------------------------------------------------------\n",
            "Cost after iteration 160: 0.6205262798742976        test accuracy: 78.125\n",
            "------------------------------------------------------------------------------------\n",
            "Cost after iteration 170: 0.6174721590389631        test accuracy: 78.125\n",
            "------------------------------------------------------------------------------------\n",
            "Cost after iteration 180: 0.614543646193436        test accuracy: 78.125\n",
            "------------------------------------------------------------------------------------\n",
            "Cost after iteration 190: 0.6117349655516292        test accuracy: 78.125\n",
            "------------------------------------------------------------------------------------\n",
            "Cost after iteration 200: 0.6090406232134251        test accuracy: 78.125\n",
            "------------------------------------------------------------------------------------\n",
            "Cost after iteration 210: 0.6064553936016981        test accuracy: 78.125\n",
            "------------------------------------------------------------------------------------\n",
            "Cost after iteration 220: 0.603974306439395        test accuracy: 78.125\n",
            "------------------------------------------------------------------------------------\n",
            "Cost after iteration 230: 0.6015926342639839        test accuracy: 78.125\n",
            "------------------------------------------------------------------------------------\n",
            "Cost after iteration 240: 0.5993058804732185        test accuracy: 78.125\n",
            "------------------------------------------------------------------------------------\n",
            "Cost after iteration 250: 0.5971097678935724        test accuracy: 78.125\n",
            "------------------------------------------------------------------------------------\n",
            "Cost after iteration 260: 0.5950002278603943        test accuracy: 78.125\n",
            "------------------------------------------------------------------------------------\n",
            "Cost after iteration 270: 0.5929733897971693        test accuracy: 78.125\n",
            "------------------------------------------------------------------------------------\n",
            "Cost after iteration 280: 0.5910255712798695        test accuracy: 78.125\n",
            "------------------------------------------------------------------------------------\n",
            "Cost after iteration 290: 0.5891532685713147        test accuracy: 78.125\n",
            "------------------------------------------------------------------------------------\n",
            "Cost after iteration 300: 0.5873531476098002        test accuracy: 78.125\n",
            "------------------------------------------------------------------------------------\n",
            "Cost after iteration 310: 0.58562203543559        test accuracy: 78.125\n",
            "------------------------------------------------------------------------------------\n",
            "Cost after iteration 320: 0.5839569120387392        test accuracy: 78.125\n",
            "------------------------------------------------------------------------------------\n",
            "Cost after iteration 330: 0.582354902611437        test accuracy: 78.125\n",
            "------------------------------------------------------------------------------------\n",
            "Cost after iteration 340: 0.5808132701881337        test accuracy: 78.125\n",
            "------------------------------------------------------------------------------------\n",
            "Cost after iteration 350: 0.5793294086568757        test accuracy: 78.125\n",
            "------------------------------------------------------------------------------------\n",
            "Cost after iteration 360: 0.5779008361254272        test accuracy: 78.125\n",
            "------------------------------------------------------------------------------------\n",
            "Cost after iteration 370: 0.5765251886261551        test accuracy: 78.125\n",
            "------------------------------------------------------------------------------------\n",
            "Cost after iteration 380: 0.5752002141439463        test accuracy: 78.125\n",
            "------------------------------------------------------------------------------------\n",
            "Cost after iteration 390: 0.5739237669519375        test accuracy: 78.125\n",
            "------------------------------------------------------------------------------------\n",
            "Cost after iteration 400: 0.5726938022402233        test accuracy: 78.125\n",
            "------------------------------------------------------------------------------------\n",
            "Cost after iteration 410: 0.5715083710232476        test accuracy: 78.125\n",
            "------------------------------------------------------------------------------------\n",
            "Cost after iteration 420: 0.5703656153121037        test accuracy: 78.125\n",
            "------------------------------------------------------------------------------------\n",
            "Cost after iteration 430: 0.569263763538442        test accuracy: 78.125\n",
            "------------------------------------------------------------------------------------\n",
            "Cost after iteration 440: 0.5682011262172622        test accuracy: 78.125\n",
            "------------------------------------------------------------------------------------\n",
            "Cost after iteration 450: 0.5671760918363773        test accuracy: 78.125\n",
            "------------------------------------------------------------------------------------\n",
            "Cost after iteration 460: 0.5661871229608819        test accuracy: 78.125\n",
            "------------------------------------------------------------------------------------\n",
            "Cost after iteration 470: 0.5652327525414519        test accuracy: 78.125\n",
            "------------------------------------------------------------------------------------\n",
            "Cost after iteration 480: 0.5643115804158089        test accuracy: 78.125\n",
            "------------------------------------------------------------------------------------\n",
            "Cost after iteration 490: 0.5634222699932664        test accuracy: 78.125\n",
            "------------------------------------------------------------------------------------\n",
            "Cost after iteration 500: 0.5625635451126222        test accuracy: 78.125\n",
            "------------------------------------------------------------------------------------\n",
            "Cost after iteration 510: 0.5617341870642676        test accuracy: 78.125\n",
            "------------------------------------------------------------------------------------\n",
            "Cost after iteration 520: 0.5609330317677328        test accuracy: 78.125\n",
            "------------------------------------------------------------------------------------\n",
            "Cost after iteration 530: 0.5601589670964301        test accuracy: 78.125\n",
            "------------------------------------------------------------------------------------\n",
            "Cost after iteration 540: 0.5594109303416841        test accuracy: 78.125\n",
            "------------------------------------------------------------------------------------\n",
            "Cost after iteration 550: 0.5586879058085923        test accuracy: 78.125\n",
            "------------------------------------------------------------------------------------\n",
            "Cost after iteration 560: 0.5579889225366673        test accuracy: 78.125\n",
            "------------------------------------------------------------------------------------\n",
            "Cost after iteration 570: 0.557313052138527        test accuracy: 78.125\n",
            "------------------------------------------------------------------------------------\n",
            "Cost after iteration 580: 0.556659406750314        test accuracy: 78.125\n",
            "------------------------------------------------------------------------------------\n",
            "Cost after iteration 590: 0.5560271370877977        test accuracy: 78.125\n",
            "------------------------------------------------------------------------------------\n",
            "Cost after iteration 600: 0.5554154306025197        test accuracy: 78.125\n",
            "------------------------------------------------------------------------------------\n",
            "Cost after iteration 610: 0.5548235097325627        test accuracy: 78.125\n",
            "------------------------------------------------------------------------------------\n",
            "Cost after iteration 620: 0.5542506302428778        test accuracy: 78.125\n",
            "------------------------------------------------------------------------------------\n",
            "Cost after iteration 630: 0.5536960796503387        test accuracy: 78.125\n",
            "------------------------------------------------------------------------------------\n",
            "Cost after iteration 640: 0.5531591757290019        test accuracy: 78.125\n",
            "------------------------------------------------------------------------------------\n",
            "Cost after iteration 650: 0.5526392650912342        test accuracy: 78.125\n",
            "------------------------------------------------------------------------------------\n",
            "Cost after iteration 660: 0.5521357218406757        test accuracy: 78.125\n",
            "------------------------------------------------------------------------------------\n",
            "Cost after iteration 670: 0.5516479462931723        test accuracy: 78.125\n",
            "------------------------------------------------------------------------------------\n",
            "Cost after iteration 680: 0.551175363762073        test accuracy: 78.125\n",
            "------------------------------------------------------------------------------------\n",
            "Cost after iteration 690: 0.5507174234044252        test accuracy: 78.125\n",
            "------------------------------------------------------------------------------------\n",
            "Cost after iteration 700: 0.5502735971248645        test accuracy: 78.125\n",
            "------------------------------------------------------------------------------------\n",
            "Cost after iteration 710: 0.5498433785341134        test accuracy: 78.125\n",
            "------------------------------------------------------------------------------------\n",
            "Cost after iteration 720: 0.5494262819591865        test accuracy: 78.125\n",
            "------------------------------------------------------------------------------------\n",
            "Cost after iteration 730: 0.549021841502604        test accuracy: 78.125\n",
            "------------------------------------------------------------------------------------\n",
            "Cost after iteration 740: 0.5486296101479875        test accuracy: 78.125\n",
            "------------------------------------------------------------------------------------\n",
            "Cost after iteration 750: 0.5482491589096244        test accuracy: 78.125\n",
            "------------------------------------------------------------------------------------\n",
            "Cost after iteration 760: 0.5478800760236882        test accuracy: 78.125\n",
            "------------------------------------------------------------------------------------\n",
            "Cost after iteration 770: 0.5475219661789127        test accuracy: 78.125\n",
            "------------------------------------------------------------------------------------\n",
            "Cost after iteration 780: 0.5471744497847072        test accuracy: 78.125\n",
            "------------------------------------------------------------------------------------\n",
            "Cost after iteration 790: 0.5468371622747157        test accuracy: 78.125\n",
            "------------------------------------------------------------------------------------\n",
            "Cost after iteration 800: 0.5465097534439997        test accuracy: 78.125\n",
            "------------------------------------------------------------------------------------\n",
            "Cost after iteration 810: 0.5461918868181157        test accuracy: 78.125\n",
            "------------------------------------------------------------------------------------\n",
            "Cost after iteration 820: 0.5458832390524213        test accuracy: 78.125\n",
            "------------------------------------------------------------------------------------\n",
            "Cost after iteration 830: 0.5455834993600727        test accuracy: 78.125\n",
            "------------------------------------------------------------------------------------\n",
            "Cost after iteration 840: 0.5452923689672283        test accuracy: 78.125\n",
            "------------------------------------------------------------------------------------\n",
            "Cost after iteration 850: 0.5450095605940741        test accuracy: 78.125\n",
            "------------------------------------------------------------------------------------\n",
            "Cost after iteration 860: 0.5447347979603505        test accuracy: 78.125\n",
            "------------------------------------------------------------------------------------\n",
            "Cost after iteration 870: 0.5444678153141568        test accuracy: 78.125\n",
            "------------------------------------------------------------------------------------\n",
            "Cost after iteration 880: 0.5442083569828164        test accuracy: 78.125\n",
            "------------------------------------------------------------------------------------\n",
            "Cost after iteration 890: 0.5439561769447179        test accuracy: 78.125\n",
            "------------------------------------------------------------------------------------\n",
            "Cost after iteration 900: 0.5437110384210859        test accuracy: 78.125\n",
            "------------------------------------------------------------------------------------\n",
            "Cost after iteration 910: 0.5434727134866404        test accuracy: 78.125\n",
            "------------------------------------------------------------------------------------\n",
            "Cost after iteration 920: 0.5432409826982499        test accuracy: 78.125\n",
            "------------------------------------------------------------------------------------\n",
            "Cost after iteration 930: 0.5430156347406518        test accuracy: 78.125\n",
            "------------------------------------------------------------------------------------\n",
            "Cost after iteration 940: 0.5427964660883964        test accuracy: 78.125\n",
            "------------------------------------------------------------------------------------\n",
            "Cost after iteration 950: 0.5425832806832359        test accuracy: 78.125\n",
            "------------------------------------------------------------------------------------\n",
            "Cost after iteration 960: 0.542375889626154        test accuracy: 78.125\n",
            "------------------------------------------------------------------------------------\n",
            "Cost after iteration 970: 0.5421741108833672        test accuracy: 78.125\n",
            "------------------------------------------------------------------------------------\n",
            "Cost after iteration 980: 0.541977769005568        test accuracy: 78.125\n",
            "------------------------------------------------------------------------------------\n",
            "Cost after iteration 990: 0.5417866948598093        test accuracy: 78.125\n",
            "------------------------------------------------------------------------------------\n",
            "Cost after iteration 1000: 0.5416007253733734        test accuracy: 78.125\n",
            "------------------------------------------------------------------------------------\n"
          ]
        }
      ],
      "source": [
        "for i in range(len(cost_val_z5)):\n",
        "    print(f\"Cost after iteration {i * 10}: {cost_val_z5[i]}        test accuracy: {accur_val_z5[i] * 100}\")\n",
        "    print(\"------------------------------------------------------------------------------------\")"
      ]
    },
    {
      "cell_type": "code",
      "execution_count": 425,
      "metadata": {
        "id": "D9ENap3zsJu2",
        "colab": {
          "base_uri": "https://localhost:8080/",
          "height": 283
        },
        "outputId": "7972a63f-dcf7-4f03-ae22-93f7c8642d5e"
      },
      "outputs": [
        {
          "output_type": "display_data",
          "data": {
            "text/plain": [
              "<Figure size 432x288 with 1 Axes>"
            ],
            "image/png": "[encoded data removed]"
          },
          "metadata": {
            "needs_background": "light"
          }
        }
      ],
      "source": [
        "plt.plot(cost_val_z5)\n",
        "plt.ylabel('cost_val')\n",
        "plt.xlabel('Iterations')\n",
        "plt.show()"
      ]
    },
    {
      "cell_type": "code",
      "execution_count": 426,
      "metadata": {
        "id": "NQ-Z8WNHsNBo",
        "colab": {
          "base_uri": "https://localhost:8080/",
          "height": 279
        },
        "outputId": "94cda2c7-7fc0-41f5-9abc-43bb8c8680d7"
      },
      "outputs": [
        {
          "output_type": "display_data",
          "data": {
            "text/plain": [
              "<Figure size 432x288 with 1 Axes>"
            ],
            "image/png": "[encoded data removed]"
          },
          "metadata": {
            "needs_background": "light"
          }
        }
      ],
      "source": [
        "plt.plot(accur_val_z5)\n",
        "plt.ylabel('Accuracy_val')\n",
        "plt.xlabel('Iterations')\n",
        "plt.show()"
      ]
    },
    {
      "cell_type": "markdown",
      "metadata": {
        "id": "RZ2l6k2XsPMU"
      },
      "source": [
        "#***IMPROVEMENT***"
      ]
    },
    {
      "cell_type": "markdown",
      "metadata": {
        "id": "qZo5SFImH-BI"
      },
      "source": [
        "#**Changing epoch and learning rate**"
      ]
    },
    {
      "cell_type": "markdown",
      "metadata": {
        "id": "bnatG8QSIPGo"
      },
      "source": [
        "# ***Training the model 2-layer Random - IMPROV1***"
      ]
    },
    {
      "cell_type": "code",
      "execution_count": null,
      "metadata": {
        "colab": {
          "base_uri": "https://localhost:8080/"
        },
        "id": "UhgNJvU_IHOH",
        "outputId": "9b240e8c-a62e-45f3-a9d0-9bd32c249b3f"
      },
      "outputs": [
        {
          "name": "stdout",
          "output_type": "stream",
          "text": [
            "Cost iteration 0: 1.1176089233925879        train accuracy: 38.541666666666664\n",
            "------------------------------------------------------------------------------------\n",
            "Cost iteration 10: 0.8689509434637193        train accuracy: 49.73958333333333\n",
            "------------------------------------------------------------------------------------\n",
            "Cost iteration 20: 0.7253416662051124        train accuracy: 60.9375\n",
            "------------------------------------------------------------------------------------\n",
            "Cost iteration 30: 0.6356441776581208        train accuracy: 67.44791666666666\n",
            "------------------------------------------------------------------------------------\n",
            "Cost iteration 40: 0.5740985720734253        train accuracy: 71.875\n",
            "------------------------------------------------------------------------------------\n",
            "Cost iteration 50: 0.5284354278542501        train accuracy: 75.0\n",
            "------------------------------------------------------------------------------------\n",
            "Cost iteration 60: 0.492543579208411        train accuracy: 76.04166666666667\n",
            "------------------------------------------------------------------------------------\n",
            "Cost iteration 70: 0.4631517929850298        train accuracy: 77.60416666666667\n",
            "------------------------------------------------------------------------------------\n",
            "Cost iteration 80: 0.4383741089031986        train accuracy: 79.94791666666667\n",
            "------------------------------------------------------------------------------------\n",
            "Cost iteration 90: 0.4170458158818301        train accuracy: 82.03125\n",
            "------------------------------------------------------------------------------------\n",
            "Cost iteration 100: 0.3984025499161954        train accuracy: 83.59375\n",
            "------------------------------------------------------------------------------------\n",
            "Cost iteration 110: 0.38191591344091363        train accuracy: 85.15625\n",
            "------------------------------------------------------------------------------------\n",
            "Cost iteration 120: 0.3672043965410292        train accuracy: 86.19791666666667\n",
            "------------------------------------------------------------------------------------\n",
            "Cost iteration 130: 0.35398243787637584        train accuracy: 87.23958333333334\n",
            "------------------------------------------------------------------------------------\n",
            "Cost iteration 140: 0.34202979353067897        train accuracy: 87.5\n",
            "------------------------------------------------------------------------------------\n",
            "Cost iteration 150: 0.3311722659796493        train accuracy: 87.76041666666667\n",
            "------------------------------------------------------------------------------------\n",
            "Cost iteration 160: 0.3212690993393401        train accuracy: 88.28125\n",
            "------------------------------------------------------------------------------------\n",
            "Cost iteration 170: 0.312204462932137        train accuracy: 88.54166666666666\n",
            "------------------------------------------------------------------------------------\n",
            "Cost iteration 180: 0.3038815397479838        train accuracy: 89.0625\n",
            "------------------------------------------------------------------------------------\n",
            "Cost iteration 190: 0.29621832745903914        train accuracy: 89.32291666666667\n",
            "------------------------------------------------------------------------------------\n",
            "Cost iteration 200: 0.2891445938295091        train accuracy: 89.58333333333334\n",
            "------------------------------------------------------------------------------------\n",
            "Cost iteration 210: 0.28259962605626265        train accuracy: 89.58333333333334\n",
            "------------------------------------------------------------------------------------\n",
            "Cost iteration 220: 0.2765305353971481        train accuracy: 89.84375\n",
            "------------------------------------------------------------------------------------\n",
            "Cost iteration 230: 0.2708909560920314        train accuracy: 89.84375\n",
            "------------------------------------------------------------------------------------\n",
            "Cost iteration 240: 0.26564002838615736        train accuracy: 90.10416666666667\n",
            "------------------------------------------------------------------------------------\n",
            "Cost iteration 250: 0.2607415893548366        train accuracy: 90.88541666666667\n",
            "------------------------------------------------------------------------------------\n",
            "Cost iteration 260: 0.2561635181511253        train accuracy: 91.40625\n",
            "------------------------------------------------------------------------------------\n",
            "Cost iteration 270: 0.25187719795918995        train accuracy: 91.40625\n",
            "------------------------------------------------------------------------------------\n",
            "Cost iteration 280: 0.24785706771690452        train accuracy: 91.92708333333334\n",
            "------------------------------------------------------------------------------------\n",
            "Cost iteration 290: 0.24408024413908563        train accuracy: 91.92708333333334\n",
            "------------------------------------------------------------------------------------\n",
            "Cost iteration 300: 0.2405261997765546        train accuracy: 92.1875\n",
            "------------------------------------------------------------------------------------\n",
            "Cost iteration 310: 0.23717648649592782        train accuracy: 92.44791666666667\n",
            "------------------------------------------------------------------------------------\n",
            "Cost iteration 320: 0.234014496344679        train accuracy: 92.44791666666667\n",
            "------------------------------------------------------------------------------------\n",
            "Cost iteration 330: 0.23102525360696619        train accuracy: 92.70833333333334\n",
            "------------------------------------------------------------------------------------\n",
            "Cost iteration 340: 0.22819523318515467        train accuracy: 92.96875\n",
            "------------------------------------------------------------------------------------\n",
            "Cost iteration 350: 0.22551220141591968        train accuracy: 93.48958333333334\n",
            "------------------------------------------------------------------------------------\n",
            "Cost iteration 360: 0.222965076155248        train accuracy: 93.75\n",
            "------------------------------------------------------------------------------------\n",
            "Cost iteration 370: 0.22054380351715444        train accuracy: 93.75\n",
            "------------------------------------------------------------------------------------\n",
            "Cost iteration 380: 0.2182392490768854        train accuracy: 94.01041666666667\n",
            "------------------------------------------------------------------------------------\n",
            "Cost iteration 390: 0.21604310168557586        train accuracy: 94.01041666666667\n",
            "------------------------------------------------------------------------------------\n",
            "Cost iteration 400: 0.2139477883137565        train accuracy: 93.75\n",
            "------------------------------------------------------------------------------------\n",
            "Cost iteration 410: 0.21194639856239875        train accuracy: 93.75\n",
            "------------------------------------------------------------------------------------\n",
            "Cost iteration 420: 0.21003261766407114        train accuracy: 94.53125\n",
            "------------------------------------------------------------------------------------\n",
            "Cost iteration 430: 0.20820066695149697        train accuracy: 94.53125\n",
            "------------------------------------------------------------------------------------\n",
            "Cost iteration 440: 0.20644525090235383        train accuracy: 94.79166666666667\n",
            "------------------------------------------------------------------------------------\n",
            "Cost iteration 450: 0.20476150998190257        train accuracy: 94.79166666666667\n",
            "------------------------------------------------------------------------------------\n",
            "Cost iteration 460: 0.20314497860227015        train accuracy: 94.79166666666667\n",
            "------------------------------------------------------------------------------------\n",
            "Cost iteration 470: 0.2015915476014628        train accuracy: 94.79166666666667\n",
            "------------------------------------------------------------------------------------\n",
            "Cost iteration 480: 0.20009743071843572        train accuracy: 94.79166666666667\n",
            "------------------------------------------------------------------------------------\n",
            "Cost iteration 490: 0.19865913460438583        train accuracy: 94.79166666666667\n",
            "------------------------------------------------------------------------------------\n",
            "Cost iteration 500: 0.19727343196617825        train accuracy: 94.79166666666667\n",
            "------------------------------------------------------------------------------------\n",
            "Cost iteration 510: 0.19593733748654432        train accuracy: 94.79166666666667\n",
            "------------------------------------------------------------------------------------\n",
            "Cost iteration 520: 0.19464808620833407        train accuracy: 94.79166666666667\n",
            "------------------------------------------------------------------------------------\n",
            "Cost iteration 530: 0.19340311410743793        train accuracy: 94.79166666666667\n",
            "------------------------------------------------------------------------------------\n",
            "Cost iteration 540: 0.1922000406117174        train accuracy: 94.79166666666667\n",
            "------------------------------------------------------------------------------------\n",
            "Cost iteration 550: 0.19103665285194718        train accuracy: 94.79166666666667\n",
            "------------------------------------------------------------------------------------\n",
            "Cost iteration 560: 0.18991089145592327        train accuracy: 94.79166666666667\n",
            "------------------------------------------------------------------------------------\n",
            "Cost iteration 570: 0.18882083771895308        train accuracy: 94.79166666666667\n",
            "------------------------------------------------------------------------------------\n",
            "Cost iteration 580: 0.18776470200329845        train accuracy: 94.79166666666667\n",
            "------------------------------------------------------------------------------------\n",
            "Cost iteration 590: 0.18674081323615516        train accuracy: 94.79166666666667\n",
            "------------------------------------------------------------------------------------\n",
            "Cost iteration 600: 0.18574760939068305        train accuracy: 94.79166666666667\n",
            "------------------------------------------------------------------------------------\n",
            "Cost iteration 610: 0.18478362884773752        train accuracy: 94.79166666666667\n",
            "------------------------------------------------------------------------------------\n",
            "Cost iteration 620: 0.18384750254750493        train accuracy: 94.79166666666667\n",
            "------------------------------------------------------------------------------------\n",
            "Cost iteration 630: 0.18293794685041426        train accuracy: 94.79166666666667\n",
            "------------------------------------------------------------------------------------\n",
            "Cost iteration 640: 0.18205375703565344        train accuracy: 94.79166666666667\n",
            "------------------------------------------------------------------------------------\n",
            "Cost iteration 650: 0.18119380137351687        train accuracy: 94.79166666666667\n",
            "------------------------------------------------------------------------------------\n",
            "Cost iteration 660: 0.1803570157147857        train accuracy: 94.79166666666667\n",
            "------------------------------------------------------------------------------------\n",
            "Cost iteration 670: 0.17954239854647858        train accuracy: 94.79166666666667\n",
            "------------------------------------------------------------------------------------\n",
            "Cost iteration 680: 0.17874900646877118        train accuracy: 94.79166666666667\n",
            "------------------------------------------------------------------------------------\n",
            "Cost iteration 690: 0.17797595005267403        train accuracy: 94.79166666666667\n",
            "------------------------------------------------------------------------------------\n",
            "Cost iteration 700: 0.17722239004233087        train accuracy: 94.79166666666667\n",
            "------------------------------------------------------------------------------------\n",
            "Cost iteration 710: 0.17648753386957056        train accuracy: 94.79166666666667\n",
            "------------------------------------------------------------------------------------\n",
            "Cost iteration 720: 0.17577063245169794        train accuracy: 95.05208333333334\n",
            "------------------------------------------------------------------------------------\n",
            "Cost iteration 730: 0.17507097724647824        train accuracy: 95.05208333333334\n",
            "------------------------------------------------------------------------------------\n",
            "Cost iteration 740: 0.17438789754092499        train accuracy: 95.05208333333334\n",
            "------------------------------------------------------------------------------------\n",
            "Cost iteration 750: 0.1737207579528446        train accuracy: 95.05208333333334\n",
            "------------------------------------------------------------------------------------\n",
            "Cost iteration 760: 0.17306895612619347        train accuracy: 95.05208333333334\n",
            "------------------------------------------------------------------------------------\n",
            "Cost iteration 770: 0.1724319206031702        train accuracy: 95.05208333333334\n",
            "------------------------------------------------------------------------------------\n",
            "Cost iteration 780: 0.1718091088576364        train accuracy: 95.05208333333334\n",
            "------------------------------------------------------------------------------------\n",
            "Cost iteration 790: 0.1712000054759482        train accuracy: 95.05208333333334\n",
            "------------------------------------------------------------------------------------\n",
            "Cost iteration 800: 0.17060412047261758        train accuracy: 95.3125\n",
            "------------------------------------------------------------------------------------\n",
            "Cost iteration 810: 0.17002098772941493        train accuracy: 95.3125\n",
            "------------------------------------------------------------------------------------\n",
            "Cost iteration 820: 0.16945016354759304        train accuracy: 95.3125\n",
            "------------------------------------------------------------------------------------\n",
            "Cost iteration 830: 0.16889122530387957        train accuracy: 95.3125\n",
            "------------------------------------------------------------------------------------\n",
            "Cost iteration 840: 0.168343770201739        train accuracy: 95.57291666666667\n",
            "------------------------------------------------------------------------------------\n",
            "Cost iteration 850: 0.16780741411018807        train accuracy: 95.57291666666667\n",
            "------------------------------------------------------------------------------------\n",
            "Cost iteration 860: 0.16728179048314476        train accuracy: 95.57291666666667\n",
            "------------------------------------------------------------------------------------\n",
            "Cost iteration 870: 0.16676654935291269        train accuracy: 95.57291666666667\n",
            "------------------------------------------------------------------------------------\n",
            "Cost iteration 880: 0.1662613563919858        train accuracy: 95.57291666666667\n",
            "------------------------------------------------------------------------------------\n",
            "Cost iteration 890: 0.16576589203784997        train accuracy: 95.57291666666667\n",
            "------------------------------------------------------------------------------------\n",
            "Cost iteration 900: 0.16527985067593826        train accuracy: 95.57291666666667\n",
            "------------------------------------------------------------------------------------\n",
            "Cost iteration 910: 0.16480293987630187        train accuracy: 95.57291666666667\n",
            "------------------------------------------------------------------------------------\n",
            "Cost iteration 920: 0.16433487967994634        train accuracy: 95.57291666666667\n",
            "------------------------------------------------------------------------------------\n",
            "Cost iteration 930: 0.16387540193112013        train accuracy: 95.57291666666667\n",
            "------------------------------------------------------------------------------------\n",
            "Cost iteration 940: 0.1634242496521528        train accuracy: 95.57291666666667\n",
            "------------------------------------------------------------------------------------\n",
            "Cost iteration 950: 0.16298117645773114        train accuracy: 95.57291666666667\n",
            "------------------------------------------------------------------------------------\n",
            "Cost iteration 960: 0.16254594600574498        train accuracy: 95.57291666666667\n",
            "------------------------------------------------------------------------------------\n",
            "Cost iteration 970: 0.16211833148207722        train accuracy: 95.3125\n",
            "------------------------------------------------------------------------------------\n",
            "Cost iteration 980: 0.16169811511692447        train accuracy: 95.3125\n",
            "------------------------------------------------------------------------------------\n",
            "Cost iteration 990: 0.161285087730419        train accuracy: 95.3125\n",
            "------------------------------------------------------------------------------------\n",
            "Cost iteration 1000: 0.16087904830551325        train accuracy: 95.05208333333334\n",
            "------------------------------------------------------------------------------------\n"
          ]
        }
      ],
      "source": [
        "model_output_2layer_randomv1, cost_val_r2v1, accur_val_r2v1 = model_2layer_random(X_train, y_train, X_val, y_val, epoch=1000, learning_rate= 0.03, print_cost=True)"
      ]
    },
    {
      "cell_type": "code",
      "execution_count": null,
      "metadata": {
        "colab": {
          "base_uri": "https://localhost:8080/",
          "height": 279
        },
        "id": "LQWWe8x6QO9O",
        "outputId": "dc394343-ef61-400b-aa95-bab39e2380fd"
      },
      "outputs": [
        {
          "data": {
            "image/png": "[encoded data removed]",
            "text/plain": [
              "<Figure size 432x288 with 1 Axes>"
            ]
          },
          "metadata": {},
          "output_type": "display_data"
        }
      ],
      "source": [
        "plt.plot(model_output_2layer_randomv1['cost_train'])\n",
        "plt.ylabel('cost_train')\n",
        "plt.xlabel('Iterations')\n",
        "plt.show()"
      ]
    },
    {
      "cell_type": "code",
      "execution_count": null,
      "metadata": {
        "colab": {
          "base_uri": "https://localhost:8080/",
          "height": 279
        },
        "id": "Ay4OK8EMQPfn",
        "outputId": "c8bcb3b6-28d1-4d7a-d889-e96015d8d991"
      },
      "outputs": [
        {
          "data": {
            "image/png": "[encoded data removed]",
            "text/plain": [
              "<Figure size 432x288 with 1 Axes>"
            ]
          },
          "metadata": {},
          "output_type": "display_data"
        }
      ],
      "source": [
        "plt.plot(np.squeeze(model_output_2layer_randomv1['accur_train']))\n",
        "plt.ylabel('Accuracy_train')\n",
        "plt.xlabel('Iterations')\n",
        "plt.show()"
      ]
    },
    {
      "cell_type": "markdown",
      "metadata": {
        "id": "kwXH1sNkQW1c"
      },
      "source": [
        "# ***Evaluating the model 2-layer Random - IMPROV1***"
      ]
    },
    {
      "cell_type": "code",
      "execution_count": null,
      "metadata": {
        "colab": {
          "base_uri": "https://localhost:8080/"
        },
        "id": "jBpIFki3QcnM",
        "outputId": "347a113a-0402-4f83-d1d5-473c8ba86c1c"
      },
      "outputs": [
        {
          "name": "stdout",
          "output_type": "stream",
          "text": [
            "Cost iteration 0: 1.0379100957856662        test accuracy: 40.625\n",
            "------------------------------------------------------------------------------------\n",
            "Cost iteration 10: 0.8096841108194252        test accuracy: 53.125\n",
            "------------------------------------------------------------------------------------\n",
            "Cost iteration 20: 0.6742118672590334        test accuracy: 62.5\n",
            "------------------------------------------------------------------------------------\n",
            "Cost iteration 30: 0.5874348729759002        test accuracy: 67.70833333333333\n",
            "------------------------------------------------------------------------------------\n",
            "Cost iteration 40: 0.5271205685902098        test accuracy: 71.875\n",
            "------------------------------------------------------------------------------------\n",
            "Cost iteration 50: 0.48236983033904296        test accuracy: 72.91666666666666\n",
            "------------------------------------------------------------------------------------\n",
            "Cost iteration 60: 0.4475328132348316        test accuracy: 75.0\n",
            "------------------------------------------------------------------------------------\n",
            "Cost iteration 70: 0.41944755206637213        test accuracy: 77.08333333333334\n",
            "------------------------------------------------------------------------------------\n",
            "Cost iteration 80: 0.396211783081427        test accuracy: 81.25\n",
            "------------------------------------------------------------------------------------\n",
            "Cost iteration 90: 0.37660840871453166        test accuracy: 83.33333333333334\n",
            "------------------------------------------------------------------------------------\n",
            "Cost iteration 100: 0.3598179935216893        test accuracy: 84.375\n",
            "------------------------------------------------------------------------------------\n",
            "Cost iteration 110: 0.3452651161057614        test accuracy: 85.41666666666667\n",
            "------------------------------------------------------------------------------------\n",
            "Cost iteration 120: 0.3325312704558142        test accuracy: 87.5\n",
            "------------------------------------------------------------------------------------\n",
            "Cost iteration 130: 0.32130290032030184        test accuracy: 88.54166666666667\n",
            "------------------------------------------------------------------------------------\n",
            "Cost iteration 140: 0.3113390138784853        test accuracy: 88.54166666666667\n",
            "------------------------------------------------------------------------------------\n",
            "Cost iteration 150: 0.30245024664022946        test accuracy: 88.54166666666667\n",
            "------------------------------------------------------------------------------------\n",
            "Cost iteration 160: 0.2944849017231436        test accuracy: 88.54166666666667\n",
            "------------------------------------------------------------------------------------\n",
            "Cost iteration 170: 0.28731939521687505        test accuracy: 88.54166666666667\n",
            "------------------------------------------------------------------------------------\n",
            "Cost iteration 180: 0.28085156586046456        test accuracy: 90.625\n",
            "------------------------------------------------------------------------------------\n",
            "Cost iteration 190: 0.27499589349627407        test accuracy: 90.625\n",
            "------------------------------------------------------------------------------------\n",
            "Cost iteration 200: 0.2696800161181894        test accuracy: 91.66666666666667\n",
            "------------------------------------------------------------------------------------\n",
            "Cost iteration 210: 0.2648421463240753        test accuracy: 91.66666666666667\n",
            "------------------------------------------------------------------------------------\n",
            "Cost iteration 220: 0.26042912077855707        test accuracy: 91.66666666666667\n",
            "------------------------------------------------------------------------------------\n",
            "Cost iteration 230: 0.25639490197369486        test accuracy: 91.66666666666667\n",
            "------------------------------------------------------------------------------------\n",
            "Cost iteration 240: 0.2526994079896875        test accuracy: 91.66666666666667\n",
            "------------------------------------------------------------------------------------\n",
            "Cost iteration 250: 0.24930758371240552        test accuracy: 90.625\n",
            "------------------------------------------------------------------------------------\n",
            "Cost iteration 260: 0.24618865256267913        test accuracy: 90.625\n",
            "------------------------------------------------------------------------------------\n",
            "Cost iteration 270: 0.24331550533242244        test accuracy: 90.625\n",
            "------------------------------------------------------------------------------------\n",
            "Cost iteration 280: 0.24066419484895857        test accuracy: 90.625\n",
            "------------------------------------------------------------------------------------\n",
            "Cost iteration 290: 0.23821351363999904        test accuracy: 88.54166666666667\n",
            "------------------------------------------------------------------------------------\n",
            "Cost iteration 300: 0.2359446377082911        test accuracy: 88.54166666666667\n",
            "------------------------------------------------------------------------------------\n",
            "Cost iteration 310: 0.23384082373039278        test accuracy: 88.54166666666667\n",
            "------------------------------------------------------------------------------------\n",
            "Cost iteration 320: 0.23188715000152807        test accuracy: 88.54166666666667\n",
            "------------------------------------------------------------------------------------\n",
            "Cost iteration 330: 0.2300702936228628        test accuracy: 88.54166666666667\n",
            "------------------------------------------------------------------------------------\n",
            "Cost iteration 340: 0.22837833801942978        test accuracy: 89.58333333333334\n",
            "------------------------------------------------------------------------------------\n",
            "Cost iteration 350: 0.22680060605900654        test accuracy: 89.58333333333334\n",
            "------------------------------------------------------------------------------------\n",
            "Cost iteration 360: 0.22532751493372388        test accuracy: 89.58333333333334\n",
            "------------------------------------------------------------------------------------\n",
            "Cost iteration 370: 0.22395044964965363        test accuracy: 89.58333333333334\n",
            "------------------------------------------------------------------------------------\n",
            "Cost iteration 380: 0.22266165250242356        test accuracy: 89.58333333333334\n",
            "------------------------------------------------------------------------------------\n",
            "Cost iteration 390: 0.22145412633911765        test accuracy: 88.54166666666667\n",
            "------------------------------------------------------------------------------------\n",
            "Cost iteration 400: 0.22032154974646573        test accuracy: 88.54166666666667\n",
            "------------------------------------------------------------------------------------\n",
            "Cost iteration 410: 0.21925820258253018        test accuracy: 89.58333333333334\n",
            "------------------------------------------------------------------------------------\n",
            "Cost iteration 420: 0.21825890049808977        test accuracy: 89.58333333333334\n",
            "------------------------------------------------------------------------------------\n",
            "Cost iteration 430: 0.21731893728500368        test accuracy: 89.58333333333334\n",
            "------------------------------------------------------------------------------------\n",
            "Cost iteration 440: 0.21643403404971753        test accuracy: 89.58333333333334\n",
            "------------------------------------------------------------------------------------\n",
            "Cost iteration 450: 0.21560029434642775        test accuracy: 89.58333333333334\n",
            "------------------------------------------------------------------------------------\n",
            "Cost iteration 460: 0.2148141645206675        test accuracy: 89.58333333333334\n",
            "------------------------------------------------------------------------------------\n",
            "Cost iteration 470: 0.21407239861358812        test accuracy: 89.58333333333334\n",
            "------------------------------------------------------------------------------------\n",
            "Cost iteration 480: 0.2133720272627069        test accuracy: 89.58333333333334\n",
            "------------------------------------------------------------------------------------\n",
            "Cost iteration 490: 0.2127103301085374        test accuracy: 89.58333333333334\n",
            "------------------------------------------------------------------------------------\n",
            "Cost iteration 500: 0.21208481128008        test accuracy: 89.58333333333334\n",
            "------------------------------------------------------------------------------------\n",
            "Cost iteration 510: 0.2114931775871125        test accuracy: 89.58333333333334\n",
            "------------------------------------------------------------------------------------\n",
            "Cost iteration 520: 0.21093331909479623        test accuracy: 89.58333333333334\n",
            "------------------------------------------------------------------------------------\n",
            "Cost iteration 530: 0.21040329179735887        test accuracy: 89.58333333333334\n",
            "------------------------------------------------------------------------------------\n",
            "Cost iteration 540: 0.20990130214336938        test accuracy: 89.58333333333334\n",
            "------------------------------------------------------------------------------------\n",
            "Cost iteration 550: 0.20942569319619644        test accuracy: 89.58333333333334\n",
            "------------------------------------------------------------------------------------\n",
            "Cost iteration 560: 0.20897493224021416        test accuracy: 89.58333333333334\n",
            "------------------------------------------------------------------------------------\n",
            "Cost iteration 570: 0.20854759966678463        test accuracy: 89.58333333333334\n",
            "------------------------------------------------------------------------------------\n",
            "Cost iteration 580: 0.20814237899446986        test accuracy: 89.58333333333334\n",
            "------------------------------------------------------------------------------------\n",
            "Cost iteration 590: 0.20775804789569285        test accuracy: 89.58333333333334\n",
            "------------------------------------------------------------------------------------\n",
            "Cost iteration 600: 0.20739347011757087        test accuracy: 89.58333333333334\n",
            "------------------------------------------------------------------------------------\n",
            "Cost iteration 610: 0.20704758819815045        test accuracy: 90.625\n",
            "------------------------------------------------------------------------------------\n",
            "Cost iteration 620: 0.20671941689106554        test accuracy: 90.625\n",
            "------------------------------------------------------------------------------------\n",
            "Cost iteration 630: 0.20640803722194462        test accuracy: 90.625\n",
            "------------------------------------------------------------------------------------\n",
            "Cost iteration 640: 0.2061125911088993        test accuracy: 90.625\n",
            "------------------------------------------------------------------------------------\n",
            "Cost iteration 650: 0.20583227648730473        test accuracy: 91.66666666666667\n",
            "------------------------------------------------------------------------------------\n",
            "Cost iteration 660: 0.2055663428859892        test accuracy: 91.66666666666667\n",
            "------------------------------------------------------------------------------------\n",
            "Cost iteration 670: 0.20531408740800372        test accuracy: 91.66666666666667\n",
            "------------------------------------------------------------------------------------\n",
            "Cost iteration 680: 0.20507485107444662        test accuracy: 91.66666666666667\n",
            "------------------------------------------------------------------------------------\n",
            "Cost iteration 690: 0.20484801549449508        test accuracy: 91.66666666666667\n",
            "------------------------------------------------------------------------------------\n",
            "Cost iteration 700: 0.20463299982888727        test accuracy: 91.66666666666667\n",
            "------------------------------------------------------------------------------------\n",
            "Cost iteration 710: 0.20442925801772086        test accuracy: 91.66666666666667\n",
            "------------------------------------------------------------------------------------\n",
            "Cost iteration 720: 0.2042362762466086        test accuracy: 91.66666666666667\n",
            "------------------------------------------------------------------------------------\n",
            "Cost iteration 730: 0.20405357062804347        test accuracy: 91.66666666666667\n",
            "------------------------------------------------------------------------------------\n",
            "Cost iteration 740: 0.20388068507730678        test accuracy: 91.66666666666667\n",
            "------------------------------------------------------------------------------------\n",
            "Cost iteration 750: 0.2037171893644409        test accuracy: 91.66666666666667\n",
            "------------------------------------------------------------------------------------\n",
            "Cost iteration 760: 0.2035626773257522        test accuracy: 91.66666666666667\n",
            "------------------------------------------------------------------------------------\n",
            "Cost iteration 770: 0.20341676522002738        test accuracy: 91.66666666666667\n",
            "------------------------------------------------------------------------------------\n",
            "Cost iteration 780: 0.20327909021617288        test accuracy: 91.66666666666667\n",
            "------------------------------------------------------------------------------------\n",
            "Cost iteration 790: 0.2031493090003386        test accuracy: 91.66666666666667\n",
            "------------------------------------------------------------------------------------\n",
            "Cost iteration 800: 0.20302709649179476        test accuracy: 91.66666666666667\n",
            "------------------------------------------------------------------------------------\n",
            "Cost iteration 810: 0.20291214465790186        test accuracy: 91.66666666666667\n",
            "------------------------------------------------------------------------------------\n",
            "Cost iteration 820: 0.20280416141946325        test accuracy: 91.66666666666667\n",
            "------------------------------------------------------------------------------------\n",
            "Cost iteration 830: 0.20270286963861278        test accuracy: 91.66666666666667\n",
            "------------------------------------------------------------------------------------\n",
            "Cost iteration 840: 0.20260800618213598        test accuracy: 91.66666666666667\n",
            "------------------------------------------------------------------------------------\n",
            "Cost iteration 850: 0.2025193210538183        test accuracy: 91.66666666666667\n",
            "------------------------------------------------------------------------------------\n",
            "Cost iteration 860: 0.20243657659000963        test accuracy: 90.625\n",
            "------------------------------------------------------------------------------------\n",
            "Cost iteration 870: 0.20235954671315004        test accuracy: 90.625\n",
            "------------------------------------------------------------------------------------\n",
            "Cost iteration 880: 0.20228801623848117        test accuracy: 90.625\n",
            "------------------------------------------------------------------------------------\n",
            "Cost iteration 890: 0.20222178022961596        test accuracy: 90.625\n",
            "------------------------------------------------------------------------------------\n",
            "Cost iteration 900: 0.2021606433990275        test accuracy: 90.625\n",
            "------------------------------------------------------------------------------------\n",
            "Cost iteration 910: 0.2021044195498749        test accuracy: 90.625\n",
            "------------------------------------------------------------------------------------\n",
            "Cost iteration 920: 0.20205293105590608        test accuracy: 90.625\n",
            "------------------------------------------------------------------------------------\n",
            "Cost iteration 930: 0.20200600837646146        test accuracy: 90.625\n",
            "------------------------------------------------------------------------------------\n",
            "Cost iteration 940: 0.2019634896038678        test accuracy: 90.625\n",
            "------------------------------------------------------------------------------------\n",
            "Cost iteration 950: 0.20192522004074293        test accuracy: 90.625\n",
            "------------------------------------------------------------------------------------\n",
            "Cost iteration 960: 0.20189105180494482        test accuracy: 90.625\n",
            "------------------------------------------------------------------------------------\n",
            "Cost iteration 970: 0.20186084346009495        test accuracy: 90.625\n",
            "------------------------------------------------------------------------------------\n",
            "Cost iteration 980: 0.2018344596697757        test accuracy: 90.625\n",
            "------------------------------------------------------------------------------------\n",
            "Cost iteration 990: 0.20181177087366164        test accuracy: 90.625\n",
            "------------------------------------------------------------------------------------\n",
            "Cost iteration 1000: 0.20179265298398924        test accuracy: 90.625\n",
            "------------------------------------------------------------------------------------\n"
          ]
        }
      ],
      "source": [
        "for i in range(len(cost_val_r2v1)):\n",
        "    print(f\"Cost iteration {i * 10}: {cost_val_r2v1[i]}        test accuracy: {accur_val_r2v1[i] * 100}\")\n",
        "    print(\"------------------------------------------------------------------------------------\")"
      ]
    },
    {
      "cell_type": "code",
      "execution_count": null,
      "metadata": {
        "colab": {
          "base_uri": "https://localhost:8080/",
          "height": 279
        },
        "id": "H-O1lQLeQkrx",
        "outputId": "f6034dba-338e-484e-d1e0-d6d65f9dc334"
      },
      "outputs": [
        {
          "data": {
            "image/png": "[encoded data removed]",
            "text/plain": [
              "<Figure size 432x288 with 1 Axes>"
            ]
          },
          "metadata": {},
          "output_type": "display_data"
        }
      ],
      "source": [
        "plt.plot(cost_val_r2v1)\n",
        "plt.ylabel('cost_val')\n",
        "plt.xlabel('Iterations')\n",
        "plt.show()"
      ]
    },
    {
      "cell_type": "code",
      "execution_count": null,
      "metadata": {
        "colab": {
          "base_uri": "https://localhost:8080/",
          "height": 279
        },
        "id": "A4UQXcTdQkyY",
        "outputId": "eb6b93e9-bb21-41e2-f462-84c7c07e83b9"
      },
      "outputs": [
        {
          "data": {
            "image/png": "[encoded data removed]",
            "text/plain": [
              "<Figure size 432x288 with 1 Axes>"
            ]
          },
          "metadata": {},
          "output_type": "display_data"
        }
      ],
      "source": [
        "plt.plot(accur_val_r2v1)\n",
        "plt.ylabel('Accuracy_val')\n",
        "plt.xlabel('Iterations')\n",
        "plt.show()"
      ]
    },
    {
      "cell_type": "markdown",
      "metadata": {
        "id": "UvhsQrbDR6CF"
      },
      "source": [
        "#**Implementing Model For 3-layer Random - IMPROV1**"
      ]
    },
    {
      "cell_type": "code",
      "execution_count": 401,
      "metadata": {
        "id": "4tAOSjIkR6N_"
      },
      "outputs": [],
      "source": [
        "def model_3layer_Random_v1(X_train, y_train, X_val, y_val, epoch, learning_rate, print_cost=False):\n",
        "    param = initialize_parameter_layer_Random([X_train.shape[0], 64,  1])\n",
        "    param, cost_train, accur_train, cost_val, accur_val = costomize_nlayer(param , X_train, y_train, epoch, learning_rate, print_cost)\n",
        "    out = {\"cost_train\": cost_train,\"accur_train\": accur_train,  \"param\": param,\"learning_rate\" : learning_rate,\"epoch\": epoch}\n",
        "    return out, cost_val, accur_val"
      ]
    },
    {
      "cell_type": "markdown",
      "metadata": {
        "id": "lUfiDrhsREWE"
      },
      "source": [
        "#***Training the model 3-layer Random - IMPROV1***"
      ]
    },
    {
      "cell_type": "code",
      "execution_count": 402,
      "metadata": {
        "colab": {
          "base_uri": "https://localhost:8080/"
        },
        "id": "YvBaS9DcRQ4G",
        "outputId": "3e51ee49-85bb-449f-9a14-0a70e418aec6"
      },
      "outputs": [
        {
          "output_type": "stream",
          "name": "stdout",
          "text": [
            "Cost iteration 0: 0.8769088963933341        train accuracy: 58.072916666666664\n",
            "------------------------------------------------------------------------------------\n",
            "Cost iteration 10: 0.38362868439623515        train accuracy: 84.375\n",
            "------------------------------------------------------------------------------------\n",
            "Cost iteration 20: 0.29192667614204365        train accuracy: 91.14583333333334\n",
            "------------------------------------------------------------------------------------\n",
            "Cost iteration 30: 0.2475551087215741        train accuracy: 91.92708333333334\n",
            "------------------------------------------------------------------------------------\n",
            "Cost iteration 40: 0.21996012331612863        train accuracy: 93.48958333333334\n",
            "------------------------------------------------------------------------------------\n",
            "Cost iteration 50: 0.20012001450861144        train accuracy: 93.48958333333334\n",
            "------------------------------------------------------------------------------------\n",
            "Cost iteration 60: 0.185044891312152        train accuracy: 94.53125\n",
            "------------------------------------------------------------------------------------\n",
            "Cost iteration 70: 0.17303221701240806        train accuracy: 94.79166666666667\n",
            "------------------------------------------------------------------------------------\n",
            "Cost iteration 80: 0.16315236526535565        train accuracy: 95.3125\n",
            "------------------------------------------------------------------------------------\n",
            "Cost iteration 90: 0.15474489331561922        train accuracy: 95.83333333333334\n",
            "------------------------------------------------------------------------------------\n",
            "Cost iteration 100: 0.147478244383559        train accuracy: 96.09375\n",
            "------------------------------------------------------------------------------------\n",
            "Cost iteration 110: 0.14114754662315376        train accuracy: 96.09375\n",
            "------------------------------------------------------------------------------------\n",
            "Cost iteration 120: 0.13554518808184904        train accuracy: 96.61458333333334\n",
            "------------------------------------------------------------------------------------\n",
            "Cost iteration 130: 0.13048153293846274        train accuracy: 96.875\n",
            "------------------------------------------------------------------------------------\n",
            "Cost iteration 140: 0.12591326700289743        train accuracy: 96.875\n",
            "------------------------------------------------------------------------------------\n",
            "Cost iteration 150: 0.1218225638172398        train accuracy: 97.39583333333334\n",
            "------------------------------------------------------------------------------------\n",
            "Cost iteration 160: 0.11808197754373435        train accuracy: 97.39583333333334\n",
            "------------------------------------------------------------------------------------\n",
            "Cost iteration 170: 0.11466842415121226        train accuracy: 97.13541666666667\n",
            "------------------------------------------------------------------------------------\n",
            "Cost iteration 180: 0.11154430661509408        train accuracy: 97.13541666666667\n",
            "------------------------------------------------------------------------------------\n",
            "Cost iteration 190: 0.1086248051895384        train accuracy: 97.13541666666667\n",
            "------------------------------------------------------------------------------------\n",
            "Cost iteration 200: 0.10591818341207732        train accuracy: 97.39583333333334\n",
            "------------------------------------------------------------------------------------\n",
            "Cost iteration 210: 0.10337593680320195        train accuracy: 97.39583333333334\n",
            "------------------------------------------------------------------------------------\n",
            "Cost iteration 220: 0.10099915021754904        train accuracy: 97.39583333333334\n",
            "------------------------------------------------------------------------------------\n",
            "Cost iteration 230: 0.09874226011060797        train accuracy: 97.39583333333334\n",
            "------------------------------------------------------------------------------------\n",
            "Cost iteration 240: 0.09661610675660723        train accuracy: 97.39583333333334\n",
            "------------------------------------------------------------------------------------\n",
            "Cost iteration 250: 0.09459578329674258        train accuracy: 97.39583333333334\n",
            "------------------------------------------------------------------------------------\n",
            "Cost iteration 260: 0.09268972700052056        train accuracy: 97.39583333333334\n",
            "------------------------------------------------------------------------------------\n",
            "Cost iteration 270: 0.09087815433431119        train accuracy: 97.39583333333334\n",
            "------------------------------------------------------------------------------------\n",
            "Cost iteration 280: 0.0891395260038106        train accuracy: 97.39583333333334\n",
            "------------------------------------------------------------------------------------\n",
            "Cost iteration 290: 0.08747122826408682        train accuracy: 97.65625\n",
            "------------------------------------------------------------------------------------\n",
            "Cost iteration 300: 0.08586673589237845        train accuracy: 97.65625\n",
            "------------------------------------------------------------------------------------\n",
            "Cost iteration 310: 0.08432645268766144        train accuracy: 97.65625\n",
            "------------------------------------------------------------------------------------\n",
            "Cost iteration 320: 0.08283356065474806        train accuracy: 97.65625\n",
            "------------------------------------------------------------------------------------\n",
            "Cost iteration 330: 0.08138847487662934        train accuracy: 97.65625\n",
            "------------------------------------------------------------------------------------\n",
            "Cost iteration 340: 0.07999071507689584        train accuracy: 97.91666666666667\n",
            "------------------------------------------------------------------------------------\n",
            "Cost iteration 350: 0.07863697457549448        train accuracy: 97.91666666666667\n",
            "------------------------------------------------------------------------------------\n",
            "Cost iteration 360: 0.07732360662446022        train accuracy: 98.17708333333334\n",
            "------------------------------------------------------------------------------------\n",
            "Cost iteration 370: 0.07603758805976474        train accuracy: 98.4375\n",
            "------------------------------------------------------------------------------------\n",
            "Cost iteration 380: 0.0747807336071315        train accuracy: 98.4375\n",
            "------------------------------------------------------------------------------------\n",
            "Cost iteration 390: 0.07355767530810059        train accuracy: 98.4375\n",
            "------------------------------------------------------------------------------------\n",
            "Cost iteration 400: 0.07236963754437824        train accuracy: 98.4375\n",
            "------------------------------------------------------------------------------------\n",
            "Cost iteration 410: 0.07121117960640994        train accuracy: 98.4375\n",
            "------------------------------------------------------------------------------------\n",
            "Cost iteration 420: 0.07007942394723778        train accuracy: 98.4375\n",
            "------------------------------------------------------------------------------------\n",
            "Cost iteration 430: 0.0689649391949893        train accuracy: 98.4375\n",
            "------------------------------------------------------------------------------------\n",
            "Cost iteration 440: 0.0678791867478043        train accuracy: 98.4375\n",
            "------------------------------------------------------------------------------------\n",
            "Cost iteration 450: 0.06682067518475378        train accuracy: 98.4375\n",
            "------------------------------------------------------------------------------------\n",
            "Cost iteration 460: 0.06578566645362258        train accuracy: 98.4375\n",
            "------------------------------------------------------------------------------------\n",
            "Cost iteration 470: 0.06478313530150383        train accuracy: 98.69791666666667\n",
            "------------------------------------------------------------------------------------\n",
            "Cost iteration 480: 0.06377764299028812        train accuracy: 98.95833333333334\n",
            "------------------------------------------------------------------------------------\n",
            "Cost iteration 490: 0.06279034668920719        train accuracy: 98.95833333333334\n",
            "------------------------------------------------------------------------------------\n",
            "Cost iteration 500: 0.06183179269223119        train accuracy: 98.95833333333334\n",
            "------------------------------------------------------------------------------------\n",
            "Cost iteration 510: 0.06089225259647281        train accuracy: 98.95833333333334\n",
            "------------------------------------------------------------------------------------\n",
            "Cost iteration 520: 0.059996268600793365        train accuracy: 98.95833333333334\n",
            "------------------------------------------------------------------------------------\n",
            "Cost iteration 530: 0.059121617263022654        train accuracy: 98.95833333333334\n",
            "------------------------------------------------------------------------------------\n",
            "Cost iteration 540: 0.05826560496968792        train accuracy: 98.95833333333334\n",
            "------------------------------------------------------------------------------------\n",
            "Cost iteration 550: 0.057419187211640785        train accuracy: 98.95833333333334\n",
            "------------------------------------------------------------------------------------\n",
            "Cost iteration 560: 0.0566027809693222        train accuracy: 98.95833333333334\n",
            "------------------------------------------------------------------------------------\n",
            "Cost iteration 570: 0.055796499580066924        train accuracy: 98.95833333333334\n",
            "------------------------------------------------------------------------------------\n",
            "Cost iteration 580: 0.05500660290234316        train accuracy: 98.95833333333334\n",
            "------------------------------------------------------------------------------------\n",
            "Cost iteration 590: 0.054230421981639396        train accuracy: 98.95833333333334\n",
            "------------------------------------------------------------------------------------\n",
            "Cost iteration 600: 0.05346302520868708        train accuracy: 98.95833333333334\n",
            "------------------------------------------------------------------------------------\n",
            "Cost iteration 610: 0.05270830042772252        train accuracy: 98.95833333333334\n",
            "------------------------------------------------------------------------------------\n",
            "Cost iteration 620: 0.051968843213395705        train accuracy: 98.95833333333334\n",
            "------------------------------------------------------------------------------------\n",
            "Cost iteration 630: 0.05123337499886122        train accuracy: 98.95833333333334\n",
            "------------------------------------------------------------------------------------\n",
            "Cost iteration 640: 0.05051828572763426        train accuracy: 98.95833333333334\n",
            "------------------------------------------------------------------------------------\n",
            "Cost iteration 650: 0.049810139319780046        train accuracy: 98.95833333333334\n",
            "------------------------------------------------------------------------------------\n",
            "Cost iteration 660: 0.0491057433151746        train accuracy: 98.95833333333334\n",
            "------------------------------------------------------------------------------------\n",
            "Cost iteration 670: 0.04841609559437119        train accuracy: 98.95833333333334\n",
            "------------------------------------------------------------------------------------\n",
            "Cost iteration 680: 0.04773287889830877        train accuracy: 98.95833333333334\n",
            "------------------------------------------------------------------------------------\n",
            "Cost iteration 690: 0.0470658327062426        train accuracy: 98.95833333333334\n",
            "------------------------------------------------------------------------------------\n",
            "Cost iteration 700: 0.04640217797800278        train accuracy: 98.95833333333334\n",
            "------------------------------------------------------------------------------------\n",
            "Cost iteration 710: 0.04574803116530602        train accuracy: 98.95833333333334\n",
            "------------------------------------------------------------------------------------\n",
            "Cost iteration 720: 0.04510046702185773        train accuracy: 98.95833333333334\n",
            "------------------------------------------------------------------------------------\n",
            "Cost iteration 730: 0.04446781129283239        train accuracy: 98.95833333333334\n",
            "------------------------------------------------------------------------------------\n",
            "Cost iteration 740: 0.04383987371399546        train accuracy: 98.95833333333334\n",
            "------------------------------------------------------------------------------------\n",
            "Cost iteration 750: 0.04322471977145723        train accuracy: 98.95833333333334\n",
            "------------------------------------------------------------------------------------\n",
            "Cost iteration 760: 0.04262057372317615        train accuracy: 98.95833333333334\n",
            "------------------------------------------------------------------------------------\n",
            "Cost iteration 770: 0.042024377472412645        train accuracy: 98.95833333333334\n",
            "------------------------------------------------------------------------------------\n",
            "Cost iteration 780: 0.04143794193273898        train accuracy: 98.95833333333334\n",
            "------------------------------------------------------------------------------------\n",
            "Cost iteration 790: 0.04086854284636233        train accuracy: 98.95833333333334\n",
            "------------------------------------------------------------------------------------\n",
            "Cost iteration 800: 0.040289044830571524        train accuracy: 98.95833333333334\n",
            "------------------------------------------------------------------------------------\n",
            "Cost iteration 810: 0.03971439260499739        train accuracy: 98.95833333333334\n",
            "------------------------------------------------------------------------------------\n",
            "Cost iteration 820: 0.0391426809683319        train accuracy: 98.95833333333334\n",
            "------------------------------------------------------------------------------------\n",
            "Cost iteration 830: 0.03858687135420953        train accuracy: 98.95833333333334\n",
            "------------------------------------------------------------------------------------\n",
            "Cost iteration 840: 0.038043511030818065        train accuracy: 99.21875\n",
            "------------------------------------------------------------------------------------\n",
            "Cost iteration 850: 0.03749914747012596        train accuracy: 99.21875\n",
            "------------------------------------------------------------------------------------\n",
            "Cost iteration 860: 0.03695999388419285        train accuracy: 99.21875\n",
            "------------------------------------------------------------------------------------\n",
            "Cost iteration 870: 0.03643593667787913        train accuracy: 99.21875\n",
            "------------------------------------------------------------------------------------\n",
            "Cost iteration 880: 0.03591546670010809        train accuracy: 99.21875\n",
            "------------------------------------------------------------------------------------\n",
            "Cost iteration 890: 0.03540482122310136        train accuracy: 99.21875\n",
            "------------------------------------------------------------------------------------\n",
            "Cost iteration 900: 0.034902906264104416        train accuracy: 99.21875\n",
            "------------------------------------------------------------------------------------\n",
            "Cost iteration 910: 0.03440940743634384        train accuracy: 99.21875\n",
            "------------------------------------------------------------------------------------\n",
            "Cost iteration 920: 0.03393826667829392        train accuracy: 99.21875\n",
            "------------------------------------------------------------------------------------\n",
            "Cost iteration 930: 0.03347725983001515        train accuracy: 99.21875\n",
            "------------------------------------------------------------------------------------\n",
            "Cost iteration 940: 0.0330219150035909        train accuracy: 99.21875\n",
            "------------------------------------------------------------------------------------\n",
            "Cost iteration 950: 0.032581597296874557        train accuracy: 99.21875\n",
            "------------------------------------------------------------------------------------\n",
            "Cost iteration 960: 0.03214594403219632        train accuracy: 99.21875\n",
            "------------------------------------------------------------------------------------\n",
            "Cost iteration 970: 0.03172867418700435        train accuracy: 99.21875\n",
            "------------------------------------------------------------------------------------\n",
            "Cost iteration 980: 0.03131713525388741        train accuracy: 99.21875\n",
            "------------------------------------------------------------------------------------\n",
            "Cost iteration 990: 0.03091016749102557        train accuracy: 99.21875\n",
            "------------------------------------------------------------------------------------\n",
            "Cost iteration 1000: 0.03052086795951037        train accuracy: 99.21875\n",
            "------------------------------------------------------------------------------------\n"
          ]
        }
      ],
      "source": [
        "model_output_3layer_Randomv1, cost_val_r3v1, accur_val_r3v1  = model_3layer_Random_v1(X_train, y_train, X_val, y_val, epoch=1000, learning_rate= 0.1, print_cost=True)"
      ]
    },
    {
      "cell_type": "code",
      "execution_count": 408,
      "metadata": {
        "colab": {
          "base_uri": "https://localhost:8080/",
          "height": 279
        },
        "id": "gF36ec-qRRTn",
        "outputId": "377ce546-3787-4540-ebf1-fea5553cc6dc"
      },
      "outputs": [
        {
          "output_type": "display_data",
          "data": {
            "text/plain": [
              "<Figure size 432x288 with 1 Axes>"
            ],
            "image/png": "[encoded data removed]"
          },
          "metadata": {
            "needs_background": "light"
          }
        }
      ],
      "source": [
        "plt.plot(model_output_3layer_Randomv1['cost_train'])\n",
        "plt.ylabel('cost_train')\n",
        "plt.xlabel('Iterations')\n",
        "plt.show()"
      ]
    },
    {
      "cell_type": "code",
      "execution_count": 409,
      "metadata": {
        "colab": {
          "base_uri": "https://localhost:8080/",
          "height": 279
        },
        "id": "08BHqILBRRbo",
        "outputId": "4e3bf84e-39f8-45ad-ee9e-db68600dd510"
      },
      "outputs": [
        {
          "output_type": "display_data",
          "data": {
            "text/plain": [
              "<Figure size 432x288 with 1 Axes>"
            ],
            "image/png": "[encoded data removed]"
          },
          "metadata": {
            "needs_background": "light"
          }
        }
      ],
      "source": [
        "plt.plot(np.squeeze(model_output_3layer_Randomv1['accur_train']))\n",
        "plt.ylabel('Accuracy_train')\n",
        "plt.xlabel('Iterations')\n",
        "plt.show()"
      ]
    },
    {
      "cell_type": "markdown",
      "metadata": {
        "id": "J4G5mx9-RZMI"
      },
      "source": [
        "#***Evaluating the model 3-layer Random - IMPROV1***"
      ]
    },
    {
      "cell_type": "code",
      "execution_count": 410,
      "metadata": {
        "colab": {
          "base_uri": "https://localhost:8080/"
        },
        "id": "zU7xVshWRcU7",
        "outputId": "c3a05205-c7cb-4381-fb5b-47b9dd0e1e55"
      },
      "outputs": [
        {
          "output_type": "stream",
          "name": "stdout",
          "text": [
            "Cost iteration 0: 0.7289920431217777        test accuracy: 59.375\n",
            "------------------------------------------------------------------------------------\n",
            "Cost iteration 10: 0.38854185350708936        test accuracy: 81.25\n",
            "------------------------------------------------------------------------------------\n",
            "Cost iteration 20: 0.3089739220243424        test accuracy: 86.45833333333334\n",
            "------------------------------------------------------------------------------------\n",
            "Cost iteration 30: 0.26867540657843886        test accuracy: 87.5\n",
            "------------------------------------------------------------------------------------\n",
            "Cost iteration 40: 0.24465199308123264        test accuracy: 90.625\n",
            "------------------------------------------------------------------------------------\n",
            "Cost iteration 50: 0.22892126227796822        test accuracy: 90.625\n",
            "------------------------------------------------------------------------------------\n",
            "Cost iteration 60: 0.2180764817898905        test accuracy: 91.66666666666667\n",
            "------------------------------------------------------------------------------------\n",
            "Cost iteration 70: 0.21034718928265675        test accuracy: 89.58333333333334\n",
            "------------------------------------------------------------------------------------\n",
            "Cost iteration 80: 0.20473468646533613        test accuracy: 89.58333333333334\n",
            "------------------------------------------------------------------------------------\n",
            "Cost iteration 90: 0.20045144669081175        test accuracy: 89.58333333333334\n",
            "------------------------------------------------------------------------------------\n",
            "Cost iteration 100: 0.1971203657337092        test accuracy: 89.58333333333334\n",
            "------------------------------------------------------------------------------------\n",
            "Cost iteration 110: 0.19448876202902216        test accuracy: 90.625\n",
            "------------------------------------------------------------------------------------\n",
            "Cost iteration 120: 0.19237322327837164        test accuracy: 90.625\n",
            "------------------------------------------------------------------------------------\n",
            "Cost iteration 130: 0.19052326536543257        test accuracy: 90.625\n",
            "------------------------------------------------------------------------------------\n",
            "Cost iteration 140: 0.18890969404939273        test accuracy: 90.625\n",
            "------------------------------------------------------------------------------------\n",
            "Cost iteration 150: 0.1875528545872708        test accuracy: 90.625\n",
            "------------------------------------------------------------------------------------\n",
            "Cost iteration 160: 0.18634899902781876        test accuracy: 90.625\n",
            "------------------------------------------------------------------------------------\n",
            "Cost iteration 170: 0.1852516879360464        test accuracy: 90.625\n",
            "------------------------------------------------------------------------------------\n",
            "Cost iteration 180: 0.18430323920966646        test accuracy: 90.625\n",
            "------------------------------------------------------------------------------------\n",
            "Cost iteration 190: 0.18351786788346028        test accuracy: 89.58333333333334\n",
            "------------------------------------------------------------------------------------\n",
            "Cost iteration 200: 0.1828055568021886        test accuracy: 89.58333333333334\n",
            "------------------------------------------------------------------------------------\n",
            "Cost iteration 210: 0.18210193211254727        test accuracy: 89.58333333333334\n",
            "------------------------------------------------------------------------------------\n",
            "Cost iteration 220: 0.18137359170967        test accuracy: 90.625\n",
            "------------------------------------------------------------------------------------\n",
            "Cost iteration 230: 0.1806692465498573        test accuracy: 90.625\n",
            "------------------------------------------------------------------------------------\n",
            "Cost iteration 240: 0.1800422156855406        test accuracy: 90.625\n",
            "------------------------------------------------------------------------------------\n",
            "Cost iteration 250: 0.1794410669248983        test accuracy: 90.625\n",
            "------------------------------------------------------------------------------------\n",
            "Cost iteration 260: 0.17888096269278078        test accuracy: 90.625\n",
            "------------------------------------------------------------------------------------\n",
            "Cost iteration 270: 0.17833495571069247        test accuracy: 90.625\n",
            "------------------------------------------------------------------------------------\n",
            "Cost iteration 280: 0.17776906911554394        test accuracy: 90.625\n",
            "------------------------------------------------------------------------------------\n",
            "Cost iteration 290: 0.1771292371713801        test accuracy: 90.625\n",
            "------------------------------------------------------------------------------------\n",
            "Cost iteration 300: 0.17656564606346165        test accuracy: 90.625\n",
            "------------------------------------------------------------------------------------\n",
            "Cost iteration 310: 0.17596061287333545        test accuracy: 90.625\n",
            "------------------------------------------------------------------------------------\n",
            "Cost iteration 320: 0.175409491227443        test accuracy: 90.625\n",
            "------------------------------------------------------------------------------------\n",
            "Cost iteration 330: 0.17484459789159482        test accuracy: 90.625\n",
            "------------------------------------------------------------------------------------\n",
            "Cost iteration 340: 0.17438206846608065        test accuracy: 91.66666666666667\n",
            "------------------------------------------------------------------------------------\n",
            "Cost iteration 350: 0.17389857434251743        test accuracy: 91.66666666666667\n",
            "------------------------------------------------------------------------------------\n",
            "Cost iteration 360: 0.173422989130028        test accuracy: 91.66666666666667\n",
            "------------------------------------------------------------------------------------\n",
            "Cost iteration 370: 0.17298742233591793        test accuracy: 91.66666666666667\n",
            "------------------------------------------------------------------------------------\n",
            "Cost iteration 380: 0.17257787896903956        test accuracy: 91.66666666666667\n",
            "------------------------------------------------------------------------------------\n",
            "Cost iteration 390: 0.17212884049527194        test accuracy: 91.66666666666667\n",
            "------------------------------------------------------------------------------------\n",
            "Cost iteration 400: 0.1716668026508526        test accuracy: 91.66666666666667\n",
            "------------------------------------------------------------------------------------\n",
            "Cost iteration 410: 0.17123598876191748        test accuracy: 91.66666666666667\n",
            "------------------------------------------------------------------------------------\n",
            "Cost iteration 420: 0.1708515565114891        test accuracy: 91.66666666666667\n",
            "------------------------------------------------------------------------------------\n",
            "Cost iteration 430: 0.17045354592999232        test accuracy: 91.66666666666667\n",
            "------------------------------------------------------------------------------------\n",
            "Cost iteration 440: 0.16998751053215347        test accuracy: 91.66666666666667\n",
            "------------------------------------------------------------------------------------\n",
            "Cost iteration 450: 0.16952014850018537        test accuracy: 91.66666666666667\n",
            "------------------------------------------------------------------------------------\n",
            "Cost iteration 460: 0.1691996135824464        test accuracy: 91.66666666666667\n",
            "------------------------------------------------------------------------------------\n",
            "Cost iteration 470: 0.16881913075275992        test accuracy: 91.66666666666667\n",
            "------------------------------------------------------------------------------------\n",
            "Cost iteration 480: 0.16851016267609212        test accuracy: 91.66666666666667\n",
            "------------------------------------------------------------------------------------\n",
            "Cost iteration 490: 0.16814304129401636        test accuracy: 91.66666666666667\n",
            "------------------------------------------------------------------------------------\n",
            "Cost iteration 500: 0.16779653477685114        test accuracy: 91.66666666666667\n",
            "------------------------------------------------------------------------------------\n",
            "Cost iteration 510: 0.16751926409324258        test accuracy: 91.66666666666667\n",
            "------------------------------------------------------------------------------------\n",
            "Cost iteration 520: 0.1672076363205333        test accuracy: 91.66666666666667\n",
            "------------------------------------------------------------------------------------\n",
            "Cost iteration 530: 0.1669526042635503        test accuracy: 91.66666666666667\n",
            "------------------------------------------------------------------------------------\n",
            "Cost iteration 540: 0.16666250435854485        test accuracy: 91.66666666666667\n",
            "------------------------------------------------------------------------------------\n",
            "Cost iteration 550: 0.1664377107953437        test accuracy: 91.66666666666667\n",
            "------------------------------------------------------------------------------------\n",
            "Cost iteration 560: 0.16625587050416063        test accuracy: 91.66666666666667\n",
            "------------------------------------------------------------------------------------\n",
            "Cost iteration 570: 0.1661543527174047        test accuracy: 91.66666666666667\n",
            "------------------------------------------------------------------------------------\n",
            "Cost iteration 580: 0.1660197724727625        test accuracy: 91.66666666666667\n",
            "------------------------------------------------------------------------------------\n",
            "Cost iteration 590: 0.16590561874467186        test accuracy: 91.66666666666667\n",
            "------------------------------------------------------------------------------------\n",
            "Cost iteration 600: 0.16578779664285237        test accuracy: 91.66666666666667\n",
            "------------------------------------------------------------------------------------\n",
            "Cost iteration 610: 0.165711810549494        test accuracy: 91.66666666666667\n",
            "------------------------------------------------------------------------------------\n",
            "Cost iteration 620: 0.1656066974084091        test accuracy: 91.66666666666667\n",
            "------------------------------------------------------------------------------------\n",
            "Cost iteration 630: 0.16550429973992453        test accuracy: 91.66666666666667\n",
            "------------------------------------------------------------------------------------\n",
            "Cost iteration 640: 0.16540573243715936        test accuracy: 91.66666666666667\n",
            "------------------------------------------------------------------------------------\n",
            "Cost iteration 650: 0.1653792214678853        test accuracy: 91.66666666666667\n",
            "------------------------------------------------------------------------------------\n",
            "Cost iteration 660: 0.16537449261769935        test accuracy: 91.66666666666667\n",
            "------------------------------------------------------------------------------------\n",
            "Cost iteration 670: 0.16521119112372618        test accuracy: 91.66666666666667\n",
            "------------------------------------------------------------------------------------\n",
            "Cost iteration 680: 0.16514875694790226        test accuracy: 90.625\n",
            "------------------------------------------------------------------------------------\n",
            "Cost iteration 690: 0.16507396872600752        test accuracy: 90.625\n",
            "------------------------------------------------------------------------------------\n",
            "Cost iteration 700: 0.16504010757563803        test accuracy: 90.625\n",
            "------------------------------------------------------------------------------------\n",
            "Cost iteration 710: 0.1649772962288676        test accuracy: 90.625\n",
            "------------------------------------------------------------------------------------\n",
            "Cost iteration 720: 0.16496199381967902        test accuracy: 90.625\n",
            "------------------------------------------------------------------------------------\n",
            "Cost iteration 730: 0.16492374862014927        test accuracy: 90.625\n",
            "------------------------------------------------------------------------------------\n",
            "Cost iteration 740: 0.1649522897256598        test accuracy: 90.625\n",
            "------------------------------------------------------------------------------------\n",
            "Cost iteration 750: 0.16501273752081294        test accuracy: 90.625\n",
            "------------------------------------------------------------------------------------\n",
            "Cost iteration 760: 0.16500640973494402        test accuracy: 90.625\n",
            "------------------------------------------------------------------------------------\n",
            "Cost iteration 770: 0.16505267654625605        test accuracy: 90.625\n",
            "------------------------------------------------------------------------------------\n",
            "Cost iteration 780: 0.1650476967572723        test accuracy: 90.625\n",
            "------------------------------------------------------------------------------------\n",
            "Cost iteration 790: 0.16510955780181433        test accuracy: 90.625\n",
            "------------------------------------------------------------------------------------\n",
            "Cost iteration 800: 0.1651814465956347        test accuracy: 90.625\n",
            "------------------------------------------------------------------------------------\n",
            "Cost iteration 810: 0.16518533450671763        test accuracy: 90.625\n",
            "------------------------------------------------------------------------------------\n",
            "Cost iteration 820: 0.1652831164075154        test accuracy: 90.625\n",
            "------------------------------------------------------------------------------------\n",
            "Cost iteration 830: 0.1653981757014364        test accuracy: 90.625\n",
            "------------------------------------------------------------------------------------\n",
            "Cost iteration 840: 0.16547785352240255        test accuracy: 90.625\n",
            "------------------------------------------------------------------------------------\n",
            "Cost iteration 850: 0.16557864780585405        test accuracy: 90.625\n",
            "------------------------------------------------------------------------------------\n",
            "Cost iteration 860: 0.1656712284775479        test accuracy: 91.66666666666667\n",
            "------------------------------------------------------------------------------------\n",
            "Cost iteration 870: 0.16576621056814997        test accuracy: 91.66666666666667\n",
            "------------------------------------------------------------------------------------\n",
            "Cost iteration 880: 0.1659049921484106        test accuracy: 91.66666666666667\n",
            "------------------------------------------------------------------------------------\n",
            "Cost iteration 890: 0.1660412465865224        test accuracy: 91.66666666666667\n",
            "------------------------------------------------------------------------------------\n",
            "Cost iteration 900: 0.16614557577672093        test accuracy: 91.66666666666667\n",
            "------------------------------------------------------------------------------------\n",
            "Cost iteration 910: 0.1663457625127157        test accuracy: 92.70833333333334\n",
            "------------------------------------------------------------------------------------\n",
            "Cost iteration 920: 0.16655095289771776        test accuracy: 92.70833333333334\n",
            "------------------------------------------------------------------------------------\n",
            "Cost iteration 930: 0.16678887098677975        test accuracy: 92.70833333333334\n",
            "------------------------------------------------------------------------------------\n",
            "Cost iteration 940: 0.16703134458402097        test accuracy: 92.70833333333334\n",
            "------------------------------------------------------------------------------------\n",
            "Cost iteration 950: 0.16725420641906524        test accuracy: 92.70833333333334\n",
            "------------------------------------------------------------------------------------\n",
            "Cost iteration 960: 0.16750587040403178        test accuracy: 92.70833333333334\n",
            "------------------------------------------------------------------------------------\n",
            "Cost iteration 970: 0.16776724231741907        test accuracy: 92.70833333333334\n",
            "------------------------------------------------------------------------------------\n",
            "Cost iteration 980: 0.16803887232477543        test accuracy: 92.70833333333334\n",
            "------------------------------------------------------------------------------------\n",
            "Cost iteration 990: 0.16833463469595272        test accuracy: 92.70833333333334\n",
            "------------------------------------------------------------------------------------\n",
            "Cost iteration 1000: 0.1686154375065012        test accuracy: 92.70833333333334\n",
            "------------------------------------------------------------------------------------\n"
          ]
        }
      ],
      "source": [
        "for i in range(len(cost_val_r3v1)):\n",
        "    print(f\"Cost iteration {i * 10}: {cost_val_r3v1[i]}        test accuracy: {accur_val_r3v1[i] * 100}\")\n",
        "    print(\"------------------------------------------------------------------------------------\")"
      ]
    },
    {
      "cell_type": "code",
      "execution_count": 411,
      "metadata": {
        "colab": {
          "base_uri": "https://localhost:8080/",
          "height": 279
        },
        "id": "KImo9g6BRfNy",
        "outputId": "ecad848e-22af-4d35-c413-c4a89a70f140"
      },
      "outputs": [
        {
          "output_type": "display_data",
          "data": {
            "text/plain": [
              "<Figure size 432x288 with 1 Axes>"
            ],
            "image/png": "[encoded data removed]"
          },
          "metadata": {
            "needs_background": "light"
          }
        }
      ],
      "source": [
        "plt.plot(cost_val_r3v1)\n",
        "plt.ylabel('cost_val')\n",
        "plt.xlabel('Iterations')\n",
        "plt.show()"
      ]
    },
    {
      "cell_type": "code",
      "execution_count": 412,
      "metadata": {
        "colab": {
          "base_uri": "https://localhost:8080/",
          "height": 279
        },
        "id": "S-SYEC1LRgqE",
        "outputId": "ceb59ff3-37a6-4fac-ecf9-0bd753df023e"
      },
      "outputs": [
        {
          "output_type": "display_data",
          "data": {
            "text/plain": [
              "<Figure size 432x288 with 1 Axes>"
            ],
            "image/png": "[encoded data removed]"
          },
          "metadata": {
            "needs_background": "light"
          }
        }
      ],
      "source": [
        "plt.plot(accur_val_r3v1)\n",
        "plt.ylabel('Accuracy_val')\n",
        "plt.xlabel('Iterations')\n",
        "plt.show()"
      ]
    },
    {
      "cell_type": "markdown",
      "metadata": {
        "id": "wYhA9oBsSHOa"
      },
      "source": [
        "#**Implementing Model For 5-layer Random - IMPROV1**"
      ]
    },
    {
      "cell_type": "code",
      "execution_count": null,
      "metadata": {
        "colab": {
          "background_save": true
        },
        "id": "MEk8AzJdSHVH"
      },
      "outputs": [],
      "source": [
        "def model_5layer_Random_v1(X_train, y_train, X_val, y_val, epoch, learning_rate, print_cost=False):\n",
        "    param = initialize_parameter_layer_Random([X_train.shape[0], 50, 32, 16,  1])\n",
        "    param, cost_train, accur_train, cost_val, accur_val = costomize_nlayer(param , X_train, y_train, epoch, learning_rate, print_cost)\n",
        "    out = {\"cost_train\": cost_train,\"accur_train\": accur_train,  \"param\": param,\"learning_rate\" : learning_rate,\"epoch\": epoch}\n",
        "    return out, cost_val, accur_val"
      ]
    },
    {
      "cell_type": "markdown",
      "metadata": {
        "id": "Bl-DTfqYRmyo"
      },
      "source": [
        "#***Training the model 5-layer Random - IMPROV1***"
      ]
    },
    {
      "cell_type": "code",
      "execution_count": 415,
      "metadata": {
        "id": "WIH6KnOlRnEE",
        "colab": {
          "base_uri": "https://localhost:8080/"
        },
        "outputId": "bd8b26d5-6696-48a1-f170-f16d7e11cb97"
      },
      "outputs": [
        {
          "output_type": "stream",
          "name": "stdout",
          "text": [
            "Cost iteration 0: 1.2091980443937116        train accuracy: 50.78125\n",
            "------------------------------------------------------------------------------------\n",
            "Cost iteration 10: 0.5098302889343702        train accuracy: 75.26041666666666\n",
            "------------------------------------------------------------------------------------\n",
            "Cost iteration 20: 0.40503131815378823        train accuracy: 80.98958333333334\n",
            "------------------------------------------------------------------------------------\n",
            "Cost iteration 30: 0.30612962610111993        train accuracy: 89.0625\n",
            "------------------------------------------------------------------------------------\n",
            "Cost iteration 40: 0.23299315267663656        train accuracy: 92.96875\n",
            "------------------------------------------------------------------------------------\n",
            "Cost iteration 50: 0.18651355096148892        train accuracy: 94.79166666666667\n",
            "------------------------------------------------------------------------------------\n",
            "Cost iteration 60: 0.15713695657407725        train accuracy: 95.3125\n",
            "------------------------------------------------------------------------------------\n",
            "Cost iteration 70: 0.13613881287545754        train accuracy: 95.83333333333334\n",
            "------------------------------------------------------------------------------------\n",
            "Cost iteration 80: 0.12044837096513608        train accuracy: 96.35416666666667\n",
            "------------------------------------------------------------------------------------\n",
            "Cost iteration 90: 0.10792269665176897        train accuracy: 97.13541666666667\n",
            "------------------------------------------------------------------------------------\n",
            "Cost iteration 100: 0.09767621190944804        train accuracy: 97.13541666666667\n",
            "------------------------------------------------------------------------------------\n",
            "Cost iteration 110: 0.08915934289344131        train accuracy: 97.65625\n",
            "------------------------------------------------------------------------------------\n",
            "Cost iteration 120: 0.0817837786248068        train accuracy: 97.91666666666667\n",
            "------------------------------------------------------------------------------------\n",
            "Cost iteration 130: 0.07533661716276838        train accuracy: 97.91666666666667\n",
            "------------------------------------------------------------------------------------\n",
            "Cost iteration 140: 0.06945719758875132        train accuracy: 98.17708333333334\n",
            "------------------------------------------------------------------------------------\n",
            "Cost iteration 150: 0.06443883557226288        train accuracy: 98.4375\n",
            "------------------------------------------------------------------------------------\n",
            "Cost iteration 160: 0.060168470205243886        train accuracy: 98.69791666666667\n",
            "------------------------------------------------------------------------------------\n",
            "Cost iteration 170: 0.05652596706843725        train accuracy: 98.69791666666667\n",
            "------------------------------------------------------------------------------------\n",
            "Cost iteration 180: 0.05280819279928934        train accuracy: 98.69791666666667\n",
            "------------------------------------------------------------------------------------\n",
            "Cost iteration 190: 0.04983930368738061        train accuracy: 98.69791666666667\n",
            "------------------------------------------------------------------------------------\n",
            "Cost iteration 200: 0.04732470820013153        train accuracy: 98.69791666666667\n",
            "------------------------------------------------------------------------------------\n",
            "Cost iteration 210: 0.045053327034727295        train accuracy: 98.69791666666667\n",
            "------------------------------------------------------------------------------------\n",
            "Cost iteration 220: 0.0429917989954704        train accuracy: 98.69791666666667\n",
            "------------------------------------------------------------------------------------\n",
            "Cost iteration 230: 0.04114076277189674        train accuracy: 98.95833333333334\n",
            "------------------------------------------------------------------------------------\n",
            "Cost iteration 240: 0.03948882538894458        train accuracy: 98.95833333333334\n",
            "------------------------------------------------------------------------------------\n",
            "Cost iteration 250: 0.03791419675290239        train accuracy: 98.95833333333334\n",
            "------------------------------------------------------------------------------------\n",
            "Cost iteration 260: 0.036324887282605814        train accuracy: 98.95833333333334\n",
            "------------------------------------------------------------------------------------\n",
            "Cost iteration 270: 0.03483450091846604        train accuracy: 98.95833333333334\n",
            "------------------------------------------------------------------------------------\n",
            "Cost iteration 280: 0.03339709394463558        train accuracy: 98.95833333333334\n",
            "------------------------------------------------------------------------------------\n",
            "Cost iteration 290: 0.032018856558760675        train accuracy: 98.95833333333334\n",
            "------------------------------------------------------------------------------------\n",
            "Cost iteration 300: 0.03070396625437437        train accuracy: 98.95833333333334\n",
            "------------------------------------------------------------------------------------\n",
            "Cost iteration 310: 0.02947614020119524        train accuracy: 98.95833333333334\n",
            "------------------------------------------------------------------------------------\n",
            "Cost iteration 320: 0.028273792429287584        train accuracy: 98.95833333333334\n",
            "------------------------------------------------------------------------------------\n",
            "Cost iteration 330: 0.027118600947156894        train accuracy: 98.95833333333334\n",
            "------------------------------------------------------------------------------------\n",
            "Cost iteration 340: 0.026012176284507586        train accuracy: 98.95833333333334\n",
            "------------------------------------------------------------------------------------\n",
            "Cost iteration 350: 0.025007327078593506        train accuracy: 98.95833333333334\n",
            "------------------------------------------------------------------------------------\n",
            "Cost iteration 360: 0.024018899681097716        train accuracy: 98.95833333333334\n",
            "------------------------------------------------------------------------------------\n",
            "Cost iteration 370: 0.02312465508542117        train accuracy: 98.95833333333334\n",
            "------------------------------------------------------------------------------------\n",
            "Cost iteration 380: 0.022287582026478896        train accuracy: 98.95833333333334\n",
            "------------------------------------------------------------------------------------\n",
            "Cost iteration 390: 0.021472395384554456        train accuracy: 98.95833333333334\n",
            "------------------------------------------------------------------------------------\n",
            "Cost iteration 400: 0.020716073459368548        train accuracy: 99.21875\n",
            "------------------------------------------------------------------------------------\n",
            "Cost iteration 410: 0.020016579832445088        train accuracy: 99.21875\n",
            "------------------------------------------------------------------------------------\n",
            "Cost iteration 420: 0.019333076526771742        train accuracy: 99.21875\n",
            "------------------------------------------------------------------------------------\n",
            "Cost iteration 430: 0.018688746578895146        train accuracy: 99.21875\n",
            "------------------------------------------------------------------------------------\n",
            "Cost iteration 440: 0.01808082482349147        train accuracy: 99.47916666666667\n",
            "------------------------------------------------------------------------------------\n",
            "Cost iteration 450: 0.01749741592333633        train accuracy: 99.47916666666667\n",
            "------------------------------------------------------------------------------------\n",
            "Cost iteration 460: 0.016939581645894077        train accuracy: 99.47916666666667\n",
            "------------------------------------------------------------------------------------\n",
            "Cost iteration 470: 0.016429382783459096        train accuracy: 99.47916666666667\n",
            "------------------------------------------------------------------------------------\n",
            "Cost iteration 480: 0.0158967451072394        train accuracy: 99.47916666666667\n",
            "------------------------------------------------------------------------------------\n",
            "Cost iteration 490: 0.015381129338230467        train accuracy: 99.73958333333334\n",
            "------------------------------------------------------------------------------------\n",
            "Cost iteration 500: 0.014899165146164423        train accuracy: 100.0\n",
            "------------------------------------------------------------------------------------\n",
            "Cost iteration 510: 0.014430500747094722        train accuracy: 100.0\n",
            "------------------------------------------------------------------------------------\n",
            "Cost iteration 520: 0.013971961750994863        train accuracy: 100.0\n",
            "------------------------------------------------------------------------------------\n",
            "Cost iteration 530: 0.013552450239357758        train accuracy: 100.0\n",
            "------------------------------------------------------------------------------------\n",
            "Cost iteration 540: 0.013143971054398804        train accuracy: 100.0\n",
            "------------------------------------------------------------------------------------\n",
            "Cost iteration 550: 0.012736560728359405        train accuracy: 100.0\n",
            "------------------------------------------------------------------------------------\n",
            "Cost iteration 560: 0.012351723413132652        train accuracy: 100.0\n",
            "------------------------------------------------------------------------------------\n",
            "Cost iteration 570: 0.011991967679716792        train accuracy: 100.0\n",
            "------------------------------------------------------------------------------------\n",
            "Cost iteration 580: 0.011619833994766522        train accuracy: 100.0\n",
            "------------------------------------------------------------------------------------\n",
            "Cost iteration 590: 0.011278737412127912        train accuracy: 100.0\n",
            "------------------------------------------------------------------------------------\n",
            "Cost iteration 600: 0.010946554952055959        train accuracy: 100.0\n",
            "------------------------------------------------------------------------------------\n"
          ]
        }
      ],
      "source": [
        "model_output_5layer_Random_v1, cost_val_r5v1, accur_val_r5v1 = model_5layer_Random_v1(X_train, y_train, X_val, y_val, epoch=600, learning_rate= 0.1, print_cost=True)"
      ]
    },
    {
      "cell_type": "code",
      "execution_count": 416,
      "metadata": {
        "colab": {
          "base_uri": "https://localhost:8080/",
          "height": 279
        },
        "id": "XhqrgOifRnK8",
        "outputId": "173d7aa8-73e0-4496-aaa5-2f092eef6535"
      },
      "outputs": [
        {
          "output_type": "display_data",
          "data": {
            "text/plain": [
              "<Figure size 432x288 with 1 Axes>"
            ],
            "image/png": "[encoded data removed]"
          },
          "metadata": {
            "needs_background": "light"
          }
        }
      ],
      "source": [
        "plt.plot(model_output_5layer_Random['cost_train'])\n",
        "plt.ylabel('cost_train')\n",
        "plt.xlabel('Iterations')\n",
        "plt.show()"
      ]
    },
    {
      "cell_type": "code",
      "execution_count": 417,
      "metadata": {
        "colab": {
          "base_uri": "https://localhost:8080/",
          "height": 281
        },
        "id": "DmaX3iKhRnUs",
        "outputId": "b526d487-8b4c-4620-c87a-1e7f909f1b2f"
      },
      "outputs": [
        {
          "output_type": "display_data",
          "data": {
            "text/plain": [
              "<Figure size 432x288 with 1 Axes>"
            ],
            "image/png": "[encoded data removed]"
          },
          "metadata": {
            "needs_background": "light"
          }
        }
      ],
      "source": [
        "plt.plot(np.squeeze(model_output_5layer_Random['accur_train']))\n",
        "plt.ylabel('Accuracy_train')\n",
        "plt.xlabel('Iterations')\n",
        "plt.show()"
      ]
    },
    {
      "cell_type": "markdown",
      "metadata": {
        "id": "sFOW_7eGRniu"
      },
      "source": [
        "#***Evaluating the model 5-layer Random - IMPROV1***"
      ]
    },
    {
      "cell_type": "code",
      "execution_count": 418,
      "metadata": {
        "colab": {
          "base_uri": "https://localhost:8080/"
        },
        "id": "dN3blaN0Rnwy",
        "outputId": "0f8a2485-b3a9-4077-f575-2f3ca80b5ccf"
      },
      "outputs": [
        {
          "output_type": "stream",
          "name": "stdout",
          "text": [
            "Cost after iteration 0: 0.7229621892130254        test accuracy: 59.375\n",
            "------------------------------------------------------------------------------------\n",
            "Cost after iteration 10: 0.44731879083621845        test accuracy: 81.25\n",
            "------------------------------------------------------------------------------------\n",
            "Cost after iteration 20: 0.36266208233576        test accuracy: 87.5\n",
            "------------------------------------------------------------------------------------\n",
            "Cost after iteration 30: 0.2864192346827889        test accuracy: 90.625\n",
            "------------------------------------------------------------------------------------\n",
            "Cost after iteration 40: 0.23529164649987178        test accuracy: 91.66666666666667\n",
            "------------------------------------------------------------------------------------\n",
            "Cost after iteration 50: 0.2107550580404206        test accuracy: 90.625\n",
            "------------------------------------------------------------------------------------\n",
            "Cost after iteration 60: 0.19841053788492935        test accuracy: 89.58333333333334\n",
            "------------------------------------------------------------------------------------\n",
            "Cost after iteration 70: 0.1932173637950223        test accuracy: 88.54166666666667\n",
            "------------------------------------------------------------------------------------\n",
            "Cost after iteration 80: 0.19105662180560795        test accuracy: 88.54166666666667\n",
            "------------------------------------------------------------------------------------\n",
            "Cost after iteration 90: 0.18998330113340395        test accuracy: 88.54166666666667\n",
            "------------------------------------------------------------------------------------\n",
            "Cost after iteration 100: 0.18935530943357562        test accuracy: 88.54166666666667\n",
            "------------------------------------------------------------------------------------\n",
            "Cost after iteration 110: 0.18876625205862133        test accuracy: 88.54166666666667\n",
            "------------------------------------------------------------------------------------\n",
            "Cost after iteration 120: 0.18766089744638395        test accuracy: 88.54166666666667\n",
            "------------------------------------------------------------------------------------\n",
            "Cost after iteration 130: 0.18722605645874085        test accuracy: 88.54166666666667\n",
            "------------------------------------------------------------------------------------\n",
            "Cost after iteration 140: 0.18796293472075015        test accuracy: 89.58333333333334\n",
            "------------------------------------------------------------------------------------\n",
            "Cost after iteration 150: 0.18800634258649299        test accuracy: 90.625\n",
            "------------------------------------------------------------------------------------\n",
            "Cost after iteration 160: 0.18729772605565004        test accuracy: 90.625\n",
            "------------------------------------------------------------------------------------\n",
            "Cost after iteration 170: 0.18649960337984645        test accuracy: 90.625\n",
            "------------------------------------------------------------------------------------\n",
            "Cost after iteration 180: 0.18516633184038958        test accuracy: 90.625\n",
            "------------------------------------------------------------------------------------\n",
            "Cost after iteration 190: 0.18350140594784065        test accuracy: 90.625\n",
            "------------------------------------------------------------------------------------\n",
            "Cost after iteration 200: 0.1822470351004737        test accuracy: 90.625\n",
            "------------------------------------------------------------------------------------\n",
            "Cost after iteration 210: 0.18161277485874477        test accuracy: 90.625\n",
            "------------------------------------------------------------------------------------\n",
            "Cost after iteration 220: 0.1814277497563057        test accuracy: 90.625\n",
            "------------------------------------------------------------------------------------\n",
            "Cost after iteration 230: 0.1826229406263722        test accuracy: 90.625\n",
            "------------------------------------------------------------------------------------\n",
            "Cost after iteration 240: 0.18377351719150306        test accuracy: 91.66666666666667\n",
            "------------------------------------------------------------------------------------\n",
            "Cost after iteration 250: 0.18534985276182894        test accuracy: 91.66666666666667\n",
            "------------------------------------------------------------------------------------\n",
            "Cost after iteration 260: 0.18642815803141094        test accuracy: 92.70833333333334\n",
            "------------------------------------------------------------------------------------\n",
            "Cost after iteration 270: 0.18763980941438752        test accuracy: 92.70833333333334\n",
            "------------------------------------------------------------------------------------\n",
            "Cost after iteration 280: 0.189018289384827        test accuracy: 92.70833333333334\n",
            "------------------------------------------------------------------------------------\n",
            "Cost after iteration 290: 0.19004110671909383        test accuracy: 92.70833333333334\n",
            "------------------------------------------------------------------------------------\n",
            "Cost after iteration 300: 0.1915848017289298        test accuracy: 92.70833333333334\n",
            "------------------------------------------------------------------------------------\n",
            "Cost after iteration 310: 0.19309835879426107        test accuracy: 91.66666666666667\n",
            "------------------------------------------------------------------------------------\n",
            "Cost after iteration 320: 0.1945733127424389        test accuracy: 91.66666666666667\n",
            "------------------------------------------------------------------------------------\n",
            "Cost after iteration 330: 0.19558226681503948        test accuracy: 91.66666666666667\n",
            "------------------------------------------------------------------------------------\n",
            "Cost after iteration 340: 0.19670578375071116        test accuracy: 91.66666666666667\n",
            "------------------------------------------------------------------------------------\n",
            "Cost after iteration 350: 0.19775815284917098        test accuracy: 91.66666666666667\n",
            "------------------------------------------------------------------------------------\n",
            "Cost after iteration 360: 0.19947334881489853        test accuracy: 91.66666666666667\n",
            "------------------------------------------------------------------------------------\n",
            "Cost after iteration 370: 0.20117746342744425        test accuracy: 91.66666666666667\n",
            "------------------------------------------------------------------------------------\n",
            "Cost after iteration 380: 0.202688226562945        test accuracy: 91.66666666666667\n",
            "------------------------------------------------------------------------------------\n",
            "Cost after iteration 390: 0.20428923365772933        test accuracy: 91.66666666666667\n",
            "------------------------------------------------------------------------------------\n",
            "Cost after iteration 400: 0.20595943315446769        test accuracy: 91.66666666666667\n",
            "------------------------------------------------------------------------------------\n",
            "Cost after iteration 410: 0.20711460419702665        test accuracy: 91.66666666666667\n",
            "------------------------------------------------------------------------------------\n",
            "Cost after iteration 420: 0.20828764329320992        test accuracy: 91.66666666666667\n",
            "------------------------------------------------------------------------------------\n",
            "Cost after iteration 430: 0.2097312774946205        test accuracy: 91.66666666666667\n",
            "------------------------------------------------------------------------------------\n",
            "Cost after iteration 440: 0.2112637691454547        test accuracy: 91.66666666666667\n",
            "------------------------------------------------------------------------------------\n",
            "Cost after iteration 450: 0.2131682551079788        test accuracy: 91.66666666666667\n",
            "------------------------------------------------------------------------------------\n",
            "Cost after iteration 460: 0.2147579034698362        test accuracy: 91.66666666666667\n",
            "------------------------------------------------------------------------------------\n",
            "Cost after iteration 470: 0.21613054240978813        test accuracy: 91.66666666666667\n",
            "------------------------------------------------------------------------------------\n",
            "Cost after iteration 480: 0.21738615638851677        test accuracy: 91.66666666666667\n",
            "------------------------------------------------------------------------------------\n",
            "Cost after iteration 490: 0.21930929274159727        test accuracy: 91.66666666666667\n",
            "------------------------------------------------------------------------------------\n",
            "Cost after iteration 500: 0.22090230610558492        test accuracy: 91.66666666666667\n",
            "------------------------------------------------------------------------------------\n",
            "Cost after iteration 510: 0.2224352314572131        test accuracy: 91.66666666666667\n",
            "------------------------------------------------------------------------------------\n",
            "Cost after iteration 520: 0.22401752993892032        test accuracy: 91.66666666666667\n",
            "------------------------------------------------------------------------------------\n",
            "Cost after iteration 530: 0.22537410433891797        test accuracy: 91.66666666666667\n",
            "------------------------------------------------------------------------------------\n",
            "Cost after iteration 540: 0.22671992190529366        test accuracy: 91.66666666666667\n",
            "------------------------------------------------------------------------------------\n",
            "Cost after iteration 550: 0.2280911137818269        test accuracy: 91.66666666666667\n",
            "------------------------------------------------------------------------------------\n",
            "Cost after iteration 560: 0.2298694525629031        test accuracy: 91.66666666666667\n",
            "------------------------------------------------------------------------------------\n",
            "Cost after iteration 570: 0.2309811733366085        test accuracy: 91.66666666666667\n",
            "------------------------------------------------------------------------------------\n",
            "Cost after iteration 580: 0.2327622008167068        test accuracy: 91.66666666666667\n",
            "------------------------------------------------------------------------------------\n",
            "Cost after iteration 590: 0.2341684901067166        test accuracy: 91.66666666666667\n",
            "------------------------------------------------------------------------------------\n",
            "Cost after iteration 600: 0.23555962653488116        test accuracy: 91.66666666666667\n",
            "------------------------------------------------------------------------------------\n"
          ]
        }
      ],
      "source": [
        "for i in range(len(cost_val_r5v1)):\n",
        "    print(f\"Cost after iteration {i * 10}: {cost_val_r5v1[i]}        test accuracy: {accur_val_r5v1[i] * 100}\")\n",
        "    print(\"------------------------------------------------------------------------------------\")"
      ]
    },
    {
      "cell_type": "code",
      "execution_count": 419,
      "metadata": {
        "colab": {
          "base_uri": "https://localhost:8080/",
          "height": 279
        },
        "id": "V-vFrqftRn0l",
        "outputId": "21188f17-81d7-4dec-d269-13b99dbbfe8c"
      },
      "outputs": [
        {
          "output_type": "display_data",
          "data": {
            "text/plain": [
              "<Figure size 432x288 with 1 Axes>"
            ],
            "image/png": "[encoded data removed]"
          },
          "metadata": {
            "needs_background": "light"
          }
        }
      ],
      "source": [
        "plt.plot(cost_val_r5v1)\n",
        "plt.ylabel('cost_val')\n",
        "plt.xlabel('Iterations')\n",
        "plt.show()"
      ]
    },
    {
      "cell_type": "code",
      "execution_count": 420,
      "metadata": {
        "id": "eLrK_4jXRn9H",
        "colab": {
          "base_uri": "https://localhost:8080/",
          "height": 279
        },
        "outputId": "28401d43-456d-4081-ca0b-f8fbcf509f6a"
      },
      "outputs": [
        {
          "output_type": "display_data",
          "data": {
            "text/plain": [
              "<Figure size 432x288 with 1 Axes>"
            ],
            "image/png": "[encoded data removed]"
          },
          "metadata": {
            "needs_background": "light"
          }
        }
      ],
      "source": [
        "plt.plot(accur_val_r5v1)\n",
        "plt.ylabel('Accuracy_val')\n",
        "plt.xlabel('Iterations')\n",
        "plt.show()"
      ]
    }
  ],
  "metadata": {
    "colab": {
      "collapsed_sections": [
        "NG2wb06X3F_A",
        "9VApAeUO33gs",
        "1ERpENqV4GGE",
        "djdV1d4p4aT5",
        "he89gFXWnhWe",
        "_OKmJFpFnzOE",
        "inulLdEAoAwn",
        "XowvkG4-oJcs",
        "UCBEqB5JocER",
        "y71KHRZrq7Ah",
        "iljwdzXTrBjb",
        "-TawHeynrKlP",
        "a2FQqlmZrTBl",
        "3e1CnGZRrayY",
        "hcQJgS3nrlW4",
        "NpcpdZcIrpq6",
        "1yQ5FUg3rxMo",
        "YZTdqh48r2Ub",
        "QTh11u0Hr9hQ",
        "xLUBW0DssDTh",
        "MGg0ZtassJXb",
        "bnatG8QSIPGo",
        "kwXH1sNkQW1c",
        "UvhsQrbDR6CF",
        "lUfiDrhsREWE",
        "J4G5mx9-RZMI",
        "wYhA9oBsSHOa",
        "Bl-DTfqYRmyo",
        "sFOW_7eGRniu"
      ],
      "name": "Final_Project1.ipynb",
      "provenance": []
    },
    "kernelspec": {
      "display_name": "Python 3",
      "name": "python3"
    },
    "language_info": {
      "name": "python"
    }
  },
  "nbformat": 4,
  "nbformat_minor": 0
}