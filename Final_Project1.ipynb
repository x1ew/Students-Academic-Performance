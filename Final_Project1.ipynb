{
  "cells": [
    {
      "cell_type": "markdown",
      "metadata": {
        "id": "view-in-github",
        "colab_type": "text"
      },
      "source": [
        "<a href=\"https://colab.research.google.com/github/x1ew/Students-Academic-Performance/blob/main/Final_Project1.ipynb\" target=\"_parent\"><img src=\"https://colab.research.google.com/assets/colab-badge.svg\" alt=\"Open In Colab\"/></a>"
      ]
    },
    {
      "cell_type": "code",
      "execution_count": null,
      "metadata": {
        "id": "kP4nfKitzZnJ"
      },
      "outputs": [],
      "source": [
        "import os\n",
        "import pandas as pd\n",
        "import seaborn as sns\n",
        "import numpy as np\n",
        "from sklearn.preprocessing import LabelEncoder\n",
        "from sklearn.model_selection import train_test_split\n",
        "import matplotlib.pyplot as plt\n",
        "from sklearn.preprocessing import StandardScaler"
      ]
    },
    {
      "cell_type": "code",
      "execution_count": null,
      "metadata": {
        "id": "FYF9cEv7znSC",
        "colab": {
          "base_uri": "https://localhost:8080/"
        },
        "outputId": "f7004237-c1b1-4dfa-f8a0-91747c74e91a"
      },
      "outputs": [
        {
          "output_type": "stream",
          "name": "stdout",
          "text": [
            "/usr/local/lib/python3.7/dist-packages/gdown/cli.py:131: FutureWarning: Option `--id` was deprecated in version 4.3.1 and will be removed in 5.0. You don't need to pass it anymore to use a file ID.\n",
            "  category=FutureWarning,\n",
            "Downloading...\n",
            "From: https://drive.google.com/uc?id=1-Zyp-JP3f9QhPKaErBkPPFNKaPS1v74u\n",
            "To: /content/Dataset.csv\n",
            "100% 38.0k/38.0k [00:00<00:00, 35.0MB/s]\n"
          ]
        }
      ],
      "source": [
        "!gdown --id 1-Zyp-JP3f9QhPKaErBkPPFNKaPS1v74u"
      ]
    },
    {
      "cell_type": "code",
      "execution_count": null,
      "metadata": {
        "id": "pBEAtk9rzwcu"
      },
      "outputs": [],
      "source": [
        "categorical_attr = ['gender', 'NationalITy', 'PlaceofBirth', 'StageID', 'GradeID', 'SectionID', 'Topic', 'Semester', 'Relation', 'ParentAnsweringSurvey', 'ParentschoolSatisfaction', 'StudentAbsenceDays', 'Class']"
      ]
    },
    {
      "cell_type": "code",
      "execution_count": null,
      "metadata": {
        "id": "Xtcjr0Pnzx4i",
        "colab": {
          "base_uri": "https://localhost:8080/",
          "height": 270
        },
        "outputId": "69c2f91b-86f2-4ccd-c19e-2ea3bef90e5b"
      },
      "outputs": [
        {
          "output_type": "execute_result",
          "data": {
            "text/plain": [
              "  gender NationalITy PlaceofBirth     StageID GradeID SectionID Topic  \\\n",
              "0      M          KW       KuwaIT  lowerlevel    G-04         A    IT   \n",
              "1      M          KW       KuwaIT  lowerlevel    G-04         A    IT   \n",
              "2      M          KW       KuwaIT  lowerlevel    G-04         A    IT   \n",
              "3      M          KW       KuwaIT  lowerlevel    G-04         A    IT   \n",
              "4      M          KW       KuwaIT  lowerlevel    G-04         A    IT   \n",
              "\n",
              "  Semester Relation  raisedhands  VisITedResources  AnnouncementsView  \\\n",
              "0        F   Father           15                16                  2   \n",
              "1        F   Father           20                20                  3   \n",
              "2        F   Father           10                 7                  0   \n",
              "3        F   Father           30                25                  5   \n",
              "4        F   Father           40                50                 12   \n",
              "\n",
              "   Discussion ParentAnsweringSurvey ParentschoolSatisfaction  \\\n",
              "0          20                   Yes                     Good   \n",
              "1          25                   Yes                     Good   \n",
              "2          30                    No                      Bad   \n",
              "3          35                    No                      Bad   \n",
              "4          50                    No                      Bad   \n",
              "\n",
              "  StudentAbsenceDays Class  \n",
              "0            Under-7     M  \n",
              "1            Under-7     M  \n",
              "2            Above-7     L  \n",
              "3            Above-7     L  \n",
              "4            Above-7     M  "
            ],
            "text/html": [
              "\n",
              "  <div id=\"df-4d6e29d4-c0df-4132-b674-e1d8cac06f7c\">\n",
              "    <div class=\"colab-df-container\">\n",
              "      <div>\n",
              "<style scoped>\n",
              "    .dataframe tbody tr th:only-of-type {\n",
              "        vertical-align: middle;\n",
              "    }\n",
              "\n",
              "    .dataframe tbody tr th {\n",
              "        vertical-align: top;\n",
              "    }\n",
              "\n",
              "    .dataframe thead th {\n",
              "        text-align: right;\n",
              "    }\n",
              "</style>\n",
              "<table border=\"1\" class=\"dataframe\">\n",
              "  <thead>\n",
              "    <tr style=\"text-align: right;\">\n",
              "      <th></th>\n",
              "      <th>gender</th>\n",
              "      <th>NationalITy</th>\n",
              "      <th>PlaceofBirth</th>\n",
              "      <th>StageID</th>\n",
              "      <th>GradeID</th>\n",
              "      <th>SectionID</th>\n",
              "      <th>Topic</th>\n",
              "      <th>Semester</th>\n",
              "      <th>Relation</th>\n",
              "      <th>raisedhands</th>\n",
              "      <th>VisITedResources</th>\n",
              "      <th>AnnouncementsView</th>\n",
              "      <th>Discussion</th>\n",
              "      <th>ParentAnsweringSurvey</th>\n",
              "      <th>ParentschoolSatisfaction</th>\n",
              "      <th>StudentAbsenceDays</th>\n",
              "      <th>Class</th>\n",
              "    </tr>\n",
              "  </thead>\n",
              "  <tbody>\n",
              "    <tr>\n",
              "      <th>0</th>\n",
              "      <td>M</td>\n",
              "      <td>KW</td>\n",
              "      <td>KuwaIT</td>\n",
              "      <td>lowerlevel</td>\n",
              "      <td>G-04</td>\n",
              "      <td>A</td>\n",
              "      <td>IT</td>\n",
              "      <td>F</td>\n",
              "      <td>Father</td>\n",
              "      <td>15</td>\n",
              "      <td>16</td>\n",
              "      <td>2</td>\n",
              "      <td>20</td>\n",
              "      <td>Yes</td>\n",
              "      <td>Good</td>\n",
              "      <td>Under-7</td>\n",
              "      <td>M</td>\n",
              "    </tr>\n",
              "    <tr>\n",
              "      <th>1</th>\n",
              "      <td>M</td>\n",
              "      <td>KW</td>\n",
              "      <td>KuwaIT</td>\n",
              "      <td>lowerlevel</td>\n",
              "      <td>G-04</td>\n",
              "      <td>A</td>\n",
              "      <td>IT</td>\n",
              "      <td>F</td>\n",
              "      <td>Father</td>\n",
              "      <td>20</td>\n",
              "      <td>20</td>\n",
              "      <td>3</td>\n",
              "      <td>25</td>\n",
              "      <td>Yes</td>\n",
              "      <td>Good</td>\n",
              "      <td>Under-7</td>\n",
              "      <td>M</td>\n",
              "    </tr>\n",
              "    <tr>\n",
              "      <th>2</th>\n",
              "      <td>M</td>\n",
              "      <td>KW</td>\n",
              "      <td>KuwaIT</td>\n",
              "      <td>lowerlevel</td>\n",
              "      <td>G-04</td>\n",
              "      <td>A</td>\n",
              "      <td>IT</td>\n",
              "      <td>F</td>\n",
              "      <td>Father</td>\n",
              "      <td>10</td>\n",
              "      <td>7</td>\n",
              "      <td>0</td>\n",
              "      <td>30</td>\n",
              "      <td>No</td>\n",
              "      <td>Bad</td>\n",
              "      <td>Above-7</td>\n",
              "      <td>L</td>\n",
              "    </tr>\n",
              "    <tr>\n",
              "      <th>3</th>\n",
              "      <td>M</td>\n",
              "      <td>KW</td>\n",
              "      <td>KuwaIT</td>\n",
              "      <td>lowerlevel</td>\n",
              "      <td>G-04</td>\n",
              "      <td>A</td>\n",
              "      <td>IT</td>\n",
              "      <td>F</td>\n",
              "      <td>Father</td>\n",
              "      <td>30</td>\n",
              "      <td>25</td>\n",
              "      <td>5</td>\n",
              "      <td>35</td>\n",
              "      <td>No</td>\n",
              "      <td>Bad</td>\n",
              "      <td>Above-7</td>\n",
              "      <td>L</td>\n",
              "    </tr>\n",
              "    <tr>\n",
              "      <th>4</th>\n",
              "      <td>M</td>\n",
              "      <td>KW</td>\n",
              "      <td>KuwaIT</td>\n",
              "      <td>lowerlevel</td>\n",
              "      <td>G-04</td>\n",
              "      <td>A</td>\n",
              "      <td>IT</td>\n",
              "      <td>F</td>\n",
              "      <td>Father</td>\n",
              "      <td>40</td>\n",
              "      <td>50</td>\n",
              "      <td>12</td>\n",
              "      <td>50</td>\n",
              "      <td>No</td>\n",
              "      <td>Bad</td>\n",
              "      <td>Above-7</td>\n",
              "      <td>M</td>\n",
              "    </tr>\n",
              "  </tbody>\n",
              "</table>\n",
              "</div>\n",
              "      <button class=\"colab-df-convert\" onclick=\"convertToInteractive('df-4d6e29d4-c0df-4132-b674-e1d8cac06f7c')\"\n",
              "              title=\"Convert this dataframe to an interactive table.\"\n",
              "              style=\"display:none;\">\n",
              "        \n",
              "  <svg xmlns=\"http://www.w3.org/2000/svg\" height=\"24px\"viewBox=\"0 0 24 24\"\n",
              "       width=\"24px\">\n",
              "    <path d=\"M0 0h24v24H0V0z\" fill=\"none\"/>\n",
              "    <path d=\"M18.56 5.44l.94 2.06.94-2.06 2.06-.94-2.06-.94-.94-2.06-.94 2.06-2.06.94zm-11 1L8.5 8.5l.94-2.06 2.06-.94-2.06-.94L8.5 2.5l-.94 2.06-2.06.94zm10 10l.94 2.06.94-2.06 2.06-.94-2.06-.94-.94-2.06-.94 2.06-2.06.94z\"/><path d=\"M17.41 7.96l-1.37-1.37c-.4-.4-.92-.59-1.43-.59-.52 0-1.04.2-1.43.59L10.3 9.45l-7.72 7.72c-.78.78-.78 2.05 0 2.83L4 21.41c.39.39.9.59 1.41.59.51 0 1.02-.2 1.41-.59l7.78-7.78 2.81-2.81c.8-.78.8-2.07 0-2.86zM5.41 20L4 18.59l7.72-7.72 1.47 1.35L5.41 20z\"/>\n",
              "  </svg>\n",
              "      </button>\n",
              "      \n",
              "  <style>\n",
              "    .colab-df-container {\n",
              "      display:flex;\n",
              "      flex-wrap:wrap;\n",
              "      gap: 12px;\n",
              "    }\n",
              "\n",
              "    .colab-df-convert {\n",
              "      background-color: #E8F0FE;\n",
              "      border: none;\n",
              "      border-radius: 50%;\n",
              "      cursor: pointer;\n",
              "      display: none;\n",
              "      fill: #1967D2;\n",
              "      height: 32px;\n",
              "      padding: 0 0 0 0;\n",
              "      width: 32px;\n",
              "    }\n",
              "\n",
              "    .colab-df-convert:hover {\n",
              "      background-color: #E2EBFA;\n",
              "      box-shadow: 0px 1px 2px rgba(60, 64, 67, 0.3), 0px 1px 3px 1px rgba(60, 64, 67, 0.15);\n",
              "      fill: #174EA6;\n",
              "    }\n",
              "\n",
              "    [theme=dark] .colab-df-convert {\n",
              "      background-color: #3B4455;\n",
              "      fill: #D2E3FC;\n",
              "    }\n",
              "\n",
              "    [theme=dark] .colab-df-convert:hover {\n",
              "      background-color: #434B5C;\n",
              "      box-shadow: 0px 1px 3px 1px rgba(0, 0, 0, 0.15);\n",
              "      filter: drop-shadow(0px 1px 2px rgba(0, 0, 0, 0.3));\n",
              "      fill: #FFFFFF;\n",
              "    }\n",
              "  </style>\n",
              "\n",
              "      <script>\n",
              "        const buttonEl =\n",
              "          document.querySelector('#df-4d6e29d4-c0df-4132-b674-e1d8cac06f7c button.colab-df-convert');\n",
              "        buttonEl.style.display =\n",
              "          google.colab.kernel.accessAllowed ? 'block' : 'none';\n",
              "\n",
              "        async function convertToInteractive(key) {\n",
              "          const element = document.querySelector('#df-4d6e29d4-c0df-4132-b674-e1d8cac06f7c');\n",
              "          const dataTable =\n",
              "            await google.colab.kernel.invokeFunction('convertToInteractive',\n",
              "                                                     [key], {});\n",
              "          if (!dataTable) return;\n",
              "\n",
              "          const docLinkHtml = 'Like what you see? Visit the ' +\n",
              "            '<a target=\"_blank\" href=https://colab.research.google.com/notebooks/data_table.ipynb>data table notebook</a>'\n",
              "            + ' to learn more about interactive tables.';\n",
              "          element.innerHTML = '';\n",
              "          dataTable['output_type'] = 'display_data';\n",
              "          await google.colab.output.renderOutput(dataTable, element);\n",
              "          const docLink = document.createElement('div');\n",
              "          docLink.innerHTML = docLinkHtml;\n",
              "          element.appendChild(docLink);\n",
              "        }\n",
              "      </script>\n",
              "    </div>\n",
              "  </div>\n",
              "  "
            ]
          },
          "metadata": {},
          "execution_count": 232
        }
      ],
      "source": [
        "df = pd.read_csv('/content/Dataset.csv')\n",
        "df.head()"
      ]
    },
    {
      "cell_type": "code",
      "execution_count": null,
      "metadata": {
        "id": "nbh5JjGyz1vA",
        "colab": {
          "base_uri": "https://localhost:8080/"
        },
        "outputId": "e688b539-d066-48e9-9979-f3864095f7f3"
      },
      "outputs": [
        {
          "output_type": "execute_result",
          "data": {
            "text/plain": [
              "array(['M', 'L', 'H'], dtype=object)"
            ]
          },
          "metadata": {},
          "execution_count": 233
        }
      ],
      "source": [
        "df[\"Class\"].unique()"
      ]
    },
    {
      "cell_type": "code",
      "execution_count": null,
      "metadata": {
        "id": "giCfZecOz2VF",
        "colab": {
          "base_uri": "https://localhost:8080/"
        },
        "outputId": "30fd6351-c43f-4b72-f756-16b84b3abb39"
      },
      "outputs": [
        {
          "output_type": "stream",
          "name": "stdout",
          "text": [
            "(480, 17)\n"
          ]
        }
      ],
      "source": [
        "print(df.shape)"
      ]
    },
    {
      "cell_type": "code",
      "execution_count": null,
      "metadata": {
        "id": "qVQ8jGZPz48N"
      },
      "outputs": [],
      "source": [
        "# Converting Categorical values to scaler values\n",
        "# le = LabelEncoder()\n",
        "# df[categorical_attr] = df[categorical_attr].apply(le.fit_transform, axis=0)\n",
        "X = np.array(pd.get_dummies(df.iloc[:, :-1])).astype(\"float\")\n",
        "y = np.array(df['Class'])\n",
        "y[y == 'M'] = 1\n",
        "y[y == 'H'] = 1\n",
        "y[y == 'L'] = 0"
      ]
    },
    {
      "cell_type": "code",
      "execution_count": null,
      "metadata": {
        "id": "WpzAqRWaz7pC",
        "colab": {
          "base_uri": "https://localhost:8080/",
          "height": 270
        },
        "outputId": "cf29ebfd-52ca-4979-ad81-0c26160ea76d"
      },
      "outputs": [
        {
          "output_type": "execute_result",
          "data": {
            "text/plain": [
              "  gender NationalITy PlaceofBirth     StageID GradeID SectionID Topic  \\\n",
              "0      M          KW       KuwaIT  lowerlevel    G-04         A    IT   \n",
              "1      M          KW       KuwaIT  lowerlevel    G-04         A    IT   \n",
              "2      M          KW       KuwaIT  lowerlevel    G-04         A    IT   \n",
              "3      M          KW       KuwaIT  lowerlevel    G-04         A    IT   \n",
              "4      M          KW       KuwaIT  lowerlevel    G-04         A    IT   \n",
              "\n",
              "  Semester Relation  raisedhands  VisITedResources  AnnouncementsView  \\\n",
              "0        F   Father           15                16                  2   \n",
              "1        F   Father           20                20                  3   \n",
              "2        F   Father           10                 7                  0   \n",
              "3        F   Father           30                25                  5   \n",
              "4        F   Father           40                50                 12   \n",
              "\n",
              "   Discussion ParentAnsweringSurvey ParentschoolSatisfaction  \\\n",
              "0          20                   Yes                     Good   \n",
              "1          25                   Yes                     Good   \n",
              "2          30                    No                      Bad   \n",
              "3          35                    No                      Bad   \n",
              "4          50                    No                      Bad   \n",
              "\n",
              "  StudentAbsenceDays Class  \n",
              "0            Under-7     M  \n",
              "1            Under-7     M  \n",
              "2            Above-7     L  \n",
              "3            Above-7     L  \n",
              "4            Above-7     M  "
            ],
            "text/html": [
              "\n",
              "  <div id=\"df-b95d0975-f35d-4d81-a488-cd0b9d42a1b8\">\n",
              "    <div class=\"colab-df-container\">\n",
              "      <div>\n",
              "<style scoped>\n",
              "    .dataframe tbody tr th:only-of-type {\n",
              "        vertical-align: middle;\n",
              "    }\n",
              "\n",
              "    .dataframe tbody tr th {\n",
              "        vertical-align: top;\n",
              "    }\n",
              "\n",
              "    .dataframe thead th {\n",
              "        text-align: right;\n",
              "    }\n",
              "</style>\n",
              "<table border=\"1\" class=\"dataframe\">\n",
              "  <thead>\n",
              "    <tr style=\"text-align: right;\">\n",
              "      <th></th>\n",
              "      <th>gender</th>\n",
              "      <th>NationalITy</th>\n",
              "      <th>PlaceofBirth</th>\n",
              "      <th>StageID</th>\n",
              "      <th>GradeID</th>\n",
              "      <th>SectionID</th>\n",
              "      <th>Topic</th>\n",
              "      <th>Semester</th>\n",
              "      <th>Relation</th>\n",
              "      <th>raisedhands</th>\n",
              "      <th>VisITedResources</th>\n",
              "      <th>AnnouncementsView</th>\n",
              "      <th>Discussion</th>\n",
              "      <th>ParentAnsweringSurvey</th>\n",
              "      <th>ParentschoolSatisfaction</th>\n",
              "      <th>StudentAbsenceDays</th>\n",
              "      <th>Class</th>\n",
              "    </tr>\n",
              "  </thead>\n",
              "  <tbody>\n",
              "    <tr>\n",
              "      <th>0</th>\n",
              "      <td>M</td>\n",
              "      <td>KW</td>\n",
              "      <td>KuwaIT</td>\n",
              "      <td>lowerlevel</td>\n",
              "      <td>G-04</td>\n",
              "      <td>A</td>\n",
              "      <td>IT</td>\n",
              "      <td>F</td>\n",
              "      <td>Father</td>\n",
              "      <td>15</td>\n",
              "      <td>16</td>\n",
              "      <td>2</td>\n",
              "      <td>20</td>\n",
              "      <td>Yes</td>\n",
              "      <td>Good</td>\n",
              "      <td>Under-7</td>\n",
              "      <td>M</td>\n",
              "    </tr>\n",
              "    <tr>\n",
              "      <th>1</th>\n",
              "      <td>M</td>\n",
              "      <td>KW</td>\n",
              "      <td>KuwaIT</td>\n",
              "      <td>lowerlevel</td>\n",
              "      <td>G-04</td>\n",
              "      <td>A</td>\n",
              "      <td>IT</td>\n",
              "      <td>F</td>\n",
              "      <td>Father</td>\n",
              "      <td>20</td>\n",
              "      <td>20</td>\n",
              "      <td>3</td>\n",
              "      <td>25</td>\n",
              "      <td>Yes</td>\n",
              "      <td>Good</td>\n",
              "      <td>Under-7</td>\n",
              "      <td>M</td>\n",
              "    </tr>\n",
              "    <tr>\n",
              "      <th>2</th>\n",
              "      <td>M</td>\n",
              "      <td>KW</td>\n",
              "      <td>KuwaIT</td>\n",
              "      <td>lowerlevel</td>\n",
              "      <td>G-04</td>\n",
              "      <td>A</td>\n",
              "      <td>IT</td>\n",
              "      <td>F</td>\n",
              "      <td>Father</td>\n",
              "      <td>10</td>\n",
              "      <td>7</td>\n",
              "      <td>0</td>\n",
              "      <td>30</td>\n",
              "      <td>No</td>\n",
              "      <td>Bad</td>\n",
              "      <td>Above-7</td>\n",
              "      <td>L</td>\n",
              "    </tr>\n",
              "    <tr>\n",
              "      <th>3</th>\n",
              "      <td>M</td>\n",
              "      <td>KW</td>\n",
              "      <td>KuwaIT</td>\n",
              "      <td>lowerlevel</td>\n",
              "      <td>G-04</td>\n",
              "      <td>A</td>\n",
              "      <td>IT</td>\n",
              "      <td>F</td>\n",
              "      <td>Father</td>\n",
              "      <td>30</td>\n",
              "      <td>25</td>\n",
              "      <td>5</td>\n",
              "      <td>35</td>\n",
              "      <td>No</td>\n",
              "      <td>Bad</td>\n",
              "      <td>Above-7</td>\n",
              "      <td>L</td>\n",
              "    </tr>\n",
              "    <tr>\n",
              "      <th>4</th>\n",
              "      <td>M</td>\n",
              "      <td>KW</td>\n",
              "      <td>KuwaIT</td>\n",
              "      <td>lowerlevel</td>\n",
              "      <td>G-04</td>\n",
              "      <td>A</td>\n",
              "      <td>IT</td>\n",
              "      <td>F</td>\n",
              "      <td>Father</td>\n",
              "      <td>40</td>\n",
              "      <td>50</td>\n",
              "      <td>12</td>\n",
              "      <td>50</td>\n",
              "      <td>No</td>\n",
              "      <td>Bad</td>\n",
              "      <td>Above-7</td>\n",
              "      <td>M</td>\n",
              "    </tr>\n",
              "  </tbody>\n",
              "</table>\n",
              "</div>\n",
              "      <button class=\"colab-df-convert\" onclick=\"convertToInteractive('df-b95d0975-f35d-4d81-a488-cd0b9d42a1b8')\"\n",
              "              title=\"Convert this dataframe to an interactive table.\"\n",
              "              style=\"display:none;\">\n",
              "        \n",
              "  <svg xmlns=\"http://www.w3.org/2000/svg\" height=\"24px\"viewBox=\"0 0 24 24\"\n",
              "       width=\"24px\">\n",
              "    <path d=\"M0 0h24v24H0V0z\" fill=\"none\"/>\n",
              "    <path d=\"M18.56 5.44l.94 2.06.94-2.06 2.06-.94-2.06-.94-.94-2.06-.94 2.06-2.06.94zm-11 1L8.5 8.5l.94-2.06 2.06-.94-2.06-.94L8.5 2.5l-.94 2.06-2.06.94zm10 10l.94 2.06.94-2.06 2.06-.94-2.06-.94-.94-2.06-.94 2.06-2.06.94z\"/><path d=\"M17.41 7.96l-1.37-1.37c-.4-.4-.92-.59-1.43-.59-.52 0-1.04.2-1.43.59L10.3 9.45l-7.72 7.72c-.78.78-.78 2.05 0 2.83L4 21.41c.39.39.9.59 1.41.59.51 0 1.02-.2 1.41-.59l7.78-7.78 2.81-2.81c.8-.78.8-2.07 0-2.86zM5.41 20L4 18.59l7.72-7.72 1.47 1.35L5.41 20z\"/>\n",
              "  </svg>\n",
              "      </button>\n",
              "      \n",
              "  <style>\n",
              "    .colab-df-container {\n",
              "      display:flex;\n",
              "      flex-wrap:wrap;\n",
              "      gap: 12px;\n",
              "    }\n",
              "\n",
              "    .colab-df-convert {\n",
              "      background-color: #E8F0FE;\n",
              "      border: none;\n",
              "      border-radius: 50%;\n",
              "      cursor: pointer;\n",
              "      display: none;\n",
              "      fill: #1967D2;\n",
              "      height: 32px;\n",
              "      padding: 0 0 0 0;\n",
              "      width: 32px;\n",
              "    }\n",
              "\n",
              "    .colab-df-convert:hover {\n",
              "      background-color: #E2EBFA;\n",
              "      box-shadow: 0px 1px 2px rgba(60, 64, 67, 0.3), 0px 1px 3px 1px rgba(60, 64, 67, 0.15);\n",
              "      fill: #174EA6;\n",
              "    }\n",
              "\n",
              "    [theme=dark] .colab-df-convert {\n",
              "      background-color: #3B4455;\n",
              "      fill: #D2E3FC;\n",
              "    }\n",
              "\n",
              "    [theme=dark] .colab-df-convert:hover {\n",
              "      background-color: #434B5C;\n",
              "      box-shadow: 0px 1px 3px 1px rgba(0, 0, 0, 0.15);\n",
              "      filter: drop-shadow(0px 1px 2px rgba(0, 0, 0, 0.3));\n",
              "      fill: #FFFFFF;\n",
              "    }\n",
              "  </style>\n",
              "\n",
              "      <script>\n",
              "        const buttonEl =\n",
              "          document.querySelector('#df-b95d0975-f35d-4d81-a488-cd0b9d42a1b8 button.colab-df-convert');\n",
              "        buttonEl.style.display =\n",
              "          google.colab.kernel.accessAllowed ? 'block' : 'none';\n",
              "\n",
              "        async function convertToInteractive(key) {\n",
              "          const element = document.querySelector('#df-b95d0975-f35d-4d81-a488-cd0b9d42a1b8');\n",
              "          const dataTable =\n",
              "            await google.colab.kernel.invokeFunction('convertToInteractive',\n",
              "                                                     [key], {});\n",
              "          if (!dataTable) return;\n",
              "\n",
              "          const docLinkHtml = 'Like what you see? Visit the ' +\n",
              "            '<a target=\"_blank\" href=https://colab.research.google.com/notebooks/data_table.ipynb>data table notebook</a>'\n",
              "            + ' to learn more about interactive tables.';\n",
              "          element.innerHTML = '';\n",
              "          dataTable['output_type'] = 'display_data';\n",
              "          await google.colab.output.renderOutput(dataTable, element);\n",
              "          const docLink = document.createElement('div');\n",
              "          docLink.innerHTML = docLinkHtml;\n",
              "          element.appendChild(docLink);\n",
              "        }\n",
              "      </script>\n",
              "    </div>\n",
              "  </div>\n",
              "  "
            ]
          },
          "metadata": {},
          "execution_count": 236
        }
      ],
      "source": [
        "df.head()"
      ]
    },
    {
      "cell_type": "code",
      "execution_count": null,
      "metadata": {
        "id": "vKYCwqm-0RV6"
      },
      "outputs": [],
      "source": [
        "# df.head(30)"
      ]
    },
    {
      "cell_type": "code",
      "execution_count": null,
      "metadata": {
        "id": "e6gODvxO0RYp"
      },
      "outputs": [],
      "source": [
        "# X: Features, y: Classes\n",
        "# X = np.array(df.iloc[:, :-1])\n",
        "# y = np.array(df['Class'])"
      ]
    },
    {
      "cell_type": "code",
      "execution_count": null,
      "metadata": {
        "id": "xGmz2KKy0RbP",
        "colab": {
          "base_uri": "https://localhost:8080/",
          "height": 270
        },
        "outputId": "dceaf466-7bf9-46ec-96f0-eb02faf941dc"
      },
      "outputs": [
        {
          "output_type": "execute_result",
          "data": {
            "text/plain": [
              "  gender NationalITy PlaceofBirth     StageID GradeID SectionID Topic  \\\n",
              "0      M          KW       KuwaIT  lowerlevel    G-04         A    IT   \n",
              "1      M          KW       KuwaIT  lowerlevel    G-04         A    IT   \n",
              "2      M          KW       KuwaIT  lowerlevel    G-04         A    IT   \n",
              "3      M          KW       KuwaIT  lowerlevel    G-04         A    IT   \n",
              "4      M          KW       KuwaIT  lowerlevel    G-04         A    IT   \n",
              "\n",
              "  Semester Relation  raisedhands  VisITedResources  AnnouncementsView  \\\n",
              "0        F   Father           15                16                  2   \n",
              "1        F   Father           20                20                  3   \n",
              "2        F   Father           10                 7                  0   \n",
              "3        F   Father           30                25                  5   \n",
              "4        F   Father           40                50                 12   \n",
              "\n",
              "   Discussion ParentAnsweringSurvey ParentschoolSatisfaction  \\\n",
              "0          20                   Yes                     Good   \n",
              "1          25                   Yes                     Good   \n",
              "2          30                    No                      Bad   \n",
              "3          35                    No                      Bad   \n",
              "4          50                    No                      Bad   \n",
              "\n",
              "  StudentAbsenceDays Class  \n",
              "0            Under-7     M  \n",
              "1            Under-7     M  \n",
              "2            Above-7     L  \n",
              "3            Above-7     L  \n",
              "4            Above-7     M  "
            ],
            "text/html": [
              "\n",
              "  <div id=\"df-900aac81-957d-4acf-9aa0-829d0ea5ba81\">\n",
              "    <div class=\"colab-df-container\">\n",
              "      <div>\n",
              "<style scoped>\n",
              "    .dataframe tbody tr th:only-of-type {\n",
              "        vertical-align: middle;\n",
              "    }\n",
              "\n",
              "    .dataframe tbody tr th {\n",
              "        vertical-align: top;\n",
              "    }\n",
              "\n",
              "    .dataframe thead th {\n",
              "        text-align: right;\n",
              "    }\n",
              "</style>\n",
              "<table border=\"1\" class=\"dataframe\">\n",
              "  <thead>\n",
              "    <tr style=\"text-align: right;\">\n",
              "      <th></th>\n",
              "      <th>gender</th>\n",
              "      <th>NationalITy</th>\n",
              "      <th>PlaceofBirth</th>\n",
              "      <th>StageID</th>\n",
              "      <th>GradeID</th>\n",
              "      <th>SectionID</th>\n",
              "      <th>Topic</th>\n",
              "      <th>Semester</th>\n",
              "      <th>Relation</th>\n",
              "      <th>raisedhands</th>\n",
              "      <th>VisITedResources</th>\n",
              "      <th>AnnouncementsView</th>\n",
              "      <th>Discussion</th>\n",
              "      <th>ParentAnsweringSurvey</th>\n",
              "      <th>ParentschoolSatisfaction</th>\n",
              "      <th>StudentAbsenceDays</th>\n",
              "      <th>Class</th>\n",
              "    </tr>\n",
              "  </thead>\n",
              "  <tbody>\n",
              "    <tr>\n",
              "      <th>0</th>\n",
              "      <td>M</td>\n",
              "      <td>KW</td>\n",
              "      <td>KuwaIT</td>\n",
              "      <td>lowerlevel</td>\n",
              "      <td>G-04</td>\n",
              "      <td>A</td>\n",
              "      <td>IT</td>\n",
              "      <td>F</td>\n",
              "      <td>Father</td>\n",
              "      <td>15</td>\n",
              "      <td>16</td>\n",
              "      <td>2</td>\n",
              "      <td>20</td>\n",
              "      <td>Yes</td>\n",
              "      <td>Good</td>\n",
              "      <td>Under-7</td>\n",
              "      <td>M</td>\n",
              "    </tr>\n",
              "    <tr>\n",
              "      <th>1</th>\n",
              "      <td>M</td>\n",
              "      <td>KW</td>\n",
              "      <td>KuwaIT</td>\n",
              "      <td>lowerlevel</td>\n",
              "      <td>G-04</td>\n",
              "      <td>A</td>\n",
              "      <td>IT</td>\n",
              "      <td>F</td>\n",
              "      <td>Father</td>\n",
              "      <td>20</td>\n",
              "      <td>20</td>\n",
              "      <td>3</td>\n",
              "      <td>25</td>\n",
              "      <td>Yes</td>\n",
              "      <td>Good</td>\n",
              "      <td>Under-7</td>\n",
              "      <td>M</td>\n",
              "    </tr>\n",
              "    <tr>\n",
              "      <th>2</th>\n",
              "      <td>M</td>\n",
              "      <td>KW</td>\n",
              "      <td>KuwaIT</td>\n",
              "      <td>lowerlevel</td>\n",
              "      <td>G-04</td>\n",
              "      <td>A</td>\n",
              "      <td>IT</td>\n",
              "      <td>F</td>\n",
              "      <td>Father</td>\n",
              "      <td>10</td>\n",
              "      <td>7</td>\n",
              "      <td>0</td>\n",
              "      <td>30</td>\n",
              "      <td>No</td>\n",
              "      <td>Bad</td>\n",
              "      <td>Above-7</td>\n",
              "      <td>L</td>\n",
              "    </tr>\n",
              "    <tr>\n",
              "      <th>3</th>\n",
              "      <td>M</td>\n",
              "      <td>KW</td>\n",
              "      <td>KuwaIT</td>\n",
              "      <td>lowerlevel</td>\n",
              "      <td>G-04</td>\n",
              "      <td>A</td>\n",
              "      <td>IT</td>\n",
              "      <td>F</td>\n",
              "      <td>Father</td>\n",
              "      <td>30</td>\n",
              "      <td>25</td>\n",
              "      <td>5</td>\n",
              "      <td>35</td>\n",
              "      <td>No</td>\n",
              "      <td>Bad</td>\n",
              "      <td>Above-7</td>\n",
              "      <td>L</td>\n",
              "    </tr>\n",
              "    <tr>\n",
              "      <th>4</th>\n",
              "      <td>M</td>\n",
              "      <td>KW</td>\n",
              "      <td>KuwaIT</td>\n",
              "      <td>lowerlevel</td>\n",
              "      <td>G-04</td>\n",
              "      <td>A</td>\n",
              "      <td>IT</td>\n",
              "      <td>F</td>\n",
              "      <td>Father</td>\n",
              "      <td>40</td>\n",
              "      <td>50</td>\n",
              "      <td>12</td>\n",
              "      <td>50</td>\n",
              "      <td>No</td>\n",
              "      <td>Bad</td>\n",
              "      <td>Above-7</td>\n",
              "      <td>M</td>\n",
              "    </tr>\n",
              "  </tbody>\n",
              "</table>\n",
              "</div>\n",
              "      <button class=\"colab-df-convert\" onclick=\"convertToInteractive('df-900aac81-957d-4acf-9aa0-829d0ea5ba81')\"\n",
              "              title=\"Convert this dataframe to an interactive table.\"\n",
              "              style=\"display:none;\">\n",
              "        \n",
              "  <svg xmlns=\"http://www.w3.org/2000/svg\" height=\"24px\"viewBox=\"0 0 24 24\"\n",
              "       width=\"24px\">\n",
              "    <path d=\"M0 0h24v24H0V0z\" fill=\"none\"/>\n",
              "    <path d=\"M18.56 5.44l.94 2.06.94-2.06 2.06-.94-2.06-.94-.94-2.06-.94 2.06-2.06.94zm-11 1L8.5 8.5l.94-2.06 2.06-.94-2.06-.94L8.5 2.5l-.94 2.06-2.06.94zm10 10l.94 2.06.94-2.06 2.06-.94-2.06-.94-.94-2.06-.94 2.06-2.06.94z\"/><path d=\"M17.41 7.96l-1.37-1.37c-.4-.4-.92-.59-1.43-.59-.52 0-1.04.2-1.43.59L10.3 9.45l-7.72 7.72c-.78.78-.78 2.05 0 2.83L4 21.41c.39.39.9.59 1.41.59.51 0 1.02-.2 1.41-.59l7.78-7.78 2.81-2.81c.8-.78.8-2.07 0-2.86zM5.41 20L4 18.59l7.72-7.72 1.47 1.35L5.41 20z\"/>\n",
              "  </svg>\n",
              "      </button>\n",
              "      \n",
              "  <style>\n",
              "    .colab-df-container {\n",
              "      display:flex;\n",
              "      flex-wrap:wrap;\n",
              "      gap: 12px;\n",
              "    }\n",
              "\n",
              "    .colab-df-convert {\n",
              "      background-color: #E8F0FE;\n",
              "      border: none;\n",
              "      border-radius: 50%;\n",
              "      cursor: pointer;\n",
              "      display: none;\n",
              "      fill: #1967D2;\n",
              "      height: 32px;\n",
              "      padding: 0 0 0 0;\n",
              "      width: 32px;\n",
              "    }\n",
              "\n",
              "    .colab-df-convert:hover {\n",
              "      background-color: #E2EBFA;\n",
              "      box-shadow: 0px 1px 2px rgba(60, 64, 67, 0.3), 0px 1px 3px 1px rgba(60, 64, 67, 0.15);\n",
              "      fill: #174EA6;\n",
              "    }\n",
              "\n",
              "    [theme=dark] .colab-df-convert {\n",
              "      background-color: #3B4455;\n",
              "      fill: #D2E3FC;\n",
              "    }\n",
              "\n",
              "    [theme=dark] .colab-df-convert:hover {\n",
              "      background-color: #434B5C;\n",
              "      box-shadow: 0px 1px 3px 1px rgba(0, 0, 0, 0.15);\n",
              "      filter: drop-shadow(0px 1px 2px rgba(0, 0, 0, 0.3));\n",
              "      fill: #FFFFFF;\n",
              "    }\n",
              "  </style>\n",
              "\n",
              "      <script>\n",
              "        const buttonEl =\n",
              "          document.querySelector('#df-900aac81-957d-4acf-9aa0-829d0ea5ba81 button.colab-df-convert');\n",
              "        buttonEl.style.display =\n",
              "          google.colab.kernel.accessAllowed ? 'block' : 'none';\n",
              "\n",
              "        async function convertToInteractive(key) {\n",
              "          const element = document.querySelector('#df-900aac81-957d-4acf-9aa0-829d0ea5ba81');\n",
              "          const dataTable =\n",
              "            await google.colab.kernel.invokeFunction('convertToInteractive',\n",
              "                                                     [key], {});\n",
              "          if (!dataTable) return;\n",
              "\n",
              "          const docLinkHtml = 'Like what you see? Visit the ' +\n",
              "            '<a target=\"_blank\" href=https://colab.research.google.com/notebooks/data_table.ipynb>data table notebook</a>'\n",
              "            + ' to learn more about interactive tables.';\n",
              "          element.innerHTML = '';\n",
              "          dataTable['output_type'] = 'display_data';\n",
              "          await google.colab.output.renderOutput(dataTable, element);\n",
              "          const docLink = document.createElement('div');\n",
              "          docLink.innerHTML = docLinkHtml;\n",
              "          element.appendChild(docLink);\n",
              "        }\n",
              "      </script>\n",
              "    </div>\n",
              "  </div>\n",
              "  "
            ]
          },
          "metadata": {},
          "execution_count": 239
        }
      ],
      "source": [
        "df.head()"
      ]
    },
    {
      "cell_type": "code",
      "execution_count": null,
      "metadata": {
        "id": "MiXj1roH0Rdr"
      },
      "outputs": [],
      "source": [
        "# Deviding Dataset to training and validation set\n",
        "X_train, X_val, y_train, y_val = train_test_split(X, y, test_size=0.2, random_state=12)"
      ]
    },
    {
      "cell_type": "code",
      "execution_count": null,
      "metadata": {
        "id": "HS_siA-w0RgE"
      },
      "outputs": [],
      "source": [
        "scale = StandardScaler()\n",
        "X_train = scale.fit_transform(X_train)\n",
        "X_val = scale.transform(X_val)"
      ]
    },
    {
      "cell_type": "code",
      "execution_count": null,
      "metadata": {
        "id": "RHDTuTDy0Rim",
        "colab": {
          "base_uri": "https://localhost:8080/"
        },
        "outputId": "d9a99564-b0d4-4257-ad15-757a0852663e"
      },
      "outputs": [
        {
          "output_type": "stream",
          "name": "stdout",
          "text": [
            "Number of dataset:  480\n",
            "Number of train set:  384\n",
            "Number of validation set:  96\n"
          ]
        }
      ],
      "source": [
        "print('Number of dataset: ', len(X))\n",
        "print('Number of train set: ', len(X_train))\n",
        "print('Number of validation set: ', len(X_val))"
      ]
    },
    {
      "cell_type": "code",
      "execution_count": null,
      "metadata": {
        "id": "nszmw_tp0RlE"
      },
      "outputs": [],
      "source": [
        "y_train = y_train.reshape(y_train.shape[0], -1) #for making it (biz, 1)\n",
        "y_val =  y_val.reshape(y_val.shape[0], -1)"
      ]
    },
    {
      "cell_type": "code",
      "execution_count": null,
      "metadata": {
        "id": "NPFXuMY72wno",
        "colab": {
          "base_uri": "https://localhost:8080/"
        },
        "outputId": "4d6df53d-3fe1-4280-ee86-3eefb17a899e"
      },
      "outputs": [
        {
          "output_type": "stream",
          "name": "stdout",
          "text": [
            "X_train:  (72, 384)\n",
            "y_train:  (1, 384)\n",
            "X_val:  (72, 96)\n",
            "y_val: (1, 96)\n"
          ]
        }
      ],
      "source": [
        "y_train = y_train.T\n",
        "y_val = y_val.T\n",
        "X_train = X_train.T\n",
        "X_val = X_val.T\n",
        "print(\"X_train: \",X_train.shape)\n",
        "print(\"y_train: \" ,y_train.shape)\n",
        "print(\"X_val: \" ,X_val.shape)\n",
        "print(\"y_val:\" ,y_val.shape)"
      ]
    },
    {
      "cell_type": "markdown",
      "source": [
        "#**Implementing Model For 2-layer Random**"
      ],
      "metadata": {
        "id": "l645ARmErbjL"
      }
    },
    {
      "cell_type": "markdown",
      "metadata": {
        "id": "NG2wb06X3F_A"
      },
      "source": [
        "##Forward Propagation 2-layer Random'one"
      ]
    },
    {
      "cell_type": "code",
      "execution_count": null,
      "metadata": {
        "id": "MOV0M9y53H1m"
      },
      "outputs": [],
      "source": [
        "# 1) Initializing parameters / using Xavier initialization\n",
        "def initialize_parameter_2layer_Random(nx, ny):\n",
        "  w = np.random.randn(nx, ny) * np.sqrt(2/(nx + ny)) #randoming with Xavier method w = (72, 1)\n",
        "  b = np.random.randn(ny, 1) * np.sqrt(2 /(ny + 1)) #(1, 1)\n",
        "  return w, b"
      ]
    },
    {
      "cell_type": "code",
      "execution_count": null,
      "metadata": {
        "id": "Cd22qMTM3wFf"
      },
      "outputs": [],
      "source": [
        "# 2) Implement sigmoid Function / The result of the activation function is basically the predicted output for the input features.\n",
        "def sigmoid_2layer(z):\n",
        "    z = z.astype(float)\n",
        "    ans = 1 / (1 + np.exp(-z))\n",
        "    return ans"
      ]
    },
    {
      "cell_type": "code",
      "execution_count": null,
      "metadata": {
        "id": "3vspie8M3xuZ"
      },
      "outputs": [],
      "source": [
        "#3) implement forward propagation / Z and A\n",
        "def calculate_forward_2layer(w, b, x):\n",
        "  Z = np.dot(w.T, x) + b # (1, 384) = (1, 72)(72, 384) + (1,1)\n",
        "  A = sigmoid_2layer(Z) \n",
        "  return A"
      ]
    },
    {
      "cell_type": "code",
      "execution_count": null,
      "metadata": {
        "id": "5WBK3CgW31RA"
      },
      "outputs": [],
      "source": [
        "# 4) Calculate loss and cost / J = loss / sum of J's are cost\n",
        "def calculate_cost_2layer(X_train, y_train, A):\n",
        "  m = X_train.shape[1]\n",
        "  A[A == 0.] = 1e-10 #problem with log(0), Add this little number to not get nan\n",
        "  A[A == 1.] = 1. - 1e-10 #for second one (1 - A) to not get zero -> log(0) \n",
        "  loss = y_train * np.log(A) + (1 - y_train) * (np.log(1 - A))\n",
        "  cost = (-1/m) * np.sum(loss)\n",
        "  cost = np.squeeze(np.array(cost)) # this turns [[15]] into 15\n",
        "  return cost"
      ]
    },
    {
      "cell_type": "markdown",
      "metadata": {
        "id": "9VApAeUO33gs"
      },
      "source": [
        "##backward Propagation 2-layer Random'one"
      ]
    },
    {
      "cell_type": "code",
      "execution_count": null,
      "metadata": {
        "id": "yaJtDKKf33_O"
      },
      "outputs": [],
      "source": [
        "# 5) calculate dw, db\n",
        "def gradient(X_train, y_train, A):\n",
        "  m = X_train.shape[1]\n",
        "  dw = (1/m) * np.dot(X_train, (A - y_train).T) # dJ/dw = dJ/da*da/dz*dz/dw - -y/a+1-y/1-a * a(1-a) * X\n",
        "  db = (1/m) * np.sum(A - y_train) # dJ/db = dJ/da*da/dz*dz/db -y/a+1-y/1-a * a(1-a) * 1\n",
        "  return dw, db "
      ]
    },
    {
      "cell_type": "code",
      "execution_count": null,
      "metadata": {
        "id": "ltvsEXlN35aS"
      },
      "outputs": [],
      "source": [
        "#6) updating data\n",
        "def updates(w, b, dw, db, learning_rate):\n",
        "  w = w - (learning_rate * dw)\n",
        "  b = b - (learning_rate * db) \n",
        "  return w, b "
      ]
    },
    {
      "cell_type": "code",
      "execution_count": null,
      "metadata": {
        "id": "kqutvTZ_3_3X"
      },
      "outputs": [],
      "source": [
        "#7 predict matrix\n",
        "def predict_2layer(w, b, X):\n",
        "    Y_prediction = np.zeros((1, X.shape[1])) #(1, m)\n",
        "    w = w.reshape(X.shape[0], 1)\n",
        "    A = calculate_forward_2layer(w, b, X) #calculate forward with new w and b\n",
        "    for i in range(A.shape[1]):\n",
        "        Y_prediction[0,i] = 1 if A[0, i] > 0.5 else 0 #if it more than 0.5 it gets 1 else 0 / shape of that like y_train or y_val\n",
        "    return Y_prediction, A"
      ]
    },
    {
      "cell_type": "code",
      "execution_count": null,
      "metadata": {
        "id": "F0rhRE3hjWgH"
      },
      "outputs": [],
      "source": [
        "def calculate_test_2layer(w, b, X_val, y_val):\n",
        "  Y_prediction_val, Av =  predict_2layer(w, b, X_val) #predict val\n",
        "  cost_v = calculate_cost_2layer(X_val, y_val, Av) # calculate cost val \n",
        "  accur_v = np.sum((Y_prediction_val == y_val)/X_val.shape[1]) * 100 #calculate accuracy val\n",
        "  return cost_v, accur_v "
      ]
    },
    {
      "cell_type": "code",
      "execution_count": null,
      "metadata": {
        "id": "xCiO7c2_ki5_"
      },
      "outputs": [],
      "source": [
        "def calculate_train_2layer(w, b, X_train, y_train):\n",
        "  Y_prediction_train, A =  predict_2layer(w, b, X_train) #predict train\n",
        "  accur_t = np.sum((Y_prediction_train == y_train)/X_train.shape[1]) * 100 #calculate accuracy train\n",
        "  return accur_t"
      ]
    },
    {
      "cell_type": "code",
      "execution_count": null,
      "metadata": {
        "id": "B_Ro5Tqt38gS"
      },
      "outputs": [],
      "source": [
        "def costomize(w, b, X_train, y_train, X_val, y_val, epoch, learning_rate,print_cost=False): \n",
        "    cost_train, accur_train, cost_val, accur_val = ([] for i in range(4)) #save this parts\n",
        "    for i in range(epoch + 1):\n",
        "        A = calculate_forward_2layer(w, b, X_train) # calculate A\n",
        "        cost_t = calculate_cost_2layer(X_train, y_train, A) # calculate cost train\n",
        "        dw, db = gradient(X_train, y_train, A) # output dw db\n",
        "        w, b = updates(w, b, dw, db, learning_rate) # output new w b\n",
        "        accur_t = calculate_train_2layer(w, b, X_train, y_train) # calculate accuracy of train\n",
        "        cost_v, accur_v = calculate_test_2layer(w, b, X_val, y_val) # calculate accuracy and cost of test\n",
        "        if i % 10 == 0:\n",
        "            cost_train.append(cost_t)\n",
        "            accur_train.append(accur_t / 100)\n",
        "            cost_val.append(cost_v)\n",
        "            accur_val.append(accur_v / 100)\n",
        "            if print_cost:\n",
        "                print(f\"Cost iteration {i}: {cost_t}        train accuracy: {accur_t}\")\n",
        "                print(\"------------------------------------------------------------------------------------\")\n",
        "    return w, b, cost_train, accur_train, cost_val, accur_val"
      ]
    },
    {
      "cell_type": "code",
      "execution_count": null,
      "metadata": {
        "id": "7rJ6aUEH4C4s"
      },
      "outputs": [],
      "source": [
        "def model_2layer_random(X_train, y_train, X_val, y_val, epoch, learning_rate, print_cost=False):\n",
        "    w, b = initialize_parameter_2layer_Random(X_train.shape[0], 1) #giving random value to b and w\n",
        "    w, b, cost_train, accur_train, cost_val, accur_val = costomize(w, b, X_train, y_train, X_val, y_val, epoch, learning_rate, print_cost)\n",
        "    out = {\"cost_train\": cost_train,\"accur_train\": accur_train,\"w\" : w, \"b\" : b,\"learning_rate\" : learning_rate,\"epoch\": epoch}\n",
        "    return out, cost_val, accur_val "
      ]
    },
    {
      "cell_type": "markdown",
      "metadata": {
        "id": "1ERpENqV4GGE"
      },
      "source": [
        "# ***Training the model 2-layer Random***"
      ]
    },
    {
      "cell_type": "code",
      "execution_count": null,
      "metadata": {
        "id": "2rvsmioA4Gdm",
        "colab": {
          "base_uri": "https://localhost:8080/"
        },
        "outputId": "7d8c3c93-07de-4a3c-8b13-441f40edcd3e"
      },
      "outputs": [
        {
          "output_type": "stream",
          "name": "stdout",
          "text": [
            "Cost iteration 0: 0.664732768986734        train accuracy: 64.84375\n",
            "------------------------------------------------------------------------------------\n",
            "Cost iteration 10: 0.6054413917361541        train accuracy: 69.27083333333333\n",
            "------------------------------------------------------------------------------------\n",
            "Cost iteration 20: 0.557556170854751        train accuracy: 73.17708333333333\n",
            "------------------------------------------------------------------------------------\n",
            "Cost iteration 30: 0.5185624849600868        train accuracy: 74.47916666666666\n",
            "------------------------------------------------------------------------------------\n",
            "Cost iteration 40: 0.4864852576320072        train accuracy: 76.82291666666667\n",
            "------------------------------------------------------------------------------------\n",
            "Cost iteration 50: 0.45980596781004046        train accuracy: 79.42708333333334\n",
            "------------------------------------------------------------------------------------\n",
            "Cost iteration 60: 0.43736810208627747        train accuracy: 80.46875\n",
            "------------------------------------------------------------------------------------\n",
            "Cost iteration 70: 0.41829226054918545        train accuracy: 82.03125\n",
            "------------------------------------------------------------------------------------\n",
            "Cost iteration 80: 0.4019074705665085        train accuracy: 82.29166666666667\n",
            "------------------------------------------------------------------------------------\n",
            "Cost iteration 90: 0.3876984593199022        train accuracy: 84.89583333333334\n",
            "------------------------------------------------------------------------------------\n",
            "Cost iteration 100: 0.37526625299442823        train accuracy: 85.67708333333334\n",
            "------------------------------------------------------------------------------------\n",
            "Cost iteration 110: 0.3642991017626785        train accuracy: 85.67708333333334\n",
            "------------------------------------------------------------------------------------\n",
            "Cost iteration 120: 0.3545511081410917        train accuracy: 86.45833333333334\n",
            "------------------------------------------------------------------------------------\n",
            "Cost iteration 130: 0.3458264944964873        train accuracy: 87.23958333333334\n",
            "------------------------------------------------------------------------------------\n",
            "Cost iteration 140: 0.33796796551088093        train accuracy: 88.02083333333334\n",
            "------------------------------------------------------------------------------------\n",
            "Cost iteration 150: 0.33084804019958475        train accuracy: 88.54166666666667\n",
            "------------------------------------------------------------------------------------\n",
            "Cost iteration 160: 0.32436254353304467        train accuracy: 88.54166666666667\n",
            "------------------------------------------------------------------------------------\n",
            "Cost iteration 170: 0.3184256773349121        train accuracy: 89.32291666666667\n",
            "------------------------------------------------------------------------------------\n",
            "Cost iteration 180: 0.31296625437520037        train accuracy: 89.84375\n",
            "------------------------------------------------------------------------------------\n",
            "Cost iteration 190: 0.3079247961535088        train accuracy: 90.10416666666667\n",
            "------------------------------------------------------------------------------------\n",
            "Cost iteration 200: 0.3032512774688511        train accuracy: 90.10416666666667\n",
            "------------------------------------------------------------------------------------\n",
            "Cost iteration 210: 0.29890335953167085        train accuracy: 90.36458333333334\n",
            "------------------------------------------------------------------------------------\n",
            "Cost iteration 220: 0.29484499523023067        train accuracy: 90.36458333333334\n",
            "------------------------------------------------------------------------------------\n",
            "Cost iteration 230: 0.2910453202241763        train accuracy: 90.10416666666667\n",
            "------------------------------------------------------------------------------------\n",
            "Cost iteration 240: 0.28747776528924635        train accuracy: 90.10416666666667\n",
            "------------------------------------------------------------------------------------\n",
            "Cost iteration 250: 0.284119341203213        train accuracy: 90.36458333333334\n",
            "------------------------------------------------------------------------------------\n",
            "Cost iteration 260: 0.2809500591333034        train accuracy: 90.625\n",
            "------------------------------------------------------------------------------------\n",
            "Cost iteration 270: 0.2779524581411659        train accuracy: 90.36458333333334\n",
            "------------------------------------------------------------------------------------\n",
            "Cost iteration 280: 0.27511121789458004        train accuracy: 90.625\n",
            "------------------------------------------------------------------------------------\n",
            "Cost iteration 290: 0.2724128395545794        train accuracy: 90.88541666666667\n",
            "------------------------------------------------------------------------------------\n",
            "Cost iteration 300: 0.26984538151315596        train accuracy: 90.88541666666667\n",
            "------------------------------------------------------------------------------------\n",
            "Cost iteration 310: 0.26739823949264024        train accuracy: 90.88541666666667\n",
            "------------------------------------------------------------------------------------\n",
            "Cost iteration 320: 0.2650619627028033        train accuracy: 90.88541666666667\n",
            "------------------------------------------------------------------------------------\n",
            "Cost iteration 330: 0.2628280994459147        train accuracy: 90.625\n",
            "------------------------------------------------------------------------------------\n",
            "Cost iteration 340: 0.2606890668818134        train accuracy: 90.625\n",
            "------------------------------------------------------------------------------------\n",
            "Cost iteration 350: 0.2586380407021196        train accuracy: 91.14583333333334\n",
            "------------------------------------------------------------------------------------\n",
            "Cost iteration 360: 0.25666886128083394        train accuracy: 91.40625\n",
            "------------------------------------------------------------------------------------\n",
            "Cost iteration 370: 0.25477595351713417        train accuracy: 91.40625\n",
            "------------------------------------------------------------------------------------\n",
            "Cost iteration 380: 0.2529542581028137        train accuracy: 91.66666666666667\n",
            "------------------------------------------------------------------------------------\n",
            "Cost iteration 390: 0.25119917236014044        train accuracy: 91.92708333333334\n",
            "------------------------------------------------------------------------------------\n",
            "Cost iteration 400: 0.24950649912801692        train accuracy: 92.1875\n",
            "------------------------------------------------------------------------------------\n",
            "Cost iteration 410: 0.24787240244220882        train accuracy: 92.1875\n",
            "------------------------------------------------------------------------------------\n",
            "Cost iteration 420: 0.2462933689723446        train accuracy: 92.1875\n",
            "------------------------------------------------------------------------------------\n",
            "Cost iteration 430: 0.2447661743546865        train accuracy: 92.1875\n",
            "------------------------------------------------------------------------------------\n",
            "Cost iteration 440: 0.24328785370344755        train accuracy: 92.1875\n",
            "------------------------------------------------------------------------------------\n",
            "Cost iteration 450: 0.24185567570112226        train accuracy: 92.44791666666667\n",
            "------------------------------------------------------------------------------------\n",
            "Cost iteration 460: 0.24046711976490812        train accuracy: 92.70833333333334\n",
            "------------------------------------------------------------------------------------\n",
            "Cost iteration 470: 0.23911985586591566        train accuracy: 92.70833333333334\n",
            "------------------------------------------------------------------------------------\n",
            "Cost iteration 480: 0.2378117266436343        train accuracy: 92.96875\n",
            "------------------------------------------------------------------------------------\n",
            "Cost iteration 490: 0.23654073151269683        train accuracy: 92.96875\n",
            "------------------------------------------------------------------------------------\n",
            "Cost iteration 500: 0.23530501250434088        train accuracy: 92.96875\n",
            "------------------------------------------------------------------------------------\n",
            "Cost iteration 510: 0.23410284162283337        train accuracy: 92.96875\n",
            "------------------------------------------------------------------------------------\n",
            "Cost iteration 520: 0.23293260952880745        train accuracy: 92.96875\n",
            "------------------------------------------------------------------------------------\n",
            "Cost iteration 530: 0.23179281538808227        train accuracy: 93.22916666666667\n",
            "------------------------------------------------------------------------------------\n",
            "Cost iteration 540: 0.2306820577469197        train accuracy: 93.22916666666667\n",
            "------------------------------------------------------------------------------------\n",
            "Cost iteration 550: 0.22959902631363482        train accuracy: 93.22916666666667\n",
            "------------------------------------------------------------------------------------\n",
            "Cost iteration 560: 0.2285424945424998        train accuracy: 93.22916666666667\n",
            "------------------------------------------------------------------------------------\n",
            "Cost iteration 570: 0.22751131292952842        train accuracy: 93.22916666666667\n",
            "------------------------------------------------------------------------------------\n",
            "Cost iteration 580: 0.2265044029413617        train accuracy: 93.48958333333334\n",
            "------------------------------------------------------------------------------------\n",
            "Cost iteration 590: 0.22552075150840936        train accuracy: 93.48958333333334\n",
            "------------------------------------------------------------------------------------\n",
            "Cost iteration 600: 0.22455940602194746        train accuracy: 93.48958333333334\n",
            "------------------------------------------------------------------------------------\n",
            "Cost iteration 610: 0.22361946978220065        train accuracy: 93.48958333333334\n",
            "------------------------------------------------------------------------------------\n",
            "Cost iteration 620: 0.22270009785076852        train accuracy: 93.48958333333334\n",
            "------------------------------------------------------------------------------------\n",
            "Cost iteration 630: 0.22180049326624351        train accuracy: 93.48958333333334\n",
            "------------------------------------------------------------------------------------\n",
            "Cost iteration 640: 0.220919903586609        train accuracy: 93.48958333333334\n",
            "------------------------------------------------------------------------------------\n",
            "Cost iteration 650: 0.2200576177261411        train accuracy: 93.48958333333334\n",
            "------------------------------------------------------------------------------------\n",
            "Cost iteration 660: 0.2192129630581483        train accuracy: 93.48958333333334\n",
            "------------------------------------------------------------------------------------\n",
            "Cost iteration 670: 0.2183853027580305        train accuracy: 93.48958333333334\n",
            "------------------------------------------------------------------------------------\n",
            "Cost iteration 680: 0.2175740333638978        train accuracy: 93.48958333333334\n",
            "------------------------------------------------------------------------------------\n",
            "Cost iteration 690: 0.21677858253442267        train accuracy: 93.48958333333334\n",
            "------------------------------------------------------------------------------------\n",
            "Cost iteration 700: 0.21599840698572795        train accuracy: 93.48958333333334\n",
            "------------------------------------------------------------------------------------\n",
            "Cost iteration 710: 0.21523299059100268        train accuracy: 93.48958333333334\n",
            "------------------------------------------------------------------------------------\n",
            "Cost iteration 720: 0.21448184262820402        train accuracy: 93.48958333333334\n",
            "------------------------------------------------------------------------------------\n",
            "Cost iteration 730: 0.21374449616267632        train accuracy: 93.75\n",
            "------------------------------------------------------------------------------------\n",
            "Cost iteration 740: 0.2130205065528299        train accuracy: 93.48958333333334\n",
            "------------------------------------------------------------------------------------\n",
            "Cost iteration 750: 0.2123094500681924        train accuracy: 93.48958333333334\n",
            "------------------------------------------------------------------------------------\n",
            "Cost iteration 760: 0.2116109226101745        train accuracy: 93.48958333333334\n",
            "------------------------------------------------------------------------------------\n",
            "Cost iteration 770: 0.21092453852682672        train accuracy: 93.48958333333334\n",
            "------------------------------------------------------------------------------------\n",
            "Cost iteration 780: 0.21024992951368537        train accuracy: 93.48958333333334\n",
            "------------------------------------------------------------------------------------\n",
            "Cost iteration 790: 0.20958674359354817        train accuracy: 93.48958333333334\n",
            "------------------------------------------------------------------------------------\n",
            "Cost iteration 800: 0.2089346441686885        train accuracy: 93.75\n",
            "------------------------------------------------------------------------------------\n",
            "Cost iteration 810: 0.20829330913960542        train accuracy: 94.01041666666667\n",
            "------------------------------------------------------------------------------------\n",
            "Cost iteration 820: 0.20766243008494722        train accuracy: 94.01041666666667\n",
            "------------------------------------------------------------------------------------\n",
            "Cost iteration 830: 0.20704171149773198        train accuracy: 94.27083333333334\n",
            "------------------------------------------------------------------------------------\n",
            "Cost iteration 840: 0.2064308700734091        train accuracy: 94.27083333333334\n",
            "------------------------------------------------------------------------------------\n",
            "Cost iteration 850: 0.20582963404571758        train accuracy: 94.27083333333334\n",
            "------------------------------------------------------------------------------------\n",
            "Cost iteration 860: 0.20523774256663352        train accuracy: 94.27083333333334\n",
            "------------------------------------------------------------------------------------\n",
            "Cost iteration 870: 0.20465494512702745        train accuracy: 94.53125\n",
            "------------------------------------------------------------------------------------\n",
            "Cost iteration 880: 0.20408100101494064        train accuracy: 94.53125\n",
            "------------------------------------------------------------------------------------\n",
            "Cost iteration 890: 0.20351567880865223        train accuracy: 94.53125\n",
            "------------------------------------------------------------------------------------\n",
            "Cost iteration 900: 0.20295875590194384        train accuracy: 94.53125\n",
            "------------------------------------------------------------------------------------\n",
            "Cost iteration 910: 0.20241001805918926        train accuracy: 94.79166666666667\n",
            "------------------------------------------------------------------------------------\n",
            "Cost iteration 920: 0.20186925899808697        train accuracy: 94.79166666666667\n",
            "------------------------------------------------------------------------------------\n",
            "Cost iteration 930: 0.20133627999804052        train accuracy: 94.79166666666667\n",
            "------------------------------------------------------------------------------------\n",
            "Cost iteration 940: 0.20081088953234272        train accuracy: 94.79166666666667\n",
            "------------------------------------------------------------------------------------\n",
            "Cost iteration 950: 0.2002929029224755        train accuracy: 94.79166666666667\n",
            "------------------------------------------------------------------------------------\n",
            "Cost iteration 960: 0.1997821420129739        train accuracy: 94.79166666666667\n",
            "------------------------------------------------------------------------------------\n",
            "Cost iteration 970: 0.19927843486541685        train accuracy: 94.79166666666667\n",
            "------------------------------------------------------------------------------------\n",
            "Cost iteration 980: 0.19878161547022655        train accuracy: 94.79166666666667\n",
            "------------------------------------------------------------------------------------\n",
            "Cost iteration 990: 0.19829152347506207        train accuracy: 94.79166666666667\n",
            "------------------------------------------------------------------------------------\n",
            "Cost iteration 1000: 0.19780800392867814        train accuracy: 94.79166666666667\n",
            "------------------------------------------------------------------------------------\n"
          ]
        }
      ],
      "source": [
        "model_output_2layer_random, cost_val_r2, accur_val_r2 = model_2layer_random(X_train, y_train, X_val, y_val, epoch=1000, learning_rate= 0.01, print_cost=True)"
      ]
    },
    {
      "cell_type": "code",
      "execution_count": null,
      "metadata": {
        "id": "JQZ9OVYS4VWE",
        "colab": {
          "base_uri": "https://localhost:8080/",
          "height": 279
        },
        "outputId": "c5f182c3-a6e0-4a3b-b558-ec74c70f45c8"
      },
      "outputs": [
        {
          "output_type": "display_data",
          "data": {
            "text/plain": [
              "<Figure size 432x288 with 1 Axes>"
            ],
            "image/png": "[encoded data removed]"
          },
          "metadata": {
            "needs_background": "light"
          }
        }
      ],
      "source": [
        "plt.plot(model_output_2layer_random['cost_train'])\n",
        "plt.ylabel('cost_train')\n",
        "plt.xlabel('Iterations')\n",
        "plt.show()"
      ]
    },
    {
      "cell_type": "code",
      "execution_count": null,
      "metadata": {
        "id": "zgWKNtCH4W06",
        "colab": {
          "base_uri": "https://localhost:8080/",
          "height": 279
        },
        "outputId": "f6d043bf-7a5d-45d0-cefb-c203176882ff"
      },
      "outputs": [
        {
          "output_type": "display_data",
          "data": {
            "text/plain": [
              "<Figure size 432x288 with 1 Axes>"
            ],
            "image/png": "[encoded data removed]"
          },
          "metadata": {
            "needs_background": "light"
          }
        }
      ],
      "source": [
        "plt.plot(np.squeeze(model_output_2layer_random['accur_train']))\n",
        "plt.ylabel('Accuracy_train')\n",
        "plt.xlabel('Iterations')\n",
        "plt.show()"
      ]
    },
    {
      "cell_type": "markdown",
      "metadata": {
        "id": "djdV1d4p4aT5"
      },
      "source": [
        "# ***Evaluating the model 2-layer Random***"
      ]
    },
    {
      "cell_type": "code",
      "execution_count": null,
      "metadata": {
        "id": "3WR_Z_1f4au1",
        "colab": {
          "base_uri": "https://localhost:8080/"
        },
        "outputId": "e5604df0-8348-4ab8-8922-39803af940e8"
      },
      "outputs": [
        {
          "output_type": "stream",
          "name": "stdout",
          "text": [
            "Cost iteration 0: 0.6709905156290301        test accuracy: 62.5\n",
            "------------------------------------------------------------------------------------\n",
            "Cost iteration 10: 0.6192940283651052        test accuracy: 65.625\n",
            "------------------------------------------------------------------------------------\n",
            "Cost iteration 20: 0.5770206459161813        test accuracy: 68.75\n",
            "------------------------------------------------------------------------------------\n",
            "Cost iteration 30: 0.5421024095307792        test accuracy: 71.875\n",
            "------------------------------------------------------------------------------------\n",
            "Cost iteration 40: 0.5129279028739379        test accuracy: 75.0\n",
            "------------------------------------------------------------------------------------\n",
            "Cost iteration 50: 0.4882650313498933        test accuracy: 77.08333333333333\n",
            "------------------------------------------------------------------------------------\n",
            "Cost iteration 60: 0.46717819466223265        test accuracy: 78.125\n",
            "------------------------------------------------------------------------------------\n",
            "Cost iteration 70: 0.4489561725929142        test accuracy: 78.125\n",
            "------------------------------------------------------------------------------------\n",
            "Cost iteration 80: 0.4330550920806136        test accuracy: 80.20833333333334\n",
            "------------------------------------------------------------------------------------\n",
            "Cost iteration 90: 0.41905543175939863        test accuracy: 80.20833333333334\n",
            "------------------------------------------------------------------------------------\n",
            "Cost iteration 100: 0.40663033599237847        test accuracy: 82.29166666666667\n",
            "------------------------------------------------------------------------------------\n",
            "Cost iteration 110: 0.3955224596829201        test accuracy: 82.29166666666667\n",
            "------------------------------------------------------------------------------------\n",
            "Cost iteration 120: 0.38552705018818556        test accuracy: 82.29166666666667\n",
            "------------------------------------------------------------------------------------\n",
            "Cost iteration 130: 0.3764795296162        test accuracy: 82.29166666666667\n",
            "------------------------------------------------------------------------------------\n",
            "Cost iteration 140: 0.3682463141997375        test accuracy: 83.33333333333334\n",
            "------------------------------------------------------------------------------------\n",
            "Cost iteration 150: 0.3607179681511421        test accuracy: 83.33333333333334\n",
            "------------------------------------------------------------------------------------\n",
            "Cost iteration 160: 0.3538040510035527        test accuracy: 83.33333333333334\n",
            "------------------------------------------------------------------------------------\n",
            "Cost iteration 170: 0.34742920290826246        test accuracy: 85.41666666666667\n",
            "------------------------------------------------------------------------------------\n",
            "Cost iteration 180: 0.34153014268086773        test accuracy: 85.41666666666667\n",
            "------------------------------------------------------------------------------------\n",
            "Cost iteration 190: 0.3360533448575807        test accuracy: 85.41666666666667\n",
            "------------------------------------------------------------------------------------\n",
            "Cost iteration 200: 0.3309532264317191        test accuracy: 86.45833333333334\n",
            "------------------------------------------------------------------------------------\n",
            "Cost iteration 210: 0.32619071955923784        test accuracy: 86.45833333333334\n",
            "------------------------------------------------------------------------------------\n",
            "Cost iteration 220: 0.32173213906756404        test accuracy: 86.45833333333334\n",
            "------------------------------------------------------------------------------------\n",
            "Cost iteration 230: 0.3175482770063245        test accuracy: 87.5\n",
            "------------------------------------------------------------------------------------\n",
            "Cost iteration 240: 0.3136136734491509        test accuracy: 87.5\n",
            "------------------------------------------------------------------------------------\n",
            "Cost iteration 250: 0.3099060251640624        test accuracy: 87.5\n",
            "------------------------------------------------------------------------------------\n",
            "Cost iteration 260: 0.30640570291737457        test accuracy: 88.54166666666667\n",
            "------------------------------------------------------------------------------------\n",
            "Cost iteration 270: 0.303095354973989        test accuracy: 88.54166666666667\n",
            "------------------------------------------------------------------------------------\n",
            "Cost iteration 280: 0.29995957944826346        test accuracy: 88.54166666666667\n",
            "------------------------------------------------------------------------------------\n",
            "Cost iteration 290: 0.29698465200172697        test accuracy: 88.54166666666667\n",
            "------------------------------------------------------------------------------------\n",
            "Cost iteration 300: 0.2941582983043032        test accuracy: 89.58333333333334\n",
            "------------------------------------------------------------------------------------\n",
            "Cost iteration 310: 0.29146950291111223        test accuracy: 89.58333333333334\n",
            "------------------------------------------------------------------------------------\n",
            "Cost iteration 320: 0.28890834792952097        test accuracy: 89.58333333333334\n",
            "------------------------------------------------------------------------------------\n",
            "Cost iteration 330: 0.28646587618712127        test accuracy: 89.58333333333334\n",
            "------------------------------------------------------------------------------------\n",
            "Cost iteration 340: 0.2841339746539427        test accuracy: 89.58333333333334\n",
            "------------------------------------------------------------------------------------\n",
            "Cost iteration 350: 0.28190527469072524        test accuracy: 89.58333333333334\n",
            "------------------------------------------------------------------------------------\n",
            "Cost iteration 360: 0.2797730663413359        test accuracy: 89.58333333333334\n",
            "------------------------------------------------------------------------------------\n",
            "Cost iteration 370: 0.27773122440049697        test accuracy: 89.58333333333334\n",
            "------------------------------------------------------------------------------------\n",
            "Cost iteration 380: 0.2757741443974727        test accuracy: 89.58333333333334\n",
            "------------------------------------------------------------------------------------\n",
            "Cost iteration 390: 0.2738966869648578        test accuracy: 89.58333333333334\n",
            "------------------------------------------------------------------------------------\n",
            "Cost iteration 400: 0.27209412932640425        test accuracy: 89.58333333333334\n",
            "------------------------------------------------------------------------------------\n",
            "Cost iteration 410: 0.2703621228523013        test accuracy: 89.58333333333334\n",
            "------------------------------------------------------------------------------------\n",
            "Cost iteration 420: 0.2686966558048263        test accuracy: 89.58333333333334\n",
            "------------------------------------------------------------------------------------\n",
            "Cost iteration 430: 0.2670940205398944        test accuracy: 88.54166666666667\n",
            "------------------------------------------------------------------------------------\n",
            "Cost iteration 440: 0.2655507845470775        test accuracy: 87.5\n",
            "------------------------------------------------------------------------------------\n",
            "Cost iteration 450: 0.26406376480711913        test accuracy: 87.5\n",
            "------------------------------------------------------------------------------------\n",
            "Cost iteration 460: 0.26263000502576833        test accuracy: 88.54166666666667\n",
            "------------------------------------------------------------------------------------\n",
            "Cost iteration 470: 0.2612467553690409        test accuracy: 87.5\n",
            "------------------------------------------------------------------------------------\n",
            "Cost iteration 480: 0.2599114543802729        test accuracy: 87.5\n",
            "------------------------------------------------------------------------------------\n",
            "Cost iteration 490: 0.25862171280555346        test accuracy: 87.5\n",
            "------------------------------------------------------------------------------------\n",
            "Cost iteration 500: 0.25737529909294043        test accuracy: 87.5\n",
            "------------------------------------------------------------------------------------\n",
            "Cost iteration 510: 0.2561701263635632        test accuracy: 87.5\n",
            "------------------------------------------------------------------------------------\n",
            "Cost iteration 520: 0.25500424068033467        test accuracy: 87.5\n",
            "------------------------------------------------------------------------------------\n",
            "Cost iteration 530: 0.2538758104634439        test accuracy: 87.5\n",
            "------------------------------------------------------------------------------------\n",
            "Cost iteration 540: 0.25278311692170474        test accuracy: 88.54166666666667\n",
            "------------------------------------------------------------------------------------\n",
            "Cost iteration 550: 0.2517245453858403        test accuracy: 88.54166666666667\n",
            "------------------------------------------------------------------------------------\n",
            "Cost iteration 560: 0.2506985774443186        test accuracy: 88.54166666666667\n",
            "------------------------------------------------------------------------------------\n",
            "Cost iteration 570: 0.24970378379481953        test accuracy: 88.54166666666667\n",
            "------------------------------------------------------------------------------------\n",
            "Cost iteration 580: 0.24873881773514023        test accuracy: 88.54166666666667\n",
            "------------------------------------------------------------------------------------\n",
            "Cost iteration 590: 0.24780240922659214        test accuracy: 89.58333333333334\n",
            "------------------------------------------------------------------------------------\n",
            "Cost iteration 600: 0.24689335947093982        test accuracy: 89.58333333333334\n",
            "------------------------------------------------------------------------------------\n",
            "Cost iteration 610: 0.24601053594885205        test accuracy: 89.58333333333334\n",
            "------------------------------------------------------------------------------------\n",
            "Cost iteration 620: 0.24515286787386587        test accuracy: 89.58333333333334\n",
            "------------------------------------------------------------------------------------\n",
            "Cost iteration 630: 0.24431934202108943        test accuracy: 89.58333333333334\n",
            "------------------------------------------------------------------------------------\n",
            "Cost iteration 640: 0.24350899889445435        test accuracy: 89.58333333333334\n",
            "------------------------------------------------------------------------------------\n",
            "Cost iteration 650: 0.2427209292003152        test accuracy: 89.58333333333334\n",
            "------------------------------------------------------------------------------------\n",
            "Cost iteration 660: 0.24195427059870722        test accuracy: 89.58333333333334\n",
            "------------------------------------------------------------------------------------\n",
            "Cost iteration 670: 0.24120820470664034        test accuracy: 89.58333333333334\n",
            "------------------------------------------------------------------------------------\n",
            "Cost iteration 680: 0.24048195433052078        test accuracy: 89.58333333333334\n",
            "------------------------------------------------------------------------------------\n",
            "Cost iteration 690: 0.23977478090717613        test accuracy: 89.58333333333334\n",
            "------------------------------------------------------------------------------------\n",
            "Cost iteration 700: 0.23908598213506152        test accuracy: 89.58333333333334\n",
            "------------------------------------------------------------------------------------\n",
            "Cost iteration 710: 0.23841488977909892        test accuracy: 89.58333333333334\n",
            "------------------------------------------------------------------------------------\n",
            "Cost iteration 720: 0.23776086763424378        test accuracy: 89.58333333333334\n",
            "------------------------------------------------------------------------------------\n",
            "Cost iteration 730: 0.23712330963434602        test accuracy: 89.58333333333334\n",
            "------------------------------------------------------------------------------------\n",
            "Cost iteration 740: 0.2365016380941763        test accuracy: 89.58333333333334\n",
            "------------------------------------------------------------------------------------\n",
            "Cost iteration 750: 0.23589530207364878        test accuracy: 89.58333333333334\n",
            "------------------------------------------------------------------------------------\n",
            "Cost iteration 760: 0.23530377585430964        test accuracy: 89.58333333333334\n",
            "------------------------------------------------------------------------------------\n",
            "Cost iteration 770: 0.23472655751908958        test accuracy: 89.58333333333334\n",
            "------------------------------------------------------------------------------------\n",
            "Cost iteration 780: 0.23416316762714032        test accuracy: 89.58333333333334\n",
            "------------------------------------------------------------------------------------\n",
            "Cost iteration 790: 0.23361314797632907        test accuracy: 89.58333333333334\n",
            "------------------------------------------------------------------------------------\n",
            "Cost iteration 800: 0.23307606044662077        test accuracy: 89.58333333333334\n",
            "------------------------------------------------------------------------------------\n",
            "Cost iteration 810: 0.23255148591818642        test accuracy: 89.58333333333334\n",
            "------------------------------------------------------------------------------------\n",
            "Cost iteration 820: 0.2320390232586088        test accuracy: 89.58333333333334\n",
            "------------------------------------------------------------------------------------\n",
            "Cost iteration 830: 0.23153828837404913        test accuracy: 89.58333333333334\n",
            "------------------------------------------------------------------------------------\n",
            "Cost iteration 840: 0.23104891331966937        test accuracy: 89.58333333333334\n",
            "------------------------------------------------------------------------------------\n",
            "Cost iteration 850: 0.23057054546501055        test accuracy: 90.625\n",
            "------------------------------------------------------------------------------------\n",
            "Cost iteration 860: 0.23010284671037984        test accuracy: 90.625\n",
            "------------------------------------------------------------------------------------\n",
            "Cost iteration 870: 0.22964549275062332        test accuracy: 90.625\n",
            "------------------------------------------------------------------------------------\n",
            "Cost iteration 880: 0.22919817238296283        test accuracy: 90.625\n",
            "------------------------------------------------------------------------------------\n",
            "Cost iteration 890: 0.22876058685583514        test accuracy: 90.625\n",
            "------------------------------------------------------------------------------------\n",
            "Cost iteration 900: 0.22833244925592014        test accuracy: 92.70833333333334\n",
            "------------------------------------------------------------------------------------\n",
            "Cost iteration 910: 0.22791348393076577        test accuracy: 91.66666666666667\n",
            "------------------------------------------------------------------------------------\n",
            "Cost iteration 920: 0.2275034259446132        test accuracy: 91.66666666666667\n",
            "------------------------------------------------------------------------------------\n",
            "Cost iteration 930: 0.22710202056521858        test accuracy: 91.66666666666667\n",
            "------------------------------------------------------------------------------------\n",
            "Cost iteration 940: 0.22670902277963118        test accuracy: 91.66666666666667\n",
            "------------------------------------------------------------------------------------\n",
            "Cost iteration 950: 0.22632419683703686        test accuracy: 91.66666666666667\n",
            "------------------------------------------------------------------------------------\n",
            "Cost iteration 960: 0.22594731581692754        test accuracy: 91.66666666666667\n",
            "------------------------------------------------------------------------------------\n",
            "Cost iteration 970: 0.22557816122097296        test accuracy: 91.66666666666667\n",
            "------------------------------------------------------------------------------------\n",
            "Cost iteration 980: 0.22521652258710018        test accuracy: 91.66666666666667\n",
            "------------------------------------------------------------------------------------\n",
            "Cost iteration 990: 0.22486219712438504        test accuracy: 90.625\n",
            "------------------------------------------------------------------------------------\n",
            "Cost iteration 1000: 0.22451498936746742        test accuracy: 90.625\n",
            "------------------------------------------------------------------------------------\n"
          ]
        }
      ],
      "source": [
        "for i in range(len(cost_val_r2)):\n",
        "    print(f\"Cost iteration {i * 10}: {cost_val_r2[i]}        test accuracy: {accur_val_r2[i] * 100}\")\n",
        "    print(\"------------------------------------------------------------------------------------\")"
      ]
    },
    {
      "cell_type": "code",
      "execution_count": null,
      "metadata": {
        "id": "0nZno6yz4cao",
        "colab": {
          "base_uri": "https://localhost:8080/",
          "height": 279
        },
        "outputId": "fe9706b6-4d72-4e73-de70-80e00bef29c5"
      },
      "outputs": [
        {
          "output_type": "display_data",
          "data": {
            "text/plain": [
              "<Figure size 432x288 with 1 Axes>"
            ],
            "image/png": "[encoded data removed]"
          },
          "metadata": {
            "needs_background": "light"
          }
        }
      ],
      "source": [
        "plt.plot(cost_val_r2)\n",
        "plt.ylabel('cost_val')\n",
        "plt.xlabel('Iterations')\n",
        "plt.show()"
      ]
    },
    {
      "cell_type": "code",
      "execution_count": null,
      "metadata": {
        "id": "I8OW3Jig4gpq",
        "colab": {
          "base_uri": "https://localhost:8080/",
          "height": 279
        },
        "outputId": "43f83aaf-ead9-4494-d55a-a035a9055a50"
      },
      "outputs": [
        {
          "output_type": "display_data",
          "data": {
            "text/plain": [
              "<Figure size 432x288 with 1 Axes>"
            ],
            "image/png": "[encoded data removed]"
          },
          "metadata": {
            "needs_background": "light"
          }
        }
      ],
      "source": [
        "plt.plot(accur_val_r2)\n",
        "plt.ylabel('Accuracy_val')\n",
        "plt.xlabel('Iterations')\n",
        "plt.show()"
      ]
    },
    {
      "cell_type": "markdown",
      "metadata": {
        "id": "he89gFXWnhWe"
      },
      "source": [
        "#**Implementing Model 2-layer zero**"
      ]
    },
    {
      "cell_type": "code",
      "execution_count": null,
      "metadata": {
        "id": "lJSc9mnknoOc"
      },
      "outputs": [],
      "source": [
        "#initialize 0 for params\n",
        "def initialize_parameter_2layer_zero(nx, ny):\n",
        "  w = np.zeros((nx, ny))\n",
        "  b = np.zeros((ny, 1))\n",
        "  return w, b"
      ]
    },
    {
      "cell_type": "code",
      "execution_count": null,
      "metadata": {
        "id": "-SWniLMLnpwj"
      },
      "outputs": [],
      "source": [
        "def model_2layer_zero(X_train, y_train, X_val, y_val, epoch, learning_rate, print_cost=False):\n",
        "    w, b = initialize_parameter_2layer_zero(X_train.shape[0], 1)\n",
        "    w, b, cost_train, accur_train, cost_val, accur_val = costomize(w, b, X_train, y_train, X_val, y_val, epoch, learning_rate, print_cost)\n",
        "    out = {\"cost_train\": cost_train,\"accur_train\": accur_train,\"w\" : w, \"b\" : b,\"learning_rate\" : learning_rate,\"epoch\": epoch}\n",
        "    return out, cost_val, accur_val"
      ]
    },
    {
      "cell_type": "markdown",
      "metadata": {
        "id": "_OKmJFpFnzOE"
      },
      "source": [
        "# ***Training the model 2-layer zero***"
      ]
    },
    {
      "cell_type": "code",
      "execution_count": null,
      "metadata": {
        "id": "tRz7AywjnwxD",
        "colab": {
          "base_uri": "https://localhost:8080/"
        },
        "outputId": "898d9f9b-0653-4fd5-9e40-51b67eeb724f"
      },
      "outputs": [
        {
          "output_type": "stream",
          "name": "stdout",
          "text": [
            "Cost iteration 0: 0.6931471805599467        train accuracy: 83.85416666666667\n",
            "------------------------------------------------------------------------------------\n",
            "Cost iteration 10: 0.6322708001922316        train accuracy: 84.11458333333334\n",
            "------------------------------------------------------------------------------------\n",
            "Cost iteration 20: 0.585692401638279        train accuracy: 84.11458333333334\n",
            "------------------------------------------------------------------------------------\n",
            "Cost iteration 30: 0.5493373316037489        train accuracy: 84.375\n",
            "------------------------------------------------------------------------------------\n",
            "Cost iteration 40: 0.5203279313552738        train accuracy: 84.89583333333333\n",
            "------------------------------------------------------------------------------------\n",
            "Cost iteration 50: 0.49667008118366357        train accuracy: 85.15625\n",
            "------------------------------------------------------------------------------------\n",
            "Cost iteration 60: 0.4769815782763295        train accuracy: 85.41666666666667\n",
            "------------------------------------------------------------------------------------\n",
            "Cost iteration 70: 0.4602944625012044        train accuracy: 85.67708333333334\n",
            "------------------------------------------------------------------------------------\n",
            "Cost iteration 80: 0.4459205691292654        train accuracy: 85.9375\n",
            "------------------------------------------------------------------------------------\n",
            "Cost iteration 90: 0.4333622657320594        train accuracy: 86.45833333333334\n",
            "------------------------------------------------------------------------------------\n",
            "Cost iteration 100: 0.4222533947381449        train accuracy: 86.97916666666667\n",
            "------------------------------------------------------------------------------------\n",
            "Cost iteration 110: 0.41231993374647075        train accuracy: 86.97916666666667\n",
            "------------------------------------------------------------------------------------\n",
            "Cost iteration 120: 0.40335347651785847        train accuracy: 87.23958333333334\n",
            "------------------------------------------------------------------------------------\n",
            "Cost iteration 130: 0.39519309962429094        train accuracy: 87.23958333333334\n",
            "------------------------------------------------------------------------------------\n",
            "Cost iteration 140: 0.3877127740563056        train accuracy: 87.23958333333334\n",
            "------------------------------------------------------------------------------------\n",
            "Cost iteration 150: 0.3808124924900949        train accuracy: 87.23958333333334\n",
            "------------------------------------------------------------------------------------\n",
            "Cost iteration 160: 0.3744119222286193        train accuracy: 87.5\n",
            "------------------------------------------------------------------------------------\n",
            "Cost iteration 170: 0.3684457999772362        train accuracy: 87.76041666666667\n",
            "------------------------------------------------------------------------------------\n",
            "Cost iteration 180: 0.36286054509997023        train accuracy: 87.76041666666667\n",
            "------------------------------------------------------------------------------------\n",
            "Cost iteration 190: 0.35761173705389504        train accuracy: 87.76041666666667\n",
            "------------------------------------------------------------------------------------\n",
            "Cost iteration 200: 0.3526622138347591        train accuracy: 88.02083333333334\n",
            "------------------------------------------------------------------------------------\n",
            "Cost iteration 210: 0.3479806223034757        train accuracy: 88.28125\n",
            "------------------------------------------------------------------------------------\n",
            "Cost iteration 220: 0.3435403012404956        train accuracy: 88.28125\n",
            "------------------------------------------------------------------------------------\n",
            "Cost iteration 230: 0.33931841215000574        train accuracy: 88.54166666666667\n",
            "------------------------------------------------------------------------------------\n",
            "Cost iteration 240: 0.33529525649858655        train accuracy: 88.80208333333334\n",
            "------------------------------------------------------------------------------------\n",
            "Cost iteration 250: 0.33145373465439326        train accuracy: 88.80208333333334\n",
            "------------------------------------------------------------------------------------\n",
            "Cost iteration 260: 0.32777891354607586        train accuracy: 88.80208333333334\n",
            "------------------------------------------------------------------------------------\n",
            "Cost iteration 270: 0.32425767848284426        train accuracy: 89.32291666666667\n",
            "------------------------------------------------------------------------------------\n",
            "Cost iteration 280: 0.32087845067536114        train accuracy: 89.32291666666667\n",
            "------------------------------------------------------------------------------------\n",
            "Cost iteration 290: 0.31763095645654155        train accuracy: 89.58333333333334\n",
            "------------------------------------------------------------------------------------\n",
            "Cost iteration 300: 0.3145060374930736        train accuracy: 89.84375\n",
            "------------------------------------------------------------------------------------\n",
            "Cost iteration 310: 0.31149549373009516        train accuracy: 89.84375\n",
            "------------------------------------------------------------------------------------\n",
            "Cost iteration 320: 0.308591952652905        train accuracy: 89.84375\n",
            "------------------------------------------------------------------------------------\n",
            "Cost iteration 330: 0.30578875984403364        train accuracy: 89.84375\n",
            "------------------------------------------------------------------------------------\n",
            "Cost iteration 340: 0.30307988687801846        train accuracy: 90.10416666666667\n",
            "------------------------------------------------------------------------------------\n",
            "Cost iteration 350: 0.30045985341420567        train accuracy: 90.10416666666667\n",
            "------------------------------------------------------------------------------------\n",
            "Cost iteration 360: 0.29792366098106027        train accuracy: 90.36458333333334\n",
            "------------------------------------------------------------------------------------\n",
            "Cost iteration 370: 0.2954667364389266        train accuracy: 90.88541666666667\n",
            "------------------------------------------------------------------------------------\n",
            "Cost iteration 380: 0.293084883495203        train accuracy: 90.88541666666667\n",
            "------------------------------------------------------------------------------------\n",
            "Cost iteration 390: 0.29077424095128956        train accuracy: 91.14583333333334\n",
            "------------------------------------------------------------------------------------\n",
            "Cost iteration 400: 0.2885312466030957        train accuracy: 91.14583333333334\n",
            "------------------------------------------------------------------------------------\n",
            "Cost iteration 410: 0.2863526059104077        train accuracy: 91.14583333333334\n",
            "------------------------------------------------------------------------------------\n",
            "Cost iteration 420: 0.28423526470570126        train accuracy: 91.40625\n",
            "------------------------------------------------------------------------------------\n",
            "Cost iteration 430: 0.2821763853382611        train accuracy: 91.40625\n",
            "------------------------------------------------------------------------------------\n",
            "Cost iteration 440: 0.28017332575104315        train accuracy: 91.40625\n",
            "------------------------------------------------------------------------------------\n",
            "Cost iteration 450: 0.27822362107042065        train accuracy: 91.40625\n",
            "------------------------------------------------------------------------------------\n",
            "Cost iteration 460: 0.2763249673566566        train accuracy: 91.66666666666667\n",
            "------------------------------------------------------------------------------------\n",
            "Cost iteration 470: 0.2744752072185793        train accuracy: 91.92708333333334\n",
            "------------------------------------------------------------------------------------\n",
            "Cost iteration 480: 0.2726723170418569        train accuracy: 91.92708333333334\n",
            "------------------------------------------------------------------------------------\n",
            "Cost iteration 490: 0.2709143956183083        train accuracy: 91.92708333333334\n",
            "------------------------------------------------------------------------------------\n",
            "Cost iteration 500: 0.26919965399535933        train accuracy: 91.92708333333334\n",
            "------------------------------------------------------------------------------------\n",
            "Cost iteration 510: 0.267526406391173        train accuracy: 91.92708333333334\n",
            "------------------------------------------------------------------------------------\n",
            "Cost iteration 520: 0.26589306204315283        train accuracy: 91.92708333333334\n",
            "------------------------------------------------------------------------------------\n",
            "Cost iteration 530: 0.264298117876133        train accuracy: 91.66666666666667\n",
            "------------------------------------------------------------------------------------\n",
            "Cost iteration 540: 0.26274015189231037        train accuracy: 91.92708333333334\n",
            "------------------------------------------------------------------------------------\n",
            "Cost iteration 550: 0.261217817198262        train accuracy: 91.92708333333334\n",
            "------------------------------------------------------------------------------------\n",
            "Cost iteration 560: 0.2597298365957163        train accuracy: 91.92708333333334\n",
            "------------------------------------------------------------------------------------\n",
            "Cost iteration 570: 0.2582749976723496        train accuracy: 92.1875\n",
            "------------------------------------------------------------------------------------\n",
            "Cost iteration 580: 0.25685214833711933        train accuracy: 92.1875\n",
            "------------------------------------------------------------------------------------\n",
            "Cost iteration 590: 0.255460192751679        train accuracy: 92.1875\n",
            "------------------------------------------------------------------------------------\n",
            "Cost iteration 600: 0.2540980876154668        train accuracy: 92.1875\n",
            "------------------------------------------------------------------------------------\n",
            "Cost iteration 610: 0.252764838767283        train accuracy: 92.1875\n",
            "------------------------------------------------------------------------------------\n",
            "Cost iteration 620: 0.2514594980706384        train accuracy: 92.70833333333334\n",
            "------------------------------------------------------------------------------------\n",
            "Cost iteration 630: 0.25018116055408246        train accuracy: 92.96875\n",
            "------------------------------------------------------------------------------------\n",
            "Cost iteration 640: 0.24892896178106108        train accuracy: 92.96875\n",
            "------------------------------------------------------------------------------------\n",
            "Cost iteration 650: 0.24770207542680778        train accuracy: 92.96875\n",
            "------------------------------------------------------------------------------------\n",
            "Cost iteration 660: 0.24649971104232304        train accuracy: 92.96875\n",
            "------------------------------------------------------------------------------------\n",
            "Cost iteration 670: 0.2453211119877166        train accuracy: 92.96875\n",
            "------------------------------------------------------------------------------------\n",
            "Cost iteration 680: 0.24416555351915714        train accuracy: 92.96875\n",
            "------------------------------------------------------------------------------------\n",
            "Cost iteration 690: 0.24303234101536678        train accuracy: 93.22916666666667\n",
            "------------------------------------------------------------------------------------\n",
            "Cost iteration 700: 0.24192080833111546        train accuracy: 93.48958333333334\n",
            "------------------------------------------------------------------------------------\n",
            "Cost iteration 710: 0.24083031626648027        train accuracy: 93.48958333333334\n",
            "------------------------------------------------------------------------------------\n",
            "Cost iteration 720: 0.23976025114180635        train accuracy: 93.48958333333334\n",
            "------------------------------------------------------------------------------------\n",
            "Cost iteration 730: 0.2387100234693307        train accuracy: 93.48958333333334\n",
            "------------------------------------------------------------------------------------\n",
            "Cost iteration 740: 0.23767906671335404        train accuracy: 93.48958333333334\n",
            "------------------------------------------------------------------------------------\n",
            "Cost iteration 750: 0.23666683613162853        train accuracy: 93.48958333333334\n",
            "------------------------------------------------------------------------------------\n",
            "Cost iteration 760: 0.235672807691365        train accuracy: 93.48958333333334\n",
            "------------------------------------------------------------------------------------\n",
            "Cost iteration 770: 0.23469647705390007        train accuracy: 93.48958333333334\n",
            "------------------------------------------------------------------------------------\n",
            "Cost iteration 780: 0.23373735862261086        train accuracy: 93.48958333333334\n",
            "------------------------------------------------------------------------------------\n",
            "Cost iteration 790: 0.2327949846491966        train accuracy: 93.48958333333334\n",
            "------------------------------------------------------------------------------------\n",
            "Cost iteration 800: 0.2318689043938757        train accuracy: 93.75\n",
            "------------------------------------------------------------------------------------\n",
            "Cost iteration 810: 0.23095868333546724        train accuracy: 93.75\n",
            "------------------------------------------------------------------------------------\n",
            "Cost iteration 820: 0.2300639024276761        train accuracy: 93.75\n",
            "------------------------------------------------------------------------------------\n",
            "Cost iteration 830: 0.22918415739823422        train accuracy: 93.75\n",
            "------------------------------------------------------------------------------------\n",
            "Cost iteration 840: 0.22831905808783592        train accuracy: 93.75\n",
            "------------------------------------------------------------------------------------\n",
            "Cost iteration 850: 0.2274682278260693        train accuracy: 93.75\n",
            "------------------------------------------------------------------------------------\n",
            "Cost iteration 860: 0.226631302841787        train accuracy: 93.75\n",
            "------------------------------------------------------------------------------------\n",
            "Cost iteration 870: 0.22580793170556618        train accuracy: 93.75\n",
            "------------------------------------------------------------------------------------\n",
            "Cost iteration 880: 0.2249977748021028        train accuracy: 94.01041666666667\n",
            "------------------------------------------------------------------------------------\n",
            "Cost iteration 890: 0.22420050383056347        train accuracy: 94.01041666666667\n",
            "------------------------------------------------------------------------------------\n",
            "Cost iteration 900: 0.22341580133106867        train accuracy: 94.27083333333334\n",
            "------------------------------------------------------------------------------------\n",
            "Cost iteration 910: 0.22264336023563203        train accuracy: 94.53125\n",
            "------------------------------------------------------------------------------------\n",
            "Cost iteration 920: 0.2218828834420057        train accuracy: 94.53125\n",
            "------------------------------------------------------------------------------------\n",
            "Cost iteration 930: 0.2211340834090012        train accuracy: 94.53125\n",
            "------------------------------------------------------------------------------------\n",
            "Cost iteration 940: 0.22039668177196348        train accuracy: 94.53125\n",
            "------------------------------------------------------------------------------------\n",
            "Cost iteration 950: 0.21967040897717674        train accuracy: 94.53125\n",
            "------------------------------------------------------------------------------------\n",
            "Cost iteration 960: 0.21895500393406178        train accuracy: 94.53125\n",
            "------------------------------------------------------------------------------------\n",
            "Cost iteration 970: 0.2182502136841178        train accuracy: 94.53125\n",
            "------------------------------------------------------------------------------------\n",
            "Cost iteration 980: 0.21755579308562872        train accuracy: 94.27083333333334\n",
            "------------------------------------------------------------------------------------\n",
            "Cost iteration 990: 0.2168715045132278        train accuracy: 94.27083333333334\n",
            "------------------------------------------------------------------------------------\n",
            "Cost iteration 1000: 0.2161971175714662        train accuracy: 94.27083333333334\n",
            "------------------------------------------------------------------------------------\n"
          ]
        }
      ],
      "source": [
        "model_output_2layer_zero, cost_val_z2, accur_val_z2  = model_2layer_zero(X_train, y_train, X_val, y_val, epoch=1000, learning_rate= 0.01, print_cost=True)"
      ]
    },
    {
      "cell_type": "code",
      "execution_count": null,
      "metadata": {
        "id": "9YtjRnPRn5hN",
        "colab": {
          "base_uri": "https://localhost:8080/",
          "height": 279
        },
        "outputId": "8825833f-279f-467e-e1f2-7cbb9e69c702"
      },
      "outputs": [
        {
          "output_type": "display_data",
          "data": {
            "text/plain": [
              "<Figure size 432x288 with 1 Axes>"
            ],
            "image/png": "[encoded data removed]"
          },
          "metadata": {
            "needs_background": "light"
          }
        }
      ],
      "source": [
        "plt.plot(model_output_2layer_zero['cost_train'])\n",
        "plt.ylabel('cost_train')\n",
        "plt.xlabel('Iterations')\n",
        "plt.show()"
      ]
    },
    {
      "cell_type": "code",
      "execution_count": null,
      "metadata": {
        "id": "ySkwBzrSn9zq",
        "colab": {
          "base_uri": "https://localhost:8080/",
          "height": 279
        },
        "outputId": "3aa7422c-8b6d-46ef-e8e3-30ff8f4c1800"
      },
      "outputs": [
        {
          "output_type": "display_data",
          "data": {
            "text/plain": [
              "<Figure size 432x288 with 1 Axes>"
            ],
            "image/png": "[encoded data removed]"
          },
          "metadata": {
            "needs_background": "light"
          }
        }
      ],
      "source": [
        "plt.plot(np.squeeze(model_output_2layer_zero['accur_train']))\n",
        "plt.ylabel('Accuracy_train')\n",
        "plt.xlabel('Iterations')\n",
        "plt.show()"
      ]
    },
    {
      "cell_type": "markdown",
      "metadata": {
        "id": "inulLdEAoAwn"
      },
      "source": [
        "# ***Evaluating the model 2-layer zero***"
      ]
    },
    {
      "cell_type": "code",
      "execution_count": null,
      "metadata": {
        "id": "GEiIhktToBfO",
        "colab": {
          "base_uri": "https://localhost:8080/"
        },
        "outputId": "c8db0c03-d7fd-48d0-b87c-1ffc736289b4"
      },
      "outputs": [
        {
          "output_type": "stream",
          "name": "stdout",
          "text": [
            "Cost iteration 0: 0.6865354024782855        test accuracy: 79.16666666666667\n",
            "------------------------------------------------------------------------------------\n",
            "Cost iteration 10: 0.6291546786105271        test accuracy: 80.20833333333334\n",
            "------------------------------------------------------------------------------------\n",
            "Cost iteration 20: 0.5845395749860296        test accuracy: 80.20833333333334\n",
            "------------------------------------------------------------------------------------\n",
            "Cost iteration 30: 0.5491699686752869        test accuracy: 81.25\n",
            "------------------------------------------------------------------------------------\n",
            "Cost iteration 40: 0.5205444587162176        test accuracy: 82.29166666666667\n",
            "------------------------------------------------------------------------------------\n",
            "Cost iteration 50: 0.49691134442917556        test accuracy: 83.33333333333334\n",
            "------------------------------------------------------------------------------------\n",
            "Cost iteration 60: 0.47704089225276114        test accuracy: 83.33333333333334\n",
            "------------------------------------------------------------------------------------\n",
            "Cost iteration 70: 0.4600600393265024        test accuracy: 83.33333333333334\n",
            "------------------------------------------------------------------------------------\n",
            "Cost iteration 80: 0.4453393799053006        test accuracy: 83.33333333333334\n",
            "------------------------------------------------------------------------------------\n",
            "Cost iteration 90: 0.43241746848125634        test accuracy: 83.33333333333334\n",
            "------------------------------------------------------------------------------------\n",
            "Cost iteration 100: 0.42095020880617084        test accuracy: 83.33333333333334\n",
            "------------------------------------------------------------------------------------\n",
            "Cost iteration 110: 0.4106767596311381        test accuracy: 83.33333333333334\n",
            "------------------------------------------------------------------------------------\n",
            "Cost iteration 120: 0.4013962872629666        test accuracy: 83.33333333333334\n",
            "------------------------------------------------------------------------------------\n",
            "Cost iteration 130: 0.39295188793607966        test accuracy: 83.33333333333334\n",
            "------------------------------------------------------------------------------------\n",
            "Cost iteration 140: 0.3852193021880155        test accuracy: 83.33333333333334\n",
            "------------------------------------------------------------------------------------\n",
            "Cost iteration 150: 0.3780988746221413        test accuracy: 85.41666666666667\n",
            "------------------------------------------------------------------------------------\n",
            "Cost iteration 160: 0.37150974273623105        test accuracy: 86.45833333333334\n",
            "------------------------------------------------------------------------------------\n",
            "Cost iteration 170: 0.36538557862407256        test accuracy: 86.45833333333334\n",
            "------------------------------------------------------------------------------------\n",
            "Cost iteration 180: 0.359671427609791        test accuracy: 86.45833333333334\n",
            "------------------------------------------------------------------------------------\n",
            "Cost iteration 190: 0.3543213321821862        test accuracy: 87.5\n",
            "------------------------------------------------------------------------------------\n",
            "Cost iteration 200: 0.3492965253550953        test accuracy: 87.5\n",
            "------------------------------------------------------------------------------------\n",
            "Cost iteration 210: 0.34456404195592194        test accuracy: 87.5\n",
            "------------------------------------------------------------------------------------\n",
            "Cost iteration 220: 0.34009564018680083        test accuracy: 88.54166666666667\n",
            "------------------------------------------------------------------------------------\n",
            "Cost iteration 230: 0.33586695604070194        test accuracy: 88.54166666666667\n",
            "------------------------------------------------------------------------------------\n",
            "Cost iteration 240: 0.3318568342656112        test accuracy: 88.54166666666667\n",
            "------------------------------------------------------------------------------------\n",
            "Cost iteration 250: 0.3280467944820693        test accuracy: 88.54166666666667\n",
            "------------------------------------------------------------------------------------\n",
            "Cost iteration 260: 0.32442060171113374        test accuracy: 88.54166666666667\n",
            "------------------------------------------------------------------------------------\n",
            "Cost iteration 270: 0.3209639182597399        test accuracy: 88.54166666666667\n",
            "------------------------------------------------------------------------------------\n",
            "Cost iteration 280: 0.3176640195184232        test accuracy: 89.58333333333334\n",
            "------------------------------------------------------------------------------------\n",
            "Cost iteration 290: 0.31450956035554223        test accuracy: 89.58333333333334\n",
            "------------------------------------------------------------------------------------\n",
            "Cost iteration 300: 0.3114903818602634        test accuracy: 89.58333333333334\n",
            "------------------------------------------------------------------------------------\n",
            "Cost iteration 310: 0.30859735048617226        test accuracy: 91.66666666666667\n",
            "------------------------------------------------------------------------------------\n",
            "Cost iteration 320: 0.3058222233851624        test accuracy: 91.66666666666667\n",
            "------------------------------------------------------------------------------------\n",
            "Cost iteration 330: 0.30315753504483367        test accuracy: 91.66666666666667\n",
            "------------------------------------------------------------------------------------\n",
            "Cost iteration 340: 0.3005965013582667        test accuracy: 91.66666666666667\n",
            "------------------------------------------------------------------------------------\n",
            "Cost iteration 350: 0.29813293803993257        test accuracy: 91.66666666666667\n",
            "------------------------------------------------------------------------------------\n",
            "Cost iteration 360: 0.2957611909121943        test accuracy: 91.66666666666667\n",
            "------------------------------------------------------------------------------------\n",
            "Cost iteration 370: 0.2934760760651165        test accuracy: 91.66666666666667\n",
            "------------------------------------------------------------------------------------\n",
            "Cost iteration 380: 0.2912728282691384        test accuracy: 91.66666666666667\n",
            "------------------------------------------------------------------------------------\n",
            "Cost iteration 390: 0.2891470563188993        test accuracy: 91.66666666666667\n",
            "------------------------------------------------------------------------------------\n",
            "Cost iteration 400: 0.28709470422461636        test accuracy: 92.70833333333334\n",
            "------------------------------------------------------------------------------------\n",
            "Cost iteration 410: 0.28511201735829317        test accuracy: 92.70833333333334\n",
            "------------------------------------------------------------------------------------\n",
            "Cost iteration 420: 0.2831955128158086        test accuracy: 92.70833333333334\n",
            "------------------------------------------------------------------------------------\n",
            "Cost iteration 430: 0.2813419533804667        test accuracy: 92.70833333333334\n",
            "------------------------------------------------------------------------------------\n",
            "Cost iteration 440: 0.27954832457491297        test accuracy: 92.70833333333334\n",
            "------------------------------------------------------------------------------------\n",
            "Cost iteration 450: 0.2778118143711468        test accuracy: 92.70833333333334\n",
            "------------------------------------------------------------------------------------\n",
            "Cost iteration 460: 0.2761297951963764        test accuracy: 92.70833333333334\n",
            "------------------------------------------------------------------------------------\n",
            "Cost iteration 470: 0.27449980792854156        test accuracy: 92.70833333333334\n",
            "------------------------------------------------------------------------------------\n",
            "Cost iteration 480: 0.2729195476217786        test accuracy: 92.70833333333334\n",
            "------------------------------------------------------------------------------------\n",
            "Cost iteration 490: 0.2713868507407113        test accuracy: 92.70833333333334\n",
            "------------------------------------------------------------------------------------\n",
            "Cost iteration 500: 0.2698996837146721        test accuracy: 92.70833333333334\n",
            "------------------------------------------------------------------------------------\n",
            "Cost iteration 510: 0.2684561326499628        test accuracy: 92.70833333333334\n",
            "------------------------------------------------------------------------------------\n",
            "Cost iteration 520: 0.26705439406094966        test accuracy: 92.70833333333334\n",
            "------------------------------------------------------------------------------------\n",
            "Cost iteration 530: 0.26569276649993756        test accuracy: 91.66666666666667\n",
            "------------------------------------------------------------------------------------\n",
            "Cost iteration 540: 0.2643696429819741        test accuracy: 91.66666666666667\n",
            "------------------------------------------------------------------------------------\n",
            "Cost iteration 550: 0.26308350411449455        test accuracy: 91.66666666666667\n",
            "------------------------------------------------------------------------------------\n",
            "Cost iteration 560: 0.26183291185344165        test accuracy: 91.66666666666667\n",
            "------------------------------------------------------------------------------------\n",
            "Cost iteration 570: 0.260616503817511        test accuracy: 91.66666666666667\n",
            "------------------------------------------------------------------------------------\n",
            "Cost iteration 580: 0.25943298810075        test accuracy: 91.66666666666667\n",
            "------------------------------------------------------------------------------------\n",
            "Cost iteration 590: 0.2582811385311233        test accuracy: 91.66666666666667\n",
            "------------------------------------------------------------------------------------\n",
            "Cost iteration 600: 0.25715979032899844        test accuracy: 91.66666666666667\n",
            "------------------------------------------------------------------------------------\n",
            "Cost iteration 610: 0.25606783612500583        test accuracy: 91.66666666666667\n",
            "------------------------------------------------------------------------------------\n",
            "Cost iteration 620: 0.2550042223014752        test accuracy: 90.625\n",
            "------------------------------------------------------------------------------------\n",
            "Cost iteration 630: 0.2539679456257816        test accuracy: 90.625\n",
            "------------------------------------------------------------------------------------\n",
            "Cost iteration 640: 0.25295805014752293        test accuracy: 90.625\n",
            "------------------------------------------------------------------------------------\n",
            "Cost iteration 650: 0.2519736243345911        test accuracy: 90.625\n",
            "------------------------------------------------------------------------------------\n",
            "Cost iteration 660: 0.25101379842592936        test accuracy: 90.625\n",
            "------------------------------------------------------------------------------------\n",
            "Cost iteration 670: 0.250077741981177        test accuracy: 90.625\n",
            "------------------------------------------------------------------------------------\n",
            "Cost iteration 680: 0.24916466160950604        test accuracy: 90.625\n",
            "------------------------------------------------------------------------------------\n",
            "Cost iteration 690: 0.24827379886180845        test accuracy: 90.625\n",
            "------------------------------------------------------------------------------------\n",
            "Cost iteration 700: 0.24740442827202908        test accuracy: 90.625\n",
            "------------------------------------------------------------------------------------\n",
            "Cost iteration 710: 0.24655585553488135        test accuracy: 90.625\n",
            "------------------------------------------------------------------------------------\n",
            "Cost iteration 720: 0.24572741580845892        test accuracy: 90.625\n",
            "------------------------------------------------------------------------------------\n",
            "Cost iteration 730: 0.24491847213139456        test accuracy: 90.625\n",
            "------------------------------------------------------------------------------------\n",
            "Cost iteration 740: 0.24412841394521548        test accuracy: 90.625\n",
            "------------------------------------------------------------------------------------\n",
            "Cost iteration 750: 0.2433566557134446        test accuracy: 90.625\n",
            "------------------------------------------------------------------------------------\n",
            "Cost iteration 760: 0.2426026356297944        test accuracy: 90.625\n",
            "------------------------------------------------------------------------------------\n",
            "Cost iteration 770: 0.24186581440850535        test accuracy: 90.625\n",
            "------------------------------------------------------------------------------------\n",
            "Cost iteration 780: 0.241145674150528        test accuracy: 90.625\n",
            "------------------------------------------------------------------------------------\n",
            "Cost iteration 790: 0.24044171727980534        test accuracy: 90.625\n",
            "------------------------------------------------------------------------------------\n",
            "Cost iteration 800: 0.2397534655444336        test accuracy: 90.625\n",
            "------------------------------------------------------------------------------------\n",
            "Cost iteration 810: 0.23908045907793057        test accuracy: 90.625\n",
            "------------------------------------------------------------------------------------\n",
            "Cost iteration 820: 0.23842225551625834        test accuracy: 90.625\n",
            "------------------------------------------------------------------------------------\n",
            "Cost iteration 830: 0.23777842916661796        test accuracy: 90.625\n",
            "------------------------------------------------------------------------------------\n",
            "Cost iteration 840: 0.2371485702243639        test accuracy: 90.625\n",
            "------------------------------------------------------------------------------------\n",
            "Cost iteration 850: 0.23653228403470172        test accuracy: 90.625\n",
            "------------------------------------------------------------------------------------\n",
            "Cost iteration 860: 0.23592919039608812        test accuracy: 89.58333333333334\n",
            "------------------------------------------------------------------------------------\n",
            "Cost iteration 870: 0.23533892290252037        test accuracy: 89.58333333333334\n",
            "------------------------------------------------------------------------------------\n",
            "Cost iteration 880: 0.23476112832211044        test accuracy: 89.58333333333334\n",
            "------------------------------------------------------------------------------------\n",
            "Cost iteration 890: 0.23419546600955626        test accuracy: 89.58333333333334\n",
            "------------------------------------------------------------------------------------\n",
            "Cost iteration 900: 0.2336416073502983        test accuracy: 89.58333333333334\n",
            "------------------------------------------------------------------------------------\n",
            "Cost iteration 910: 0.23309923523432777        test accuracy: 89.58333333333334\n",
            "------------------------------------------------------------------------------------\n",
            "Cost iteration 920: 0.23256804355775995        test accuracy: 89.58333333333334\n",
            "------------------------------------------------------------------------------------\n",
            "Cost iteration 930: 0.23204773675043092        test accuracy: 89.58333333333334\n",
            "------------------------------------------------------------------------------------\n",
            "Cost iteration 940: 0.2315380293279049        test accuracy: 89.58333333333334\n",
            "------------------------------------------------------------------------------------\n",
            "Cost iteration 950: 0.2310386454663912        test accuracy: 89.58333333333334\n",
            "------------------------------------------------------------------------------------\n",
            "Cost iteration 960: 0.23054931859918737        test accuracy: 89.58333333333334\n",
            "------------------------------------------------------------------------------------\n",
            "Cost iteration 970: 0.230069791033355        test accuracy: 89.58333333333334\n",
            "------------------------------------------------------------------------------------\n",
            "Cost iteration 980: 0.22959981358542847        test accuracy: 89.58333333333334\n",
            "------------------------------------------------------------------------------------\n",
            "Cost iteration 990: 0.22913914523504386        test accuracy: 89.58333333333334\n",
            "------------------------------------------------------------------------------------\n",
            "Cost iteration 1000: 0.22868755279544387        test accuracy: 89.58333333333334\n",
            "------------------------------------------------------------------------------------\n"
          ]
        }
      ],
      "source": [
        "for i in range(len(cost_val_z2)):\n",
        "    print(f\"Cost iteration {i * 10}: {cost_val_z2[i]}        test accuracy: {accur_val_z2[i] * 100}\")\n",
        "    print(\"------------------------------------------------------------------------------------\")"
      ]
    },
    {
      "cell_type": "code",
      "execution_count": null,
      "metadata": {
        "id": "kzNqYwJUoEVM",
        "colab": {
          "base_uri": "https://localhost:8080/",
          "height": 279
        },
        "outputId": "c8a37ef1-f80b-471c-9af9-8f92167b153a"
      },
      "outputs": [
        {
          "output_type": "display_data",
          "data": {
            "text/plain": [
              "<Figure size 432x288 with 1 Axes>"
            ],
            "image/png": "[encoded data removed]"
          },
          "metadata": {
            "needs_background": "light"
          }
        }
      ],
      "source": [
        "plt.plot(cost_val_z2)\n",
        "plt.ylabel('cost_val')\n",
        "plt.xlabel('Iterations')\n",
        "plt.show()"
      ]
    },
    {
      "cell_type": "code",
      "execution_count": null,
      "metadata": {
        "id": "6P1CzmhqoGEf",
        "colab": {
          "base_uri": "https://localhost:8080/",
          "height": 279
        },
        "outputId": "4b29a159-4ec7-4e56-85db-2ca1f765b451"
      },
      "outputs": [
        {
          "output_type": "display_data",
          "data": {
            "text/plain": [
              "<Figure size 432x288 with 1 Axes>"
            ],
            "image/png": "[encoded data removed]"
          },
          "metadata": {
            "needs_background": "light"
          }
        }
      ],
      "source": [
        "plt.plot(accur_val_z2)\n",
        "plt.ylabel('Accuracy_val')\n",
        "plt.xlabel('Iterations')\n",
        "plt.show()"
      ]
    },
    {
      "cell_type": "markdown",
      "metadata": {
        "id": "y6uweTE1oGs2"
      },
      "source": [
        "#**Implementing Model For n-layer Random**"
      ]
    },
    {
      "cell_type": "markdown",
      "metadata": {
        "id": "XowvkG4-oJcs"
      },
      "source": [
        "##Forward Propagation n-layer Random'one"
      ]
    },
    {
      "cell_type": "code",
      "execution_count": null,
      "metadata": {
        "id": "mSq3wPW-oM1R"
      },
      "outputs": [],
      "source": [
        "# 1) Initializing parameters\n",
        "def initialize_parameter_layer_Random(layerlist):\n",
        "  param = {} # for saving w and b\n",
        "  for i in range(1, len(layerlist)):\n",
        "    param[\"w\" + str(i)] = np.random.randn(layerlist[i], layerlist[i - 1]) * np.sqrt(2/layerlist[i - 1])# # n(l), n(l-1)\n",
        "    param[\"b\" + str(i)] = np.random.randn(layerlist[i], 1) * np.sqrt(2/layerlist[i - 1])# # n(l), 1\n",
        "  return param"
      ]
    },
    {
      "cell_type": "code",
      "execution_count": null,
      "metadata": {
        "id": "k9_obmpgoOUK"
      },
      "outputs": [],
      "source": [
        "#2 implement Z\n",
        "def calculate_Z_layer_Random(w, a, b):\n",
        "  Z = np.dot(w, a) + b\n",
        "  cache_forward = (w, a, b) #save w a b for each layer \n",
        "  return Z, cache_forward"
      ]
    },
    {
      "cell_type": "code",
      "execution_count": null,
      "metadata": {
        "id": "MGFF1460oQO6"
      },
      "outputs": [],
      "source": [
        "#3 relu function\n",
        "def relu(Z):\n",
        "    A = np.maximum(0,Z)\n",
        "    cache_activation = Z #save z for each layer  \n",
        "    return A, cache_activation"
      ]
    },
    {
      "cell_type": "code",
      "execution_count": null,
      "metadata": {
        "id": "cp8nGEQJoRn4"
      },
      "outputs": [],
      "source": [
        "#4 sigmoid function\n",
        "def sigmoid(Z):\n",
        "    Z = Z.astype(float)\n",
        "    A = 1/(1+np.exp(-Z))\n",
        "    cache_activation = Z #save z for each layer   \n",
        "    return A, cache_activation"
      ]
    },
    {
      "cell_type": "code",
      "execution_count": null,
      "metadata": {
        "id": "nqeit5U-oTOA"
      },
      "outputs": [],
      "source": [
        "#5 activation => 1 relu / 2 sigmoid / base\n",
        "def base_activation_forward(w, a_minus, b, activation):\n",
        "  if activation == 1:\n",
        "    Z, cache_froward = calculate_Z_layer_Random(w, a_minus, b)\n",
        "    A, cache_activation = relu(Z)\n",
        "  elif activation == 2:\n",
        "    Z, cache_froward = calculate_Z_layer_Random(w, a_minus, b)\n",
        "    A, cache_activation = sigmoid(Z) \n",
        "  cache_saver = (cache_froward, cache_activation) #saving activation cache(Z) + forward cache(w, b, A)\n",
        "  return A, cache_saver"
      ]
    },
    {
      "cell_type": "code",
      "execution_count": null,
      "metadata": {
        "id": "6lfWNAH7oUz0"
      },
      "outputs": [],
      "source": [
        "#6 repeat  previous function for n-1 layer\n",
        "def forward_n(param, a_minus):\n",
        "    caches = []\n",
        "    A = a_minus\n",
        "    Rangee = len(param) // 2 #in param you save w and b, be tedade w ya b ha laye darim dige! \n",
        "    for i in range(1, Rangee):  # number of layers in the neural network / l-1 Relu function\n",
        "        A_prev = A\n",
        "        wi, bi = param[\"w\" + str(i)], param[\"b\" + str(i)] #for making it ez to understand!\n",
        "        A, cache_saver = base_activation_forward(wi, A_prev, bi, 1)\n",
        "        caches.append(cache_saver)\n",
        "    ws, bs = param[\"w\" + str(Rangee)], param[\"b\" + str(Rangee)] \n",
        "    AL, cach_last_layer = base_activation_forward(ws, A, bs, 2) #for last one sigmoid function\n",
        "    caches.append(cach_last_layer)\n",
        "    return AL, caches"
      ]
    },
    {
      "cell_type": "code",
      "execution_count": null,
      "metadata": {
        "id": "IfqRYmJAoYzM"
      },
      "outputs": [],
      "source": [
        "#7 Calculate loss and cost / J = loss / sum of J's are cost\n",
        "def calculate_cost_nlayer(AL, y_train): # because of 0*log(0) gives nan \n",
        "  m = y_train.shape[1]\n",
        "  AL[AL == 0.] = 1e-10\n",
        "  AL[AL == 1.] = 1. - 1e-10 \n",
        "  loss = y_train * np.log(AL) + (1 - y_train) * (np.log(1 - AL))\n",
        "  cost = (-1/m) * np.sum(loss)\n",
        "  cost = np.squeeze(np.array(cost))\n",
        "  return cost"
      ]
    },
    {
      "cell_type": "code",
      "execution_count": null,
      "metadata": {
        "id": "v4NMXjJkoasK"
      },
      "outputs": [],
      "source": [
        "# t1 = 0 * np.log(1e-10) + (1 - 0) * (np.log(1 - 1e-10)) #-1.000000082790371e-10\n",
        "# #0 0 / 1 1\n",
        "# t2 = 0 * np.log(1.- 1e-10) +  (1-0) * (np.log(1 - (1. - 1e-10))) #-23.02585084720009\n",
        "# #0 1 / 1 0"
      ]
    },
    {
      "cell_type": "markdown",
      "metadata": {
        "id": "UCBEqB5JocER"
      },
      "source": [
        "##backward Propagation n-layer Random'one"
      ]
    },
    {
      "cell_type": "code",
      "execution_count": null,
      "metadata": {
        "id": "FvqyJtmNoeDK"
      },
      "outputs": [],
      "source": [
        "# dz = dA(L) * g'(z(L))\n",
        "def sigmoid_backward(dA, cache_activation):\n",
        "  Z = cache_activation\n",
        "  Z = Z.astype(float)\n",
        "  s = 1/(1+np.exp(-Z))\n",
        "  dZ = dA * s * (1-s) #a(1 - a) / dZ = dA(l) * g'(z(l))\n",
        "  return dZ"
      ]
    },
    {
      "cell_type": "code",
      "execution_count": null,
      "metadata": {
        "id": "4EK_X1DSofpf"
      },
      "outputs": [],
      "source": [
        "def relu_backward(dA, cache_activation):\n",
        "    Z = cache_activation\n",
        "    dZ = np.array(dA, copy=True) # #if Z >= 0 answer is 1 and when it's multiplying with dA => dA\n",
        "    dZ[Z <= 0] = 0 # When z <= 0 answer => 0 / dZ = dA(l) * g'(z(l))\n",
        "    return dZ"
      ]
    },
    {
      "cell_type": "code",
      "execution_count": null,
      "metadata": {
        "id": "NzjFU5PBohFs"
      },
      "outputs": [],
      "source": [
        "def base_activation_backward(dA, cache_saver, activation):\n",
        "    cache_froward, cache_activation = cache_saver\n",
        "    # A_minus.shape[1] -> m \n",
        "    if activation == 1:\n",
        "        dZ = relu_backward(dA, cache_activation)\n",
        "        w, A_minus, b = cache_froward \n",
        "        dw = (1/A_minus.shape[1]) * np.dot(dZ, A_minus.T) #dw(l) = 1/m * dz(l) * A(l-1).T \n",
        "        db = (1/A_minus.shape[1]) * np.sum(dZ, axis=1, keepdims=True)  \n",
        "        dA_minus = np.dot(w.T, dZ)  # dA(l-1) = w(l).T * dz(l)\n",
        "    elif activation == 2:\n",
        "        dZ = sigmoid_backward(dA, cache_activation)\n",
        "        w, A_minus, b = cache_froward \n",
        "        dw = (1/A_minus.shape[1]) * np.dot(dZ, A_minus.T)\n",
        "        db = (1/A_minus.shape[1]) * np.sum(dZ, axis=1, keepdims=True)  \n",
        "        dA_minus = np.dot(w.T, dZ)\n",
        "    return dA_minus, dw, db"
      ]
    },
    {
      "cell_type": "code",
      "execution_count": null,
      "metadata": {
        "id": "FVvHXP0Ioind"
      },
      "outputs": [],
      "source": [
        "def backward_n(AL, y_train, caches):\n",
        "    grads = {}\n",
        "    dAL = -(np.divide(y_train, AL) - np.divide(1 - y_train, 1 - AL)) #first layer dj/da\n",
        "    grads[\"dA\" + str(len(caches)-1)], grads[\"dw\" + str(len(caches))], grads[\"db\" + str(len(caches))] = base_activation_backward(dAL, caches[len(caches) - 1], 2)   #len(caches) - 1 / index = 0, 1 / for sigmoid function\n",
        "    for i in reversed(range((len(caches)-1))): #for l-1 layer relu \n",
        "        grads[\"dA\" + str(i)], grads[\"dw\" + str(i + 1)], grads[\"db\" + str(i + 1)]  = base_activation_backward(grads[\"dA\" + str(i + 1)], caches[i], 1)\n",
        "    return grads"
      ]
    },
    {
      "cell_type": "code",
      "execution_count": null,
      "metadata": {
        "id": "s3OL8LdVokDa"
      },
      "outputs": [],
      "source": [
        "def update_parameters(param, grads, learning_rate):\n",
        "    parameters = param \n",
        "    Rangee = len(param) // 2\n",
        "    for i in range(Rangee): # number of layers in the neural network\n",
        "        parameters[\"w\" + str(i+1)] = param[\"w\" + str(i+1)] - (learning_rate * grads[\"dw\" + str(i+1)])\n",
        "        parameters[\"b\" + str(i+1)] = param[\"b\" + str(i+1)] - (learning_rate * grads[\"db\" + str(i+1)])\n",
        "    return parameters #updating in new dictionary"
      ]
    },
    {
      "cell_type": "code",
      "execution_count": null,
      "metadata": {
        "id": "L4rceUQHolg-"
      },
      "outputs": [],
      "source": [
        "def predict_nlayer(X_train, param):\n",
        "    Y_prediction = np.zeros((1, X_train.shape[1])) #(1, m)\n",
        "    AL,cache_forward = forward_n(param, X_train) #calculating forward propagation with new parameters of w and b \n",
        "    for i in range(AL.shape[1]):\n",
        "      Y_prediction[0,i] = 1 if AL[0, i] > 0.5 else 0\n",
        "    return Y_prediction, AL"
      ]
    },
    {
      "cell_type": "code",
      "execution_count": null,
      "metadata": {
        "id": "K0lZYD57o68O"
      },
      "outputs": [],
      "source": [
        "def calculate_test_nlayer(param, X_val, y_val):\n",
        "  Y_prediction_val, Av = predict_nlayer(X_val, param) # calculate predication \n",
        "  cost_v = calculate_cost_nlayer(Av, y_val) # calculate cost of validation\n",
        "  accur_v = np.sum((Y_prediction_val == y_val)/X_val.shape[1]) * 100 # calculate accuracy of validation\n",
        "  return cost_v, accur_v"
      ]
    },
    {
      "cell_type": "code",
      "execution_count": null,
      "metadata": {
        "id": "5KRSVopAo7C-"
      },
      "outputs": [],
      "source": [
        "def calculate_train_nlayer(param, X_train, y_train):\n",
        "  Y_prediction_train, AL = predict_nlayer(X_train, param) # calculate predication\n",
        "  accur_t = np.sum((Y_prediction_train == y_train)/X_train.shape[1]) * 100 # calculate accuracy of train\n",
        "  return accur_t"
      ]
    },
    {
      "cell_type": "code",
      "execution_count": null,
      "metadata": {
        "id": "H1PJsyTSoucy"
      },
      "outputs": [],
      "source": [
        "def costomize_nlayer(param, X_train, y_train, epoch, learning_rate, print_cost):\n",
        "    cost_train, accur_train, cost_val, accur_val = ([] for i in range(4))\n",
        "    for i in range(epoch + 1):\n",
        "        AL, caches = forward_n(param, X_train) # calculate forward\n",
        "        cost_t = calculate_cost_nlayer(AL, y_train) # calculate cost train \n",
        "        grads = backward_n(AL, y_train, caches) # grads -> dA / dw / db\n",
        "        param = update_parameters(param, grads, learning_rate) #update w and b\n",
        "        accur_t = calculate_train_nlayer(param, X_train, y_train) # calculate accuracy of train\n",
        "        cost_v, accur_v = calculate_test_nlayer(param, X_val, y_val) # calculate accuracy and cost of test\n",
        "        if print_cost and i % 10 == 0:\n",
        "            cost_train.append(cost_t)\n",
        "            accur_train.append(accur_t / 100)\n",
        "            cost_val.append(cost_v)\n",
        "            accur_val.append(accur_v / 100)\n",
        "            print(f\"Cost iteration {i}: {cost_t}        train accuracy: {accur_t}\")\n",
        "            print(\"------------------------------------------------------------------------------------\")\n",
        "    return param, cost_train, accur_train, cost_val, accur_val "
      ]
    },
    {
      "cell_type": "markdown",
      "metadata": {
        "id": "y71KHRZrq7Ah"
      },
      "source": [
        "#**Implementing Model For 3-layer Random**"
      ]
    },
    {
      "cell_type": "code",
      "execution_count": null,
      "metadata": {
        "id": "VFjKJsxcq7aK"
      },
      "outputs": [],
      "source": [
        "def model_3layer_Random(X_train, y_train, X_val, y_val, epoch, learning_rate, print_cost=False):\n",
        "    param = initialize_parameter_layer_Random([X_train.shape[0], 100,  1])\n",
        "    param, cost_train, accur_train, cost_val, accur_val = costomize_nlayer(param , X_train, y_train, epoch, learning_rate, print_cost)\n",
        "    out = {\"cost_train\": cost_train,\"accur_train\": accur_train,  \"param\": param,\"learning_rate\" : learning_rate,\"epoch\": epoch}\n",
        "    return out, cost_val, accur_val"
      ]
    },
    {
      "cell_type": "markdown",
      "metadata": {
        "id": "iljwdzXTrBjb"
      },
      "source": [
        "#***Training the model 3-layer Random***"
      ]
    },
    {
      "cell_type": "code",
      "execution_count": null,
      "metadata": {
        "id": "v3GRVbDArB2K",
        "colab": {
          "base_uri": "https://localhost:8080/"
        },
        "outputId": "5db2341e-dc0c-4e10-a2d3-471d6408ce6c"
      },
      "outputs": [
        {
          "output_type": "stream",
          "name": "stdout",
          "text": [
            "Cost iteration 0: 0.6976647535514032        train accuracy: 64.58333333333333\n",
            "------------------------------------------------------------------------------------\n",
            "Cost iteration 10: 0.5433860911397921        train accuracy: 75.52083333333333\n",
            "------------------------------------------------------------------------------------\n",
            "Cost iteration 20: 0.4783829966391445        train accuracy: 82.03125\n",
            "------------------------------------------------------------------------------------\n",
            "Cost iteration 30: 0.44037624647566026        train accuracy: 84.11458333333333\n",
            "------------------------------------------------------------------------------------\n",
            "Cost iteration 40: 0.41300236334798557        train accuracy: 85.41666666666667\n",
            "------------------------------------------------------------------------------------\n",
            "Cost iteration 50: 0.3910772079337286        train accuracy: 86.97916666666667\n",
            "------------------------------------------------------------------------------------\n",
            "Cost iteration 60: 0.3725840276544323        train accuracy: 88.28125\n",
            "------------------------------------------------------------------------------------\n",
            "Cost iteration 70: 0.35667288759928417        train accuracy: 89.0625\n",
            "------------------------------------------------------------------------------------\n",
            "Cost iteration 80: 0.34279327788000713        train accuracy: 89.84375\n",
            "------------------------------------------------------------------------------------\n",
            "Cost iteration 90: 0.33056133350623373        train accuracy: 89.84375\n",
            "------------------------------------------------------------------------------------\n",
            "Cost iteration 100: 0.3196764456412619        train accuracy: 90.10416666666667\n",
            "------------------------------------------------------------------------------------\n",
            "Cost iteration 110: 0.3099099372600114        train accuracy: 90.10416666666667\n",
            "------------------------------------------------------------------------------------\n",
            "Cost iteration 120: 0.3010547129810497        train accuracy: 90.625\n",
            "------------------------------------------------------------------------------------\n",
            "Cost iteration 130: 0.2930093130263756        train accuracy: 91.14583333333334\n",
            "------------------------------------------------------------------------------------\n",
            "Cost iteration 140: 0.28563944515805634        train accuracy: 91.40625\n",
            "------------------------------------------------------------------------------------\n",
            "Cost iteration 150: 0.27884313390193305        train accuracy: 91.66666666666667\n",
            "------------------------------------------------------------------------------------\n",
            "Cost iteration 160: 0.27255562709372994        train accuracy: 91.66666666666667\n",
            "------------------------------------------------------------------------------------\n",
            "Cost iteration 170: 0.26670606103440214        train accuracy: 91.66666666666667\n",
            "------------------------------------------------------------------------------------\n",
            "Cost iteration 180: 0.2612366139331316        train accuracy: 91.92708333333334\n",
            "------------------------------------------------------------------------------------\n",
            "Cost iteration 190: 0.2560910181475605        train accuracy: 91.92708333333334\n",
            "------------------------------------------------------------------------------------\n",
            "Cost iteration 200: 0.2512363533580278        train accuracy: 91.92708333333334\n",
            "------------------------------------------------------------------------------------\n",
            "Cost iteration 210: 0.2466505235213833        train accuracy: 91.92708333333334\n",
            "------------------------------------------------------------------------------------\n",
            "Cost iteration 220: 0.2423062432424214        train accuracy: 92.1875\n",
            "------------------------------------------------------------------------------------\n",
            "Cost iteration 230: 0.2381813484220724        train accuracy: 92.1875\n",
            "------------------------------------------------------------------------------------\n",
            "Cost iteration 240: 0.2342584453807463        train accuracy: 92.70833333333334\n",
            "------------------------------------------------------------------------------------\n",
            "Cost iteration 250: 0.23050149257975522        train accuracy: 92.70833333333334\n",
            "------------------------------------------------------------------------------------\n",
            "Cost iteration 260: 0.22691205967956551        train accuracy: 92.70833333333334\n",
            "------------------------------------------------------------------------------------\n",
            "Cost iteration 270: 0.22346846329422154        train accuracy: 92.96875\n",
            "------------------------------------------------------------------------------------\n",
            "Cost iteration 280: 0.22016093228097433        train accuracy: 92.96875\n",
            "------------------------------------------------------------------------------------\n",
            "Cost iteration 290: 0.21699749596742518        train accuracy: 93.22916666666667\n",
            "------------------------------------------------------------------------------------\n",
            "Cost iteration 300: 0.21396448066347165        train accuracy: 93.48958333333334\n",
            "------------------------------------------------------------------------------------\n",
            "Cost iteration 310: 0.21104762884246697        train accuracy: 93.48958333333334\n",
            "------------------------------------------------------------------------------------\n",
            "Cost iteration 320: 0.20824073535944077        train accuracy: 93.48958333333334\n",
            "------------------------------------------------------------------------------------\n",
            "Cost iteration 330: 0.20553972752577526        train accuracy: 94.01041666666667\n",
            "------------------------------------------------------------------------------------\n",
            "Cost iteration 340: 0.20293556443927677        train accuracy: 94.01041666666667\n",
            "------------------------------------------------------------------------------------\n",
            "Cost iteration 350: 0.2004221789411678        train accuracy: 94.01041666666667\n",
            "------------------------------------------------------------------------------------\n",
            "Cost iteration 360: 0.19799259238893813        train accuracy: 94.27083333333334\n",
            "------------------------------------------------------------------------------------\n",
            "Cost iteration 370: 0.19564621603024773        train accuracy: 94.53125\n",
            "------------------------------------------------------------------------------------\n",
            "Cost iteration 380: 0.1933783985909049        train accuracy: 94.53125\n",
            "------------------------------------------------------------------------------------\n",
            "Cost iteration 390: 0.19118604012400903        train accuracy: 94.53125\n",
            "------------------------------------------------------------------------------------\n",
            "Cost iteration 400: 0.18906730256845122        train accuracy: 94.53125\n",
            "------------------------------------------------------------------------------------\n",
            "Cost iteration 410: 0.18701555350427226        train accuracy: 94.53125\n",
            "------------------------------------------------------------------------------------\n",
            "Cost iteration 420: 0.185026694116796        train accuracy: 94.53125\n",
            "------------------------------------------------------------------------------------\n",
            "Cost iteration 430: 0.1830987042722208        train accuracy: 94.53125\n",
            "------------------------------------------------------------------------------------\n",
            "Cost iteration 440: 0.18123193996096013        train accuracy: 94.53125\n",
            "------------------------------------------------------------------------------------\n",
            "Cost iteration 450: 0.1794226598144313        train accuracy: 94.53125\n",
            "------------------------------------------------------------------------------------\n",
            "Cost iteration 460: 0.177665635207999        train accuracy: 94.53125\n",
            "------------------------------------------------------------------------------------\n",
            "Cost iteration 470: 0.17596531663521636        train accuracy: 94.79166666666667\n",
            "------------------------------------------------------------------------------------\n",
            "Cost iteration 480: 0.17431602009161462        train accuracy: 94.79166666666667\n",
            "------------------------------------------------------------------------------------\n",
            "Cost iteration 490: 0.17271510804509363        train accuracy: 94.79166666666667\n",
            "------------------------------------------------------------------------------------\n",
            "Cost iteration 500: 0.17115930391947215        train accuracy: 94.79166666666667\n",
            "------------------------------------------------------------------------------------\n",
            "Cost iteration 510: 0.169648278277933        train accuracy: 94.79166666666667\n",
            "------------------------------------------------------------------------------------\n",
            "Cost iteration 520: 0.1681803752887549        train accuracy: 94.79166666666667\n",
            "------------------------------------------------------------------------------------\n",
            "Cost iteration 530: 0.16675433187588978        train accuracy: 94.79166666666667\n",
            "------------------------------------------------------------------------------------\n",
            "Cost iteration 540: 0.1653654153843367        train accuracy: 95.05208333333334\n",
            "------------------------------------------------------------------------------------\n",
            "Cost iteration 550: 0.16401320744356007        train accuracy: 95.3125\n",
            "------------------------------------------------------------------------------------\n",
            "Cost iteration 560: 0.16269309681947688        train accuracy: 95.57291666666667\n",
            "------------------------------------------------------------------------------------\n",
            "Cost iteration 570: 0.16140442296518537        train accuracy: 95.57291666666667\n",
            "------------------------------------------------------------------------------------\n",
            "Cost iteration 580: 0.1601467705299337        train accuracy: 95.57291666666667\n",
            "------------------------------------------------------------------------------------\n",
            "Cost iteration 590: 0.15891898172073887        train accuracy: 95.57291666666667\n",
            "------------------------------------------------------------------------------------\n",
            "Cost iteration 600: 0.1577195826394256        train accuracy: 95.57291666666667\n",
            "------------------------------------------------------------------------------------\n",
            "Cost iteration 610: 0.15654641883004342        train accuracy: 95.57291666666667\n",
            "------------------------------------------------------------------------------------\n",
            "Cost iteration 620: 0.1553987804745648        train accuracy: 95.57291666666667\n",
            "------------------------------------------------------------------------------------\n",
            "Cost iteration 630: 0.15427599717643115        train accuracy: 95.57291666666667\n",
            "------------------------------------------------------------------------------------\n",
            "Cost iteration 640: 0.15317853691783406        train accuracy: 95.57291666666667\n",
            "------------------------------------------------------------------------------------\n",
            "Cost iteration 650: 0.15210600011254455        train accuracy: 95.57291666666667\n",
            "------------------------------------------------------------------------------------\n",
            "Cost iteration 660: 0.15105432447871786        train accuracy: 95.83333333333334\n",
            "------------------------------------------------------------------------------------\n",
            "Cost iteration 670: 0.15002453771911667        train accuracy: 95.83333333333334\n",
            "------------------------------------------------------------------------------------\n",
            "Cost iteration 680: 0.14901740786912826        train accuracy: 95.83333333333334\n",
            "------------------------------------------------------------------------------------\n",
            "Cost iteration 690: 0.14803140979198617        train accuracy: 95.83333333333334\n",
            "------------------------------------------------------------------------------------\n",
            "Cost iteration 700: 0.14706342679970003        train accuracy: 95.83333333333334\n",
            "------------------------------------------------------------------------------------\n",
            "Cost iteration 710: 0.14611383789232552        train accuracy: 95.83333333333334\n",
            "------------------------------------------------------------------------------------\n",
            "Cost iteration 720: 0.14518235112284958        train accuracy: 95.83333333333334\n",
            "------------------------------------------------------------------------------------\n",
            "Cost iteration 730: 0.144268190333371        train accuracy: 95.83333333333334\n",
            "------------------------------------------------------------------------------------\n",
            "Cost iteration 740: 0.14336935911970206        train accuracy: 95.83333333333334\n",
            "------------------------------------------------------------------------------------\n",
            "Cost iteration 750: 0.14248451045641314        train accuracy: 95.83333333333334\n",
            "------------------------------------------------------------------------------------\n",
            "Cost iteration 760: 0.14161218822284846        train accuracy: 95.83333333333334\n",
            "------------------------------------------------------------------------------------\n",
            "Cost iteration 770: 0.14075515176297715        train accuracy: 95.83333333333334\n",
            "------------------------------------------------------------------------------------\n",
            "Cost iteration 780: 0.13991229120907178        train accuracy: 95.83333333333334\n",
            "------------------------------------------------------------------------------------\n",
            "Cost iteration 790: 0.13908408267970243        train accuracy: 96.09375\n",
            "------------------------------------------------------------------------------------\n",
            "Cost iteration 800: 0.13826901050239582        train accuracy: 96.09375\n",
            "------------------------------------------------------------------------------------\n",
            "Cost iteration 810: 0.13746524719543704        train accuracy: 96.09375\n",
            "------------------------------------------------------------------------------------\n",
            "Cost iteration 820: 0.1366730036824476        train accuracy: 96.09375\n",
            "------------------------------------------------------------------------------------\n",
            "Cost iteration 830: 0.13589057494008477        train accuracy: 96.35416666666667\n",
            "------------------------------------------------------------------------------------\n",
            "Cost iteration 840: 0.13512183563529284        train accuracy: 96.35416666666667\n",
            "------------------------------------------------------------------------------------\n",
            "Cost iteration 850: 0.13436592526545704        train accuracy: 96.35416666666667\n",
            "------------------------------------------------------------------------------------\n",
            "Cost iteration 860: 0.1336216512158312        train accuracy: 96.35416666666667\n",
            "------------------------------------------------------------------------------------\n",
            "Cost iteration 870: 0.13289048387833496        train accuracy: 96.35416666666667\n",
            "------------------------------------------------------------------------------------\n",
            "Cost iteration 880: 0.1321697044244172        train accuracy: 96.35416666666667\n",
            "------------------------------------------------------------------------------------\n",
            "Cost iteration 890: 0.13145936702691668        train accuracy: 96.61458333333334\n",
            "------------------------------------------------------------------------------------\n",
            "Cost iteration 900: 0.13076001032452228        train accuracy: 96.61458333333334\n",
            "------------------------------------------------------------------------------------\n",
            "Cost iteration 910: 0.13007015479699682        train accuracy: 96.61458333333334\n",
            "------------------------------------------------------------------------------------\n",
            "Cost iteration 920: 0.12939089210295632        train accuracy: 96.61458333333334\n",
            "------------------------------------------------------------------------------------\n",
            "Cost iteration 930: 0.12872131513098586        train accuracy: 96.61458333333334\n",
            "------------------------------------------------------------------------------------\n",
            "Cost iteration 940: 0.12806098393918763        train accuracy: 96.61458333333334\n",
            "------------------------------------------------------------------------------------\n",
            "Cost iteration 950: 0.1274096147145238        train accuracy: 96.61458333333334\n",
            "------------------------------------------------------------------------------------\n",
            "Cost iteration 960: 0.1267675530294962        train accuracy: 96.61458333333334\n",
            "------------------------------------------------------------------------------------\n",
            "Cost iteration 970: 0.12613519733243606        train accuracy: 96.875\n",
            "------------------------------------------------------------------------------------\n",
            "Cost iteration 980: 0.12551209199334368        train accuracy: 96.875\n",
            "------------------------------------------------------------------------------------\n",
            "Cost iteration 990: 0.12489702395869702        train accuracy: 96.875\n",
            "------------------------------------------------------------------------------------\n",
            "Cost iteration 1000: 0.12428921354029601        train accuracy: 96.875\n",
            "------------------------------------------------------------------------------------\n"
          ]
        }
      ],
      "source": [
        "model_output_3layer_Random, cost_val_r3, accur_val_r3  = model_3layer_Random(X_train, y_train, X_val, y_val, epoch=1000, learning_rate= 0.01, print_cost=True)"
      ]
    },
    {
      "cell_type": "code",
      "execution_count": null,
      "metadata": {
        "id": "gCxQfbqzrFlx",
        "colab": {
          "base_uri": "https://localhost:8080/",
          "height": 279
        },
        "outputId": "7b6d39f0-bc6c-45ba-9a46-4d929906a621"
      },
      "outputs": [
        {
          "output_type": "display_data",
          "data": {
            "text/plain": [
              "<Figure size 432x288 with 1 Axes>"
            ],
            "image/png": "[encoded data removed]"
          },
          "metadata": {
            "needs_background": "light"
          }
        }
      ],
      "source": [
        "plt.plot(model_output_3layer_Random['cost_train'])\n",
        "plt.ylabel('cost_train')\n",
        "plt.xlabel('Iterations')\n",
        "plt.show()"
      ]
    },
    {
      "cell_type": "code",
      "execution_count": null,
      "metadata": {
        "id": "GR8eSPqKrHP1",
        "colab": {
          "base_uri": "https://localhost:8080/",
          "height": 279
        },
        "outputId": "fc3c4d91-53a9-4e4f-e9c8-72e38f82cf94"
      },
      "outputs": [
        {
          "output_type": "display_data",
          "data": {
            "text/plain": [
              "<Figure size 432x288 with 1 Axes>"
            ],
            "image/png": "[encoded data removed]"
          },
          "metadata": {
            "needs_background": "light"
          }
        }
      ],
      "source": [
        "plt.plot(np.squeeze(model_output_3layer_Random['accur_train']))\n",
        "plt.ylabel('Accuracy_train')\n",
        "plt.xlabel('Iterations')\n",
        "plt.show()"
      ]
    },
    {
      "cell_type": "markdown",
      "metadata": {
        "id": "-TawHeynrKlP"
      },
      "source": [
        "#***Evaluating the model 3-layer Random***"
      ]
    },
    {
      "cell_type": "code",
      "execution_count": null,
      "metadata": {
        "id": "H90ygD66rMJW",
        "colab": {
          "base_uri": "https://localhost:8080/"
        },
        "outputId": "5573b1ff-ddad-4dc3-8e8d-1693ed3c0faf"
      },
      "outputs": [
        {
          "output_type": "stream",
          "name": "stdout",
          "text": [
            "Cost iteration 0: 0.6853694987576509        test accuracy: 56.25\n",
            "------------------------------------------------------------------------------------\n",
            "Cost iteration 10: 0.5149710655477993        test accuracy: 76.04166666666667\n",
            "------------------------------------------------------------------------------------\n",
            "Cost iteration 20: 0.44485853990783253        test accuracy: 78.125\n",
            "------------------------------------------------------------------------------------\n",
            "Cost iteration 30: 0.407330433628675        test accuracy: 82.29166666666666\n",
            "------------------------------------------------------------------------------------\n",
            "Cost iteration 40: 0.3829951794183407        test accuracy: 83.33333333333333\n",
            "------------------------------------------------------------------------------------\n",
            "Cost iteration 50: 0.3652343616979524        test accuracy: 84.375\n",
            "------------------------------------------------------------------------------------\n",
            "Cost iteration 60: 0.35132720577880755        test accuracy: 84.375\n",
            "------------------------------------------------------------------------------------\n",
            "Cost iteration 70: 0.3399457374027699        test accuracy: 85.41666666666667\n",
            "------------------------------------------------------------------------------------\n",
            "Cost iteration 80: 0.33035900707583454        test accuracy: 85.41666666666667\n",
            "------------------------------------------------------------------------------------\n",
            "Cost iteration 90: 0.32212856501999787        test accuracy: 85.41666666666667\n",
            "------------------------------------------------------------------------------------\n",
            "Cost iteration 100: 0.31496376019914846        test accuracy: 85.41666666666667\n",
            "------------------------------------------------------------------------------------\n",
            "Cost iteration 110: 0.3086500702003775        test accuracy: 85.41666666666667\n",
            "------------------------------------------------------------------------------------\n",
            "Cost iteration 120: 0.30303375906479224        test accuracy: 85.41666666666667\n",
            "------------------------------------------------------------------------------------\n",
            "Cost iteration 130: 0.29800614779609425        test accuracy: 86.45833333333334\n",
            "------------------------------------------------------------------------------------\n",
            "Cost iteration 140: 0.2934670126644059        test accuracy: 86.45833333333334\n",
            "------------------------------------------------------------------------------------\n",
            "Cost iteration 150: 0.28935201896543455        test accuracy: 86.45833333333334\n",
            "------------------------------------------------------------------------------------\n",
            "Cost iteration 160: 0.28560883278673643        test accuracy: 86.45833333333334\n",
            "------------------------------------------------------------------------------------\n",
            "Cost iteration 170: 0.28217802186143837        test accuracy: 86.45833333333334\n",
            "------------------------------------------------------------------------------------\n",
            "Cost iteration 180: 0.2790114866459047        test accuracy: 85.41666666666667\n",
            "------------------------------------------------------------------------------------\n",
            "Cost iteration 190: 0.27609448272013715        test accuracy: 85.41666666666667\n",
            "------------------------------------------------------------------------------------\n",
            "Cost iteration 200: 0.27338899928760546        test accuracy: 87.5\n",
            "------------------------------------------------------------------------------------\n",
            "Cost iteration 210: 0.2708764609462455        test accuracy: 87.5\n",
            "------------------------------------------------------------------------------------\n",
            "Cost iteration 220: 0.2685384240681262        test accuracy: 87.5\n",
            "------------------------------------------------------------------------------------\n",
            "Cost iteration 230: 0.26635717277025406        test accuracy: 87.5\n",
            "------------------------------------------------------------------------------------\n",
            "Cost iteration 240: 0.26432707599605515        test accuracy: 87.5\n",
            "------------------------------------------------------------------------------------\n",
            "Cost iteration 250: 0.26241595070303314        test accuracy: 87.5\n",
            "------------------------------------------------------------------------------------\n",
            "Cost iteration 260: 0.26062517557331105        test accuracy: 87.5\n",
            "------------------------------------------------------------------------------------\n",
            "Cost iteration 270: 0.2589470291675327        test accuracy: 87.5\n",
            "------------------------------------------------------------------------------------\n",
            "Cost iteration 280: 0.25736908214266907        test accuracy: 87.5\n",
            "------------------------------------------------------------------------------------\n",
            "Cost iteration 290: 0.2558919109279587        test accuracy: 87.5\n",
            "------------------------------------------------------------------------------------\n",
            "Cost iteration 300: 0.2545044240990325        test accuracy: 87.5\n",
            "------------------------------------------------------------------------------------\n",
            "Cost iteration 310: 0.2532005550594773        test accuracy: 87.5\n",
            "------------------------------------------------------------------------------------\n",
            "Cost iteration 320: 0.25197971961436433        test accuracy: 87.5\n",
            "------------------------------------------------------------------------------------\n",
            "Cost iteration 330: 0.2508309238771679        test accuracy: 87.5\n",
            "------------------------------------------------------------------------------------\n",
            "Cost iteration 340: 0.24974835455612912        test accuracy: 87.5\n",
            "------------------------------------------------------------------------------------\n",
            "Cost iteration 350: 0.24872380184054893        test accuracy: 88.54166666666667\n",
            "------------------------------------------------------------------------------------\n",
            "Cost iteration 360: 0.24774651971729156        test accuracy: 88.54166666666667\n",
            "------------------------------------------------------------------------------------\n",
            "Cost iteration 370: 0.24681523864808236        test accuracy: 88.54166666666667\n",
            "------------------------------------------------------------------------------------\n",
            "Cost iteration 380: 0.245926630521255        test accuracy: 88.54166666666667\n",
            "------------------------------------------------------------------------------------\n",
            "Cost iteration 390: 0.2450866223727189        test accuracy: 89.58333333333334\n",
            "------------------------------------------------------------------------------------\n",
            "Cost iteration 400: 0.24428906147579738        test accuracy: 89.58333333333334\n",
            "------------------------------------------------------------------------------------\n",
            "Cost iteration 410: 0.243530315280431        test accuracy: 89.58333333333334\n",
            "------------------------------------------------------------------------------------\n",
            "Cost iteration 420: 0.24280527453771542        test accuracy: 88.54166666666667\n",
            "------------------------------------------------------------------------------------\n",
            "Cost iteration 430: 0.24211560933111712        test accuracy: 88.54166666666667\n",
            "------------------------------------------------------------------------------------\n",
            "Cost iteration 440: 0.24146393427502277        test accuracy: 88.54166666666667\n",
            "------------------------------------------------------------------------------------\n",
            "Cost iteration 450: 0.24084264884861165        test accuracy: 88.54166666666667\n",
            "------------------------------------------------------------------------------------\n",
            "Cost iteration 460: 0.24025086523358835        test accuracy: 88.54166666666667\n",
            "------------------------------------------------------------------------------------\n",
            "Cost iteration 470: 0.23968618345572593        test accuracy: 88.54166666666667\n",
            "------------------------------------------------------------------------------------\n",
            "Cost iteration 480: 0.2391540564390007        test accuracy: 88.54166666666667\n",
            "------------------------------------------------------------------------------------\n",
            "Cost iteration 490: 0.23864636484044421        test accuracy: 88.54166666666667\n",
            "------------------------------------------------------------------------------------\n",
            "Cost iteration 500: 0.23816302105182963        test accuracy: 88.54166666666667\n",
            "------------------------------------------------------------------------------------\n",
            "Cost iteration 510: 0.23770096275161015        test accuracy: 88.54166666666667\n",
            "------------------------------------------------------------------------------------\n",
            "Cost iteration 520: 0.23725992751465563        test accuracy: 88.54166666666667\n",
            "------------------------------------------------------------------------------------\n",
            "Cost iteration 530: 0.23683619284874985        test accuracy: 88.54166666666667\n",
            "------------------------------------------------------------------------------------\n",
            "Cost iteration 540: 0.23643098300691312        test accuracy: 88.54166666666667\n",
            "------------------------------------------------------------------------------------\n",
            "Cost iteration 550: 0.2360447821445604        test accuracy: 88.54166666666667\n",
            "------------------------------------------------------------------------------------\n",
            "Cost iteration 560: 0.2356708162598752        test accuracy: 88.54166666666667\n",
            "------------------------------------------------------------------------------------\n",
            "Cost iteration 570: 0.23531132126387905        test accuracy: 88.54166666666667\n",
            "------------------------------------------------------------------------------------\n",
            "Cost iteration 580: 0.23496689623338912        test accuracy: 88.54166666666667\n",
            "------------------------------------------------------------------------------------\n",
            "Cost iteration 590: 0.23463496810645437        test accuracy: 88.54166666666667\n",
            "------------------------------------------------------------------------------------\n",
            "Cost iteration 600: 0.23431531893655072        test accuracy: 88.54166666666667\n",
            "------------------------------------------------------------------------------------\n",
            "Cost iteration 610: 0.23400702408198185        test accuracy: 88.54166666666667\n",
            "------------------------------------------------------------------------------------\n",
            "Cost iteration 620: 0.23370621963820654        test accuracy: 88.54166666666667\n",
            "------------------------------------------------------------------------------------\n",
            "Cost iteration 630: 0.23341641471614877        test accuracy: 88.54166666666667\n",
            "------------------------------------------------------------------------------------\n",
            "Cost iteration 640: 0.23313455535126384        test accuracy: 88.54166666666667\n",
            "------------------------------------------------------------------------------------\n",
            "Cost iteration 650: 0.23285989857351214        test accuracy: 88.54166666666667\n",
            "------------------------------------------------------------------------------------\n",
            "Cost iteration 660: 0.23259567699524922        test accuracy: 88.54166666666667\n",
            "------------------------------------------------------------------------------------\n",
            "Cost iteration 670: 0.23233680620998426        test accuracy: 88.54166666666667\n",
            "------------------------------------------------------------------------------------\n",
            "Cost iteration 680: 0.23208395596645615        test accuracy: 88.54166666666667\n",
            "------------------------------------------------------------------------------------\n",
            "Cost iteration 690: 0.2318355665211579        test accuracy: 88.54166666666667\n",
            "------------------------------------------------------------------------------------\n",
            "Cost iteration 700: 0.2315959924358987        test accuracy: 88.54166666666667\n",
            "------------------------------------------------------------------------------------\n",
            "Cost iteration 710: 0.23136322574521923        test accuracy: 88.54166666666667\n",
            "------------------------------------------------------------------------------------\n",
            "Cost iteration 720: 0.23113620294346376        test accuracy: 88.54166666666667\n",
            "------------------------------------------------------------------------------------\n",
            "Cost iteration 730: 0.2309169212241288        test accuracy: 88.54166666666667\n",
            "------------------------------------------------------------------------------------\n",
            "Cost iteration 740: 0.2307067451195075        test accuracy: 88.54166666666667\n",
            "------------------------------------------------------------------------------------\n",
            "Cost iteration 750: 0.23050295451680528        test accuracy: 88.54166666666667\n",
            "------------------------------------------------------------------------------------\n",
            "Cost iteration 760: 0.23030396464239603        test accuracy: 88.54166666666667\n",
            "------------------------------------------------------------------------------------\n",
            "Cost iteration 770: 0.23010816952233717        test accuracy: 88.54166666666667\n",
            "------------------------------------------------------------------------------------\n",
            "Cost iteration 780: 0.22991119229949866        test accuracy: 88.54166666666667\n",
            "------------------------------------------------------------------------------------\n",
            "Cost iteration 790: 0.22971519640710306        test accuracy: 88.54166666666667\n",
            "------------------------------------------------------------------------------------\n",
            "Cost iteration 800: 0.22952353741946874        test accuracy: 88.54166666666667\n",
            "------------------------------------------------------------------------------------\n",
            "Cost iteration 810: 0.22933372106275565        test accuracy: 88.54166666666667\n",
            "------------------------------------------------------------------------------------\n",
            "Cost iteration 820: 0.22914845566935926        test accuracy: 88.54166666666667\n",
            "------------------------------------------------------------------------------------\n",
            "Cost iteration 830: 0.22896701760678245        test accuracy: 88.54166666666667\n",
            "------------------------------------------------------------------------------------\n",
            "Cost iteration 840: 0.2287911035531146        test accuracy: 88.54166666666667\n",
            "------------------------------------------------------------------------------------\n",
            "Cost iteration 850: 0.22861661120585053        test accuracy: 88.54166666666667\n",
            "------------------------------------------------------------------------------------\n",
            "Cost iteration 860: 0.2284462640119708        test accuracy: 88.54166666666667\n",
            "------------------------------------------------------------------------------------\n",
            "Cost iteration 870: 0.2282811389378151        test accuracy: 88.54166666666667\n",
            "------------------------------------------------------------------------------------\n",
            "Cost iteration 880: 0.22812199283113482        test accuracy: 88.54166666666667\n",
            "------------------------------------------------------------------------------------\n",
            "Cost iteration 890: 0.22796363816664345        test accuracy: 88.54166666666667\n",
            "------------------------------------------------------------------------------------\n",
            "Cost iteration 900: 0.2278108824497234        test accuracy: 88.54166666666667\n",
            "------------------------------------------------------------------------------------\n",
            "Cost iteration 910: 0.22766084924867508        test accuracy: 88.54166666666667\n",
            "------------------------------------------------------------------------------------\n",
            "Cost iteration 920: 0.22751272276368129        test accuracy: 88.54166666666667\n",
            "------------------------------------------------------------------------------------\n",
            "Cost iteration 930: 0.2273661618933373        test accuracy: 88.54166666666667\n",
            "------------------------------------------------------------------------------------\n",
            "Cost iteration 940: 0.22722383227569823        test accuracy: 88.54166666666667\n",
            "------------------------------------------------------------------------------------\n",
            "Cost iteration 950: 0.2270836398413274        test accuracy: 88.54166666666667\n",
            "------------------------------------------------------------------------------------\n",
            "Cost iteration 960: 0.22694645118038495        test accuracy: 88.54166666666667\n",
            "------------------------------------------------------------------------------------\n",
            "Cost iteration 970: 0.22680879059177939        test accuracy: 88.54166666666667\n",
            "------------------------------------------------------------------------------------\n",
            "Cost iteration 980: 0.2266726424294193        test accuracy: 88.54166666666667\n",
            "------------------------------------------------------------------------------------\n",
            "Cost iteration 990: 0.2265396869586536        test accuracy: 88.54166666666667\n",
            "------------------------------------------------------------------------------------\n",
            "Cost iteration 1000: 0.22640725602483994        test accuracy: 88.54166666666667\n",
            "------------------------------------------------------------------------------------\n"
          ]
        }
      ],
      "source": [
        "for i in range(len(cost_val_r3)):\n",
        "    print(f\"Cost iteration {i * 10}: {cost_val_r3[i]}        test accuracy: {accur_val_r3[i] * 100}\")\n",
        "    print(\"------------------------------------------------------------------------------------\")"
      ]
    },
    {
      "cell_type": "code",
      "execution_count": null,
      "metadata": {
        "id": "0tln31W1rPqD",
        "colab": {
          "base_uri": "https://localhost:8080/",
          "height": 280
        },
        "outputId": "0a03266c-0f86-492d-90cc-861bd505488a"
      },
      "outputs": [
        {
          "output_type": "display_data",
          "data": {
            "text/plain": [
              "<Figure size 432x288 with 1 Axes>"
            ],
            "image/png": "[encoded data removed]"
          },
          "metadata": {
            "needs_background": "light"
          }
        }
      ],
      "source": [
        "plt.plot(cost_val_r3)\n",
        "plt.ylabel('cost_val')\n",
        "plt.xlabel('Iterations')\n",
        "plt.show()"
      ]
    },
    {
      "cell_type": "code",
      "execution_count": null,
      "metadata": {
        "id": "DvroRBBXrPue",
        "colab": {
          "base_uri": "https://localhost:8080/",
          "height": 279
        },
        "outputId": "93dcd45f-12b0-4205-cbaf-716917bd0f12"
      },
      "outputs": [
        {
          "output_type": "display_data",
          "data": {
            "text/plain": [
              "<Figure size 432x288 with 1 Axes>"
            ],
            "image/png": "[encoded data removed]"
          },
          "metadata": {
            "needs_background": "light"
          }
        }
      ],
      "source": [
        "plt.plot(accur_val_r3)\n",
        "plt.ylabel('Accuracy_val')\n",
        "plt.xlabel('Iterations')\n",
        "plt.show()"
      ]
    },
    {
      "cell_type": "markdown",
      "metadata": {
        "id": "a2FQqlmZrTBl"
      },
      "source": [
        "#**Implementing Model 3-layer zero**"
      ]
    },
    {
      "cell_type": "code",
      "execution_count": null,
      "metadata": {
        "id": "UcNSbNGCrVBH"
      },
      "outputs": [],
      "source": [
        "# 1) Initializing parameters \n",
        "def initialize_parameter_layer_zero(layerlist): #use for 5layer zero too\n",
        "  param = {} # for saving w and b\n",
        "  for i in range(1, len(layerlist)): # 1 because of we do not count inputlayer\n",
        "    param[\"w\" + str(i)] = np.zeros((layerlist[i], layerlist[i - 1])) # n(l), n(l-1)\n",
        "    param[\"b\" + str(i)] = np.zeros((layerlist[i], 1)) # n(l), 1\n",
        "  return param"
      ]
    },
    {
      "cell_type": "code",
      "execution_count": null,
      "metadata": {
        "id": "7eNAOAfYrWQs"
      },
      "outputs": [],
      "source": [
        "def model_3layer_zero(X_train, y_train, X_val, y_val, epoch, learning_rate, print_cost=False):\n",
        "    param = initialize_parameter_layer_zero([X_train.shape[0], 100,  1])\n",
        "    param, cost_train, accur_train, cost_val, accur_val = costomize_nlayer(param , X_train, y_train, epoch, learning_rate, print_cost)\n",
        "    out = {\"cost_train\": cost_train,\"accur_train\": accur_train,  \"param\": param,\"learning_rate\" : learning_rate,\"epoch\": epoch}\n",
        "    return out, cost_val, accur_val"
      ]
    },
    {
      "cell_type": "markdown",
      "metadata": {
        "id": "3e1CnGZRrayY"
      },
      "source": [
        "# ***Training the model 3-layer zero***"
      ]
    },
    {
      "cell_type": "code",
      "execution_count": null,
      "metadata": {
        "id": "mIQkPpUFrcVP",
        "colab": {
          "base_uri": "https://localhost:8080/"
        },
        "outputId": "559cf220-828b-4f37-95ba-17d6ef5afa48"
      },
      "outputs": [
        {
          "output_type": "stream",
          "name": "stdout",
          "text": [
            "Cost iteration 0: 0.6931471805599467        train accuracy: 72.39583333333333\n",
            "------------------------------------------------------------------------------------\n",
            "Cost iteration 10: 0.6882488004441849        train accuracy: 72.39583333333333\n",
            "------------------------------------------------------------------------------------\n",
            "Cost iteration 20: 0.6835895772859752        train accuracy: 72.39583333333333\n",
            "------------------------------------------------------------------------------------\n",
            "Cost iteration 30: 0.6791577573415594        train accuracy: 72.39583333333333\n",
            "------------------------------------------------------------------------------------\n",
            "Cost iteration 40: 0.6749421226199523        train accuracy: 72.39583333333333\n",
            "------------------------------------------------------------------------------------\n",
            "Cost iteration 50: 0.6709319742140873        train accuracy: 72.39583333333333\n",
            "------------------------------------------------------------------------------------\n",
            "Cost iteration 60: 0.6671171149994592        train accuracy: 72.39583333333333\n",
            "------------------------------------------------------------------------------------\n",
            "Cost iteration 70: 0.6634878319049347        train accuracy: 72.39583333333333\n",
            "------------------------------------------------------------------------------------\n",
            "Cost iteration 80: 0.6600348779340649        train accuracy: 72.39583333333333\n",
            "------------------------------------------------------------------------------------\n",
            "Cost iteration 90: 0.6567494540908319        train accuracy: 72.39583333333333\n",
            "------------------------------------------------------------------------------------\n",
            "Cost iteration 100: 0.653623191342058        train accuracy: 72.39583333333333\n",
            "------------------------------------------------------------------------------------\n",
            "Cost iteration 110: 0.650648132728284        train accuracy: 72.39583333333333\n",
            "------------------------------------------------------------------------------------\n",
            "Cost iteration 120: 0.6478167157173367        train accuracy: 72.39583333333333\n",
            "------------------------------------------------------------------------------------\n",
            "Cost iteration 130: 0.645121754878447        train accuracy: 72.39583333333333\n",
            "------------------------------------------------------------------------------------\n",
            "Cost iteration 140: 0.6425564249406588        train accuracy: 72.39583333333333\n",
            "------------------------------------------------------------------------------------\n",
            "Cost iteration 150: 0.640114244286608        train accuracy: 72.39583333333333\n",
            "------------------------------------------------------------------------------------\n",
            "Cost iteration 160: 0.6377890589216392        train accuracy: 72.39583333333333\n",
            "------------------------------------------------------------------------------------\n",
            "Cost iteration 170: 0.6355750269486312        train accuracy: 72.39583333333333\n",
            "------------------------------------------------------------------------------------\n",
            "Cost iteration 180: 0.6334666035704857        train accuracy: 72.39583333333333\n",
            "------------------------------------------------------------------------------------\n",
            "Cost iteration 190: 0.6314585266348347        train accuracy: 72.39583333333333\n",
            "------------------------------------------------------------------------------------\n",
            "Cost iteration 200: 0.6295458027297206        train accuracy: 72.39583333333333\n",
            "------------------------------------------------------------------------------------\n",
            "Cost iteration 210: 0.6277236938332211        train accuracy: 72.39583333333333\n",
            "------------------------------------------------------------------------------------\n",
            "Cost iteration 220: 0.6259877045160145        train accuracy: 72.39583333333333\n",
            "------------------------------------------------------------------------------------\n",
            "Cost iteration 230: 0.6243335696918717        train accuracy: 72.39583333333333\n",
            "------------------------------------------------------------------------------------\n",
            "Cost iteration 240: 0.6227572429081153        train accuracy: 72.39583333333333\n",
            "------------------------------------------------------------------------------------\n",
            "Cost iteration 250: 0.6212548851654764        train accuracy: 72.39583333333333\n",
            "------------------------------------------------------------------------------------\n",
            "Cost iteration 260: 0.61982285425508        train accuracy: 72.39583333333333\n",
            "------------------------------------------------------------------------------------\n",
            "Cost iteration 270: 0.6184576945981544        train accuracy: 72.39583333333333\n",
            "------------------------------------------------------------------------------------\n",
            "Cost iteration 280: 0.6171561275734558        train accuracy: 72.39583333333333\n",
            "------------------------------------------------------------------------------------\n",
            "Cost iteration 290: 0.6159150423160289        train accuracy: 72.39583333333333\n",
            "------------------------------------------------------------------------------------\n",
            "Cost iteration 300: 0.6147314869705771        train accuracy: 72.39583333333333\n",
            "------------------------------------------------------------------------------------\n",
            "Cost iteration 310: 0.6136026603822684        train accuracy: 72.39583333333333\n",
            "------------------------------------------------------------------------------------\n",
            "Cost iteration 320: 0.6125259042074161        train accuracy: 72.39583333333333\n",
            "------------------------------------------------------------------------------------\n",
            "Cost iteration 330: 0.6114986954267604        train accuracy: 72.39583333333333\n",
            "------------------------------------------------------------------------------------\n",
            "Cost iteration 340: 0.6105186392439806        train accuracy: 72.39583333333333\n",
            "------------------------------------------------------------------------------------\n",
            "Cost iteration 350: 0.6095834623522116        train accuracy: 72.39583333333333\n",
            "------------------------------------------------------------------------------------\n",
            "Cost iteration 360: 0.60869100655187        train accuracy: 72.39583333333333\n",
            "------------------------------------------------------------------------------------\n",
            "Cost iteration 370: 0.6078392227032976        train accuracy: 72.39583333333333\n",
            "------------------------------------------------------------------------------------\n",
            "Cost iteration 380: 0.6070261649981767        train accuracy: 72.39583333333333\n",
            "------------------------------------------------------------------------------------\n",
            "Cost iteration 390: 0.606249985534303        train accuracy: 72.39583333333333\n",
            "------------------------------------------------------------------------------------\n",
            "Cost iteration 400: 0.6055089291785726        train accuracy: 72.39583333333333\n",
            "------------------------------------------------------------------------------------\n",
            "Cost iteration 410: 0.6048013287038052        train accuracy: 72.39583333333333\n",
            "------------------------------------------------------------------------------------\n",
            "Cost iteration 420: 0.6041256001854334        train accuracy: 72.39583333333333\n",
            "------------------------------------------------------------------------------------\n",
            "Cost iteration 430: 0.6034802386446703        train accuracy: 72.39583333333333\n",
            "------------------------------------------------------------------------------------\n",
            "Cost iteration 440: 0.6028638139253875        train accuracy: 72.39583333333333\n",
            "------------------------------------------------------------------------------------\n",
            "Cost iteration 450: 0.6022749667924581        train accuracy: 72.39583333333333\n",
            "------------------------------------------------------------------------------------\n",
            "Cost iteration 460: 0.6017124052398011        train accuracy: 72.39583333333333\n",
            "------------------------------------------------------------------------------------\n",
            "Cost iteration 470: 0.60117490099703        train accuracy: 72.39583333333333\n",
            "------------------------------------------------------------------------------------\n",
            "Cost iteration 480: 0.600661286224044        train accuracy: 72.39583333333333\n",
            "------------------------------------------------------------------------------------\n",
            "Cost iteration 490: 0.600170450383535        train accuracy: 72.39583333333333\n",
            "------------------------------------------------------------------------------------\n",
            "Cost iteration 500: 0.5997013372815927        train accuracy: 72.39583333333333\n",
            "------------------------------------------------------------------------------------\n",
            "Cost iteration 510: 0.5992529422675618        train accuracy: 72.39583333333333\n",
            "------------------------------------------------------------------------------------\n",
            "Cost iteration 520: 0.5988243095842352        train accuracy: 72.39583333333333\n",
            "------------------------------------------------------------------------------------\n",
            "Cost iteration 530: 0.598414529860366        train accuracy: 72.39583333333333\n",
            "------------------------------------------------------------------------------------\n",
            "Cost iteration 540: 0.5980227377375499        train accuracy: 72.39583333333333\n",
            "------------------------------------------------------------------------------------\n",
            "Cost iteration 550: 0.5976481096242467        train accuracy: 72.39583333333333\n",
            "------------------------------------------------------------------------------------\n",
            "Cost iteration 560: 0.597289861569881        train accuracy: 72.39583333333333\n",
            "------------------------------------------------------------------------------------\n",
            "Cost iteration 570: 0.5969472472524158        train accuracy: 72.39583333333333\n",
            "------------------------------------------------------------------------------------\n",
            "Cost iteration 580: 0.5966195560732271        train accuracy: 72.39583333333333\n",
            "------------------------------------------------------------------------------------\n",
            "Cost iteration 590: 0.5963061113533131        train accuracy: 72.39583333333333\n",
            "------------------------------------------------------------------------------------\n",
            "Cost iteration 600: 0.5960062686252469        train accuracy: 72.39583333333333\n",
            "------------------------------------------------------------------------------------\n",
            "Cost iteration 610: 0.5957194140156788        train accuracy: 72.39583333333333\n",
            "------------------------------------------------------------------------------------\n",
            "Cost iteration 620: 0.5954449627133145        train accuracy: 72.39583333333333\n",
            "------------------------------------------------------------------------------------\n",
            "Cost iteration 630: 0.5951823575177023        train accuracy: 72.39583333333333\n",
            "------------------------------------------------------------------------------------\n",
            "Cost iteration 640: 0.594931067464465        train accuracy: 72.39583333333333\n",
            "------------------------------------------------------------------------------------\n",
            "Cost iteration 650: 0.5946905865226413        train accuracy: 72.39583333333333\n",
            "------------------------------------------------------------------------------------\n",
            "Cost iteration 660: 0.5944604323602367        train accuracy: 72.39583333333333\n",
            "------------------------------------------------------------------------------------\n",
            "Cost iteration 670: 0.5942401451743415        train accuracy: 72.39583333333333\n",
            "------------------------------------------------------------------------------------\n",
            "Cost iteration 680: 0.5940292865821026        train accuracy: 72.39583333333333\n",
            "------------------------------------------------------------------------------------\n",
            "Cost iteration 690: 0.5938274385694173        train accuracy: 72.39583333333333\n",
            "------------------------------------------------------------------------------------\n",
            "Cost iteration 700: 0.5936342024940469        train accuracy: 72.39583333333333\n",
            "------------------------------------------------------------------------------------\n",
            "Cost iteration 710: 0.5934491981402452        train accuracy: 72.39583333333333\n",
            "------------------------------------------------------------------------------------\n",
            "Cost iteration 720: 0.5932720628221806        train accuracy: 72.39583333333333\n",
            "------------------------------------------------------------------------------------\n",
            "Cost iteration 730: 0.5931024505333716        train accuracy: 72.39583333333333\n",
            "------------------------------------------------------------------------------------\n",
            "Cost iteration 740: 0.5929400311397177        train accuracy: 72.39583333333333\n",
            "------------------------------------------------------------------------------------\n",
            "Cost iteration 750: 0.5927844896137903        train accuracy: 72.39583333333333\n",
            "------------------------------------------------------------------------------------\n",
            "Cost iteration 760: 0.5926355253081532        train accuracy: 72.39583333333333\n",
            "------------------------------------------------------------------------------------\n",
            "Cost iteration 770: 0.5924928512655302        train accuracy: 72.39583333333333\n",
            "------------------------------------------------------------------------------------\n",
            "Cost iteration 780: 0.5923561935639988        train accuracy: 72.39583333333333\n",
            "------------------------------------------------------------------------------------\n",
            "Cost iteration 790: 0.5922252906952253        train accuracy: 72.39583333333333\n",
            "------------------------------------------------------------------------------------\n",
            "Cost iteration 800: 0.5920998929739929        train accuracy: 72.39583333333333\n",
            "------------------------------------------------------------------------------------\n",
            "Cost iteration 810: 0.5919797619773887        train accuracy: 72.39583333333333\n",
            "------------------------------------------------------------------------------------\n",
            "Cost iteration 820: 0.5918646700120922        train accuracy: 72.39583333333333\n",
            "------------------------------------------------------------------------------------\n",
            "Cost iteration 830: 0.591754399608192        train accuracy: 72.39583333333333\n",
            "------------------------------------------------------------------------------------\n",
            "Cost iteration 840: 0.591648743038295        train accuracy: 72.39583333333333\n",
            "------------------------------------------------------------------------------------\n",
            "Cost iteration 850: 0.5915475018603704        train accuracy: 72.39583333333333\n",
            "------------------------------------------------------------------------------------\n",
            "Cost iteration 860: 0.5914504864832961        train accuracy: 72.39583333333333\n",
            "------------------------------------------------------------------------------------\n",
            "Cost iteration 870: 0.5913575157538074        train accuracy: 72.39583333333333\n",
            "------------------------------------------------------------------------------------\n",
            "Cost iteration 880: 0.591268416563768        train accuracy: 72.39583333333333\n",
            "------------------------------------------------------------------------------------\n",
            "Cost iteration 890: 0.5911830234766758        train accuracy: 72.39583333333333\n",
            "------------------------------------------------------------------------------------\n",
            "Cost iteration 900: 0.5911011783724465        train accuracy: 72.39583333333333\n",
            "------------------------------------------------------------------------------------\n",
            "Cost iteration 910: 0.5910227301095098        train accuracy: 72.39583333333333\n",
            "------------------------------------------------------------------------------------\n",
            "Cost iteration 920: 0.5909475342033405        train accuracy: 72.39583333333333\n",
            "------------------------------------------------------------------------------------\n",
            "Cost iteration 930: 0.5908754525205319        train accuracy: 72.39583333333333\n",
            "------------------------------------------------------------------------------------\n",
            "Cost iteration 940: 0.590806352987694        train accuracy: 72.39583333333333\n",
            "------------------------------------------------------------------------------------\n",
            "Cost iteration 950: 0.5907401093143658        train accuracy: 72.39583333333333\n",
            "------------------------------------------------------------------------------------\n",
            "Cost iteration 960: 0.590676600729233        train accuracy: 72.39583333333333\n",
            "------------------------------------------------------------------------------------\n",
            "Cost iteration 970: 0.5906157117289461        train accuracy: 72.39583333333333\n",
            "------------------------------------------------------------------------------------\n",
            "Cost iteration 980: 0.5905573318390668        train accuracy: 72.39583333333333\n",
            "------------------------------------------------------------------------------------\n",
            "Cost iteration 990: 0.5905013553862252        train accuracy: 72.39583333333333\n",
            "------------------------------------------------------------------------------------\n",
            "Cost iteration 1000: 0.5904476812812518        train accuracy: 72.39583333333333\n",
            "------------------------------------------------------------------------------------\n"
          ]
        }
      ],
      "source": [
        "model_output_3layer_zero, cost_val_z3, accur_val_z3  = model_3layer_zero(X_train, y_train, X_val, y_val, epoch=1000, learning_rate= 0.01, print_cost=True)"
      ]
    },
    {
      "cell_type": "code",
      "execution_count": null,
      "metadata": {
        "id": "CbT2fnbErfYV",
        "colab": {
          "base_uri": "https://localhost:8080/"
        },
        "outputId": "1ff6210d-589d-41e1-cfb3-2d96f1a42a82"
      },
      "outputs": [
        {
          "output_type": "stream",
          "name": "stdout",
          "text": [
            "(100, 72)\n",
            "(1, 100)\n",
            "(100, 1)\n",
            "(1, 1)\n"
          ]
        }
      ],
      "source": [
        "print(model_output_3layer_zero[\"param\"][\"w1\"].shape)\n",
        "print(model_output_3layer_zero[\"param\"][\"w2\"].shape)\n",
        "print(model_output_3layer_zero[\"param\"][\"b1\"].shape)\n",
        "print(model_output_3layer_zero[\"param\"][\"b2\"].shape)"
      ]
    },
    {
      "cell_type": "code",
      "execution_count": null,
      "metadata": {
        "id": "6VKrzqZFrfeF",
        "colab": {
          "base_uri": "https://localhost:8080/",
          "height": 279
        },
        "outputId": "c4629fdd-41d6-4e94-cd92-201bc7c254bc"
      },
      "outputs": [
        {
          "output_type": "display_data",
          "data": {
            "text/plain": [
              "<Figure size 432x288 with 1 Axes>"
            ],
            "image/png": "[encoded data removed]"
          },
          "metadata": {
            "needs_background": "light"
          }
        }
      ],
      "source": [
        "plt.plot(model_output_3layer_zero['cost_train'])\n",
        "plt.ylabel('cost_train')\n",
        "plt.xlabel('Iterations')\n",
        "plt.show()"
      ]
    },
    {
      "cell_type": "code",
      "execution_count": null,
      "metadata": {
        "id": "FJxs6K8_rfiz",
        "colab": {
          "base_uri": "https://localhost:8080/",
          "height": 279
        },
        "outputId": "2d49e037-7cae-4d17-de28-4cc3bab2f883"
      },
      "outputs": [
        {
          "output_type": "display_data",
          "data": {
            "text/plain": [
              "<Figure size 432x288 with 1 Axes>"
            ],
            "image/png": "[encoded data removed]"
          },
          "metadata": {
            "needs_background": "light"
          }
        }
      ],
      "source": [
        "plt.plot(np.squeeze(model_output_3layer_zero['accur_train']))\n",
        "plt.ylabel('Accuracy_train')\n",
        "plt.xlabel('Iterations')\n",
        "plt.show()"
      ]
    },
    {
      "cell_type": "markdown",
      "metadata": {
        "id": "hcQJgS3nrlW4"
      },
      "source": [
        "#***Evaluating the model 3-layer zero***"
      ]
    },
    {
      "cell_type": "code",
      "execution_count": null,
      "metadata": {
        "id": "7KnP3fCcrlqZ",
        "colab": {
          "base_uri": "https://localhost:8080/"
        },
        "outputId": "efa8ff56-6839-4bc1-d6ff-bd8f459ae024"
      },
      "outputs": [
        {
          "output_type": "stream",
          "name": "stdout",
          "text": [
            "Cost after iteration 0: 0.6925179247140014        test accuracy: 78.125\n",
            "------------------------------------------------------------------------------------\n",
            "Cost after iteration 10: 0.6863784206928282        test accuracy: 78.125\n",
            "------------------------------------------------------------------------------------\n",
            "Cost after iteration 20: 0.6805081549526878        test accuracy: 78.125\n",
            "------------------------------------------------------------------------------------\n",
            "Cost after iteration 30: 0.6748946438689425        test accuracy: 78.125\n",
            "------------------------------------------------------------------------------------\n",
            "Cost after iteration 40: 0.6695259515469411        test accuracy: 78.125\n",
            "------------------------------------------------------------------------------------\n",
            "Cost after iteration 50: 0.6643906736699502        test accuracy: 78.125\n",
            "------------------------------------------------------------------------------------\n",
            "Cost after iteration 60: 0.6594779206272907        test accuracy: 78.125\n",
            "------------------------------------------------------------------------------------\n",
            "Cost after iteration 70: 0.6547773001344461        test accuracy: 78.125\n",
            "------------------------------------------------------------------------------------\n",
            "Cost after iteration 80: 0.650278899530155        test accuracy: 78.125\n",
            "------------------------------------------------------------------------------------\n",
            "Cost after iteration 90: 0.6459732679111039        test accuracy: 78.125\n",
            "------------------------------------------------------------------------------------\n",
            "Cost after iteration 100: 0.6418513982422744        test accuracy: 78.125\n",
            "------------------------------------------------------------------------------------\n",
            "Cost after iteration 110: 0.6379047095608659        test accuracy: 78.125\n",
            "------------------------------------------------------------------------------------\n",
            "Cost after iteration 120: 0.6341250293732034        test accuracy: 78.125\n",
            "------------------------------------------------------------------------------------\n",
            "Cost after iteration 130: 0.6305045763277478        test accuracy: 78.125\n",
            "------------------------------------------------------------------------------------\n",
            "Cost after iteration 140: 0.6270359432326473        test accuracy: 78.125\n",
            "------------------------------------------------------------------------------------\n",
            "Cost after iteration 150: 0.6237120804733469        test accuracy: 78.125\n",
            "------------------------------------------------------------------------------------\n",
            "Cost after iteration 160: 0.6205262798742976        test accuracy: 78.125\n",
            "------------------------------------------------------------------------------------\n",
            "Cost after iteration 170: 0.6174721590389631        test accuracy: 78.125\n",
            "------------------------------------------------------------------------------------\n",
            "Cost after iteration 180: 0.614543646193436        test accuracy: 78.125\n",
            "------------------------------------------------------------------------------------\n",
            "Cost after iteration 190: 0.6117349655516292        test accuracy: 78.125\n",
            "------------------------------------------------------------------------------------\n",
            "Cost after iteration 200: 0.6090406232134251        test accuracy: 78.125\n",
            "------------------------------------------------------------------------------------\n",
            "Cost after iteration 210: 0.6064553936016981        test accuracy: 78.125\n",
            "------------------------------------------------------------------------------------\n",
            "Cost after iteration 220: 0.603974306439395        test accuracy: 78.125\n",
            "------------------------------------------------------------------------------------\n",
            "Cost after iteration 230: 0.6015926342639839        test accuracy: 78.125\n",
            "------------------------------------------------------------------------------------\n",
            "Cost after iteration 240: 0.5993058804732185        test accuracy: 78.125\n",
            "------------------------------------------------------------------------------------\n",
            "Cost after iteration 250: 0.5971097678935724        test accuracy: 78.125\n",
            "------------------------------------------------------------------------------------\n",
            "Cost after iteration 260: 0.5950002278603943        test accuracy: 78.125\n",
            "------------------------------------------------------------------------------------\n",
            "Cost after iteration 270: 0.5929733897971693        test accuracy: 78.125\n",
            "------------------------------------------------------------------------------------\n",
            "Cost after iteration 280: 0.5910255712798695        test accuracy: 78.125\n",
            "------------------------------------------------------------------------------------\n",
            "Cost after iteration 290: 0.5891532685713147        test accuracy: 78.125\n",
            "------------------------------------------------------------------------------------\n",
            "Cost after iteration 300: 0.5873531476098002        test accuracy: 78.125\n",
            "------------------------------------------------------------------------------------\n",
            "Cost after iteration 310: 0.58562203543559        test accuracy: 78.125\n",
            "------------------------------------------------------------------------------------\n",
            "Cost after iteration 320: 0.5839569120387392        test accuracy: 78.125\n",
            "------------------------------------------------------------------------------------\n",
            "Cost after iteration 330: 0.582354902611437        test accuracy: 78.125\n",
            "------------------------------------------------------------------------------------\n",
            "Cost after iteration 340: 0.5808132701881337        test accuracy: 78.125\n",
            "------------------------------------------------------------------------------------\n",
            "Cost after iteration 350: 0.5793294086568757        test accuracy: 78.125\n",
            "------------------------------------------------------------------------------------\n",
            "Cost after iteration 360: 0.5779008361254272        test accuracy: 78.125\n",
            "------------------------------------------------------------------------------------\n",
            "Cost after iteration 370: 0.5765251886261551        test accuracy: 78.125\n",
            "------------------------------------------------------------------------------------\n",
            "Cost after iteration 380: 0.5752002141439463        test accuracy: 78.125\n",
            "------------------------------------------------------------------------------------\n",
            "Cost after iteration 390: 0.5739237669519375        test accuracy: 78.125\n",
            "------------------------------------------------------------------------------------\n",
            "Cost after iteration 400: 0.5726938022402233        test accuracy: 78.125\n",
            "------------------------------------------------------------------------------------\n",
            "Cost after iteration 410: 0.5715083710232476        test accuracy: 78.125\n",
            "------------------------------------------------------------------------------------\n",
            "Cost after iteration 420: 0.5703656153121037        test accuracy: 78.125\n",
            "------------------------------------------------------------------------------------\n",
            "Cost after iteration 430: 0.569263763538442        test accuracy: 78.125\n",
            "------------------------------------------------------------------------------------\n",
            "Cost after iteration 440: 0.5682011262172622        test accuracy: 78.125\n",
            "------------------------------------------------------------------------------------\n",
            "Cost after iteration 450: 0.5671760918363773        test accuracy: 78.125\n",
            "------------------------------------------------------------------------------------\n",
            "Cost after iteration 460: 0.5661871229608819        test accuracy: 78.125\n",
            "------------------------------------------------------------------------------------\n",
            "Cost after iteration 470: 0.5652327525414519        test accuracy: 78.125\n",
            "------------------------------------------------------------------------------------\n",
            "Cost after iteration 480: 0.5643115804158089        test accuracy: 78.125\n",
            "------------------------------------------------------------------------------------\n",
            "Cost after iteration 490: 0.5634222699932664        test accuracy: 78.125\n",
            "------------------------------------------------------------------------------------\n",
            "Cost after iteration 500: 0.5625635451126222        test accuracy: 78.125\n",
            "------------------------------------------------------------------------------------\n",
            "Cost after iteration 510: 0.5617341870642676        test accuracy: 78.125\n",
            "------------------------------------------------------------------------------------\n",
            "Cost after iteration 520: 0.5609330317677328        test accuracy: 78.125\n",
            "------------------------------------------------------------------------------------\n",
            "Cost after iteration 530: 0.5601589670964301        test accuracy: 78.125\n",
            "------------------------------------------------------------------------------------\n",
            "Cost after iteration 540: 0.5594109303416841        test accuracy: 78.125\n",
            "------------------------------------------------------------------------------------\n",
            "Cost after iteration 550: 0.5586879058085923        test accuracy: 78.125\n",
            "------------------------------------------------------------------------------------\n",
            "Cost after iteration 560: 0.5579889225366673        test accuracy: 78.125\n",
            "------------------------------------------------------------------------------------\n",
            "Cost after iteration 570: 0.557313052138527        test accuracy: 78.125\n",
            "------------------------------------------------------------------------------------\n",
            "Cost after iteration 580: 0.556659406750314        test accuracy: 78.125\n",
            "------------------------------------------------------------------------------------\n",
            "Cost after iteration 590: 0.5560271370877977        test accuracy: 78.125\n",
            "------------------------------------------------------------------------------------\n",
            "Cost after iteration 600: 0.5554154306025197        test accuracy: 78.125\n",
            "------------------------------------------------------------------------------------\n",
            "Cost after iteration 610: 0.5548235097325627        test accuracy: 78.125\n",
            "------------------------------------------------------------------------------------\n",
            "Cost after iteration 620: 0.5542506302428778        test accuracy: 78.125\n",
            "------------------------------------------------------------------------------------\n",
            "Cost after iteration 630: 0.5536960796503387        test accuracy: 78.125\n",
            "------------------------------------------------------------------------------------\n",
            "Cost after iteration 640: 0.5531591757290019        test accuracy: 78.125\n",
            "------------------------------------------------------------------------------------\n",
            "Cost after iteration 650: 0.5526392650912342        test accuracy: 78.125\n",
            "------------------------------------------------------------------------------------\n",
            "Cost after iteration 660: 0.5521357218406757        test accuracy: 78.125\n",
            "------------------------------------------------------------------------------------\n",
            "Cost after iteration 670: 0.5516479462931723        test accuracy: 78.125\n",
            "------------------------------------------------------------------------------------\n",
            "Cost after iteration 680: 0.551175363762073        test accuracy: 78.125\n",
            "------------------------------------------------------------------------------------\n",
            "Cost after iteration 690: 0.5507174234044252        test accuracy: 78.125\n",
            "------------------------------------------------------------------------------------\n",
            "Cost after iteration 700: 0.5502735971248645        test accuracy: 78.125\n",
            "------------------------------------------------------------------------------------\n",
            "Cost after iteration 710: 0.5498433785341134        test accuracy: 78.125\n",
            "------------------------------------------------------------------------------------\n",
            "Cost after iteration 720: 0.5494262819591865        test accuracy: 78.125\n",
            "------------------------------------------------------------------------------------\n",
            "Cost after iteration 730: 0.549021841502604        test accuracy: 78.125\n",
            "------------------------------------------------------------------------------------\n",
            "Cost after iteration 740: 0.5486296101479875        test accuracy: 78.125\n",
            "------------------------------------------------------------------------------------\n",
            "Cost after iteration 750: 0.5482491589096244        test accuracy: 78.125\n",
            "------------------------------------------------------------------------------------\n",
            "Cost after iteration 760: 0.5478800760236882        test accuracy: 78.125\n",
            "------------------------------------------------------------------------------------\n",
            "Cost after iteration 770: 0.5475219661789127        test accuracy: 78.125\n",
            "------------------------------------------------------------------------------------\n",
            "Cost after iteration 780: 0.5471744497847072        test accuracy: 78.125\n",
            "------------------------------------------------------------------------------------\n",
            "Cost after iteration 790: 0.5468371622747157        test accuracy: 78.125\n",
            "------------------------------------------------------------------------------------\n",
            "Cost after iteration 800: 0.5465097534439997        test accuracy: 78.125\n",
            "------------------------------------------------------------------------------------\n",
            "Cost after iteration 810: 0.5461918868181157        test accuracy: 78.125\n",
            "------------------------------------------------------------------------------------\n",
            "Cost after iteration 820: 0.5458832390524213        test accuracy: 78.125\n",
            "------------------------------------------------------------------------------------\n",
            "Cost after iteration 830: 0.5455834993600727        test accuracy: 78.125\n",
            "------------------------------------------------------------------------------------\n",
            "Cost after iteration 840: 0.5452923689672283        test accuracy: 78.125\n",
            "------------------------------------------------------------------------------------\n",
            "Cost after iteration 850: 0.5450095605940741        test accuracy: 78.125\n",
            "------------------------------------------------------------------------------------\n",
            "Cost after iteration 860: 0.5447347979603505        test accuracy: 78.125\n",
            "------------------------------------------------------------------------------------\n",
            "Cost after iteration 870: 0.5444678153141568        test accuracy: 78.125\n",
            "------------------------------------------------------------------------------------\n",
            "Cost after iteration 880: 0.5442083569828164        test accuracy: 78.125\n",
            "------------------------------------------------------------------------------------\n",
            "Cost after iteration 890: 0.5439561769447179        test accuracy: 78.125\n",
            "------------------------------------------------------------------------------------\n",
            "Cost after iteration 900: 0.5437110384210859        test accuracy: 78.125\n",
            "------------------------------------------------------------------------------------\n",
            "Cost after iteration 910: 0.5434727134866404        test accuracy: 78.125\n",
            "------------------------------------------------------------------------------------\n",
            "Cost after iteration 920: 0.5432409826982499        test accuracy: 78.125\n",
            "------------------------------------------------------------------------------------\n",
            "Cost after iteration 930: 0.5430156347406518        test accuracy: 78.125\n",
            "------------------------------------------------------------------------------------\n",
            "Cost after iteration 940: 0.5427964660883964        test accuracy: 78.125\n",
            "------------------------------------------------------------------------------------\n",
            "Cost after iteration 950: 0.5425832806832359        test accuracy: 78.125\n",
            "------------------------------------------------------------------------------------\n",
            "Cost after iteration 960: 0.542375889626154        test accuracy: 78.125\n",
            "------------------------------------------------------------------------------------\n",
            "Cost after iteration 970: 0.5421741108833672        test accuracy: 78.125\n",
            "------------------------------------------------------------------------------------\n",
            "Cost after iteration 980: 0.541977769005568        test accuracy: 78.125\n",
            "------------------------------------------------------------------------------------\n",
            "Cost after iteration 990: 0.5417866948598093        test accuracy: 78.125\n",
            "------------------------------------------------------------------------------------\n",
            "Cost after iteration 1000: 0.5416007253733734        test accuracy: 78.125\n",
            "------------------------------------------------------------------------------------\n"
          ]
        }
      ],
      "source": [
        "for i in range(len(cost_val_z3)):\n",
        "    print(f\"Cost after iteration {i * 10}: {cost_val_z3[i]}        test accuracy: {accur_val_z3[i] * 100}\")\n",
        "    print(\"------------------------------------------------------------------------------------\")"
      ]
    },
    {
      "cell_type": "code",
      "execution_count": null,
      "metadata": {
        "id": "TPDQjIJHrnQI",
        "colab": {
          "base_uri": "https://localhost:8080/",
          "height": 283
        },
        "outputId": "6f83e6f7-8693-4eb0-ba4f-52585e85ca21"
      },
      "outputs": [
        {
          "output_type": "display_data",
          "data": {
            "text/plain": [
              "<Figure size 432x288 with 1 Axes>"
            ],
            "image/png": "[encoded data removed]"
          },
          "metadata": {
            "needs_background": "light"
          }
        }
      ],
      "source": [
        "plt.plot(cost_val_z3)\n",
        "plt.ylabel('cost_val')\n",
        "plt.xlabel('Iterations')\n",
        "plt.show()"
      ]
    },
    {
      "cell_type": "code",
      "execution_count": null,
      "metadata": {
        "id": "UtFopCiWroaW",
        "colab": {
          "base_uri": "https://localhost:8080/",
          "height": 279
        },
        "outputId": "69b18972-82a5-4cbd-ccdb-33319ffaa3a3"
      },
      "outputs": [
        {
          "output_type": "display_data",
          "data": {
            "text/plain": [
              "<Figure size 432x288 with 1 Axes>"
            ],
            "image/png": "[encoded data removed]"
          },
          "metadata": {
            "needs_background": "light"
          }
        }
      ],
      "source": [
        "plt.plot(accur_val_z3)\n",
        "plt.ylabel('Accuracy_val')\n",
        "plt.xlabel('Iterations')\n",
        "plt.show()"
      ]
    },
    {
      "cell_type": "markdown",
      "metadata": {
        "id": "NpcpdZcIrpq6"
      },
      "source": [
        "#**Implementing Model For 5-layer Random**"
      ]
    },
    {
      "cell_type": "code",
      "execution_count": null,
      "metadata": {
        "id": "pMNxhlxLrrUG"
      },
      "outputs": [],
      "source": [
        "def model_5layer_Random(X_train, y_train, X_val, y_val, epoch, learning_rate, print_cost=False):\n",
        "    param = initialize_parameter_layer_Random([X_train.shape[0], 50, 32, 16,  1])\n",
        "    param, cost_train, accur_train, cost_val, accur_val = costomize_nlayer(param , X_train, y_train, epoch, learning_rate, print_cost)\n",
        "    out = {\"cost_train\": cost_train,\"accur_train\": accur_train,  \"param\": param,\"learning_rate\" : learning_rate,\"epoch\": epoch}\n",
        "    return out, cost_val, accur_val"
      ]
    },
    {
      "cell_type": "markdown",
      "metadata": {
        "id": "1yQ5FUg3rxMo"
      },
      "source": [
        "#***Training the model 5-layer Random***"
      ]
    },
    {
      "cell_type": "code",
      "execution_count": null,
      "metadata": {
        "id": "QX3H3T_XrxmI",
        "colab": {
          "base_uri": "https://localhost:8080/"
        },
        "outputId": "5ab08d26-dd03-4609-922b-8670f9523ad5"
      },
      "outputs": [
        {
          "output_type": "stream",
          "name": "stdout",
          "text": [
            "Cost iteration 0: 0.6792274830124068        train accuracy: 72.39583333333333\n",
            "------------------------------------------------------------------------------------\n",
            "Cost iteration 10: 0.6275816407820076        train accuracy: 72.39583333333333\n",
            "------------------------------------------------------------------------------------\n",
            "Cost iteration 20: 0.5950706961193937        train accuracy: 72.39583333333333\n",
            "------------------------------------------------------------------------------------\n",
            "Cost iteration 30: 0.5723765747829869        train accuracy: 72.39583333333333\n",
            "------------------------------------------------------------------------------------\n",
            "Cost iteration 40: 0.5554197095060253        train accuracy: 72.39583333333333\n",
            "------------------------------------------------------------------------------------\n",
            "Cost iteration 50: 0.5418856756122465        train accuracy: 72.39583333333333\n",
            "------------------------------------------------------------------------------------\n",
            "Cost iteration 60: 0.5299984060670516        train accuracy: 72.39583333333333\n",
            "------------------------------------------------------------------------------------\n",
            "Cost iteration 70: 0.5190366032880902        train accuracy: 72.39583333333333\n",
            "------------------------------------------------------------------------------------\n",
            "Cost iteration 80: 0.5087750038160491        train accuracy: 72.39583333333333\n",
            "------------------------------------------------------------------------------------\n",
            "Cost iteration 90: 0.4992907529651922        train accuracy: 72.91666666666667\n",
            "------------------------------------------------------------------------------------\n",
            "Cost iteration 100: 0.4902223506114994        train accuracy: 73.4375\n",
            "------------------------------------------------------------------------------------\n",
            "Cost iteration 110: 0.4815744330701591        train accuracy: 73.95833333333333\n",
            "------------------------------------------------------------------------------------\n",
            "Cost iteration 120: 0.4731930838611893        train accuracy: 74.21875\n",
            "------------------------------------------------------------------------------------\n",
            "Cost iteration 130: 0.4651170188700502        train accuracy: 75.0\n",
            "------------------------------------------------------------------------------------\n",
            "Cost iteration 140: 0.45726958046927624        train accuracy: 75.0\n",
            "------------------------------------------------------------------------------------\n",
            "Cost iteration 150: 0.44966162669694487        train accuracy: 76.30208333333334\n",
            "------------------------------------------------------------------------------------\n",
            "Cost iteration 160: 0.4422962785594356        train accuracy: 76.5625\n",
            "------------------------------------------------------------------------------------\n",
            "Cost iteration 170: 0.43515280644647564        train accuracy: 76.5625\n",
            "------------------------------------------------------------------------------------\n",
            "Cost iteration 180: 0.4280663659631168        train accuracy: 76.30208333333333\n",
            "------------------------------------------------------------------------------------\n",
            "Cost iteration 190: 0.42085228037321226        train accuracy: 77.08333333333334\n",
            "------------------------------------------------------------------------------------\n",
            "Cost iteration 200: 0.4136278506449478        train accuracy: 79.16666666666667\n",
            "------------------------------------------------------------------------------------\n",
            "Cost iteration 210: 0.406472603235885        train accuracy: 79.42708333333333\n",
            "------------------------------------------------------------------------------------\n",
            "Cost iteration 220: 0.3993747124427225        train accuracy: 79.42708333333334\n",
            "------------------------------------------------------------------------------------\n",
            "Cost iteration 230: 0.3922430215762905        train accuracy: 79.94791666666667\n",
            "------------------------------------------------------------------------------------\n",
            "Cost iteration 240: 0.38526707745292343        train accuracy: 80.20833333333334\n",
            "------------------------------------------------------------------------------------\n",
            "Cost iteration 250: 0.378373607411243        train accuracy: 80.98958333333333\n",
            "------------------------------------------------------------------------------------\n",
            "Cost iteration 260: 0.37101169134504614        train accuracy: 81.51041666666666\n",
            "------------------------------------------------------------------------------------\n",
            "Cost iteration 270: 0.3635718179566994        train accuracy: 82.03125\n",
            "------------------------------------------------------------------------------------\n",
            "Cost iteration 280: 0.356339872317439        train accuracy: 82.29166666666667\n",
            "------------------------------------------------------------------------------------\n",
            "Cost iteration 290: 0.34948005178627817        train accuracy: 82.55208333333334\n",
            "------------------------------------------------------------------------------------\n",
            "Cost iteration 300: 0.3428989972510357        train accuracy: 83.07291666666667\n",
            "------------------------------------------------------------------------------------\n",
            "Cost iteration 310: 0.3364174951320936        train accuracy: 83.07291666666667\n",
            "------------------------------------------------------------------------------------\n",
            "Cost iteration 320: 0.3301744035263295        train accuracy: 83.33333333333334\n",
            "------------------------------------------------------------------------------------\n",
            "Cost iteration 330: 0.32427256643506897        train accuracy: 84.11458333333334\n",
            "------------------------------------------------------------------------------------\n",
            "Cost iteration 340: 0.3183395287499463        train accuracy: 83.85416666666667\n",
            "------------------------------------------------------------------------------------\n",
            "Cost iteration 350: 0.3122632838788877        train accuracy: 84.89583333333334\n",
            "------------------------------------------------------------------------------------\n",
            "Cost iteration 360: 0.3062931964512594        train accuracy: 85.67708333333334\n",
            "------------------------------------------------------------------------------------\n",
            "Cost iteration 370: 0.30046166205074076        train accuracy: 85.9375\n",
            "------------------------------------------------------------------------------------\n",
            "Cost iteration 380: 0.29458683086039394        train accuracy: 86.71875\n",
            "------------------------------------------------------------------------------------\n",
            "Cost iteration 390: 0.2890106359527559        train accuracy: 87.23958333333334\n",
            "------------------------------------------------------------------------------------\n",
            "Cost iteration 400: 0.28361845703333594        train accuracy: 88.02083333333334\n",
            "------------------------------------------------------------------------------------\n",
            "Cost iteration 410: 0.2784753421778315        train accuracy: 88.28125\n",
            "------------------------------------------------------------------------------------\n",
            "Cost iteration 420: 0.27341246932326435        train accuracy: 88.80208333333334\n",
            "------------------------------------------------------------------------------------\n",
            "Cost iteration 430: 0.26852101952602603        train accuracy: 89.0625\n",
            "------------------------------------------------------------------------------------\n",
            "Cost iteration 440: 0.2635057853164231        train accuracy: 89.0625\n",
            "------------------------------------------------------------------------------------\n",
            "Cost iteration 450: 0.2584924629615101        train accuracy: 89.84375\n",
            "------------------------------------------------------------------------------------\n",
            "Cost iteration 460: 0.25357429615519406        train accuracy: 90.36458333333334\n",
            "------------------------------------------------------------------------------------\n",
            "Cost iteration 470: 0.24875839759424517        train accuracy: 90.36458333333334\n",
            "------------------------------------------------------------------------------------\n",
            "Cost iteration 480: 0.24401114173670607        train accuracy: 90.88541666666667\n",
            "------------------------------------------------------------------------------------\n",
            "Cost iteration 490: 0.23903275234378796        train accuracy: 91.14583333333334\n",
            "------------------------------------------------------------------------------------\n",
            "Cost iteration 500: 0.23420496669909252        train accuracy: 91.14583333333334\n",
            "------------------------------------------------------------------------------------\n",
            "Cost iteration 510: 0.22959161931915598        train accuracy: 91.14583333333334\n",
            "------------------------------------------------------------------------------------\n",
            "Cost iteration 520: 0.2251992980877886        train accuracy: 91.40625\n",
            "------------------------------------------------------------------------------------\n",
            "Cost iteration 530: 0.2209994291562533        train accuracy: 91.40625\n",
            "------------------------------------------------------------------------------------\n",
            "Cost iteration 540: 0.21700702082868223        train accuracy: 91.66666666666667\n",
            "------------------------------------------------------------------------------------\n",
            "Cost iteration 550: 0.21315048719422702        train accuracy: 91.66666666666667\n",
            "------------------------------------------------------------------------------------\n",
            "Cost iteration 560: 0.2092897083028689        train accuracy: 91.92708333333334\n",
            "------------------------------------------------------------------------------------\n",
            "Cost iteration 570: 0.20550368207602232        train accuracy: 92.44791666666667\n",
            "------------------------------------------------------------------------------------\n",
            "Cost iteration 580: 0.20185299959601466        train accuracy: 92.44791666666667\n",
            "------------------------------------------------------------------------------------\n",
            "Cost iteration 590: 0.19833191972120895        train accuracy: 92.70833333333334\n",
            "------------------------------------------------------------------------------------\n",
            "Cost iteration 600: 0.1949020394929974        train accuracy: 92.70833333333334\n",
            "------------------------------------------------------------------------------------\n",
            "Cost iteration 610: 0.19160481974031718        train accuracy: 92.70833333333334\n",
            "------------------------------------------------------------------------------------\n",
            "Cost iteration 620: 0.18844741018661426        train accuracy: 92.70833333333334\n",
            "------------------------------------------------------------------------------------\n",
            "Cost iteration 630: 0.18537186206799317        train accuracy: 92.96875\n",
            "------------------------------------------------------------------------------------\n",
            "Cost iteration 640: 0.18250268017790175        train accuracy: 93.22916666666667\n",
            "------------------------------------------------------------------------------------\n",
            "Cost iteration 650: 0.1796876367847743        train accuracy: 93.22916666666667\n",
            "------------------------------------------------------------------------------------\n",
            "Cost iteration 660: 0.17692032189437046        train accuracy: 93.48958333333334\n",
            "------------------------------------------------------------------------------------\n",
            "Cost iteration 670: 0.17425840669727483        train accuracy: 93.75\n",
            "------------------------------------------------------------------------------------\n",
            "Cost iteration 680: 0.17167898912767326        train accuracy: 94.01041666666667\n",
            "------------------------------------------------------------------------------------\n",
            "Cost iteration 690: 0.16913117296255667        train accuracy: 94.27083333333334\n",
            "------------------------------------------------------------------------------------\n",
            "Cost iteration 700: 0.1666592928908927        train accuracy: 94.27083333333334\n",
            "------------------------------------------------------------------------------------\n",
            "Cost iteration 710: 0.1642560118804873        train accuracy: 94.27083333333334\n",
            "------------------------------------------------------------------------------------\n",
            "Cost iteration 720: 0.16194342593851652        train accuracy: 94.53125\n",
            "------------------------------------------------------------------------------------\n",
            "Cost iteration 730: 0.15970563576059932        train accuracy: 94.53125\n",
            "------------------------------------------------------------------------------------\n",
            "Cost iteration 740: 0.15752769548423137        train accuracy: 94.53125\n",
            "------------------------------------------------------------------------------------\n",
            "Cost iteration 750: 0.15542048445171983        train accuracy: 94.79166666666667\n",
            "------------------------------------------------------------------------------------\n",
            "Cost iteration 760: 0.15338157394199298        train accuracy: 94.79166666666667\n",
            "------------------------------------------------------------------------------------\n",
            "Cost iteration 770: 0.1513966727944017        train accuracy: 94.79166666666667\n",
            "------------------------------------------------------------------------------------\n",
            "Cost iteration 780: 0.14944806746845796        train accuracy: 94.79166666666667\n",
            "------------------------------------------------------------------------------------\n",
            "Cost iteration 790: 0.14752713496805284        train accuracy: 94.79166666666667\n",
            "------------------------------------------------------------------------------------\n",
            "Cost iteration 800: 0.1455740056918693        train accuracy: 94.79166666666667\n",
            "------------------------------------------------------------------------------------\n",
            "Cost iteration 810: 0.14362826228956513        train accuracy: 94.79166666666667\n",
            "------------------------------------------------------------------------------------\n",
            "Cost iteration 820: 0.14173262913082052        train accuracy: 95.3125\n",
            "------------------------------------------------------------------------------------\n",
            "Cost iteration 830: 0.13988483556934045        train accuracy: 95.3125\n",
            "------------------------------------------------------------------------------------\n",
            "Cost iteration 840: 0.13804421840357897        train accuracy: 95.3125\n",
            "------------------------------------------------------------------------------------\n",
            "Cost iteration 850: 0.13608957659055831        train accuracy: 95.57291666666667\n",
            "------------------------------------------------------------------------------------\n",
            "Cost iteration 860: 0.1341902844441375        train accuracy: 95.83333333333334\n",
            "------------------------------------------------------------------------------------\n",
            "Cost iteration 870: 0.1323574859938844        train accuracy: 96.09375\n",
            "------------------------------------------------------------------------------------\n",
            "Cost iteration 880: 0.13057935780767038        train accuracy: 96.09375\n",
            "------------------------------------------------------------------------------------\n",
            "Cost iteration 890: 0.12884590982091243        train accuracy: 96.09375\n",
            "------------------------------------------------------------------------------------\n",
            "Cost iteration 900: 0.12716635313664812        train accuracy: 96.09375\n",
            "------------------------------------------------------------------------------------\n",
            "Cost iteration 910: 0.12550465984159548        train accuracy: 96.09375\n",
            "------------------------------------------------------------------------------------\n",
            "Cost iteration 920: 0.12386885566567575        train accuracy: 96.09375\n",
            "------------------------------------------------------------------------------------\n",
            "Cost iteration 930: 0.12227579085227921        train accuracy: 96.09375\n",
            "------------------------------------------------------------------------------------\n",
            "Cost iteration 940: 0.12072267078804455        train accuracy: 96.09375\n",
            "------------------------------------------------------------------------------------\n",
            "Cost iteration 950: 0.119201832046139        train accuracy: 96.35416666666667\n",
            "------------------------------------------------------------------------------------\n",
            "Cost iteration 960: 0.11772019496252564        train accuracy: 96.35416666666667\n",
            "------------------------------------------------------------------------------------\n",
            "Cost iteration 970: 0.11628214790951043        train accuracy: 96.35416666666667\n",
            "------------------------------------------------------------------------------------\n",
            "Cost iteration 980: 0.11487258254875779        train accuracy: 96.61458333333334\n",
            "------------------------------------------------------------------------------------\n",
            "Cost iteration 990: 0.11345739403569441        train accuracy: 96.61458333333334\n",
            "------------------------------------------------------------------------------------\n",
            "Cost iteration 1000: 0.11206486151584519        train accuracy: 96.61458333333334\n",
            "------------------------------------------------------------------------------------\n"
          ]
        }
      ],
      "source": [
        "model_output_5layer_Random, cost_val_r5, accur_val_r5 = model_5layer_Random(X_train, y_train, X_val, y_val, epoch=1000, learning_rate= 0.01, print_cost=True)"
      ]
    },
    {
      "cell_type": "code",
      "execution_count": null,
      "metadata": {
        "id": "HhPbAiJrrzXF",
        "colab": {
          "base_uri": "https://localhost:8080/",
          "height": 281
        },
        "outputId": "bcf4cfa8-2e03-4e09-82ac-82ae358e68ff"
      },
      "outputs": [
        {
          "output_type": "display_data",
          "data": {
            "text/plain": [
              "<Figure size 432x288 with 1 Axes>"
            ],
            "image/png": "[encoded data removed]"
          },
          "metadata": {
            "needs_background": "light"
          }
        }
      ],
      "source": [
        "plt.plot(model_output_5layer_Random['cost_train'])\n",
        "plt.ylabel('cost_train')\n",
        "plt.xlabel('Iterations')\n",
        "plt.show()"
      ]
    },
    {
      "cell_type": "code",
      "execution_count": null,
      "metadata": {
        "id": "uWuOL7ONrzfN",
        "colab": {
          "base_uri": "https://localhost:8080/",
          "height": 279
        },
        "outputId": "7d86078c-4eb6-4d8e-e65b-4b24cb84c564"
      },
      "outputs": [
        {
          "output_type": "display_data",
          "data": {
            "text/plain": [
              "<Figure size 432x288 with 1 Axes>"
            ],
            "image/png": "[encoded data removed]"
          },
          "metadata": {
            "needs_background": "light"
          }
        }
      ],
      "source": [
        "plt.plot(np.squeeze(model_output_5layer_Random['accur_train']))\n",
        "plt.ylabel('Accuracy_train')\n",
        "plt.xlabel('Iterations')\n",
        "plt.show()"
      ]
    },
    {
      "cell_type": "markdown",
      "metadata": {
        "id": "YZTdqh48r2Ub"
      },
      "source": [
        "#***Evaluating the model 5-layer Random***"
      ]
    },
    {
      "cell_type": "code",
      "execution_count": null,
      "metadata": {
        "id": "-iZ5flHQr4I7",
        "colab": {
          "base_uri": "https://localhost:8080/"
        },
        "outputId": "0b0d47a7-6ff9-42b3-ec0c-7c1eba2ab51a"
      },
      "outputs": [
        {
          "output_type": "stream",
          "name": "stdout",
          "text": [
            "Cost after iteration 0: 0.5932771329739488        test accuracy: 78.125\n",
            "------------------------------------------------------------------------------------\n",
            "Cost after iteration 10: 0.558944599709734        test accuracy: 78.125\n",
            "------------------------------------------------------------------------------------\n",
            "Cost after iteration 20: 0.5368252766076589        test accuracy: 78.125\n",
            "------------------------------------------------------------------------------------\n",
            "Cost after iteration 30: 0.5206896243635324        test accuracy: 78.125\n",
            "------------------------------------------------------------------------------------\n",
            "Cost after iteration 40: 0.5081959207068134        test accuracy: 78.125\n",
            "------------------------------------------------------------------------------------\n",
            "Cost after iteration 50: 0.49776190131153003        test accuracy: 78.125\n",
            "------------------------------------------------------------------------------------\n",
            "Cost after iteration 60: 0.4883312553055073        test accuracy: 78.125\n",
            "------------------------------------------------------------------------------------\n",
            "Cost after iteration 70: 0.4793603410839554        test accuracy: 78.125\n",
            "------------------------------------------------------------------------------------\n",
            "Cost after iteration 80: 0.47085650555355835        test accuracy: 78.125\n",
            "------------------------------------------------------------------------------------\n",
            "Cost after iteration 90: 0.46267221761940347        test accuracy: 78.125\n",
            "------------------------------------------------------------------------------------\n",
            "Cost after iteration 100: 0.454802050874034        test accuracy: 78.125\n",
            "------------------------------------------------------------------------------------\n",
            "Cost after iteration 110: 0.44736145901707414        test accuracy: 78.125\n",
            "------------------------------------------------------------------------------------\n",
            "Cost after iteration 120: 0.4401385862216583        test accuracy: 78.125\n",
            "------------------------------------------------------------------------------------\n",
            "Cost after iteration 130: 0.4330064151369829        test accuracy: 77.08333333333334\n",
            "------------------------------------------------------------------------------------\n",
            "Cost after iteration 140: 0.42613816819798545        test accuracy: 77.08333333333334\n",
            "------------------------------------------------------------------------------------\n",
            "Cost after iteration 150: 0.41940146726158334        test accuracy: 77.08333333333334\n",
            "------------------------------------------------------------------------------------\n",
            "Cost after iteration 160: 0.4129124262578581        test accuracy: 78.125\n",
            "------------------------------------------------------------------------------------\n",
            "Cost after iteration 170: 0.4066045723960215        test accuracy: 78.125\n",
            "------------------------------------------------------------------------------------\n",
            "Cost after iteration 180: 0.4005415155959873        test accuracy: 78.125\n",
            "------------------------------------------------------------------------------------\n",
            "Cost after iteration 190: 0.39455713376324164        test accuracy: 80.20833333333333\n",
            "------------------------------------------------------------------------------------\n",
            "Cost after iteration 200: 0.38865497699071105        test accuracy: 80.20833333333333\n",
            "------------------------------------------------------------------------------------\n",
            "Cost after iteration 210: 0.3827274354933149        test accuracy: 81.25\n",
            "------------------------------------------------------------------------------------\n",
            "Cost after iteration 220: 0.376561795630977        test accuracy: 82.29166666666667\n",
            "------------------------------------------------------------------------------------\n",
            "Cost after iteration 230: 0.3703506686998715        test accuracy: 83.33333333333334\n",
            "------------------------------------------------------------------------------------\n",
            "Cost after iteration 240: 0.36425346944052556        test accuracy: 84.375\n",
            "------------------------------------------------------------------------------------\n",
            "Cost after iteration 250: 0.3583278178889908        test accuracy: 84.375\n",
            "------------------------------------------------------------------------------------\n",
            "Cost after iteration 260: 0.35226968061791025        test accuracy: 84.375\n",
            "------------------------------------------------------------------------------------\n",
            "Cost after iteration 270: 0.3462936570037044        test accuracy: 84.375\n",
            "------------------------------------------------------------------------------------\n",
            "Cost after iteration 280: 0.34012899077567493        test accuracy: 84.375\n",
            "------------------------------------------------------------------------------------\n",
            "Cost after iteration 290: 0.33424226619656616        test accuracy: 86.45833333333334\n",
            "------------------------------------------------------------------------------------\n",
            "Cost after iteration 300: 0.3286080753905787        test accuracy: 87.5\n",
            "------------------------------------------------------------------------------------\n",
            "Cost after iteration 310: 0.32317040288545507        test accuracy: 87.5\n",
            "------------------------------------------------------------------------------------\n",
            "Cost after iteration 320: 0.3179670575789674        test accuracy: 87.5\n",
            "------------------------------------------------------------------------------------\n",
            "Cost after iteration 330: 0.3130667090613522        test accuracy: 87.5\n",
            "------------------------------------------------------------------------------------\n",
            "Cost after iteration 340: 0.3081549948537224        test accuracy: 88.54166666666667\n",
            "------------------------------------------------------------------------------------\n",
            "Cost after iteration 350: 0.3033027045522395        test accuracy: 88.54166666666667\n",
            "------------------------------------------------------------------------------------\n",
            "Cost after iteration 360: 0.298649715979575        test accuracy: 88.54166666666667\n",
            "------------------------------------------------------------------------------------\n",
            "Cost after iteration 370: 0.29420739503215887        test accuracy: 89.58333333333334\n",
            "------------------------------------------------------------------------------------\n",
            "Cost after iteration 380: 0.2898103935666023        test accuracy: 89.58333333333334\n",
            "------------------------------------------------------------------------------------\n",
            "Cost after iteration 390: 0.28557404959595556        test accuracy: 90.625\n",
            "------------------------------------------------------------------------------------\n",
            "Cost after iteration 400: 0.28126667387070825        test accuracy: 91.66666666666667\n",
            "------------------------------------------------------------------------------------\n",
            "Cost after iteration 410: 0.2770986661470592        test accuracy: 91.66666666666667\n",
            "------------------------------------------------------------------------------------\n",
            "Cost after iteration 420: 0.273042080965936        test accuracy: 92.70833333333334\n",
            "------------------------------------------------------------------------------------\n",
            "Cost after iteration 430: 0.26920436611841014        test accuracy: 92.70833333333334\n",
            "------------------------------------------------------------------------------------\n",
            "Cost after iteration 440: 0.26504591384699866        test accuracy: 93.75\n",
            "------------------------------------------------------------------------------------\n",
            "Cost after iteration 450: 0.26102155113331343        test accuracy: 93.75\n",
            "------------------------------------------------------------------------------------\n",
            "Cost after iteration 460: 0.257174589622086        test accuracy: 93.75\n",
            "------------------------------------------------------------------------------------\n",
            "Cost after iteration 470: 0.2535125357905013        test accuracy: 93.75\n",
            "------------------------------------------------------------------------------------\n",
            "Cost after iteration 480: 0.24991415040223766        test accuracy: 93.75\n",
            "------------------------------------------------------------------------------------\n",
            "Cost after iteration 490: 0.2460231751710391        test accuracy: 93.75\n",
            "------------------------------------------------------------------------------------\n",
            "Cost after iteration 500: 0.2423102226661411        test accuracy: 93.75\n",
            "------------------------------------------------------------------------------------\n",
            "Cost after iteration 510: 0.23903110276494768        test accuracy: 93.75\n",
            "------------------------------------------------------------------------------------\n",
            "Cost after iteration 520: 0.23598804844740245        test accuracy: 92.70833333333334\n",
            "------------------------------------------------------------------------------------\n",
            "Cost after iteration 530: 0.23313562249743194        test accuracy: 92.70833333333334\n",
            "------------------------------------------------------------------------------------\n",
            "Cost after iteration 540: 0.23050678323151197        test accuracy: 92.70833333333334\n",
            "------------------------------------------------------------------------------------\n",
            "Cost after iteration 550: 0.2280055968255728        test accuracy: 92.70833333333334\n",
            "------------------------------------------------------------------------------------\n",
            "Cost after iteration 560: 0.2255989936890624        test accuracy: 91.66666666666667\n",
            "------------------------------------------------------------------------------------\n",
            "Cost after iteration 570: 0.22337972159125474        test accuracy: 90.625\n",
            "------------------------------------------------------------------------------------\n",
            "Cost after iteration 580: 0.22106488358708046        test accuracy: 91.66666666666667\n",
            "------------------------------------------------------------------------------------\n",
            "Cost after iteration 590: 0.21887477600685426        test accuracy: 91.66666666666667\n",
            "------------------------------------------------------------------------------------\n",
            "Cost after iteration 600: 0.21668658088370363        test accuracy: 90.625\n",
            "------------------------------------------------------------------------------------\n",
            "Cost after iteration 610: 0.21461442458506247        test accuracy: 90.625\n",
            "------------------------------------------------------------------------------------\n",
            "Cost after iteration 620: 0.2126612539838675        test accuracy: 90.625\n",
            "------------------------------------------------------------------------------------\n",
            "Cost after iteration 630: 0.21092175963235565        test accuracy: 91.66666666666667\n",
            "------------------------------------------------------------------------------------\n",
            "Cost after iteration 640: 0.20967073436071793        test accuracy: 91.66666666666667\n",
            "------------------------------------------------------------------------------------\n",
            "Cost after iteration 650: 0.2084957380146282        test accuracy: 91.66666666666667\n",
            "------------------------------------------------------------------------------------\n",
            "Cost after iteration 660: 0.20740579088990957        test accuracy: 91.66666666666667\n",
            "------------------------------------------------------------------------------------\n",
            "Cost after iteration 670: 0.20636130581119633        test accuracy: 91.66666666666667\n",
            "------------------------------------------------------------------------------------\n",
            "Cost after iteration 680: 0.20540411293726946        test accuracy: 91.66666666666667\n",
            "------------------------------------------------------------------------------------\n",
            "Cost after iteration 690: 0.20448683868135525        test accuracy: 91.66666666666667\n",
            "------------------------------------------------------------------------------------\n",
            "Cost after iteration 700: 0.2036008612079762        test accuracy: 91.66666666666667\n",
            "------------------------------------------------------------------------------------\n",
            "Cost after iteration 710: 0.2027649693444399        test accuracy: 91.66666666666667\n",
            "------------------------------------------------------------------------------------\n",
            "Cost after iteration 720: 0.2020091515461118        test accuracy: 91.66666666666667\n",
            "------------------------------------------------------------------------------------\n",
            "Cost after iteration 730: 0.20132189806820067        test accuracy: 91.66666666666667\n",
            "------------------------------------------------------------------------------------\n",
            "Cost after iteration 740: 0.20068308196355822        test accuracy: 91.66666666666667\n",
            "------------------------------------------------------------------------------------\n",
            "Cost after iteration 750: 0.20015729749936298        test accuracy: 91.66666666666667\n",
            "------------------------------------------------------------------------------------\n",
            "Cost after iteration 760: 0.19972957334202815        test accuracy: 91.66666666666667\n",
            "------------------------------------------------------------------------------------\n",
            "Cost after iteration 770: 0.19930002575295958        test accuracy: 91.66666666666667\n",
            "------------------------------------------------------------------------------------\n",
            "Cost after iteration 780: 0.19886667529269098        test accuracy: 91.66666666666667\n",
            "------------------------------------------------------------------------------------\n",
            "Cost after iteration 790: 0.1984694245809095        test accuracy: 91.66666666666667\n",
            "------------------------------------------------------------------------------------\n",
            "Cost after iteration 800: 0.1981961063700434        test accuracy: 91.66666666666667\n",
            "------------------------------------------------------------------------------------\n",
            "Cost after iteration 810: 0.1979619973247272        test accuracy: 91.66666666666667\n",
            "------------------------------------------------------------------------------------\n",
            "Cost after iteration 820: 0.19774446547174568        test accuracy: 91.66666666666667\n",
            "------------------------------------------------------------------------------------\n",
            "Cost after iteration 830: 0.197454487017268        test accuracy: 90.625\n",
            "------------------------------------------------------------------------------------\n",
            "Cost after iteration 840: 0.19716689376826874        test accuracy: 90.625\n",
            "------------------------------------------------------------------------------------\n",
            "Cost after iteration 850: 0.19691685129143144        test accuracy: 89.58333333333334\n",
            "------------------------------------------------------------------------------------\n",
            "Cost after iteration 860: 0.19668365511183453        test accuracy: 89.58333333333334\n",
            "------------------------------------------------------------------------------------\n",
            "Cost after iteration 870: 0.1963998827548668        test accuracy: 89.58333333333334\n",
            "------------------------------------------------------------------------------------\n",
            "Cost after iteration 880: 0.1961589804986949        test accuracy: 89.58333333333334\n",
            "------------------------------------------------------------------------------------\n",
            "Cost after iteration 890: 0.19589960591479316        test accuracy: 89.58333333333334\n",
            "------------------------------------------------------------------------------------\n",
            "Cost after iteration 900: 0.19575686728598024        test accuracy: 89.58333333333334\n",
            "------------------------------------------------------------------------------------\n",
            "Cost after iteration 910: 0.19565433703831817        test accuracy: 89.58333333333334\n",
            "------------------------------------------------------------------------------------\n",
            "Cost after iteration 920: 0.19549211193341204        test accuracy: 89.58333333333334\n",
            "------------------------------------------------------------------------------------\n",
            "Cost after iteration 930: 0.1953687463056623        test accuracy: 89.58333333333334\n",
            "------------------------------------------------------------------------------------\n",
            "Cost after iteration 940: 0.19522338051592203        test accuracy: 89.58333333333334\n",
            "------------------------------------------------------------------------------------\n",
            "Cost after iteration 950: 0.19511320385641254        test accuracy: 89.58333333333334\n",
            "------------------------------------------------------------------------------------\n",
            "Cost after iteration 960: 0.19499776177363295        test accuracy: 89.58333333333334\n",
            "------------------------------------------------------------------------------------\n",
            "Cost after iteration 970: 0.19490503976684206        test accuracy: 90.625\n",
            "------------------------------------------------------------------------------------\n",
            "Cost after iteration 980: 0.19483890476001042        test accuracy: 90.625\n",
            "------------------------------------------------------------------------------------\n",
            "Cost after iteration 990: 0.19481539548953364        test accuracy: 90.625\n",
            "------------------------------------------------------------------------------------\n",
            "Cost after iteration 1000: 0.19476591191720652        test accuracy: 90.625\n",
            "------------------------------------------------------------------------------------\n"
          ]
        }
      ],
      "source": [
        "for i in range(len(cost_val_r5)):\n",
        "    print(f\"Cost after iteration {i * 10}: {cost_val_r5[i]}        test accuracy: {accur_val_r5[i] * 100}\")\n",
        "    print(\"------------------------------------------------------------------------------------\")"
      ]
    },
    {
      "cell_type": "code",
      "execution_count": null,
      "metadata": {
        "id": "z1VL1WJOr5hv",
        "colab": {
          "base_uri": "https://localhost:8080/",
          "height": 279
        },
        "outputId": "6a211b6b-e288-4dc3-fea2-bb6d5b573c8c"
      },
      "outputs": [
        {
          "output_type": "display_data",
          "data": {
            "text/plain": [
              "<Figure size 432x288 with 1 Axes>"
            ],
            "image/png": "[encoded data removed]"
          },
          "metadata": {
            "needs_background": "light"
          }
        }
      ],
      "source": [
        "plt.plot(cost_val_r5)\n",
        "plt.ylabel('cost_val')\n",
        "plt.xlabel('Iterations')\n",
        "plt.show()"
      ]
    },
    {
      "cell_type": "code",
      "execution_count": null,
      "metadata": {
        "id": "GZ4YzPyar63I",
        "colab": {
          "base_uri": "https://localhost:8080/",
          "height": 279
        },
        "outputId": "5b3dc90c-e79b-4e39-dace-4eced4e7c761"
      },
      "outputs": [
        {
          "output_type": "display_data",
          "data": {
            "text/plain": [
              "<Figure size 432x288 with 1 Axes>"
            ],
            "image/png": "[encoded data removed]"
          },
          "metadata": {
            "needs_background": "light"
          }
        }
      ],
      "source": [
        "plt.plot(accur_val_r5)\n",
        "plt.ylabel('Accuracy_val')\n",
        "plt.xlabel('Iterations')\n",
        "plt.show()"
      ]
    },
    {
      "cell_type": "markdown",
      "metadata": {
        "id": "QTh11u0Hr9hQ"
      },
      "source": [
        "#**Implementing Model For 5-layer zero**"
      ]
    },
    {
      "cell_type": "code",
      "execution_count": null,
      "metadata": {
        "id": "iWEqRTJMr92I"
      },
      "outputs": [],
      "source": [
        "def model_5layer_zero(X_train, y_train, X_val, y_val, epoch, learning_rate, print_cost=False):\n",
        "    param = initialize_parameter_layer_zero([X_train.shape[0], 50, 32, 16,  1])\n",
        "    param, cost_train, accur_train, cost_val, accur_val = costomize_nlayer(param , X_train, y_train, epoch, learning_rate, print_cost)\n",
        "    out = {\"cost_train\": cost_train,\"accur_train\": accur_train,  \"param\": param,\"learning_rate\" : learning_rate,\"epoch\": epoch}\n",
        "    return out, cost_val, accur_val"
      ]
    },
    {
      "cell_type": "markdown",
      "metadata": {
        "id": "xLUBW0DssDTh"
      },
      "source": [
        "#***Training the model 5-layer zero***"
      ]
    },
    {
      "cell_type": "code",
      "execution_count": null,
      "metadata": {
        "id": "V2DL9b2qsDr3",
        "colab": {
          "base_uri": "https://localhost:8080/"
        },
        "outputId": "17b622c7-f832-49e5-c976-7f53cbe1ddbf"
      },
      "outputs": [
        {
          "output_type": "stream",
          "name": "stdout",
          "text": [
            "Cost iteration 0: 0.6931471805599467        train accuracy: 72.39583333333333\n",
            "------------------------------------------------------------------------------------\n",
            "Cost iteration 10: 0.6882488004441849        train accuracy: 72.39583333333333\n",
            "------------------------------------------------------------------------------------\n",
            "Cost iteration 20: 0.6835895772859752        train accuracy: 72.39583333333333\n",
            "------------------------------------------------------------------------------------\n",
            "Cost iteration 30: 0.6791577573415594        train accuracy: 72.39583333333333\n",
            "------------------------------------------------------------------------------------\n",
            "Cost iteration 40: 0.6749421226199523        train accuracy: 72.39583333333333\n",
            "------------------------------------------------------------------------------------\n",
            "Cost iteration 50: 0.6709319742140873        train accuracy: 72.39583333333333\n",
            "------------------------------------------------------------------------------------\n",
            "Cost iteration 60: 0.6671171149994592        train accuracy: 72.39583333333333\n",
            "------------------------------------------------------------------------------------\n",
            "Cost iteration 70: 0.6634878319049347        train accuracy: 72.39583333333333\n",
            "------------------------------------------------------------------------------------\n",
            "Cost iteration 80: 0.6600348779340649        train accuracy: 72.39583333333333\n",
            "------------------------------------------------------------------------------------\n",
            "Cost iteration 90: 0.6567494540908319        train accuracy: 72.39583333333333\n",
            "------------------------------------------------------------------------------------\n",
            "Cost iteration 100: 0.653623191342058        train accuracy: 72.39583333333333\n",
            "------------------------------------------------------------------------------------\n",
            "Cost iteration 110: 0.650648132728284        train accuracy: 72.39583333333333\n",
            "------------------------------------------------------------------------------------\n",
            "Cost iteration 120: 0.6478167157173367        train accuracy: 72.39583333333333\n",
            "------------------------------------------------------------------------------------\n",
            "Cost iteration 130: 0.645121754878447        train accuracy: 72.39583333333333\n",
            "------------------------------------------------------------------------------------\n",
            "Cost iteration 140: 0.6425564249406588        train accuracy: 72.39583333333333\n",
            "------------------------------------------------------------------------------------\n",
            "Cost iteration 150: 0.640114244286608        train accuracy: 72.39583333333333\n",
            "------------------------------------------------------------------------------------\n",
            "Cost iteration 160: 0.6377890589216392        train accuracy: 72.39583333333333\n",
            "------------------------------------------------------------------------------------\n",
            "Cost iteration 170: 0.6355750269486312        train accuracy: 72.39583333333333\n",
            "------------------------------------------------------------------------------------\n",
            "Cost iteration 180: 0.6334666035704857        train accuracy: 72.39583333333333\n",
            "------------------------------------------------------------------------------------\n",
            "Cost iteration 190: 0.6314585266348347        train accuracy: 72.39583333333333\n",
            "------------------------------------------------------------------------------------\n",
            "Cost iteration 200: 0.6295458027297206        train accuracy: 72.39583333333333\n",
            "------------------------------------------------------------------------------------\n",
            "Cost iteration 210: 0.6277236938332211        train accuracy: 72.39583333333333\n",
            "------------------------------------------------------------------------------------\n",
            "Cost iteration 220: 0.6259877045160145        train accuracy: 72.39583333333333\n",
            "------------------------------------------------------------------------------------\n",
            "Cost iteration 230: 0.6243335696918717        train accuracy: 72.39583333333333\n",
            "------------------------------------------------------------------------------------\n",
            "Cost iteration 240: 0.6227572429081153        train accuracy: 72.39583333333333\n",
            "------------------------------------------------------------------------------------\n",
            "Cost iteration 250: 0.6212548851654764        train accuracy: 72.39583333333333\n",
            "------------------------------------------------------------------------------------\n",
            "Cost iteration 260: 0.61982285425508        train accuracy: 72.39583333333333\n",
            "------------------------------------------------------------------------------------\n",
            "Cost iteration 270: 0.6184576945981544        train accuracy: 72.39583333333333\n",
            "------------------------------------------------------------------------------------\n",
            "Cost iteration 280: 0.6171561275734558        train accuracy: 72.39583333333333\n",
            "------------------------------------------------------------------------------------\n",
            "Cost iteration 290: 0.6159150423160289        train accuracy: 72.39583333333333\n",
            "------------------------------------------------------------------------------------\n",
            "Cost iteration 300: 0.6147314869705771        train accuracy: 72.39583333333333\n",
            "------------------------------------------------------------------------------------\n",
            "Cost iteration 310: 0.6136026603822684        train accuracy: 72.39583333333333\n",
            "------------------------------------------------------------------------------------\n",
            "Cost iteration 320: 0.6125259042074161        train accuracy: 72.39583333333333\n",
            "------------------------------------------------------------------------------------\n",
            "Cost iteration 330: 0.6114986954267604        train accuracy: 72.39583333333333\n",
            "------------------------------------------------------------------------------------\n",
            "Cost iteration 340: 0.6105186392439806        train accuracy: 72.39583333333333\n",
            "------------------------------------------------------------------------------------\n",
            "Cost iteration 350: 0.6095834623522116        train accuracy: 72.39583333333333\n",
            "------------------------------------------------------------------------------------\n",
            "Cost iteration 360: 0.60869100655187        train accuracy: 72.39583333333333\n",
            "------------------------------------------------------------------------------------\n",
            "Cost iteration 370: 0.6078392227032976        train accuracy: 72.39583333333333\n",
            "------------------------------------------------------------------------------------\n",
            "Cost iteration 380: 0.6070261649981767        train accuracy: 72.39583333333333\n",
            "------------------------------------------------------------------------------------\n",
            "Cost iteration 390: 0.606249985534303        train accuracy: 72.39583333333333\n",
            "------------------------------------------------------------------------------------\n",
            "Cost iteration 400: 0.6055089291785726        train accuracy: 72.39583333333333\n",
            "------------------------------------------------------------------------------------\n",
            "Cost iteration 410: 0.6048013287038052        train accuracy: 72.39583333333333\n",
            "------------------------------------------------------------------------------------\n",
            "Cost iteration 420: 0.6041256001854334        train accuracy: 72.39583333333333\n",
            "------------------------------------------------------------------------------------\n",
            "Cost iteration 430: 0.6034802386446703        train accuracy: 72.39583333333333\n",
            "------------------------------------------------------------------------------------\n",
            "Cost iteration 440: 0.6028638139253875        train accuracy: 72.39583333333333\n",
            "------------------------------------------------------------------------------------\n",
            "Cost iteration 450: 0.6022749667924581        train accuracy: 72.39583333333333\n",
            "------------------------------------------------------------------------------------\n",
            "Cost iteration 460: 0.6017124052398011        train accuracy: 72.39583333333333\n",
            "------------------------------------------------------------------------------------\n",
            "Cost iteration 470: 0.60117490099703        train accuracy: 72.39583333333333\n",
            "------------------------------------------------------------------------------------\n",
            "Cost iteration 480: 0.600661286224044        train accuracy: 72.39583333333333\n",
            "------------------------------------------------------------------------------------\n",
            "Cost iteration 490: 0.600170450383535        train accuracy: 72.39583333333333\n",
            "------------------------------------------------------------------------------------\n",
            "Cost iteration 500: 0.5997013372815927        train accuracy: 72.39583333333333\n",
            "------------------------------------------------------------------------------------\n",
            "Cost iteration 510: 0.5992529422675618        train accuracy: 72.39583333333333\n",
            "------------------------------------------------------------------------------------\n",
            "Cost iteration 520: 0.5988243095842352        train accuracy: 72.39583333333333\n",
            "------------------------------------------------------------------------------------\n",
            "Cost iteration 530: 0.598414529860366        train accuracy: 72.39583333333333\n",
            "------------------------------------------------------------------------------------\n",
            "Cost iteration 540: 0.5980227377375499        train accuracy: 72.39583333333333\n",
            "------------------------------------------------------------------------------------\n",
            "Cost iteration 550: 0.5976481096242467        train accuracy: 72.39583333333333\n",
            "------------------------------------------------------------------------------------\n",
            "Cost iteration 560: 0.597289861569881        train accuracy: 72.39583333333333\n",
            "------------------------------------------------------------------------------------\n",
            "Cost iteration 570: 0.5969472472524158        train accuracy: 72.39583333333333\n",
            "------------------------------------------------------------------------------------\n",
            "Cost iteration 580: 0.5966195560732271        train accuracy: 72.39583333333333\n",
            "------------------------------------------------------------------------------------\n",
            "Cost iteration 590: 0.5963061113533131        train accuracy: 72.39583333333333\n",
            "------------------------------------------------------------------------------------\n",
            "Cost iteration 600: 0.5960062686252469        train accuracy: 72.39583333333333\n",
            "------------------------------------------------------------------------------------\n",
            "Cost iteration 610: 0.5957194140156788        train accuracy: 72.39583333333333\n",
            "------------------------------------------------------------------------------------\n",
            "Cost iteration 620: 0.5954449627133145        train accuracy: 72.39583333333333\n",
            "------------------------------------------------------------------------------------\n",
            "Cost iteration 630: 0.5951823575177023        train accuracy: 72.39583333333333\n",
            "------------------------------------------------------------------------------------\n",
            "Cost iteration 640: 0.594931067464465        train accuracy: 72.39583333333333\n",
            "------------------------------------------------------------------------------------\n",
            "Cost iteration 650: 0.5946905865226413        train accuracy: 72.39583333333333\n",
            "------------------------------------------------------------------------------------\n",
            "Cost iteration 660: 0.5944604323602367        train accuracy: 72.39583333333333\n",
            "------------------------------------------------------------------------------------\n",
            "Cost iteration 670: 0.5942401451743415        train accuracy: 72.39583333333333\n",
            "------------------------------------------------------------------------------------\n",
            "Cost iteration 680: 0.5940292865821026        train accuracy: 72.39583333333333\n",
            "------------------------------------------------------------------------------------\n",
            "Cost iteration 690: 0.5938274385694173        train accuracy: 72.39583333333333\n",
            "------------------------------------------------------------------------------------\n",
            "Cost iteration 700: 0.5936342024940469        train accuracy: 72.39583333333333\n",
            "------------------------------------------------------------------------------------\n",
            "Cost iteration 710: 0.5934491981402452        train accuracy: 72.39583333333333\n",
            "------------------------------------------------------------------------------------\n",
            "Cost iteration 720: 0.5932720628221806        train accuracy: 72.39583333333333\n",
            "------------------------------------------------------------------------------------\n",
            "Cost iteration 730: 0.5931024505333716        train accuracy: 72.39583333333333\n",
            "------------------------------------------------------------------------------------\n",
            "Cost iteration 740: 0.5929400311397177        train accuracy: 72.39583333333333\n",
            "------------------------------------------------------------------------------------\n",
            "Cost iteration 750: 0.5927844896137903        train accuracy: 72.39583333333333\n",
            "------------------------------------------------------------------------------------\n",
            "Cost iteration 760: 0.5926355253081532        train accuracy: 72.39583333333333\n",
            "------------------------------------------------------------------------------------\n",
            "Cost iteration 770: 0.5924928512655302        train accuracy: 72.39583333333333\n",
            "------------------------------------------------------------------------------------\n",
            "Cost iteration 780: 0.5923561935639988        train accuracy: 72.39583333333333\n",
            "------------------------------------------------------------------------------------\n",
            "Cost iteration 790: 0.5922252906952253        train accuracy: 72.39583333333333\n",
            "------------------------------------------------------------------------------------\n",
            "Cost iteration 800: 0.5920998929739929        train accuracy: 72.39583333333333\n",
            "------------------------------------------------------------------------------------\n",
            "Cost iteration 810: 0.5919797619773887        train accuracy: 72.39583333333333\n",
            "------------------------------------------------------------------------------------\n",
            "Cost iteration 820: 0.5918646700120922        train accuracy: 72.39583333333333\n",
            "------------------------------------------------------------------------------------\n",
            "Cost iteration 830: 0.591754399608192        train accuracy: 72.39583333333333\n",
            "------------------------------------------------------------------------------------\n",
            "Cost iteration 840: 0.591648743038295        train accuracy: 72.39583333333333\n",
            "------------------------------------------------------------------------------------\n",
            "Cost iteration 850: 0.5915475018603704        train accuracy: 72.39583333333333\n",
            "------------------------------------------------------------------------------------\n",
            "Cost iteration 860: 0.5914504864832961        train accuracy: 72.39583333333333\n",
            "------------------------------------------------------------------------------------\n",
            "Cost iteration 870: 0.5913575157538074        train accuracy: 72.39583333333333\n",
            "------------------------------------------------------------------------------------\n",
            "Cost iteration 880: 0.591268416563768        train accuracy: 72.39583333333333\n",
            "------------------------------------------------------------------------------------\n",
            "Cost iteration 890: 0.5911830234766758        train accuracy: 72.39583333333333\n",
            "------------------------------------------------------------------------------------\n",
            "Cost iteration 900: 0.5911011783724465        train accuracy: 72.39583333333333\n",
            "------------------------------------------------------------------------------------\n",
            "Cost iteration 910: 0.5910227301095098        train accuracy: 72.39583333333333\n",
            "------------------------------------------------------------------------------------\n",
            "Cost iteration 920: 0.5909475342033405        train accuracy: 72.39583333333333\n",
            "------------------------------------------------------------------------------------\n",
            "Cost iteration 930: 0.5908754525205319        train accuracy: 72.39583333333333\n",
            "------------------------------------------------------------------------------------\n",
            "Cost iteration 940: 0.590806352987694        train accuracy: 72.39583333333333\n",
            "------------------------------------------------------------------------------------\n",
            "Cost iteration 950: 0.5907401093143658        train accuracy: 72.39583333333333\n",
            "------------------------------------------------------------------------------------\n",
            "Cost iteration 960: 0.590676600729233        train accuracy: 72.39583333333333\n",
            "------------------------------------------------------------------------------------\n",
            "Cost iteration 970: 0.5906157117289461        train accuracy: 72.39583333333333\n",
            "------------------------------------------------------------------------------------\n",
            "Cost iteration 980: 0.5905573318390668        train accuracy: 72.39583333333333\n",
            "------------------------------------------------------------------------------------\n",
            "Cost iteration 990: 0.5905013553862252        train accuracy: 72.39583333333333\n",
            "------------------------------------------------------------------------------------\n",
            "Cost iteration 1000: 0.5904476812812518        train accuracy: 72.39583333333333\n",
            "------------------------------------------------------------------------------------\n"
          ]
        }
      ],
      "source": [
        "model_output_5layer_zero, cost_val_z5, accur_val_z5 = model_5layer_zero(X_train, y_train, X_val, y_val, epoch=1000, learning_rate= 0.01, print_cost=True)"
      ]
    },
    {
      "cell_type": "code",
      "execution_count": null,
      "metadata": {
        "id": "FDBznfofsFXU",
        "colab": {
          "base_uri": "https://localhost:8080/",
          "height": 279
        },
        "outputId": "7bd95b78-089b-42e3-ec09-85d8a3794410"
      },
      "outputs": [
        {
          "output_type": "display_data",
          "data": {
            "text/plain": [
              "<Figure size 432x288 with 1 Axes>"
            ],
            "image/png": "[encoded data removed]"
          },
          "metadata": {
            "needs_background": "light"
          }
        }
      ],
      "source": [
        "plt.plot(model_output_5layer_zero['cost_train'])\n",
        "plt.ylabel('cost_train')\n",
        "plt.xlabel('Iterations')\n",
        "plt.show()"
      ]
    },
    {
      "cell_type": "code",
      "execution_count": null,
      "metadata": {
        "id": "3wWCVPaWsGh0",
        "colab": {
          "base_uri": "https://localhost:8080/",
          "height": 279
        },
        "outputId": "5fb79310-4eef-4778-c013-321e5306b642"
      },
      "outputs": [
        {
          "output_type": "display_data",
          "data": {
            "text/plain": [
              "<Figure size 432x288 with 1 Axes>"
            ],
            "image/png": "[encoded data removed]"
          },
          "metadata": {
            "needs_background": "light"
          }
        }
      ],
      "source": [
        "plt.plot(np.squeeze(model_output_5layer_zero['accur_train']))\n",
        "plt.ylabel('Accuracy_train')\n",
        "plt.xlabel('Iterations')\n",
        "plt.show()"
      ]
    },
    {
      "cell_type": "markdown",
      "metadata": {
        "id": "MGg0ZtassJXb"
      },
      "source": [
        "#***Evaluating the model 5-layer zero***"
      ]
    },
    {
      "cell_type": "code",
      "execution_count": null,
      "metadata": {
        "id": "WDZUhpSqsJoZ",
        "colab": {
          "base_uri": "https://localhost:8080/"
        },
        "outputId": "f9c3c011-6f50-4e15-81d2-ec980a387fb5"
      },
      "outputs": [
        {
          "output_type": "stream",
          "name": "stdout",
          "text": [
            "Cost after iteration 0: 0.6925179247140014        test accuracy: 78.125\n",
            "------------------------------------------------------------------------------------\n",
            "Cost after iteration 10: 0.6863784206928282        test accuracy: 78.125\n",
            "------------------------------------------------------------------------------------\n",
            "Cost after iteration 20: 0.6805081549526878        test accuracy: 78.125\n",
            "------------------------------------------------------------------------------------\n",
            "Cost after iteration 30: 0.6748946438689425        test accuracy: 78.125\n",
            "------------------------------------------------------------------------------------\n",
            "Cost after iteration 40: 0.6695259515469411        test accuracy: 78.125\n",
            "------------------------------------------------------------------------------------\n",
            "Cost after iteration 50: 0.6643906736699502        test accuracy: 78.125\n",
            "------------------------------------------------------------------------------------\n",
            "Cost after iteration 60: 0.6594779206272907        test accuracy: 78.125\n",
            "------------------------------------------------------------------------------------\n",
            "Cost after iteration 70: 0.6547773001344461        test accuracy: 78.125\n",
            "------------------------------------------------------------------------------------\n",
            "Cost after iteration 80: 0.650278899530155        test accuracy: 78.125\n",
            "------------------------------------------------------------------------------------\n",
            "Cost after iteration 90: 0.6459732679111039        test accuracy: 78.125\n",
            "------------------------------------------------------------------------------------\n",
            "Cost after iteration 100: 0.6418513982422744        test accuracy: 78.125\n",
            "------------------------------------------------------------------------------------\n",
            "Cost after iteration 110: 0.6379047095608659        test accuracy: 78.125\n",
            "------------------------------------------------------------------------------------\n",
            "Cost after iteration 120: 0.6341250293732034        test accuracy: 78.125\n",
            "------------------------------------------------------------------------------------\n",
            "Cost after iteration 130: 0.6305045763277478        test accuracy: 78.125\n",
            "------------------------------------------------------------------------------------\n",
            "Cost after iteration 140: 0.6270359432326473        test accuracy: 78.125\n",
            "------------------------------------------------------------------------------------\n",
            "Cost after iteration 150: 0.6237120804733469        test accuracy: 78.125\n",
            "------------------------------------------------------------------------------------\n",
            "Cost after iteration 160: 0.6205262798742976        test accuracy: 78.125\n",
            "------------------------------------------------------------------------------------\n",
            "Cost after iteration 170: 0.6174721590389631        test accuracy: 78.125\n",
            "------------------------------------------------------------------------------------\n",
            "Cost after iteration 180: 0.614543646193436        test accuracy: 78.125\n",
            "------------------------------------------------------------------------------------\n",
            "Cost after iteration 190: 0.6117349655516292        test accuracy: 78.125\n",
            "------------------------------------------------------------------------------------\n",
            "Cost after iteration 200: 0.6090406232134251        test accuracy: 78.125\n",
            "------------------------------------------------------------------------------------\n",
            "Cost after iteration 210: 0.6064553936016981        test accuracy: 78.125\n",
            "------------------------------------------------------------------------------------\n",
            "Cost after iteration 220: 0.603974306439395        test accuracy: 78.125\n",
            "------------------------------------------------------------------------------------\n",
            "Cost after iteration 230: 0.6015926342639839        test accuracy: 78.125\n",
            "------------------------------------------------------------------------------------\n",
            "Cost after iteration 240: 0.5993058804732185        test accuracy: 78.125\n",
            "------------------------------------------------------------------------------------\n",
            "Cost after iteration 250: 0.5971097678935724        test accuracy: 78.125\n",
            "------------------------------------------------------------------------------------\n",
            "Cost after iteration 260: 0.5950002278603943        test accuracy: 78.125\n",
            "------------------------------------------------------------------------------------\n",
            "Cost after iteration 270: 0.5929733897971693        test accuracy: 78.125\n",
            "------------------------------------------------------------------------------------\n",
            "Cost after iteration 280: 0.5910255712798695        test accuracy: 78.125\n",
            "------------------------------------------------------------------------------------\n",
            "Cost after iteration 290: 0.5891532685713147        test accuracy: 78.125\n",
            "------------------------------------------------------------------------------------\n",
            "Cost after iteration 300: 0.5873531476098002        test accuracy: 78.125\n",
            "------------------------------------------------------------------------------------\n",
            "Cost after iteration 310: 0.58562203543559        test accuracy: 78.125\n",
            "------------------------------------------------------------------------------------\n",
            "Cost after iteration 320: 0.5839569120387392        test accuracy: 78.125\n",
            "------------------------------------------------------------------------------------\n",
            "Cost after iteration 330: 0.582354902611437        test accuracy: 78.125\n",
            "------------------------------------------------------------------------------------\n",
            "Cost after iteration 340: 0.5808132701881337        test accuracy: 78.125\n",
            "------------------------------------------------------------------------------------\n",
            "Cost after iteration 350: 0.5793294086568757        test accuracy: 78.125\n",
            "------------------------------------------------------------------------------------\n",
            "Cost after iteration 360: 0.5779008361254272        test accuracy: 78.125\n",
            "------------------------------------------------------------------------------------\n",
            "Cost after iteration 370: 0.5765251886261551        test accuracy: 78.125\n",
            "------------------------------------------------------------------------------------\n",
            "Cost after iteration 380: 0.5752002141439463        test accuracy: 78.125\n",
            "------------------------------------------------------------------------------------\n",
            "Cost after iteration 390: 0.5739237669519375        test accuracy: 78.125\n",
            "------------------------------------------------------------------------------------\n",
            "Cost after iteration 400: 0.5726938022402233        test accuracy: 78.125\n",
            "------------------------------------------------------------------------------------\n",
            "Cost after iteration 410: 0.5715083710232476        test accuracy: 78.125\n",
            "------------------------------------------------------------------------------------\n",
            "Cost after iteration 420: 0.5703656153121037        test accuracy: 78.125\n",
            "------------------------------------------------------------------------------------\n",
            "Cost after iteration 430: 0.569263763538442        test accuracy: 78.125\n",
            "------------------------------------------------------------------------------------\n",
            "Cost after iteration 440: 0.5682011262172622        test accuracy: 78.125\n",
            "------------------------------------------------------------------------------------\n",
            "Cost after iteration 450: 0.5671760918363773        test accuracy: 78.125\n",
            "------------------------------------------------------------------------------------\n",
            "Cost after iteration 460: 0.5661871229608819        test accuracy: 78.125\n",
            "------------------------------------------------------------------------------------\n",
            "Cost after iteration 470: 0.5652327525414519        test accuracy: 78.125\n",
            "------------------------------------------------------------------------------------\n",
            "Cost after iteration 480: 0.5643115804158089        test accuracy: 78.125\n",
            "------------------------------------------------------------------------------------\n",
            "Cost after iteration 490: 0.5634222699932664        test accuracy: 78.125\n",
            "------------------------------------------------------------------------------------\n",
            "Cost after iteration 500: 0.5625635451126222        test accuracy: 78.125\n",
            "------------------------------------------------------------------------------------\n",
            "Cost after iteration 510: 0.5617341870642676        test accuracy: 78.125\n",
            "------------------------------------------------------------------------------------\n",
            "Cost after iteration 520: 0.5609330317677328        test accuracy: 78.125\n",
            "------------------------------------------------------------------------------------\n",
            "Cost after iteration 530: 0.5601589670964301        test accuracy: 78.125\n",
            "------------------------------------------------------------------------------------\n",
            "Cost after iteration 540: 0.5594109303416841        test accuracy: 78.125\n",
            "------------------------------------------------------------------------------------\n",
            "Cost after iteration 550: 0.5586879058085923        test accuracy: 78.125\n",
            "------------------------------------------------------------------------------------\n",
            "Cost after iteration 560: 0.5579889225366673        test accuracy: 78.125\n",
            "------------------------------------------------------------------------------------\n",
            "Cost after iteration 570: 0.557313052138527        test accuracy: 78.125\n",
            "------------------------------------------------------------------------------------\n",
            "Cost after iteration 580: 0.556659406750314        test accuracy: 78.125\n",
            "------------------------------------------------------------------------------------\n",
            "Cost after iteration 590: 0.5560271370877977        test accuracy: 78.125\n",
            "------------------------------------------------------------------------------------\n",
            "Cost after iteration 600: 0.5554154306025197        test accuracy: 78.125\n",
            "------------------------------------------------------------------------------------\n",
            "Cost after iteration 610: 0.5548235097325627        test accuracy: 78.125\n",
            "------------------------------------------------------------------------------------\n",
            "Cost after iteration 620: 0.5542506302428778        test accuracy: 78.125\n",
            "------------------------------------------------------------------------------------\n",
            "Cost after iteration 630: 0.5536960796503387        test accuracy: 78.125\n",
            "------------------------------------------------------------------------------------\n",
            "Cost after iteration 640: 0.5531591757290019        test accuracy: 78.125\n",
            "------------------------------------------------------------------------------------\n",
            "Cost after iteration 650: 0.5526392650912342        test accuracy: 78.125\n",
            "------------------------------------------------------------------------------------\n",
            "Cost after iteration 660: 0.5521357218406757        test accuracy: 78.125\n",
            "------------------------------------------------------------------------------------\n",
            "Cost after iteration 670: 0.5516479462931723        test accuracy: 78.125\n",
            "------------------------------------------------------------------------------------\n",
            "Cost after iteration 680: 0.551175363762073        test accuracy: 78.125\n",
            "------------------------------------------------------------------------------------\n",
            "Cost after iteration 690: 0.5507174234044252        test accuracy: 78.125\n",
            "------------------------------------------------------------------------------------\n",
            "Cost after iteration 700: 0.5502735971248645        test accuracy: 78.125\n",
            "------------------------------------------------------------------------------------\n",
            "Cost after iteration 710: 0.5498433785341134        test accuracy: 78.125\n",
            "------------------------------------------------------------------------------------\n",
            "Cost after iteration 720: 0.5494262819591865        test accuracy: 78.125\n",
            "------------------------------------------------------------------------------------\n",
            "Cost after iteration 730: 0.549021841502604        test accuracy: 78.125\n",
            "------------------------------------------------------------------------------------\n",
            "Cost after iteration 740: 0.5486296101479875        test accuracy: 78.125\n",
            "------------------------------------------------------------------------------------\n",
            "Cost after iteration 750: 0.5482491589096244        test accuracy: 78.125\n",
            "------------------------------------------------------------------------------------\n",
            "Cost after iteration 760: 0.5478800760236882        test accuracy: 78.125\n",
            "------------------------------------------------------------------------------------\n",
            "Cost after iteration 770: 0.5475219661789127        test accuracy: 78.125\n",
            "------------------------------------------------------------------------------------\n",
            "Cost after iteration 780: 0.5471744497847072        test accuracy: 78.125\n",
            "------------------------------------------------------------------------------------\n",
            "Cost after iteration 790: 0.5468371622747157        test accuracy: 78.125\n",
            "------------------------------------------------------------------------------------\n",
            "Cost after iteration 800: 0.5465097534439997        test accuracy: 78.125\n",
            "------------------------------------------------------------------------------------\n",
            "Cost after iteration 810: 0.5461918868181157        test accuracy: 78.125\n",
            "------------------------------------------------------------------------------------\n",
            "Cost after iteration 820: 0.5458832390524213        test accuracy: 78.125\n",
            "------------------------------------------------------------------------------------\n",
            "Cost after iteration 830: 0.5455834993600727        test accuracy: 78.125\n",
            "------------------------------------------------------------------------------------\n",
            "Cost after iteration 840: 0.5452923689672283        test accuracy: 78.125\n",
            "------------------------------------------------------------------------------------\n",
            "Cost after iteration 850: 0.5450095605940741        test accuracy: 78.125\n",
            "------------------------------------------------------------------------------------\n",
            "Cost after iteration 860: 0.5447347979603505        test accuracy: 78.125\n",
            "------------------------------------------------------------------------------------\n",
            "Cost after iteration 870: 0.5444678153141568        test accuracy: 78.125\n",
            "------------------------------------------------------------------------------------\n",
            "Cost after iteration 880: 0.5442083569828164        test accuracy: 78.125\n",
            "------------------------------------------------------------------------------------\n",
            "Cost after iteration 890: 0.5439561769447179        test accuracy: 78.125\n",
            "------------------------------------------------------------------------------------\n",
            "Cost after iteration 900: 0.5437110384210859        test accuracy: 78.125\n",
            "------------------------------------------------------------------------------------\n",
            "Cost after iteration 910: 0.5434727134866404        test accuracy: 78.125\n",
            "------------------------------------------------------------------------------------\n",
            "Cost after iteration 920: 0.5432409826982499        test accuracy: 78.125\n",
            "------------------------------------------------------------------------------------\n",
            "Cost after iteration 930: 0.5430156347406518        test accuracy: 78.125\n",
            "------------------------------------------------------------------------------------\n",
            "Cost after iteration 940: 0.5427964660883964        test accuracy: 78.125\n",
            "------------------------------------------------------------------------------------\n",
            "Cost after iteration 950: 0.5425832806832359        test accuracy: 78.125\n",
            "------------------------------------------------------------------------------------\n",
            "Cost after iteration 960: 0.542375889626154        test accuracy: 78.125\n",
            "------------------------------------------------------------------------------------\n",
            "Cost after iteration 970: 0.5421741108833672        test accuracy: 78.125\n",
            "------------------------------------------------------------------------------------\n",
            "Cost after iteration 980: 0.541977769005568        test accuracy: 78.125\n",
            "------------------------------------------------------------------------------------\n",
            "Cost after iteration 990: 0.5417866948598093        test accuracy: 78.125\n",
            "------------------------------------------------------------------------------------\n",
            "Cost after iteration 1000: 0.5416007253733734        test accuracy: 78.125\n",
            "------------------------------------------------------------------------------------\n"
          ]
        }
      ],
      "source": [
        "for i in range(len(cost_val_z5)):\n",
        "    print(f\"Cost after iteration {i * 10}: {cost_val_z5[i]}        test accuracy: {accur_val_z5[i] * 100}\")\n",
        "    print(\"------------------------------------------------------------------------------------\")"
      ]
    },
    {
      "cell_type": "code",
      "execution_count": null,
      "metadata": {
        "id": "D9ENap3zsJu2",
        "colab": {
          "base_uri": "https://localhost:8080/",
          "height": 283
        },
        "outputId": "7c65d3ff-ec52-408b-dcdd-3a8411bcaaea"
      },
      "outputs": [
        {
          "output_type": "display_data",
          "data": {
            "text/plain": [
              "<Figure size 432x288 with 1 Axes>"
            ],
            "image/png": "[encoded data removed]"
          },
          "metadata": {
            "needs_background": "light"
          }
        }
      ],
      "source": [
        "plt.plot(cost_val_z5)\n",
        "plt.ylabel('cost_val')\n",
        "plt.xlabel('Iterations')\n",
        "plt.show()"
      ]
    },
    {
      "cell_type": "code",
      "execution_count": null,
      "metadata": {
        "id": "NQ-Z8WNHsNBo",
        "colab": {
          "base_uri": "https://localhost:8080/",
          "height": 279
        },
        "outputId": "10696c6e-c0ad-4fd6-aa41-d3c8c5e6656d"
      },
      "outputs": [
        {
          "output_type": "display_data",
          "data": {
            "text/plain": [
              "<Figure size 432x288 with 1 Axes>"
            ],
            "image/png": "[encoded data removed]"
          },
          "metadata": {
            "needs_background": "light"
          }
        }
      ],
      "source": [
        "plt.plot(accur_val_z5)\n",
        "plt.ylabel('Accuracy_val')\n",
        "plt.xlabel('Iterations')\n",
        "plt.show()"
      ]
    },
    {
      "cell_type": "markdown",
      "metadata": {
        "id": "RZ2l6k2XsPMU"
      },
      "source": [
        "#***IMPROVEMENT***"
      ]
    },
    {
      "cell_type": "markdown",
      "metadata": {
        "id": "qZo5SFImH-BI"
      },
      "source": [
        "#**Changing epoch and learning rate**"
      ]
    },
    {
      "cell_type": "markdown",
      "metadata": {
        "id": "bnatG8QSIPGo"
      },
      "source": [
        "# ***Training the model 2-layer Random - IMPROV1***"
      ]
    },
    {
      "cell_type": "code",
      "execution_count": null,
      "metadata": {
        "id": "UhgNJvU_IHOH",
        "colab": {
          "base_uri": "https://localhost:8080/"
        },
        "outputId": "3f09b4c8-4d08-4bbe-b893-516deb0fe168"
      },
      "outputs": [
        {
          "output_type": "stream",
          "name": "stdout",
          "text": [
            "Cost iteration 0: 0.8942409967314251        train accuracy: 51.30208333333333\n",
            "------------------------------------------------------------------------------------\n",
            "Cost iteration 10: 0.6898618449694576        train accuracy: 61.71875\n",
            "------------------------------------------------------------------------------------\n",
            "Cost iteration 20: 0.5667946558697008        train accuracy: 69.27083333333334\n",
            "------------------------------------------------------------------------------------\n",
            "Cost iteration 30: 0.489252767778148        train accuracy: 75.78125\n",
            "------------------------------------------------------------------------------------\n",
            "Cost iteration 40: 0.43744460714139166        train accuracy: 81.51041666666667\n",
            "------------------------------------------------------------------------------------\n",
            "Cost iteration 50: 0.4007851866704857        train accuracy: 84.11458333333334\n",
            "------------------------------------------------------------------------------------\n",
            "Cost iteration 60: 0.3735087342394213        train accuracy: 86.19791666666667\n",
            "------------------------------------------------------------------------------------\n",
            "Cost iteration 70: 0.35234817795798073        train accuracy: 88.02083333333334\n",
            "------------------------------------------------------------------------------------\n",
            "Cost iteration 80: 0.3353626817942002        train accuracy: 89.0625\n",
            "------------------------------------------------------------------------------------\n",
            "Cost iteration 90: 0.32134392054151995        train accuracy: 89.0625\n",
            "------------------------------------------------------------------------------------\n",
            "Cost iteration 100: 0.30950721652507185        train accuracy: 89.58333333333334\n",
            "------------------------------------------------------------------------------------\n",
            "Cost iteration 110: 0.2993242056353428        train accuracy: 90.10416666666667\n",
            "------------------------------------------------------------------------------------\n",
            "Cost iteration 120: 0.29042789476058983        train accuracy: 90.36458333333334\n",
            "------------------------------------------------------------------------------------\n",
            "Cost iteration 130: 0.28255632871160863        train accuracy: 90.625\n",
            "------------------------------------------------------------------------------------\n",
            "Cost iteration 140: 0.2755178496253788        train accuracy: 90.36458333333334\n",
            "------------------------------------------------------------------------------------\n",
            "Cost iteration 150: 0.26916898961211816        train accuracy: 90.625\n",
            "------------------------------------------------------------------------------------\n",
            "Cost iteration 160: 0.2634000401425979        train accuracy: 90.88541666666667\n",
            "------------------------------------------------------------------------------------\n",
            "Cost iteration 170: 0.2581254280340735        train accuracy: 91.40625\n",
            "------------------------------------------------------------------------------------\n",
            "Cost iteration 180: 0.25327717330711186        train accuracy: 91.66666666666667\n",
            "------------------------------------------------------------------------------------\n",
            "Cost iteration 190: 0.24880036241253284        train accuracy: 91.66666666666667\n",
            "------------------------------------------------------------------------------------\n",
            "Cost iteration 200: 0.24464996238957673        train accuracy: 92.1875\n",
            "------------------------------------------------------------------------------------\n",
            "Cost iteration 210: 0.2407885414829492        train accuracy: 92.44791666666667\n",
            "------------------------------------------------------------------------------------\n",
            "Cost iteration 220: 0.23718461177793496        train accuracy: 92.44791666666667\n",
            "------------------------------------------------------------------------------------\n",
            "Cost iteration 230: 0.2338114048814317        train accuracy: 92.44791666666667\n",
            "------------------------------------------------------------------------------------\n",
            "Cost iteration 240: 0.23064595336847293        train accuracy: 92.44791666666667\n",
            "------------------------------------------------------------------------------------\n",
            "Cost iteration 250: 0.22766839114056087        train accuracy: 92.44791666666667\n",
            "------------------------------------------------------------------------------------\n",
            "Cost iteration 260: 0.22486141268034915        train accuracy: 92.70833333333334\n",
            "------------------------------------------------------------------------------------\n",
            "Cost iteration 270: 0.22220984922338796        train accuracy: 92.70833333333334\n",
            "------------------------------------------------------------------------------------\n",
            "Cost iteration 280: 0.2197003321297132        train accuracy: 92.96875\n",
            "------------------------------------------------------------------------------------\n",
            "Cost iteration 290: 0.21732102216737073        train accuracy: 92.96875\n",
            "------------------------------------------------------------------------------------\n",
            "Cost iteration 300: 0.21506138927670626        train accuracy: 92.96875\n",
            "------------------------------------------------------------------------------------\n",
            "Cost iteration 310: 0.2129120314961827        train accuracy: 92.96875\n",
            "------------------------------------------------------------------------------------\n",
            "Cost iteration 320: 0.21086452464716413        train accuracy: 93.75\n",
            "------------------------------------------------------------------------------------\n",
            "Cost iteration 330: 0.2089112964653444        train accuracy: 94.27083333333334\n",
            "------------------------------------------------------------------------------------\n",
            "Cost iteration 340: 0.20704552037989        train accuracy: 94.27083333333334\n",
            "------------------------------------------------------------------------------------\n",
            "Cost iteration 350: 0.20526102524868586        train accuracy: 94.01041666666667\n",
            "------------------------------------------------------------------------------------\n",
            "Cost iteration 360: 0.2035522181768219        train accuracy: 94.01041666666667\n",
            "------------------------------------------------------------------------------------\n",
            "Cost iteration 370: 0.20191401815744536        train accuracy: 94.01041666666667\n",
            "------------------------------------------------------------------------------------\n",
            "Cost iteration 380: 0.2003417987364704        train accuracy: 94.01041666666667\n",
            "------------------------------------------------------------------------------------\n",
            "Cost iteration 390: 0.1988313382558357        train accuracy: 94.01041666666667\n",
            "------------------------------------------------------------------------------------\n",
            "Cost iteration 400: 0.1973787765027058        train accuracy: 94.01041666666667\n",
            "------------------------------------------------------------------------------------\n",
            "Cost iteration 410: 0.19598057680483164        train accuracy: 94.01041666666667\n",
            "------------------------------------------------------------------------------------\n",
            "Cost iteration 420: 0.19463349278008557        train accuracy: 94.01041666666667\n",
            "------------------------------------------------------------------------------------\n",
            "Cost iteration 430: 0.19333453908182863        train accuracy: 94.01041666666667\n",
            "------------------------------------------------------------------------------------\n",
            "Cost iteration 440: 0.19208096558917098        train accuracy: 94.01041666666667\n",
            "------------------------------------------------------------------------------------\n",
            "Cost iteration 450: 0.19087023457830068        train accuracy: 94.27083333333334\n",
            "------------------------------------------------------------------------------------\n",
            "Cost iteration 460: 0.18970000048228242        train accuracy: 94.79166666666667\n",
            "------------------------------------------------------------------------------------\n",
            "Cost iteration 470: 0.1885680919053897        train accuracy: 95.05208333333334\n",
            "------------------------------------------------------------------------------------\n",
            "Cost iteration 480: 0.18747249560670043        train accuracy: 95.05208333333334\n",
            "------------------------------------------------------------------------------------\n",
            "Cost iteration 490: 0.18641134220829259        train accuracy: 95.3125\n",
            "------------------------------------------------------------------------------------\n",
            "Cost iteration 500: 0.1853828934174682        train accuracy: 95.3125\n",
            "------------------------------------------------------------------------------------\n",
            "Cost iteration 510: 0.18438553058117868        train accuracy: 95.3125\n",
            "------------------------------------------------------------------------------------\n",
            "Cost iteration 520: 0.18341774441519204        train accuracy: 95.3125\n",
            "------------------------------------------------------------------------------------\n",
            "Cost iteration 530: 0.1824781257712696        train accuracy: 95.3125\n",
            "------------------------------------------------------------------------------------\n",
            "Cost iteration 540: 0.1815653573233255        train accuracy: 95.05208333333334\n",
            "------------------------------------------------------------------------------------\n",
            "Cost iteration 550: 0.1806782060687069        train accuracy: 94.79166666666667\n",
            "------------------------------------------------------------------------------------\n",
            "Cost iteration 560: 0.17981551655377884        train accuracy: 94.79166666666667\n",
            "------------------------------------------------------------------------------------\n",
            "Cost iteration 570: 0.1789762047442243        train accuracy: 94.79166666666667\n",
            "------------------------------------------------------------------------------------\n",
            "Cost iteration 580: 0.17815925247019226        train accuracy: 94.79166666666667\n",
            "------------------------------------------------------------------------------------\n",
            "Cost iteration 590: 0.1773637023848248        train accuracy: 94.79166666666667\n",
            "------------------------------------------------------------------------------------\n",
            "Cost iteration 600: 0.1765886533820098        train accuracy: 94.79166666666667\n",
            "------------------------------------------------------------------------------------\n",
            "Cost iteration 610: 0.17583325642554287        train accuracy: 94.79166666666667\n",
            "------------------------------------------------------------------------------------\n",
            "Cost iteration 620: 0.17509671074743388        train accuracy: 94.79166666666667\n",
            "------------------------------------------------------------------------------------\n",
            "Cost iteration 630: 0.1743782603779146        train accuracy: 94.79166666666667\n",
            "------------------------------------------------------------------------------------\n",
            "Cost iteration 640: 0.1736771909739439        train accuracy: 94.79166666666667\n",
            "------------------------------------------------------------------------------------\n",
            "Cost iteration 650: 0.17299282691670864        train accuracy: 94.79166666666667\n",
            "------------------------------------------------------------------------------------\n",
            "Cost iteration 660: 0.17232452865187392        train accuracy: 94.79166666666667\n",
            "------------------------------------------------------------------------------------\n",
            "Cost iteration 670: 0.17167169024919895        train accuracy: 95.05208333333334\n",
            "------------------------------------------------------------------------------------\n",
            "Cost iteration 680: 0.1710337371606488        train accuracy: 95.05208333333334\n",
            "------------------------------------------------------------------------------------\n",
            "Cost iteration 690: 0.170410124158361        train accuracy: 95.05208333333334\n",
            "------------------------------------------------------------------------------------\n",
            "Cost iteration 700: 0.16980033343578319        train accuracy: 95.05208333333334\n",
            "------------------------------------------------------------------------------------\n",
            "Cost iteration 710: 0.16920387285703833        train accuracy: 95.05208333333334\n",
            "------------------------------------------------------------------------------------\n",
            "Cost iteration 720: 0.16862027434110355        train accuracy: 95.05208333333334\n",
            "------------------------------------------------------------------------------------\n",
            "Cost iteration 730: 0.16804909236876225        train accuracy: 95.05208333333334\n",
            "------------------------------------------------------------------------------------\n",
            "Cost iteration 740: 0.16748990260149432        train accuracy: 95.05208333333334\n",
            "------------------------------------------------------------------------------------\n",
            "Cost iteration 750: 0.16694230060254583        train accuracy: 95.05208333333334\n",
            "------------------------------------------------------------------------------------\n",
            "Cost iteration 760: 0.1664059006513814        train accuracy: 95.05208333333334\n",
            "------------------------------------------------------------------------------------\n",
            "Cost iteration 770: 0.16588033464357674        train accuracy: 95.05208333333334\n",
            "------------------------------------------------------------------------------------\n",
            "Cost iteration 780: 0.16536525106897404        train accuracy: 95.05208333333334\n",
            "------------------------------------------------------------------------------------\n",
            "Cost iteration 790: 0.16486031406159907        train accuracy: 95.05208333333334\n",
            "------------------------------------------------------------------------------------\n",
            "Cost iteration 800: 0.1643652025154596        train accuracy: 95.05208333333334\n",
            "------------------------------------------------------------------------------------\n",
            "Cost iteration 810: 0.16387960926088224        train accuracy: 95.05208333333334\n",
            "------------------------------------------------------------------------------------\n",
            "Cost iteration 820: 0.1634032402965424        train accuracy: 95.05208333333334\n",
            "------------------------------------------------------------------------------------\n",
            "Cost iteration 830: 0.16293581407278068        train accuracy: 95.05208333333334\n",
            "------------------------------------------------------------------------------------\n",
            "Cost iteration 840: 0.1624770608221937        train accuracy: 95.05208333333334\n",
            "------------------------------------------------------------------------------------\n",
            "Cost iteration 850: 0.16202672193384782        train accuracy: 95.05208333333334\n",
            "------------------------------------------------------------------------------------\n",
            "Cost iteration 860: 0.16158454936778266        train accuracy: 95.05208333333334\n",
            "------------------------------------------------------------------------------------\n",
            "Cost iteration 870: 0.16115030510676298        train accuracy: 95.05208333333334\n",
            "------------------------------------------------------------------------------------\n",
            "Cost iteration 880: 0.16072376064249924        train accuracy: 95.05208333333334\n",
            "------------------------------------------------------------------------------------\n",
            "Cost iteration 890: 0.16030469649379428        train accuracy: 95.05208333333334\n",
            "------------------------------------------------------------------------------------\n",
            "Cost iteration 900: 0.15989290175428555        train accuracy: 95.05208333333334\n",
            "------------------------------------------------------------------------------------\n",
            "Cost iteration 910: 0.15948817366765117        train accuracy: 95.05208333333334\n",
            "------------------------------------------------------------------------------------\n",
            "Cost iteration 920: 0.15909031722831954        train accuracy: 95.05208333333334\n",
            "------------------------------------------------------------------------------------\n",
            "Cost iteration 930: 0.15869914480588432        train accuracy: 95.3125\n",
            "------------------------------------------------------------------------------------\n",
            "Cost iteration 940: 0.15831447579157126        train accuracy: 95.3125\n",
            "------------------------------------------------------------------------------------\n",
            "Cost iteration 950: 0.15793613626523817        train accuracy: 95.3125\n",
            "------------------------------------------------------------------------------------\n",
            "Cost iteration 960: 0.15756395868150136        train accuracy: 95.05208333333334\n",
            "------------------------------------------------------------------------------------\n",
            "Cost iteration 970: 0.15719778157370515        train accuracy: 95.05208333333334\n",
            "------------------------------------------------------------------------------------\n",
            "Cost iteration 980: 0.15683744927453536        train accuracy: 94.79166666666667\n",
            "------------------------------------------------------------------------------------\n",
            "Cost iteration 990: 0.15648281165218336        train accuracy: 94.79166666666667\n",
            "------------------------------------------------------------------------------------\n",
            "Cost iteration 1000: 0.15613372386103902        train accuracy: 94.79166666666667\n",
            "------------------------------------------------------------------------------------\n"
          ]
        }
      ],
      "source": [
        "model_output_2layer_randomv1, cost_val_r2v1, accur_val_r2v1 = model_2layer_random(X_train, y_train, X_val, y_val, epoch=1000, learning_rate= 0.03, print_cost=True)"
      ]
    },
    {
      "cell_type": "code",
      "execution_count": null,
      "metadata": {
        "id": "LQWWe8x6QO9O",
        "colab": {
          "base_uri": "https://localhost:8080/",
          "height": 279
        },
        "outputId": "373e1ede-03f9-4fa9-8b2a-132533c92ccb"
      },
      "outputs": [
        {
          "output_type": "display_data",
          "data": {
            "text/plain": [
              "<Figure size 432x288 with 1 Axes>"
            ],
            "image/png": "[encoded data removed]"
          },
          "metadata": {
            "needs_background": "light"
          }
        }
      ],
      "source": [
        "plt.plot(model_output_2layer_randomv1['cost_train'])\n",
        "plt.ylabel('cost_train')\n",
        "plt.xlabel('Iterations')\n",
        "plt.show()"
      ]
    },
    {
      "cell_type": "code",
      "execution_count": null,
      "metadata": {
        "id": "Ay4OK8EMQPfn",
        "colab": {
          "base_uri": "https://localhost:8080/",
          "height": 279
        },
        "outputId": "a4fa1d00-35ef-4c93-9efb-d0ad2bea5fe6"
      },
      "outputs": [
        {
          "output_type": "display_data",
          "data": {
            "text/plain": [
              "<Figure size 432x288 with 1 Axes>"
            ],
            "image/png": "[encoded data removed]"
          },
          "metadata": {
            "needs_background": "light"
          }
        }
      ],
      "source": [
        "plt.plot(np.squeeze(model_output_2layer_randomv1['accur_train']))\n",
        "plt.ylabel('Accuracy_train')\n",
        "plt.xlabel('Iterations')\n",
        "plt.show()"
      ]
    },
    {
      "cell_type": "markdown",
      "metadata": {
        "id": "kwXH1sNkQW1c"
      },
      "source": [
        "# ***Evaluating the model 2-layer Random - IMPROV1***"
      ]
    },
    {
      "cell_type": "code",
      "execution_count": null,
      "metadata": {
        "id": "jBpIFki3QcnM",
        "colab": {
          "base_uri": "https://localhost:8080/"
        },
        "outputId": "d8fb7782-b313-4e49-b3f8-fa438a8021d6"
      },
      "outputs": [
        {
          "output_type": "stream",
          "name": "stdout",
          "text": [
            "Cost iteration 0: 0.785735435678702        test accuracy: 54.166666666666664\n",
            "------------------------------------------------------------------------------------\n",
            "Cost iteration 10: 0.6237314304084133        test accuracy: 60.416666666666664\n",
            "------------------------------------------------------------------------------------\n",
            "Cost iteration 20: 0.5253792093186315        test accuracy: 65.625\n",
            "------------------------------------------------------------------------------------\n",
            "Cost iteration 30: 0.46217147342831943        test accuracy: 75.0\n",
            "------------------------------------------------------------------------------------\n",
            "Cost iteration 40: 0.41880874676863905        test accuracy: 81.25\n",
            "------------------------------------------------------------------------------------\n",
            "Cost iteration 50: 0.38731177295445474        test accuracy: 81.25\n",
            "------------------------------------------------------------------------------------\n",
            "Cost iteration 60: 0.36336498824293045        test accuracy: 84.375\n",
            "------------------------------------------------------------------------------------\n",
            "Cost iteration 70: 0.34450067898345615        test accuracy: 85.41666666666667\n",
            "------------------------------------------------------------------------------------\n",
            "Cost iteration 80: 0.3292245691795672        test accuracy: 86.45833333333334\n",
            "------------------------------------------------------------------------------------\n",
            "Cost iteration 90: 0.31658323479784717        test accuracy: 87.5\n",
            "------------------------------------------------------------------------------------\n",
            "Cost iteration 100: 0.3059400971195724        test accuracy: 91.66666666666667\n",
            "------------------------------------------------------------------------------------\n",
            "Cost iteration 110: 0.2968533747111519        test accuracy: 91.66666666666667\n",
            "------------------------------------------------------------------------------------\n",
            "Cost iteration 120: 0.28900619949566947        test accuracy: 91.66666666666667\n",
            "------------------------------------------------------------------------------------\n",
            "Cost iteration 130: 0.28216475539154035        test accuracy: 91.66666666666667\n",
            "------------------------------------------------------------------------------------\n",
            "Cost iteration 140: 0.2761522010602019        test accuracy: 90.625\n",
            "------------------------------------------------------------------------------------\n",
            "Cost iteration 150: 0.2708318719157704        test accuracy: 91.66666666666667\n",
            "------------------------------------------------------------------------------------\n",
            "Cost iteration 160: 0.2660961419657819        test accuracy: 91.66666666666667\n",
            "------------------------------------------------------------------------------------\n",
            "Cost iteration 170: 0.2618588472584547        test accuracy: 91.66666666666667\n",
            "------------------------------------------------------------------------------------\n",
            "Cost iteration 180: 0.25805001130969163        test accuracy: 90.625\n",
            "------------------------------------------------------------------------------------\n",
            "Cost iteration 190: 0.2546120937796555        test accuracy: 88.54166666666667\n",
            "------------------------------------------------------------------------------------\n",
            "Cost iteration 200: 0.25149726878037937        test accuracy: 89.58333333333334\n",
            "------------------------------------------------------------------------------------\n",
            "Cost iteration 210: 0.24866541300737857        test accuracy: 89.58333333333334\n",
            "------------------------------------------------------------------------------------\n",
            "Cost iteration 220: 0.24608259238586555        test accuracy: 89.58333333333334\n",
            "------------------------------------------------------------------------------------\n",
            "Cost iteration 230: 0.24371990506069255        test accuracy: 90.625\n",
            "------------------------------------------------------------------------------------\n",
            "Cost iteration 240: 0.2415525834371885        test accuracy: 90.625\n",
            "------------------------------------------------------------------------------------\n",
            "Cost iteration 250: 0.23955928760632916        test accuracy: 90.625\n",
            "------------------------------------------------------------------------------------\n",
            "Cost iteration 260: 0.23772154235515622        test accuracy: 90.625\n",
            "------------------------------------------------------------------------------------\n",
            "Cost iteration 270: 0.23602328348567117        test accuracy: 89.58333333333334\n",
            "------------------------------------------------------------------------------------\n",
            "Cost iteration 280: 0.23445048850042832        test accuracy: 89.58333333333334\n",
            "------------------------------------------------------------------------------------\n",
            "Cost iteration 290: 0.2329908732461693        test accuracy: 89.58333333333334\n",
            "------------------------------------------------------------------------------------\n",
            "Cost iteration 300: 0.23163364074037768        test accuracy: 89.58333333333334\n",
            "------------------------------------------------------------------------------------\n",
            "Cost iteration 310: 0.23036927173508875        test accuracy: 89.58333333333334\n",
            "------------------------------------------------------------------------------------\n",
            "Cost iteration 320: 0.2291893489956231        test accuracy: 89.58333333333334\n",
            "------------------------------------------------------------------------------------\n",
            "Cost iteration 330: 0.2280864090581683        test accuracy: 89.58333333333334\n",
            "------------------------------------------------------------------------------------\n",
            "Cost iteration 340: 0.22705381656330198        test accuracy: 89.58333333333334\n",
            "------------------------------------------------------------------------------------\n",
            "Cost iteration 350: 0.2260856572697404        test accuracy: 89.58333333333334\n",
            "------------------------------------------------------------------------------------\n",
            "Cost iteration 360: 0.2251766466225808        test accuracy: 89.58333333333334\n",
            "------------------------------------------------------------------------------------\n",
            "Cost iteration 370: 0.2243220513457289        test accuracy: 89.58333333333334\n",
            "------------------------------------------------------------------------------------\n",
            "Cost iteration 380: 0.22351762199366298        test accuracy: 89.58333333333334\n",
            "------------------------------------------------------------------------------------\n",
            "Cost iteration 390: 0.22275953476532656        test accuracy: 89.58333333333334\n",
            "------------------------------------------------------------------------------------\n",
            "Cost iteration 400: 0.22204434117611693        test accuracy: 90.625\n",
            "------------------------------------------------------------------------------------\n",
            "Cost iteration 410: 0.22136892441980696        test accuracy: 90.625\n",
            "------------------------------------------------------------------------------------\n",
            "Cost iteration 420: 0.2207304614435576        test accuracy: 90.625\n",
            "------------------------------------------------------------------------------------\n",
            "Cost iteration 430: 0.22012638991549008        test accuracy: 90.625\n",
            "------------------------------------------------------------------------------------\n",
            "Cost iteration 440: 0.21955437939285438        test accuracy: 90.625\n",
            "------------------------------------------------------------------------------------\n",
            "Cost iteration 450: 0.2190123061051971        test accuracy: 89.58333333333334\n",
            "------------------------------------------------------------------------------------\n",
            "Cost iteration 460: 0.21849823085538625        test accuracy: 89.58333333333334\n",
            "------------------------------------------------------------------------------------\n",
            "Cost iteration 470: 0.21801037961526584        test accuracy: 89.58333333333334\n",
            "------------------------------------------------------------------------------------\n",
            "Cost iteration 480: 0.2175471264547102        test accuracy: 89.58333333333334\n",
            "------------------------------------------------------------------------------------\n",
            "Cost iteration 490: 0.21710697849506877        test accuracy: 89.58333333333334\n",
            "------------------------------------------------------------------------------------\n",
            "Cost iteration 500: 0.21668856262208305        test accuracy: 89.58333333333334\n",
            "------------------------------------------------------------------------------------\n",
            "Cost iteration 510: 0.21629061373072617        test accuracy: 89.58333333333334\n",
            "------------------------------------------------------------------------------------\n",
            "Cost iteration 520: 0.2159119643061405        test accuracy: 88.54166666666667\n",
            "------------------------------------------------------------------------------------\n",
            "Cost iteration 530: 0.21555153517186668        test accuracy: 88.54166666666667\n",
            "------------------------------------------------------------------------------------\n",
            "Cost iteration 540: 0.21520832725959552        test accuracy: 88.54166666666667\n",
            "------------------------------------------------------------------------------------\n",
            "Cost iteration 550: 0.21488141427437593        test accuracy: 88.54166666666667\n",
            "------------------------------------------------------------------------------------\n",
            "Cost iteration 560: 0.21456993614607134        test accuracy: 88.54166666666667\n",
            "------------------------------------------------------------------------------------\n",
            "Cost iteration 570: 0.21427309317232623        test accuracy: 89.58333333333334\n",
            "------------------------------------------------------------------------------------\n",
            "Cost iteration 580: 0.21399014077072578        test accuracy: 89.58333333333334\n",
            "------------------------------------------------------------------------------------\n",
            "Cost iteration 590: 0.21372038476852454        test accuracy: 89.58333333333334\n",
            "------------------------------------------------------------------------------------\n",
            "Cost iteration 600: 0.213463177167528        test accuracy: 89.58333333333334\n",
            "------------------------------------------------------------------------------------\n",
            "Cost iteration 610: 0.21321791232965398        test accuracy: 89.58333333333334\n",
            "------------------------------------------------------------------------------------\n",
            "Cost iteration 620: 0.2129840235355711        test accuracy: 89.58333333333334\n",
            "------------------------------------------------------------------------------------\n",
            "Cost iteration 630: 0.2127609798747422        test accuracy: 89.58333333333334\n",
            "------------------------------------------------------------------------------------\n",
            "Cost iteration 640: 0.21254828343034732        test accuracy: 89.58333333333334\n",
            "------------------------------------------------------------------------------------\n",
            "Cost iteration 650: 0.2123454667270213        test accuracy: 89.58333333333334\n",
            "------------------------------------------------------------------------------------\n",
            "Cost iteration 660: 0.2121520904132154        test accuracy: 90.625\n",
            "------------------------------------------------------------------------------------\n",
            "Cost iteration 670: 0.2119677411533572        test accuracy: 90.625\n",
            "------------------------------------------------------------------------------------\n",
            "Cost iteration 680: 0.21179202970791927        test accuracy: 90.625\n",
            "------------------------------------------------------------------------------------\n",
            "Cost iteration 690: 0.2116245891820643        test accuracy: 90.625\n",
            "------------------------------------------------------------------------------------\n",
            "Cost iteration 700: 0.21146507342576343        test accuracy: 90.625\n",
            "------------------------------------------------------------------------------------\n",
            "Cost iteration 710: 0.21131315557023658        test accuracy: 90.625\n",
            "------------------------------------------------------------------------------------\n",
            "Cost iteration 720: 0.2111685266872736        test accuracy: 90.625\n",
            "------------------------------------------------------------------------------------\n",
            "Cost iteration 730: 0.2110308945594877        test accuracy: 90.625\n",
            "------------------------------------------------------------------------------------\n",
            "Cost iteration 740: 0.21089998255087        test accuracy: 90.625\n",
            "------------------------------------------------------------------------------------\n",
            "Cost iteration 750: 0.2107755285681665        test accuracy: 90.625\n",
            "------------------------------------------------------------------------------------\n",
            "Cost iteration 760: 0.21065728410461387        test accuracy: 90.625\n",
            "------------------------------------------------------------------------------------\n",
            "Cost iteration 770: 0.21054501335847026        test accuracy: 90.625\n",
            "------------------------------------------------------------------------------------\n",
            "Cost iteration 780: 0.21043849241956028        test accuracy: 90.625\n",
            "------------------------------------------------------------------------------------\n",
            "Cost iteration 790: 0.21033750851776195        test accuracy: 90.625\n",
            "------------------------------------------------------------------------------------\n",
            "Cost iteration 800: 0.2102418593279709        test accuracy: 90.625\n",
            "------------------------------------------------------------------------------------\n",
            "Cost iteration 810: 0.21015135232663362        test accuracy: 90.625\n",
            "------------------------------------------------------------------------------------\n",
            "Cost iteration 820: 0.21006580419542312        test accuracy: 90.625\n",
            "------------------------------------------------------------------------------------\n",
            "Cost iteration 830: 0.2099850402680668        test accuracy: 90.625\n",
            "------------------------------------------------------------------------------------\n",
            "Cost iteration 840: 0.20990889401671808        test accuracy: 90.625\n",
            "------------------------------------------------------------------------------------\n",
            "Cost iteration 850: 0.20983720657460686        test accuracy: 90.625\n",
            "------------------------------------------------------------------------------------\n",
            "Cost iteration 860: 0.2097698262920149        test accuracy: 90.625\n",
            "------------------------------------------------------------------------------------\n",
            "Cost iteration 870: 0.20970660832289195        test accuracy: 90.625\n",
            "------------------------------------------------------------------------------------\n",
            "Cost iteration 880: 0.20964741423967428        test accuracy: 90.625\n",
            "------------------------------------------------------------------------------------\n",
            "Cost iteration 890: 0.2095921116740907        test accuracy: 90.625\n",
            "------------------------------------------------------------------------------------\n",
            "Cost iteration 900: 0.2095405739819367        test accuracy: 90.625\n",
            "------------------------------------------------------------------------------------\n",
            "Cost iteration 910: 0.20949267992997417        test accuracy: 90.625\n",
            "------------------------------------------------------------------------------------\n",
            "Cost iteration 920: 0.20944831340327985        test accuracy: 90.625\n",
            "------------------------------------------------------------------------------------\n",
            "Cost iteration 930: 0.20940736313150024        test accuracy: 90.625\n",
            "------------------------------------------------------------------------------------\n",
            "Cost iteration 940: 0.20936972243261445        test accuracy: 90.625\n",
            "------------------------------------------------------------------------------------\n",
            "Cost iteration 950: 0.20933528897291323        test accuracy: 90.625\n",
            "------------------------------------------------------------------------------------\n",
            "Cost iteration 960: 0.2093039645420133        test accuracy: 90.625\n",
            "------------------------------------------------------------------------------------\n",
            "Cost iteration 970: 0.20927565484182686        test accuracy: 90.625\n",
            "------------------------------------------------------------------------------------\n",
            "Cost iteration 980: 0.20925026928848867        test accuracy: 90.625\n",
            "------------------------------------------------------------------------------------\n",
            "Cost iteration 990: 0.20922772082632393        test accuracy: 90.625\n",
            "------------------------------------------------------------------------------------\n",
            "Cost iteration 1000: 0.2092079257530176        test accuracy: 90.625\n",
            "------------------------------------------------------------------------------------\n"
          ]
        }
      ],
      "source": [
        "for i in range(len(cost_val_r2v1)):\n",
        "    print(f\"Cost iteration {i * 10}: {cost_val_r2v1[i]}        test accuracy: {accur_val_r2v1[i] * 100}\")\n",
        "    print(\"------------------------------------------------------------------------------------\")"
      ]
    },
    {
      "cell_type": "code",
      "execution_count": null,
      "metadata": {
        "id": "H-O1lQLeQkrx",
        "colab": {
          "base_uri": "https://localhost:8080/",
          "height": 279
        },
        "outputId": "715acefc-1ef4-48ee-f72e-5c99cf740b09"
      },
      "outputs": [
        {
          "output_type": "display_data",
          "data": {
            "text/plain": [
              "<Figure size 432x288 with 1 Axes>"
            ],
            "image/png": "[encoded data removed]"
          },
          "metadata": {
            "needs_background": "light"
          }
        }
      ],
      "source": [
        "plt.plot(cost_val_r2v1)\n",
        "plt.ylabel('cost_val')\n",
        "plt.xlabel('Iterations')\n",
        "plt.show()"
      ]
    },
    {
      "cell_type": "code",
      "execution_count": null,
      "metadata": {
        "id": "A4UQXcTdQkyY",
        "colab": {
          "base_uri": "https://localhost:8080/",
          "height": 279
        },
        "outputId": "3a95f3da-b6f3-4fa5-93e4-a64e5ee2c673"
      },
      "outputs": [
        {
          "output_type": "display_data",
          "data": {
            "text/plain": [
              "<Figure size 432x288 with 1 Axes>"
            ],
            "image/png": "[encoded data removed]"
          },
          "metadata": {
            "needs_background": "light"
          }
        }
      ],
      "source": [
        "plt.plot(accur_val_r2v1)\n",
        "plt.ylabel('Accuracy_val')\n",
        "plt.xlabel('Iterations')\n",
        "plt.show()"
      ]
    },
    {
      "cell_type": "markdown",
      "metadata": {
        "id": "UvhsQrbDR6CF"
      },
      "source": [
        "#**Implementing Model For 3-layer Random - IMPROV1**"
      ]
    },
    {
      "cell_type": "code",
      "execution_count": null,
      "metadata": {
        "id": "4tAOSjIkR6N_"
      },
      "outputs": [],
      "source": [
        "def model_3layer_Random_v1(X_train, y_train, X_val, y_val, epoch, learning_rate, print_cost=False):\n",
        "    param = initialize_parameter_layer_Random([X_train.shape[0], 64,  1])\n",
        "    param, cost_train, accur_train, cost_val, accur_val = costomize_nlayer(param , X_train, y_train, epoch, learning_rate, print_cost)\n",
        "    out = {\"cost_train\": cost_train,\"accur_train\": accur_train,  \"param\": param,\"learning_rate\" : learning_rate,\"epoch\": epoch}\n",
        "    return out, cost_val, accur_val"
      ]
    },
    {
      "cell_type": "markdown",
      "metadata": {
        "id": "lUfiDrhsREWE"
      },
      "source": [
        "#***Training the model 3-layer Random - IMPROV1***"
      ]
    },
    {
      "cell_type": "code",
      "execution_count": null,
      "metadata": {
        "id": "YvBaS9DcRQ4G",
        "colab": {
          "base_uri": "https://localhost:8080/"
        },
        "outputId": "feb46fb3-3fbe-4e63-aa21-2963cf624506"
      },
      "outputs": [
        {
          "output_type": "stream",
          "name": "stdout",
          "text": [
            "Cost iteration 0: 0.6704098045404128        train accuracy: 71.35416666666666\n",
            "------------------------------------------------------------------------------------\n",
            "Cost iteration 10: 0.34154170304712894        train accuracy: 87.5\n",
            "------------------------------------------------------------------------------------\n",
            "Cost iteration 20: 0.26543706024017044        train accuracy: 91.66666666666667\n",
            "------------------------------------------------------------------------------------\n",
            "Cost iteration 30: 0.22710884436522671        train accuracy: 94.01041666666667\n",
            "------------------------------------------------------------------------------------\n",
            "Cost iteration 40: 0.20252358703556905        train accuracy: 94.27083333333334\n",
            "------------------------------------------------------------------------------------\n",
            "Cost iteration 50: 0.1850829309311025        train accuracy: 94.53125\n",
            "------------------------------------------------------------------------------------\n",
            "Cost iteration 60: 0.17166773884676118        train accuracy: 95.3125\n",
            "------------------------------------------------------------------------------------\n",
            "Cost iteration 70: 0.16081250068675068        train accuracy: 95.57291666666667\n",
            "------------------------------------------------------------------------------------\n",
            "Cost iteration 80: 0.1517787189290734        train accuracy: 96.35416666666667\n",
            "------------------------------------------------------------------------------------\n",
            "Cost iteration 90: 0.14424466092414592        train accuracy: 96.61458333333334\n",
            "------------------------------------------------------------------------------------\n",
            "Cost iteration 100: 0.1377441114501891        train accuracy: 96.61458333333334\n",
            "------------------------------------------------------------------------------------\n",
            "Cost iteration 110: 0.13211843929129333        train accuracy: 96.61458333333334\n",
            "------------------------------------------------------------------------------------\n",
            "Cost iteration 120: 0.12713168861533783        train accuracy: 96.61458333333334\n",
            "------------------------------------------------------------------------------------\n",
            "Cost iteration 130: 0.12266724804132911        train accuracy: 96.61458333333334\n",
            "------------------------------------------------------------------------------------\n",
            "Cost iteration 140: 0.1186297246703999        train accuracy: 97.13541666666667\n",
            "------------------------------------------------------------------------------------\n",
            "Cost iteration 150: 0.1149533634055602        train accuracy: 97.13541666666667\n",
            "------------------------------------------------------------------------------------\n",
            "Cost iteration 160: 0.11158005665908247        train accuracy: 97.39583333333334\n",
            "------------------------------------------------------------------------------------\n",
            "Cost iteration 170: 0.10844943989298808        train accuracy: 97.39583333333334\n",
            "------------------------------------------------------------------------------------\n",
            "Cost iteration 180: 0.10556511730734253        train accuracy: 97.39583333333334\n",
            "------------------------------------------------------------------------------------\n",
            "Cost iteration 190: 0.1028699030834628        train accuracy: 97.39583333333334\n",
            "------------------------------------------------------------------------------------\n",
            "Cost iteration 200: 0.10033634578799051        train accuracy: 97.39583333333334\n",
            "------------------------------------------------------------------------------------\n",
            "Cost iteration 210: 0.0979639342621051        train accuracy: 97.65625\n",
            "------------------------------------------------------------------------------------\n",
            "Cost iteration 220: 0.09573150460126117        train accuracy: 97.91666666666667\n",
            "------------------------------------------------------------------------------------\n",
            "Cost iteration 230: 0.09360400755683476        train accuracy: 98.17708333333334\n",
            "------------------------------------------------------------------------------------\n",
            "Cost iteration 240: 0.09157227346427184        train accuracy: 98.17708333333334\n",
            "------------------------------------------------------------------------------------\n",
            "Cost iteration 250: 0.08964079098779337        train accuracy: 98.17708333333334\n",
            "------------------------------------------------------------------------------------\n",
            "Cost iteration 260: 0.08778732697620437        train accuracy: 98.17708333333334\n",
            "------------------------------------------------------------------------------------\n",
            "Cost iteration 270: 0.08599999385155029        train accuracy: 98.17708333333334\n",
            "------------------------------------------------------------------------------------\n",
            "Cost iteration 280: 0.08428975559976307        train accuracy: 98.17708333333334\n",
            "------------------------------------------------------------------------------------\n",
            "Cost iteration 290: 0.08270132695803425        train accuracy: 98.17708333333334\n",
            "------------------------------------------------------------------------------------\n",
            "Cost iteration 300: 0.08119136847900085        train accuracy: 98.17708333333334\n",
            "------------------------------------------------------------------------------------\n",
            "Cost iteration 310: 0.07972981315380775        train accuracy: 98.17708333333334\n",
            "------------------------------------------------------------------------------------\n",
            "Cost iteration 320: 0.0783089694982996        train accuracy: 98.17708333333334\n",
            "------------------------------------------------------------------------------------\n",
            "Cost iteration 330: 0.07692943472622421        train accuracy: 98.17708333333334\n",
            "------------------------------------------------------------------------------------\n",
            "Cost iteration 340: 0.0755905496822091        train accuracy: 98.4375\n",
            "------------------------------------------------------------------------------------\n",
            "Cost iteration 350: 0.07429746973175938        train accuracy: 98.4375\n",
            "------------------------------------------------------------------------------------\n",
            "Cost iteration 360: 0.07304874545504836        train accuracy: 98.4375\n",
            "------------------------------------------------------------------------------------\n",
            "Cost iteration 370: 0.07183283960987347        train accuracy: 98.4375\n",
            "------------------------------------------------------------------------------------\n",
            "Cost iteration 380: 0.07066148011787643        train accuracy: 98.4375\n",
            "------------------------------------------------------------------------------------\n",
            "Cost iteration 390: 0.06952329956345585        train accuracy: 98.4375\n",
            "------------------------------------------------------------------------------------\n",
            "Cost iteration 400: 0.06841564915734187        train accuracy: 98.4375\n",
            "------------------------------------------------------------------------------------\n",
            "Cost iteration 410: 0.06732962696363423        train accuracy: 98.4375\n",
            "------------------------------------------------------------------------------------\n",
            "Cost iteration 420: 0.06630679640792402        train accuracy: 98.4375\n",
            "------------------------------------------------------------------------------------\n",
            "Cost iteration 430: 0.06531405176109412        train accuracy: 98.4375\n",
            "------------------------------------------------------------------------------------\n",
            "Cost iteration 440: 0.0643448394130365        train accuracy: 98.4375\n",
            "------------------------------------------------------------------------------------\n",
            "Cost iteration 450: 0.06339700418981972        train accuracy: 98.4375\n",
            "------------------------------------------------------------------------------------\n",
            "Cost iteration 460: 0.06247733798264283        train accuracy: 98.4375\n",
            "------------------------------------------------------------------------------------\n",
            "Cost iteration 470: 0.06158361643928838        train accuracy: 98.4375\n",
            "------------------------------------------------------------------------------------\n",
            "Cost iteration 480: 0.060703006072279804        train accuracy: 98.4375\n",
            "------------------------------------------------------------------------------------\n",
            "Cost iteration 490: 0.05983457521409361        train accuracy: 98.4375\n",
            "------------------------------------------------------------------------------------\n",
            "Cost iteration 500: 0.05900451050629869        train accuracy: 98.69791666666667\n",
            "------------------------------------------------------------------------------------\n",
            "Cost iteration 510: 0.05818674405910784        train accuracy: 98.69791666666667\n",
            "------------------------------------------------------------------------------------\n",
            "Cost iteration 520: 0.057386081613064216        train accuracy: 98.69791666666667\n",
            "------------------------------------------------------------------------------------\n",
            "Cost iteration 530: 0.05661221254984647        train accuracy: 98.69791666666667\n",
            "------------------------------------------------------------------------------------\n",
            "Cost iteration 540: 0.055851064492145885        train accuracy: 98.69791666666667\n",
            "------------------------------------------------------------------------------------\n",
            "Cost iteration 550: 0.05510376425151903        train accuracy: 98.69791666666667\n",
            "------------------------------------------------------------------------------------\n",
            "Cost iteration 560: 0.054381647438677544        train accuracy: 98.69791666666667\n",
            "------------------------------------------------------------------------------------\n",
            "Cost iteration 570: 0.053674197342230834        train accuracy: 98.69791666666667\n",
            "------------------------------------------------------------------------------------\n",
            "Cost iteration 580: 0.05298292492162832        train accuracy: 98.69791666666667\n",
            "------------------------------------------------------------------------------------\n",
            "Cost iteration 590: 0.05230415403202825        train accuracy: 98.69791666666667\n",
            "------------------------------------------------------------------------------------\n",
            "Cost iteration 600: 0.05163199160390329        train accuracy: 98.69791666666667\n",
            "------------------------------------------------------------------------------------\n",
            "Cost iteration 610: 0.050975903830252176        train accuracy: 98.69791666666667\n",
            "------------------------------------------------------------------------------------\n",
            "Cost iteration 620: 0.05033862973507912        train accuracy: 98.69791666666667\n",
            "------------------------------------------------------------------------------------\n",
            "Cost iteration 630: 0.049709022914767434        train accuracy: 98.69791666666667\n",
            "------------------------------------------------------------------------------------\n",
            "Cost iteration 640: 0.04908933016599563        train accuracy: 98.69791666666667\n",
            "------------------------------------------------------------------------------------\n",
            "Cost iteration 650: 0.04845071714485906        train accuracy: 98.69791666666667\n",
            "------------------------------------------------------------------------------------\n",
            "Cost iteration 660: 0.047825081096190866        train accuracy: 98.69791666666667\n",
            "------------------------------------------------------------------------------------\n",
            "Cost iteration 670: 0.047182626218740704        train accuracy: 98.69791666666667\n",
            "------------------------------------------------------------------------------------\n",
            "Cost iteration 680: 0.046497369248324705        train accuracy: 98.95833333333334\n",
            "------------------------------------------------------------------------------------\n",
            "Cost iteration 690: 0.04582038350080471        train accuracy: 98.95833333333334\n",
            "------------------------------------------------------------------------------------\n",
            "Cost iteration 700: 0.04515186018820047        train accuracy: 98.95833333333334\n",
            "------------------------------------------------------------------------------------\n",
            "Cost iteration 710: 0.04453986138559714        train accuracy: 98.95833333333334\n",
            "------------------------------------------------------------------------------------\n",
            "Cost iteration 720: 0.04395276290622533        train accuracy: 98.95833333333334\n",
            "------------------------------------------------------------------------------------\n",
            "Cost iteration 730: 0.043373551163927035        train accuracy: 98.95833333333334\n",
            "------------------------------------------------------------------------------------\n",
            "Cost iteration 740: 0.04280243010919918        train accuracy: 98.95833333333334\n",
            "------------------------------------------------------------------------------------\n",
            "Cost iteration 750: 0.042243953219708794        train accuracy: 98.95833333333334\n",
            "------------------------------------------------------------------------------------\n",
            "Cost iteration 760: 0.04168345869312263        train accuracy: 98.95833333333334\n",
            "------------------------------------------------------------------------------------\n",
            "Cost iteration 770: 0.04113873853798315        train accuracy: 98.95833333333334\n",
            "------------------------------------------------------------------------------------\n",
            "Cost iteration 780: 0.040616078318338675        train accuracy: 98.95833333333334\n",
            "------------------------------------------------------------------------------------\n",
            "Cost iteration 790: 0.040114586820094514        train accuracy: 98.95833333333334\n",
            "------------------------------------------------------------------------------------\n",
            "Cost iteration 800: 0.039621943506961556        train accuracy: 98.95833333333334\n",
            "------------------------------------------------------------------------------------\n",
            "Cost iteration 810: 0.039137056485192064        train accuracy: 98.95833333333334\n",
            "------------------------------------------------------------------------------------\n",
            "Cost iteration 820: 0.03865886855642831        train accuracy: 98.95833333333334\n",
            "------------------------------------------------------------------------------------\n",
            "Cost iteration 830: 0.038192285740276735        train accuracy: 98.95833333333334\n",
            "------------------------------------------------------------------------------------\n",
            "Cost iteration 840: 0.037729603659513875        train accuracy: 98.95833333333334\n",
            "------------------------------------------------------------------------------------\n",
            "Cost iteration 850: 0.03727422599009305        train accuracy: 98.95833333333334\n",
            "------------------------------------------------------------------------------------\n",
            "Cost iteration 860: 0.03682556639302492        train accuracy: 99.21875\n",
            "------------------------------------------------------------------------------------\n",
            "Cost iteration 870: 0.036382158508931985        train accuracy: 99.21875\n",
            "------------------------------------------------------------------------------------\n",
            "Cost iteration 880: 0.035947208843335396        train accuracy: 99.21875\n",
            "------------------------------------------------------------------------------------\n",
            "Cost iteration 890: 0.0355227606222713        train accuracy: 99.21875\n",
            "------------------------------------------------------------------------------------\n",
            "Cost iteration 900: 0.035105224337366875        train accuracy: 99.21875\n",
            "------------------------------------------------------------------------------------\n",
            "Cost iteration 910: 0.03469667963841379        train accuracy: 99.21875\n",
            "------------------------------------------------------------------------------------\n",
            "Cost iteration 920: 0.03430161968106762        train accuracy: 99.21875\n",
            "------------------------------------------------------------------------------------\n",
            "Cost iteration 930: 0.033915394278626665        train accuracy: 99.21875\n",
            "------------------------------------------------------------------------------------\n",
            "Cost iteration 940: 0.03353495738163041        train accuracy: 99.21875\n",
            "------------------------------------------------------------------------------------\n",
            "Cost iteration 950: 0.03316044056574289        train accuracy: 99.21875\n",
            "------------------------------------------------------------------------------------\n",
            "Cost iteration 960: 0.03279051786663179        train accuracy: 99.21875\n",
            "------------------------------------------------------------------------------------\n",
            "Cost iteration 970: 0.03243394062998913        train accuracy: 99.21875\n",
            "------------------------------------------------------------------------------------\n",
            "Cost iteration 980: 0.032074458881324916        train accuracy: 99.21875\n",
            "------------------------------------------------------------------------------------\n",
            "Cost iteration 990: 0.0317265821650292        train accuracy: 99.21875\n",
            "------------------------------------------------------------------------------------\n",
            "Cost iteration 1000: 0.03137584682836653        train accuracy: 99.21875\n",
            "------------------------------------------------------------------------------------\n"
          ]
        }
      ],
      "source": [
        "model_output_3layer_Randomv1, cost_val_r3v1, accur_val_r3v1  = model_3layer_Random_v1(X_train, y_train, X_val, y_val, epoch=1000, learning_rate= 0.1, print_cost=True)"
      ]
    },
    {
      "cell_type": "code",
      "execution_count": null,
      "metadata": {
        "id": "gF36ec-qRRTn",
        "colab": {
          "base_uri": "https://localhost:8080/",
          "height": 283
        },
        "outputId": "f466e5ef-e299-4b7f-a02d-7943315da5bf"
      },
      "outputs": [
        {
          "output_type": "display_data",
          "data": {
            "text/plain": [
              "<Figure size 432x288 with 1 Axes>"
            ],
            "image/png": "[encoded data removed]"
          },
          "metadata": {
            "needs_background": "light"
          }
        }
      ],
      "source": [
        "plt.plot(model_output_3layer_Randomv1['cost_train'])\n",
        "plt.ylabel('cost_train')\n",
        "plt.xlabel('Iterations')\n",
        "plt.show()"
      ]
    },
    {
      "cell_type": "code",
      "execution_count": null,
      "metadata": {
        "id": "08BHqILBRRbo",
        "colab": {
          "base_uri": "https://localhost:8080/",
          "height": 279
        },
        "outputId": "916fd21d-cad2-4d7a-ab27-a4f8a8f4e521"
      },
      "outputs": [
        {
          "output_type": "display_data",
          "data": {
            "text/plain": [
              "<Figure size 432x288 with 1 Axes>"
            ],
            "image/png": "[encoded data removed]"
          },
          "metadata": {
            "needs_background": "light"
          }
        }
      ],
      "source": [
        "plt.plot(np.squeeze(model_output_3layer_Randomv1['accur_train']))\n",
        "plt.ylabel('Accuracy_train')\n",
        "plt.xlabel('Iterations')\n",
        "plt.show()"
      ]
    },
    {
      "cell_type": "markdown",
      "metadata": {
        "id": "J4G5mx9-RZMI"
      },
      "source": [
        "#***Evaluating the model 3-layer Random - IMPROV1***"
      ]
    },
    {
      "cell_type": "code",
      "execution_count": null,
      "metadata": {
        "id": "zU7xVshWRcU7",
        "colab": {
          "base_uri": "https://localhost:8080/"
        },
        "outputId": "172999db-4cee-4357-fc3a-de823a0b69cc"
      },
      "outputs": [
        {
          "output_type": "stream",
          "name": "stdout",
          "text": [
            "Cost iteration 0: 0.5649613431839045        test accuracy: 70.83333333333333\n",
            "------------------------------------------------------------------------------------\n",
            "Cost iteration 10: 0.34500600014761784        test accuracy: 83.33333333333334\n",
            "------------------------------------------------------------------------------------\n",
            "Cost iteration 20: 0.28754986150347506        test accuracy: 87.5\n",
            "------------------------------------------------------------------------------------\n",
            "Cost iteration 30: 0.25787310459014795        test accuracy: 87.5\n",
            "------------------------------------------------------------------------------------\n",
            "Cost iteration 40: 0.23971946807032996        test accuracy: 87.5\n",
            "------------------------------------------------------------------------------------\n",
            "Cost iteration 50: 0.22750158622841912        test accuracy: 87.5\n",
            "------------------------------------------------------------------------------------\n",
            "Cost iteration 60: 0.21891185735728463        test accuracy: 88.54166666666667\n",
            "------------------------------------------------------------------------------------\n",
            "Cost iteration 70: 0.21266812454870246        test accuracy: 89.58333333333334\n",
            "------------------------------------------------------------------------------------\n",
            "Cost iteration 80: 0.20808739459595577        test accuracy: 90.625\n",
            "------------------------------------------------------------------------------------\n",
            "Cost iteration 90: 0.20486137868248125        test accuracy: 90.625\n",
            "------------------------------------------------------------------------------------\n",
            "Cost iteration 100: 0.2025424260451943        test accuracy: 90.625\n",
            "------------------------------------------------------------------------------------\n",
            "Cost iteration 110: 0.200751999472481        test accuracy: 90.625\n",
            "------------------------------------------------------------------------------------\n",
            "Cost iteration 120: 0.19926071755750574        test accuracy: 90.625\n",
            "------------------------------------------------------------------------------------\n",
            "Cost iteration 130: 0.19802634731802476        test accuracy: 90.625\n",
            "------------------------------------------------------------------------------------\n",
            "Cost iteration 140: 0.19700359690780944        test accuracy: 90.625\n",
            "------------------------------------------------------------------------------------\n",
            "Cost iteration 150: 0.1961563367560426        test accuracy: 90.625\n",
            "------------------------------------------------------------------------------------\n",
            "Cost iteration 160: 0.19556411884459174        test accuracy: 90.625\n",
            "------------------------------------------------------------------------------------\n",
            "Cost iteration 170: 0.19498820139992992        test accuracy: 90.625\n",
            "------------------------------------------------------------------------------------\n",
            "Cost iteration 180: 0.19455386422821155        test accuracy: 90.625\n",
            "------------------------------------------------------------------------------------\n",
            "Cost iteration 190: 0.1941125950337223        test accuracy: 90.625\n",
            "------------------------------------------------------------------------------------\n",
            "Cost iteration 200: 0.19367014264244592        test accuracy: 90.625\n",
            "------------------------------------------------------------------------------------\n",
            "Cost iteration 210: 0.19331560753276722        test accuracy: 90.625\n",
            "------------------------------------------------------------------------------------\n",
            "Cost iteration 220: 0.1930669950942955        test accuracy: 90.625\n",
            "------------------------------------------------------------------------------------\n",
            "Cost iteration 230: 0.19292044517545584        test accuracy: 90.625\n",
            "------------------------------------------------------------------------------------\n",
            "Cost iteration 240: 0.19286096657637503        test accuracy: 90.625\n",
            "------------------------------------------------------------------------------------\n",
            "Cost iteration 250: 0.19284993007485376        test accuracy: 90.625\n",
            "------------------------------------------------------------------------------------\n",
            "Cost iteration 260: 0.19287529183129615        test accuracy: 90.625\n",
            "------------------------------------------------------------------------------------\n",
            "Cost iteration 270: 0.19296221541712671        test accuracy: 90.625\n",
            "------------------------------------------------------------------------------------\n",
            "Cost iteration 280: 0.19300176477403666        test accuracy: 90.625\n",
            "------------------------------------------------------------------------------------\n",
            "Cost iteration 290: 0.19328646060448856        test accuracy: 90.625\n",
            "------------------------------------------------------------------------------------\n",
            "Cost iteration 300: 0.19365374417334508        test accuracy: 90.625\n",
            "------------------------------------------------------------------------------------\n",
            "Cost iteration 310: 0.19399319961857875        test accuracy: 90.625\n",
            "------------------------------------------------------------------------------------\n",
            "Cost iteration 320: 0.19436985893091568        test accuracy: 90.625\n",
            "------------------------------------------------------------------------------------\n",
            "Cost iteration 330: 0.19472634778835943        test accuracy: 90.625\n",
            "------------------------------------------------------------------------------------\n",
            "Cost iteration 340: 0.19503737360170537        test accuracy: 90.625\n",
            "------------------------------------------------------------------------------------\n",
            "Cost iteration 350: 0.19544476993522575        test accuracy: 90.625\n",
            "------------------------------------------------------------------------------------\n",
            "Cost iteration 360: 0.1957571967984844        test accuracy: 90.625\n",
            "------------------------------------------------------------------------------------\n",
            "Cost iteration 370: 0.19608501396248018        test accuracy: 90.625\n",
            "------------------------------------------------------------------------------------\n",
            "Cost iteration 380: 0.1964022274133849        test accuracy: 90.625\n",
            "------------------------------------------------------------------------------------\n",
            "Cost iteration 390: 0.19673369490621878        test accuracy: 90.625\n",
            "------------------------------------------------------------------------------------\n",
            "Cost iteration 400: 0.19709212915074895        test accuracy: 90.625\n",
            "------------------------------------------------------------------------------------\n",
            "Cost iteration 410: 0.19749426573150464        test accuracy: 90.625\n",
            "------------------------------------------------------------------------------------\n",
            "Cost iteration 420: 0.19784841254563496        test accuracy: 90.625\n",
            "------------------------------------------------------------------------------------\n",
            "Cost iteration 430: 0.19825474714331473        test accuracy: 90.625\n",
            "------------------------------------------------------------------------------------\n",
            "Cost iteration 440: 0.1985986809514463        test accuracy: 90.625\n",
            "------------------------------------------------------------------------------------\n",
            "Cost iteration 450: 0.19902209895291717        test accuracy: 90.625\n",
            "------------------------------------------------------------------------------------\n",
            "Cost iteration 460: 0.1995371730269227        test accuracy: 90.625\n",
            "------------------------------------------------------------------------------------\n",
            "Cost iteration 470: 0.20006386865233372        test accuracy: 90.625\n",
            "------------------------------------------------------------------------------------\n",
            "Cost iteration 480: 0.20047006933214423        test accuracy: 90.625\n",
            "------------------------------------------------------------------------------------\n",
            "Cost iteration 490: 0.20089207197791076        test accuracy: 90.625\n",
            "------------------------------------------------------------------------------------\n",
            "Cost iteration 500: 0.2012968758839118        test accuracy: 90.625\n",
            "------------------------------------------------------------------------------------\n",
            "Cost iteration 510: 0.2017502079242424        test accuracy: 90.625\n",
            "------------------------------------------------------------------------------------\n",
            "Cost iteration 520: 0.20217128251624789        test accuracy: 90.625\n",
            "------------------------------------------------------------------------------------\n",
            "Cost iteration 530: 0.20260766053658152        test accuracy: 90.625\n",
            "------------------------------------------------------------------------------------\n",
            "Cost iteration 540: 0.20300924842774842        test accuracy: 90.625\n",
            "------------------------------------------------------------------------------------\n",
            "Cost iteration 550: 0.20339489988672665        test accuracy: 90.625\n",
            "------------------------------------------------------------------------------------\n",
            "Cost iteration 560: 0.2037488156501337        test accuracy: 90.625\n",
            "------------------------------------------------------------------------------------\n",
            "Cost iteration 570: 0.20411030271844954        test accuracy: 90.625\n",
            "------------------------------------------------------------------------------------\n",
            "Cost iteration 580: 0.20449911555159456        test accuracy: 90.625\n",
            "------------------------------------------------------------------------------------\n",
            "Cost iteration 590: 0.2048502712634202        test accuracy: 90.625\n",
            "------------------------------------------------------------------------------------\n",
            "Cost iteration 600: 0.2052242685650635        test accuracy: 91.66666666666667\n",
            "------------------------------------------------------------------------------------\n",
            "Cost iteration 610: 0.20561491408088522        test accuracy: 91.66666666666667\n",
            "------------------------------------------------------------------------------------\n",
            "Cost iteration 620: 0.20592837393495012        test accuracy: 91.66666666666667\n",
            "------------------------------------------------------------------------------------\n",
            "Cost iteration 630: 0.2062016039757517        test accuracy: 91.66666666666667\n",
            "------------------------------------------------------------------------------------\n",
            "Cost iteration 640: 0.2064821411575088        test accuracy: 91.66666666666667\n",
            "------------------------------------------------------------------------------------\n",
            "Cost iteration 650: 0.2067698275039799        test accuracy: 91.66666666666667\n",
            "------------------------------------------------------------------------------------\n",
            "Cost iteration 660: 0.20706409686302052        test accuracy: 91.66666666666667\n",
            "------------------------------------------------------------------------------------\n",
            "Cost iteration 670: 0.20737397874904662        test accuracy: 91.66666666666667\n",
            "------------------------------------------------------------------------------------\n",
            "Cost iteration 680: 0.2076916123983492        test accuracy: 91.66666666666667\n",
            "------------------------------------------------------------------------------------\n",
            "Cost iteration 690: 0.20808258452735146        test accuracy: 91.66666666666667\n",
            "------------------------------------------------------------------------------------\n",
            "Cost iteration 700: 0.2081240465748555        test accuracy: 91.66666666666667\n",
            "------------------------------------------------------------------------------------\n",
            "Cost iteration 710: 0.2080742022721805        test accuracy: 91.66666666666667\n",
            "------------------------------------------------------------------------------------\n",
            "Cost iteration 720: 0.20815800917225172        test accuracy: 91.66666666666667\n",
            "------------------------------------------------------------------------------------\n",
            "Cost iteration 730: 0.2083247643065495        test accuracy: 91.66666666666667\n",
            "------------------------------------------------------------------------------------\n",
            "Cost iteration 740: 0.20844451776532008        test accuracy: 91.66666666666667\n",
            "------------------------------------------------------------------------------------\n",
            "Cost iteration 750: 0.2085844710068442        test accuracy: 91.66666666666667\n",
            "------------------------------------------------------------------------------------\n",
            "Cost iteration 760: 0.20875377677343515        test accuracy: 91.66666666666667\n",
            "------------------------------------------------------------------------------------\n",
            "Cost iteration 770: 0.2088714073733502        test accuracy: 91.66666666666667\n",
            "------------------------------------------------------------------------------------\n",
            "Cost iteration 780: 0.209016617369077        test accuracy: 91.66666666666667\n",
            "------------------------------------------------------------------------------------\n",
            "Cost iteration 790: 0.209183846958656        test accuracy: 91.66666666666667\n",
            "------------------------------------------------------------------------------------\n",
            "Cost iteration 800: 0.20935379507096724        test accuracy: 91.66666666666667\n",
            "------------------------------------------------------------------------------------\n",
            "Cost iteration 810: 0.20952606658340484        test accuracy: 90.625\n",
            "------------------------------------------------------------------------------------\n",
            "Cost iteration 820: 0.20970541025235656        test accuracy: 90.625\n",
            "------------------------------------------------------------------------------------\n",
            "Cost iteration 830: 0.20979607468808625        test accuracy: 90.625\n",
            "------------------------------------------------------------------------------------\n",
            "Cost iteration 840: 0.2099828632881146        test accuracy: 90.625\n",
            "------------------------------------------------------------------------------------\n",
            "Cost iteration 850: 0.21009901831078304        test accuracy: 90.625\n",
            "------------------------------------------------------------------------------------\n",
            "Cost iteration 860: 0.2102221797782296        test accuracy: 90.625\n",
            "------------------------------------------------------------------------------------\n",
            "Cost iteration 870: 0.21035690366997434        test accuracy: 90.625\n",
            "------------------------------------------------------------------------------------\n",
            "Cost iteration 880: 0.21053155712054228        test accuracy: 90.625\n",
            "------------------------------------------------------------------------------------\n",
            "Cost iteration 890: 0.21069311915114924        test accuracy: 90.625\n",
            "------------------------------------------------------------------------------------\n",
            "Cost iteration 900: 0.2108639043001802        test accuracy: 90.625\n",
            "------------------------------------------------------------------------------------\n",
            "Cost iteration 910: 0.21105139585026605        test accuracy: 90.625\n",
            "------------------------------------------------------------------------------------\n",
            "Cost iteration 920: 0.211359156341433        test accuracy: 90.625\n",
            "------------------------------------------------------------------------------------\n",
            "Cost iteration 930: 0.21156631210152332        test accuracy: 90.625\n",
            "------------------------------------------------------------------------------------\n",
            "Cost iteration 940: 0.21180821161826108        test accuracy: 90.625\n",
            "------------------------------------------------------------------------------------\n",
            "Cost iteration 950: 0.21201658812458024        test accuracy: 90.625\n",
            "------------------------------------------------------------------------------------\n",
            "Cost iteration 960: 0.212225626599101        test accuracy: 91.66666666666667\n",
            "------------------------------------------------------------------------------------\n",
            "Cost iteration 970: 0.21232768901225443        test accuracy: 91.66666666666667\n",
            "------------------------------------------------------------------------------------\n",
            "Cost iteration 980: 0.21238203619512533        test accuracy: 91.66666666666667\n",
            "------------------------------------------------------------------------------------\n",
            "Cost iteration 990: 0.21251572956592446        test accuracy: 91.66666666666667\n",
            "------------------------------------------------------------------------------------\n",
            "Cost iteration 1000: 0.2125867302860488        test accuracy: 91.66666666666667\n",
            "------------------------------------------------------------------------------------\n"
          ]
        }
      ],
      "source": [
        "for i in range(len(cost_val_r3v1)):\n",
        "    print(f\"Cost iteration {i * 10}: {cost_val_r3v1[i]}        test accuracy: {accur_val_r3v1[i] * 100}\")\n",
        "    print(\"------------------------------------------------------------------------------------\")"
      ]
    },
    {
      "cell_type": "code",
      "execution_count": null,
      "metadata": {
        "id": "KImo9g6BRfNy",
        "colab": {
          "base_uri": "https://localhost:8080/",
          "height": 279
        },
        "outputId": "af1329cd-3cf1-46bd-9660-e2616e2fb46a"
      },
      "outputs": [
        {
          "output_type": "display_data",
          "data": {
            "text/plain": [
              "<Figure size 432x288 with 1 Axes>"
            ],
            "image/png": "[encoded data removed]"
          },
          "metadata": {
            "needs_background": "light"
          }
        }
      ],
      "source": [
        "plt.plot(cost_val_r3v1)\n",
        "plt.ylabel('cost_val')\n",
        "plt.xlabel('Iterations')\n",
        "plt.show()"
      ]
    },
    {
      "cell_type": "code",
      "execution_count": null,
      "metadata": {
        "id": "S-SYEC1LRgqE",
        "colab": {
          "base_uri": "https://localhost:8080/",
          "height": 279
        },
        "outputId": "8bd03e10-8667-4bc8-8557-c83628543643"
      },
      "outputs": [
        {
          "output_type": "display_data",
          "data": {
            "text/plain": [
              "<Figure size 432x288 with 1 Axes>"
            ],
            "image/png": "[encoded data removed]"
          },
          "metadata": {
            "needs_background": "light"
          }
        }
      ],
      "source": [
        "plt.plot(accur_val_r3v1)\n",
        "plt.ylabel('Accuracy_val')\n",
        "plt.xlabel('Iterations')\n",
        "plt.show()"
      ]
    },
    {
      "cell_type": "markdown",
      "metadata": {
        "id": "wYhA9oBsSHOa"
      },
      "source": [
        "#**Implementing Model For 5-layer Random - IMPROV1**"
      ]
    },
    {
      "cell_type": "code",
      "execution_count": null,
      "metadata": {
        "id": "MEk8AzJdSHVH"
      },
      "outputs": [],
      "source": [
        "def model_5layer_Random_v1(X_train, y_train, X_val, y_val, epoch, learning_rate, print_cost=False):\n",
        "    param = initialize_parameter_layer_Random([X_train.shape[0], 50, 32, 16,  1])\n",
        "    param, cost_train, accur_train, cost_val, accur_val = costomize_nlayer(param , X_train, y_train, epoch, learning_rate, print_cost)\n",
        "    out = {\"cost_train\": cost_train,\"accur_train\": accur_train,  \"param\": param,\"learning_rate\" : learning_rate,\"epoch\": epoch}\n",
        "    return out, cost_val, accur_val"
      ]
    },
    {
      "cell_type": "markdown",
      "metadata": {
        "id": "Bl-DTfqYRmyo"
      },
      "source": [
        "#***Training the model 5-layer Random - IMPROV1***"
      ]
    },
    {
      "cell_type": "code",
      "execution_count": null,
      "metadata": {
        "id": "WIH6KnOlRnEE",
        "colab": {
          "base_uri": "https://localhost:8080/"
        },
        "outputId": "796a835b-e218-44dc-e1c6-b532a7b4b6fb"
      },
      "outputs": [
        {
          "output_type": "stream",
          "name": "stdout",
          "text": [
            "Cost iteration 0: 0.6344448432407463        train accuracy: 71.875\n",
            "------------------------------------------------------------------------------------\n",
            "Cost iteration 10: 0.46022340590045985        train accuracy: 80.20833333333333\n",
            "------------------------------------------------------------------------------------\n",
            "Cost iteration 20: 0.3408499229534838        train accuracy: 86.71875\n",
            "------------------------------------------------------------------------------------\n",
            "Cost iteration 30: 0.25634064834890063        train accuracy: 92.70833333333334\n",
            "------------------------------------------------------------------------------------\n",
            "Cost iteration 40: 0.2063062127494486        train accuracy: 94.01041666666667\n",
            "------------------------------------------------------------------------------------\n",
            "Cost iteration 50: 0.17186166676114129        train accuracy: 94.79166666666667\n",
            "------------------------------------------------------------------------------------\n",
            "Cost iteration 60: 0.14505631831073296        train accuracy: 95.3125\n",
            "------------------------------------------------------------------------------------\n",
            "Cost iteration 70: 0.12469487930742958        train accuracy: 96.875\n",
            "------------------------------------------------------------------------------------\n",
            "Cost iteration 80: 0.10973381606140678        train accuracy: 97.39583333333334\n",
            "------------------------------------------------------------------------------------\n",
            "Cost iteration 90: 0.09826469859564754        train accuracy: 97.39583333333334\n",
            "------------------------------------------------------------------------------------\n",
            "Cost iteration 100: 0.0891861656511957        train accuracy: 97.39583333333334\n",
            "------------------------------------------------------------------------------------\n",
            "Cost iteration 110: 0.08169558878919608        train accuracy: 97.65625\n",
            "------------------------------------------------------------------------------------\n",
            "Cost iteration 120: 0.07541160257118436        train accuracy: 97.91666666666667\n",
            "------------------------------------------------------------------------------------\n",
            "Cost iteration 130: 0.06995377507512673        train accuracy: 97.91666666666667\n",
            "------------------------------------------------------------------------------------\n",
            "Cost iteration 140: 0.06532240484150811        train accuracy: 98.4375\n",
            "------------------------------------------------------------------------------------\n",
            "Cost iteration 150: 0.061268494329138765        train accuracy: 98.4375\n",
            "------------------------------------------------------------------------------------\n",
            "Cost iteration 160: 0.0576733087424333        train accuracy: 98.69791666666667\n",
            "------------------------------------------------------------------------------------\n",
            "Cost iteration 170: 0.05434533499133907        train accuracy: 98.69791666666667\n",
            "------------------------------------------------------------------------------------\n",
            "Cost iteration 180: 0.05126452549838745        train accuracy: 98.69791666666667\n",
            "------------------------------------------------------------------------------------\n",
            "Cost iteration 190: 0.048385680357341504        train accuracy: 98.69791666666667\n",
            "------------------------------------------------------------------------------------\n",
            "Cost iteration 200: 0.04575442558396282        train accuracy: 98.69791666666667\n",
            "------------------------------------------------------------------------------------\n",
            "Cost iteration 210: 0.043301626657618414        train accuracy: 98.69791666666667\n",
            "------------------------------------------------------------------------------------\n",
            "Cost iteration 220: 0.041061197595958845        train accuracy: 98.69791666666667\n",
            "------------------------------------------------------------------------------------\n",
            "Cost iteration 230: 0.03901216206576595        train accuracy: 98.69791666666667\n",
            "------------------------------------------------------------------------------------\n",
            "Cost iteration 240: 0.03717019177645646        train accuracy: 98.69791666666667\n",
            "------------------------------------------------------------------------------------\n",
            "Cost iteration 250: 0.03552908041958647        train accuracy: 98.69791666666667\n",
            "------------------------------------------------------------------------------------\n",
            "Cost iteration 260: 0.03403850729837217        train accuracy: 98.69791666666667\n",
            "------------------------------------------------------------------------------------\n",
            "Cost iteration 270: 0.032599313849068945        train accuracy: 98.95833333333334\n",
            "------------------------------------------------------------------------------------\n",
            "Cost iteration 280: 0.031179998056438063        train accuracy: 98.95833333333334\n",
            "------------------------------------------------------------------------------------\n",
            "Cost iteration 290: 0.029889760052653383        train accuracy: 98.95833333333334\n",
            "------------------------------------------------------------------------------------\n",
            "Cost iteration 300: 0.0287052875982754        train accuracy: 98.95833333333334\n",
            "------------------------------------------------------------------------------------\n",
            "Cost iteration 310: 0.027588055439543804        train accuracy: 98.95833333333334\n",
            "------------------------------------------------------------------------------------\n",
            "Cost iteration 320: 0.026533436312934037        train accuracy: 98.95833333333334\n",
            "------------------------------------------------------------------------------------\n",
            "Cost iteration 330: 0.02552436610111299        train accuracy: 98.95833333333334\n",
            "------------------------------------------------------------------------------------\n",
            "Cost iteration 340: 0.0245883049023361        train accuracy: 98.95833333333334\n",
            "------------------------------------------------------------------------------------\n",
            "Cost iteration 350: 0.023659070913241032        train accuracy: 98.95833333333334\n",
            "------------------------------------------------------------------------------------\n",
            "Cost iteration 360: 0.02281620201742885        train accuracy: 98.95833333333334\n",
            "------------------------------------------------------------------------------------\n",
            "Cost iteration 370: 0.021984978188410376        train accuracy: 98.95833333333334\n",
            "------------------------------------------------------------------------------------\n",
            "Cost iteration 380: 0.02125851461204974        train accuracy: 98.95833333333334\n",
            "------------------------------------------------------------------------------------\n",
            "Cost iteration 390: 0.020588100680260603        train accuracy: 98.95833333333334\n",
            "------------------------------------------------------------------------------------\n",
            "Cost iteration 400: 0.019960522846065205        train accuracy: 98.95833333333334\n",
            "------------------------------------------------------------------------------------\n",
            "Cost iteration 410: 0.019369666561899927        train accuracy: 98.95833333333334\n",
            "------------------------------------------------------------------------------------\n",
            "Cost iteration 420: 0.018782877638024033        train accuracy: 98.95833333333334\n",
            "------------------------------------------------------------------------------------\n",
            "Cost iteration 430: 0.018221618818631116        train accuracy: 98.95833333333334\n",
            "------------------------------------------------------------------------------------\n",
            "Cost iteration 440: 0.01768751039243996        train accuracy: 98.95833333333334\n",
            "------------------------------------------------------------------------------------\n",
            "Cost iteration 450: 0.017186134370366077        train accuracy: 99.21875\n",
            "------------------------------------------------------------------------------------\n",
            "Cost iteration 460: 0.016714488965933284        train accuracy: 99.21875\n",
            "------------------------------------------------------------------------------------\n",
            "Cost iteration 470: 0.01628497239900635        train accuracy: 99.47916666666667\n",
            "------------------------------------------------------------------------------------\n",
            "Cost iteration 480: 0.015863206858097008        train accuracy: 99.47916666666667\n",
            "------------------------------------------------------------------------------------\n",
            "Cost iteration 490: 0.015462850285225283        train accuracy: 99.47916666666667\n",
            "------------------------------------------------------------------------------------\n",
            "Cost iteration 500: 0.015058979880622363        train accuracy: 99.47916666666667\n",
            "------------------------------------------------------------------------------------\n",
            "Cost iteration 510: 0.014690812169618293        train accuracy: 99.47916666666667\n",
            "------------------------------------------------------------------------------------\n",
            "Cost iteration 520: 0.014346016332480277        train accuracy: 99.73958333333334\n",
            "------------------------------------------------------------------------------------\n",
            "Cost iteration 530: 0.014018568352129602        train accuracy: 99.73958333333334\n",
            "------------------------------------------------------------------------------------\n",
            "Cost iteration 540: 0.01368832835630373        train accuracy: 99.73958333333334\n",
            "------------------------------------------------------------------------------------\n",
            "Cost iteration 550: 0.01337782338402545        train accuracy: 99.73958333333334\n",
            "------------------------------------------------------------------------------------\n",
            "Cost iteration 560: 0.013081724972140177        train accuracy: 99.73958333333334\n",
            "------------------------------------------------------------------------------------\n",
            "Cost iteration 570: 0.012770822604504607        train accuracy: 99.73958333333334\n",
            "------------------------------------------------------------------------------------\n",
            "Cost iteration 580: 0.012474663888669694        train accuracy: 99.73958333333334\n",
            "------------------------------------------------------------------------------------\n",
            "Cost iteration 590: 0.012189956902872806        train accuracy: 99.73958333333334\n",
            "------------------------------------------------------------------------------------\n",
            "Cost iteration 600: 0.011915613272485285        train accuracy: 100.0\n",
            "------------------------------------------------------------------------------------\n"
          ]
        }
      ],
      "source": [
        "model_output_5layer_Random_v1, cost_val_r5v1, accur_val_r5v1 = model_5layer_Random_v1(X_train, y_train, X_val, y_val, epoch=600, learning_rate= 0.1, print_cost=True)"
      ]
    },
    {
      "cell_type": "code",
      "execution_count": null,
      "metadata": {
        "id": "XhqrgOifRnK8",
        "colab": {
          "base_uri": "https://localhost:8080/",
          "height": 281
        },
        "outputId": "8d5d2dab-6b20-4233-9fe3-c66b891b3896"
      },
      "outputs": [
        {
          "output_type": "display_data",
          "data": {
            "text/plain": [
              "<Figure size 432x288 with 1 Axes>"
            ],
            "image/png": "[encoded data removed]"
          },
          "metadata": {
            "needs_background": "light"
          }
        }
      ],
      "source": [
        "plt.plot(model_output_5layer_Random['cost_train'])\n",
        "plt.ylabel('cost_train')\n",
        "plt.xlabel('Iterations')\n",
        "plt.show()"
      ]
    },
    {
      "cell_type": "code",
      "execution_count": null,
      "metadata": {
        "id": "DmaX3iKhRnUs",
        "colab": {
          "base_uri": "https://localhost:8080/",
          "height": 279
        },
        "outputId": "e490e274-49c8-4137-dd36-4384f87dbf1a"
      },
      "outputs": [
        {
          "output_type": "display_data",
          "data": {
            "text/plain": [
              "<Figure size 432x288 with 1 Axes>"
            ],
            "image/png": "[encoded data removed]"
          },
          "metadata": {
            "needs_background": "light"
          }
        }
      ],
      "source": [
        "plt.plot(np.squeeze(model_output_5layer_Random['accur_train']))\n",
        "plt.ylabel('Accuracy_train')\n",
        "plt.xlabel('Iterations')\n",
        "plt.show()"
      ]
    },
    {
      "cell_type": "markdown",
      "metadata": {
        "id": "sFOW_7eGRniu"
      },
      "source": [
        "#***Evaluating the model 5-layer Random - IMPROV1***"
      ]
    },
    {
      "cell_type": "code",
      "execution_count": null,
      "metadata": {
        "id": "dN3blaN0Rnwy",
        "colab": {
          "base_uri": "https://localhost:8080/"
        },
        "outputId": "c9b8f874-9adb-49ff-f2fa-a6a63355b8a8"
      },
      "outputs": [
        {
          "output_type": "stream",
          "name": "stdout",
          "text": [
            "Cost after iteration 0: 0.5163394183460894        test accuracy: 79.16666666666666\n",
            "------------------------------------------------------------------------------------\n",
            "Cost after iteration 10: 0.3946800658429449        test accuracy: 81.25\n",
            "------------------------------------------------------------------------------------\n",
            "Cost after iteration 20: 0.30208537707541405        test accuracy: 89.58333333333334\n",
            "------------------------------------------------------------------------------------\n",
            "Cost after iteration 30: 0.24750178435560888        test accuracy: 92.70833333333334\n",
            "------------------------------------------------------------------------------------\n",
            "Cost after iteration 40: 0.22197862508374702        test accuracy: 91.66666666666667\n",
            "------------------------------------------------------------------------------------\n",
            "Cost after iteration 50: 0.21280518829490616        test accuracy: 92.70833333333334\n",
            "------------------------------------------------------------------------------------\n",
            "Cost after iteration 60: 0.21175638725883297        test accuracy: 91.66666666666667\n",
            "------------------------------------------------------------------------------------\n",
            "Cost after iteration 70: 0.2120765596799488        test accuracy: 90.625\n",
            "------------------------------------------------------------------------------------\n",
            "Cost after iteration 80: 0.2136156296109007        test accuracy: 90.625\n",
            "------------------------------------------------------------------------------------\n",
            "Cost after iteration 90: 0.2153603510359369        test accuracy: 90.625\n",
            "------------------------------------------------------------------------------------\n",
            "Cost after iteration 100: 0.21628853322856326        test accuracy: 90.625\n",
            "------------------------------------------------------------------------------------\n",
            "Cost after iteration 110: 0.21704105196907986        test accuracy: 90.625\n",
            "------------------------------------------------------------------------------------\n",
            "Cost after iteration 120: 0.21769534232693927        test accuracy: 89.58333333333334\n",
            "------------------------------------------------------------------------------------\n",
            "Cost after iteration 130: 0.21875219764885037        test accuracy: 89.58333333333334\n",
            "------------------------------------------------------------------------------------\n",
            "Cost after iteration 140: 0.21964076464265184        test accuracy: 90.625\n",
            "------------------------------------------------------------------------------------\n",
            "Cost after iteration 150: 0.21960798783193353        test accuracy: 90.625\n",
            "------------------------------------------------------------------------------------\n",
            "Cost after iteration 160: 0.2198863766627403        test accuracy: 90.625\n",
            "------------------------------------------------------------------------------------\n",
            "Cost after iteration 170: 0.2215145160858894        test accuracy: 90.625\n",
            "------------------------------------------------------------------------------------\n",
            "Cost after iteration 180: 0.22300814106485528        test accuracy: 90.625\n",
            "------------------------------------------------------------------------------------\n",
            "Cost after iteration 190: 0.22489180149036114        test accuracy: 89.58333333333334\n",
            "------------------------------------------------------------------------------------\n",
            "Cost after iteration 200: 0.225346398775281        test accuracy: 89.58333333333334\n",
            "------------------------------------------------------------------------------------\n",
            "Cost after iteration 210: 0.2269398303726275        test accuracy: 89.58333333333334\n",
            "------------------------------------------------------------------------------------\n",
            "Cost after iteration 220: 0.22836365482934728        test accuracy: 89.58333333333334\n",
            "------------------------------------------------------------------------------------\n",
            "Cost after iteration 230: 0.22950872436338637        test accuracy: 89.58333333333334\n",
            "------------------------------------------------------------------------------------\n",
            "Cost after iteration 240: 0.23001542077450257        test accuracy: 89.58333333333334\n",
            "------------------------------------------------------------------------------------\n",
            "Cost after iteration 250: 0.23193426424992483        test accuracy: 89.58333333333334\n",
            "------------------------------------------------------------------------------------\n",
            "Cost after iteration 260: 0.2336474857600918        test accuracy: 89.58333333333334\n",
            "------------------------------------------------------------------------------------\n",
            "Cost after iteration 270: 0.23519662831490676        test accuracy: 89.58333333333334\n",
            "------------------------------------------------------------------------------------\n",
            "Cost after iteration 280: 0.23766262693353135        test accuracy: 89.58333333333334\n",
            "------------------------------------------------------------------------------------\n",
            "Cost after iteration 290: 0.24163703935066008        test accuracy: 89.58333333333334\n",
            "------------------------------------------------------------------------------------\n",
            "Cost after iteration 300: 0.24455100917953582        test accuracy: 89.58333333333334\n",
            "------------------------------------------------------------------------------------\n",
            "Cost after iteration 310: 0.24850825935748538        test accuracy: 89.58333333333334\n",
            "------------------------------------------------------------------------------------\n",
            "Cost after iteration 320: 0.2517973299396063        test accuracy: 89.58333333333334\n",
            "------------------------------------------------------------------------------------\n",
            "Cost after iteration 330: 0.2552658166213179        test accuracy: 89.58333333333334\n",
            "------------------------------------------------------------------------------------\n",
            "Cost after iteration 340: 0.25742817517972727        test accuracy: 89.58333333333334\n",
            "------------------------------------------------------------------------------------\n",
            "Cost after iteration 350: 0.26235405922535315        test accuracy: 89.58333333333334\n",
            "------------------------------------------------------------------------------------\n",
            "Cost after iteration 360: 0.2679437666744807        test accuracy: 89.58333333333334\n",
            "------------------------------------------------------------------------------------\n",
            "Cost after iteration 370: 0.2715266240508603        test accuracy: 89.58333333333334\n",
            "------------------------------------------------------------------------------------\n",
            "Cost after iteration 380: 0.27536923179063166        test accuracy: 89.58333333333334\n",
            "------------------------------------------------------------------------------------\n",
            "Cost after iteration 390: 0.27645800983381413        test accuracy: 89.58333333333334\n",
            "------------------------------------------------------------------------------------\n",
            "Cost after iteration 400: 0.28114298024343753        test accuracy: 89.58333333333334\n",
            "------------------------------------------------------------------------------------\n",
            "Cost after iteration 410: 0.28493717600954593        test accuracy: 89.58333333333334\n",
            "------------------------------------------------------------------------------------\n",
            "Cost after iteration 420: 0.2881129337961087        test accuracy: 89.58333333333334\n",
            "------------------------------------------------------------------------------------\n",
            "Cost after iteration 430: 0.2907679546817415        test accuracy: 89.58333333333334\n",
            "------------------------------------------------------------------------------------\n",
            "Cost after iteration 440: 0.29556317285972067        test accuracy: 89.58333333333334\n",
            "------------------------------------------------------------------------------------\n",
            "Cost after iteration 450: 0.2985212739979235        test accuracy: 89.58333333333334\n",
            "------------------------------------------------------------------------------------\n",
            "Cost after iteration 460: 0.30066921635981086        test accuracy: 89.58333333333334\n",
            "------------------------------------------------------------------------------------\n",
            "Cost after iteration 470: 0.30427759338406374        test accuracy: 89.58333333333334\n",
            "------------------------------------------------------------------------------------\n",
            "Cost after iteration 480: 0.30662154480041176        test accuracy: 89.58333333333334\n",
            "------------------------------------------------------------------------------------\n",
            "Cost after iteration 490: 0.30957741741158395        test accuracy: 89.58333333333334\n",
            "------------------------------------------------------------------------------------\n",
            "Cost after iteration 500: 0.31342922157262865        test accuracy: 89.58333333333334\n",
            "------------------------------------------------------------------------------------\n",
            "Cost after iteration 510: 0.3157977491792016        test accuracy: 89.58333333333334\n",
            "------------------------------------------------------------------------------------\n",
            "Cost after iteration 520: 0.31801523659086617        test accuracy: 89.58333333333334\n",
            "------------------------------------------------------------------------------------\n",
            "Cost after iteration 530: 0.3209177811786049        test accuracy: 89.58333333333334\n",
            "------------------------------------------------------------------------------------\n",
            "Cost after iteration 540: 0.32415595591262564        test accuracy: 89.58333333333334\n",
            "------------------------------------------------------------------------------------\n",
            "Cost after iteration 550: 0.32743199039188536        test accuracy: 89.58333333333334\n",
            "------------------------------------------------------------------------------------\n",
            "Cost after iteration 560: 0.32993614193222703        test accuracy: 89.58333333333334\n",
            "------------------------------------------------------------------------------------\n",
            "Cost after iteration 570: 0.33169905024587953        test accuracy: 89.58333333333334\n",
            "------------------------------------------------------------------------------------\n",
            "Cost after iteration 580: 0.3345956402230703        test accuracy: 89.58333333333334\n",
            "------------------------------------------------------------------------------------\n",
            "Cost after iteration 590: 0.3371857825277973        test accuracy: 89.58333333333334\n",
            "------------------------------------------------------------------------------------\n",
            "Cost after iteration 600: 0.3408596478909046        test accuracy: 89.58333333333334\n",
            "------------------------------------------------------------------------------------\n"
          ]
        }
      ],
      "source": [
        "for i in range(len(cost_val_r5v1)):\n",
        "    print(f\"Cost after iteration {i * 10}: {cost_val_r5v1[i]}        test accuracy: {accur_val_r5v1[i] * 100}\")\n",
        "    print(\"------------------------------------------------------------------------------------\")"
      ]
    },
    {
      "cell_type": "code",
      "execution_count": null,
      "metadata": {
        "id": "V-vFrqftRn0l",
        "colab": {
          "base_uri": "https://localhost:8080/",
          "height": 279
        },
        "outputId": "bcccec70-f97c-4f4a-be93-58b407cf5661"
      },
      "outputs": [
        {
          "output_type": "display_data",
          "data": {
            "text/plain": [
              "<Figure size 432x288 with 1 Axes>"
            ],
            "image/png": "[encoded data removed]"
          },
          "metadata": {
            "needs_background": "light"
          }
        }
      ],
      "source": [
        "plt.plot(cost_val_r5v1)\n",
        "plt.ylabel('cost_val')\n",
        "plt.xlabel('Iterations')\n",
        "plt.show()"
      ]
    },
    {
      "cell_type": "code",
      "execution_count": null,
      "metadata": {
        "id": "eLrK_4jXRn9H",
        "colab": {
          "base_uri": "https://localhost:8080/",
          "height": 279
        },
        "outputId": "159e7046-8e66-45a9-ac19-1cdb6704fdda"
      },
      "outputs": [
        {
          "output_type": "display_data",
          "data": {
            "text/plain": [
              "<Figure size 432x288 with 1 Axes>"
            ],
            "image/png": "[encoded data removed]"
          },
          "metadata": {
            "needs_background": "light"
          }
        }
      ],
      "source": [
        "plt.plot(accur_val_r5v1)\n",
        "plt.ylabel('Accuracy_val')\n",
        "plt.xlabel('Iterations')\n",
        "plt.show()"
      ]
    }
  ],
  "metadata": {
    "colab": {
      "provenance": [],
      "authorship_tag": "ABX9TyPhRj0Jce0IwWhehBZ9KKN5",
      "include_colab_link": true
    },
    "kernelspec": {
      "display_name": "Python 3",
      "name": "python3"
    },
    "language_info": {
      "name": "python"
    }
  },
  "nbformat": 4,
  "nbformat_minor": 0
}